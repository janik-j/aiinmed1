{
  "cells": [
    {
      "cell_type": "markdown",
      "metadata": {
        "id": "cbInL1b5zcdL"
      },
      "source": [
        "# AI in Medicine I - Practical 2: Brain Tissue Segmentation\n",
        "\n",
        "Segmentation of different tissues from MRI scans of the brain is an important step for further downstream applications such as disease prediction, classification or brain age estimation.\n",
        "\n",
        "The goal of the coursework is to implement classical and deep learning approaches for segmentation of different tissue types in MRI scans of the brain, i.e., background, cerebrospinal fluid (CSF), white matter (WM), and gray matter (GM). We provide data from a total of 652 healthy subjects, that is split into different development sets and a hold-out test set on which you will evaluate your final segmentation accuracy.\n",
        "Each approach will require a processing pipeline with different components that you will need to implement using methods that were discussed in the lectures and tutorials. There are three dedicated parts in the Jupyter notebook for each approach which contain some detailed instructions and some helper code.\n",
        "\n",
        "**Make sure to select the correct runtime when working in Google Colab (GPU)**"
      ]
    },
    {
      "cell_type": "markdown",
      "metadata": {
        "id": "eIYx1Gg0zcdf"
      },
      "source": [
        "## Downloading the Data"
      ]
    },
    {
      "cell_type": "code",
      "execution_count": null,
      "metadata": {
        "id": "8j056FEazcdg"
      },
      "outputs": [],
      "source": [
        "! wget -q --show-progress https://www.dropbox.com/s/w9njau9t6rrheel/brainage-data.zip\n",
        "! unzip -qq -o brainage-data.zip\n",
        "! wget -q --show-progress https://www.dropbox.com/s/f5mt8p9pkszff3x/brainage-testdata.zip\n",
        "! unzip -qq -o brainage-testdata.zip\n"
      ]
    },
    {
      "cell_type": "markdown",
      "metadata": {
        "id": "T8erjk2Tzcdh"
      },
      "source": [
        "## Imports"
      ]
    },
    {
      "cell_type": "code",
      "execution_count": null,
      "metadata": {
        "id": "6HhMfnFBzcdi"
      },
      "outputs": [],
      "source": [
        "import os\n",
        "import glob\n",
        "import random\n",
        "from argparse import Namespace\n",
        "from functools import partial\n",
        "from multiprocessing import Pool\n",
        "from numbers import Number\n",
        "from typing import Any, Dict\n",
        "from typing import List, Tuple\n",
        "\n",
        "import matplotlib.pyplot as plt\n",
        "import seaborn as sns\n",
        "import nibabel as nib\n",
        "import numpy as np\n",
        "import pandas as pd\n",
        "import seaborn as sns\n",
        "import torch\n",
        "from torch import Tensor\n",
        "from torch.utils.data import Dataset, DataLoader\n",
        "from torch.utils.tensorboard import SummaryWriter\n",
        "from tqdm import tqdm\n",
        "\n",
        "\n",
        "def seed_everything(seed: int) -> None:\n",
        "    random.seed(seed)\n",
        "    np.random.seed(seed)\n",
        "    torch.manual_seed(seed)\n",
        "    torch.backends.cudnn.benchmark = False\n",
        "\n",
        "\n",
        "def mean_absolute_error(preds: Tensor, targets: Tensor) -> float:\n",
        "    \"\"\"Compute the mean absolute error between predictions and targets\"\"\"\n",
        "    return (preds.view(-1) - targets.view(-1)).abs().mean().item()\n",
        "\n",
        "\n",
        "class TensorboardLogger(SummaryWriter):\n",
        "    def __init__(\n",
        "        self,\n",
        "        log_dir: str = None,\n",
        "        config: Namespace = None,\n",
        "        enabled: bool = True,\n",
        "        comment: str = '',\n",
        "        purge_step: int = None,\n",
        "        max_queue: int = 10,\n",
        "        flush_secs: int = 120,\n",
        "        filename_suffix: str = ''\n",
        "    ):\n",
        "        self.enabled = enabled\n",
        "        if self.enabled:\n",
        "            super().__init__(\n",
        "                log_dir=log_dir,\n",
        "                comment=comment,\n",
        "                purge_step=purge_step,\n",
        "                max_queue=max_queue,\n",
        "                flush_secs=flush_secs,\n",
        "                filename_suffix=filename_suffix\n",
        "            )\n",
        "        else:\n",
        "            return\n",
        "\n",
        "        # Add config\n",
        "        if config is not None:\n",
        "            self.add_hparams(\n",
        "                {k: v for k, v in vars(config).items() if isinstance(\n",
        "                    v, (int, float, str, bool, torch.Tensor))},\n",
        "                {}\n",
        "            )\n",
        "\n",
        "    def log(self, data: Dict[str, Any], step: int) -> None:\n",
        "        \"\"\"Log each entry in data as its corresponding data type\"\"\"\n",
        "        if self.enabled:\n",
        "            for k, v in data.items():\n",
        "                # Scalars\n",
        "                if isinstance(v, Number):\n",
        "                    self.add_scalar(k, v, step)\n",
        "\n",
        "                # Images\n",
        "                elif (isinstance(v, np.ndarray) or isinstance(v, torch.Tensor)) and len(v.shape) >= 3:\n",
        "                    if len(v.shape) == 3:\n",
        "                        self.add_image(k, v, step)\n",
        "                    elif len(v.shape) == 4:\n",
        "                        self.add_images(k, v, step)\n",
        "                    else:\n",
        "                        raise ValueError(f'Unsupported image shape: {v.shape}')\n",
        "\n",
        "                # Matplotlib figures\n",
        "                elif isinstance(v, plt.Figure):\n",
        "                    self.add_figure(k, v, step)\n",
        "\n",
        "                else:\n",
        "                    raise ValueError(f'Unsupported data type: {type(v)}')\n",
        "\n",
        "\n",
        "def load_nii(path: str, dtype: str = 'float32') -> np.ndarray:\n",
        "    \"\"\"Load an MRI scan from disk and convert it to a given datatype\n",
        "\n",
        "    :param path: Path to file\n",
        "    :param dtype: Target dtype\n",
        "    :return img: Loaded image. Shape (H, W, D)\n",
        "    \"\"\"\n",
        "    return nib.load(path).get_fdata().astype(np.dtype(dtype))\n",
        "\n",
        "\n",
        "def load_segmentations(paths: str):\n",
        "    \"\"\"Load all segmentations and associated subject_ids\"\"\"\n",
        "    filenames, segmentations = [], []\n",
        "    for im in tqdm(paths):\n",
        "        id = im.split('_brain_')[0].split('/')[-1].split('-')[1].split('_')[0]\n",
        "        segmentations.append(load_nii(im))\n",
        "        filenames.append(id)\n",
        "    return filenames, np.array(segmentations)\n",
        "\n",
        "\n",
        "def plot_segmentations(im: np.ndarray, seg: np.ndarray, i: int = 65, title: str = None):\n",
        "    fig, ax = plt.subplots(2, 3, figsize=(20, 10))\n",
        "\n",
        "    col = 2\n",
        "    ax[0, col].imshow(np.rot90(im[..., i], k=3), cmap='gray')\n",
        "    ax[0, col].imshow(np.rot90(seg[..., i], k=3),\n",
        "                 alpha=0.5 * (np.rot90(seg[..., i] > 0, k=3)),\n",
        "                 interpolation=None, cmap='jet')\n",
        "    ax[1, col].imshow(np.rot90(im[..., i], k=3), cmap='gray')\n",
        "    ax[0, col].set_title('Axial')\n",
        "\n",
        "    k = 1\n",
        "    col = 0\n",
        "    ax[0, col].imshow(np.rot90(im[i, ...], k=k), cmap='gray')\n",
        "    ax[0, col].imshow(np.rot90(seg[i, ...], k=k),\n",
        "                 alpha=0.5 * (np.rot90(seg[i, ...] > 0, k=k)),\n",
        "                 interpolation=None, cmap='jet')\n",
        "    ax[1, col].imshow(np.rot90(im[i, ...], k=k), cmap='gray')\n",
        "    ax[0, col].set_title('Sagittal')\n",
        "\n",
        "    col = 1\n",
        "    ax[0, col].imshow(np.rot90(im[:, i, :], k=k), cmap='gray')\n",
        "    ax[0, col].imshow(np.rot90(seg[:, i, :], k=k),\n",
        "                 alpha=0.5 * (np.rot90(seg[:, i, :] > 0, k=k)),\n",
        "                 interpolation=None, cmap='jet')\n",
        "    ax[1, col].imshow(np.rot90(im[:, i, :], k=k), cmap='gray')\n",
        "    ax[0, col].set_title('Coronal')\n",
        "\n",
        "    if title is not None:\n",
        "        # plt.set_title(title)\n",
        "        fig.suptitle(title, fontsize=16)\n",
        "\n",
        "    plt.tight_layout()\n",
        "    plt.show()\n",
        "\n",
        "\n",
        "\n",
        "%load_ext tensorboard\n",
        "%load_ext autoreload\n",
        "%autoreload 2"
      ]
    },
    {
      "cell_type": "markdown",
      "metadata": {
        "id": "k5D_ox6Lzcdk"
      },
      "source": [
        "## Getting started and familiarise ourselves with the data\n",
        "\n",
        "We provide the data of 652 subjects from which we use 522 for training, 65 for validation, and the rest of 65 for testing your final model."
      ]
    },
    {
      "cell_type": "markdown",
      "metadata": {
        "id": "AE8DPEbyzcdp"
      },
      "source": [
        "## Imaging data\n",
        "Let's check out the imaging data that is available for each subject."
      ]
    },
    {
      "cell_type": "code",
      "execution_count": null,
      "metadata": {
        "id": "JiGIO5bAzcdq"
      },
      "outputs": [],
      "source": [
        "file = './data/brain_age/images/sub-CC110033_T1w_unbiased.nii.gz'\n",
        "\n",
        "image = nib.load(file).get_fdata()\n",
        "\n",
        "f, axarr = plt.subplots(1, 3, figsize=(20, 10))\n",
        "H, W, D = image.shape\n",
        "axarr[0].imshow(np.flip(image[H // 2, :, :].T, axis=0), cmap='gray')\n",
        "axarr[1].imshow(np.flip(image[:, W // 2, :].T, axis=0), cmap='gray')\n",
        "axarr[2].imshow(image[:, :, D // 2].T, cmap='gray')\n",
        "plt.show()"
      ]
    },
    {
      "cell_type": "markdown",
      "metadata": {
        "id": "q3nVfarhzcds"
      },
      "source": [
        "## Data loading and visualization\n",
        "\n",
        "Let's first load all the data and make a tranin/val/test split"
      ]
    },
    {
      "cell_type": "code",
      "execution_count": null,
      "metadata": {
        "id": "FERY0SaUzcdt"
      },
      "outputs": [],
      "source": [
        "paths = sorted(glob.glob('data/brain_age/segs_refs/*'))\n",
        "filenames, segmentations = load_segmentations(paths)"
      ]
    },
    {
      "cell_type": "code",
      "execution_count": null,
      "metadata": {
        "id": "TJ_TcBL3aRTw"
      },
      "outputs": [],
      "source": [
        "np.random.seed(10282022)\n",
        "\n",
        "all_keys = np.asarray(range(len(filenames)))\n",
        "ratio_test = int(0.1 * len(all_keys))  # 10% val; 10% test\n",
        "val_keys = np.random.choice(all_keys, 2 * ratio_test, replace=False)\n",
        "test_keys = np.random.choice(val_keys, ratio_test, replace=False)\n",
        "\n",
        "train_files, val_files, test_files = [], [], []\n",
        "segmentations_train, segmentations_val, segmentations_test =  [],  [], []\n",
        "for scan_id in tqdm(all_keys):\n",
        "  scan = f'data/brain_age/images/sub-{filenames[scan_id]}_T1w_unbiased.nii.gz'\n",
        "  seg = segmentations[scan_id]\n",
        "  if scan_id in test_keys:\n",
        "      test_files.append(scan)\n",
        "      segmentations_test.append(seg)\n",
        "  elif scan_id in val_keys:\n",
        "      val_files.append(scan)\n",
        "      segmentations_val.append(seg)\n",
        "  else:\n",
        "      train_files.append(scan)\n",
        "      segmentations_train.append(seg)\n",
        "print(f'{len(train_files)} train files')\n",
        "print(f'{len(val_files)} val files')\n",
        "print(f'{len(test_files)} test files')"
      ]
    },
    {
      "cell_type": "markdown",
      "metadata": {
        "id": "uhS5vDgtaSgT"
      },
      "source": [
        "Let's visualize one validations sample"
      ]
    },
    {
      "cell_type": "code",
      "execution_count": null,
      "metadata": {
        "id": "zn-msf1nzcdt"
      },
      "outputs": [],
      "source": [
        "im = load_nii(val_files[0])\n",
        "plot_segmentations(im, segmentations_val[0], i=47, title='Example gt segmentation on the validation set')"
      ]
    },
    {
      "cell_type": "markdown",
      "metadata": {
        "id": "KMLq31e0wKZ6"
      },
      "source": [
        "# Task 1: Evaluation and Visualization"
      ]
    },
    {
      "cell_type": "markdown",
      "metadata": {
        "id": "gtb6XonTwR-J"
      },
      "source": [
        "**Q1a**. We first have to define how good our predicted segmentations are. Implement the evaluation functions below."
      ]
    },
    {
      "cell_type": "code",
      "execution_count": null,
      "metadata": {
        "id": "F97e34WkxGwM"
      },
      "outputs": [],
      "source": [
        "# The Dice similarity coefficient is widely used for evaluating image segmentation alogrithms.\n",
        "# Implement a method that computes the patient-wise Dice score, precision, and recall (mean and std) for the test dataset.\n",
        "# Hint: Don't forget that there are multiple classes.\n",
        "# --------------------------- ADD YOUR CODE HERE ------------------------------\n",
        "def Dice(predictions, gt):\n",
        "  mean, std = None, None\n",
        "  return mean, std\n",
        "\n",
        "def precision(predictions, gt):\n",
        "  mean, std = None, None\n",
        "  return mean, std\n",
        "\n",
        "def recall(predictions, gt):\n",
        "  mean, std = None, None\n",
        "  return mean, std\n",
        "\n",
        "# ----------------------------------- END -------------------------------------"
      ]
    },
    {
      "cell_type": "markdown",
      "metadata": {
        "id": "NltOf8SOUQzD"
      },
      "source": [
        "**Q1b**. Next, we want to visualize the best- and worst-performing samples in the test set. Implement a function that evaluates the entire test dataset and outputs the index of the best and worst performing samples according to the Dice coefficient."
      ]
    },
    {
      "cell_type": "code",
      "execution_count": null,
      "metadata": {
        "id": "hoZyF5BdUQzD"
      },
      "outputs": [],
      "source": [
        "# You may change the functions below as you see fit\n",
        "\n",
        "# --------------------------- ADD YOUR CODE HERE ------------------------------\n",
        "def get_best_and_worst_ids(predictions):\n",
        "    best_ids, worst_ids = -1, -1\n",
        "    best_performance, worst_performance = None, None\n",
        "\n",
        "    # TODO: implement\n",
        "\n",
        "    return {\n",
        "        'best_id': best_ids,\n",
        "        'best_performance': best_performance,\n",
        "        'worst_id': worst_ids,\n",
        "        'worst_performance': worst_performance\n",
        "    }\n",
        "\n",
        "def visualize_best_and_worst_samples(predictions, i_best=47, i_worst=47):\n",
        "    return_dict = get_best_and_worst_ids(predictions)\n",
        "\n",
        "    best_id = return_dict['best_id']\n",
        "    plot_segmentations(load_nii(test_files[best_id]), predictions[best_id], i=i_best,\n",
        "                       title=f'Best prediction on the test set (Dice: {return_dict[\"best_performance\"]:.2f})')\n",
        "\n",
        "    worst_id = return_dict['worst_id']\n",
        "    plot_segmentations(load_nii(test_files[worst_id]), predictions[worst_id], i=i_worst,\n",
        "                       title=f'Worst prediction on the test set (Dice: {return_dict[\"worst_performance\"]:.2f})')\n",
        "\n",
        "# ----------------------------------- END -------------------------------------"
      ]
    },
    {
      "cell_type": "markdown",
      "metadata": {
        "id": "EJ4OzCQ9UQzD"
      },
      "source": [
        "**Q1c**. Given a set of predictions for a number of models, create a summary figure of your choice (e.g. table, bar plot) which visualizes all of the metric values. Visualize multiple metrics (Dice coefficient, precision, and recall), each computed for every tissue type. A sample dictionary is provided below."
      ]
    },
    {
      "cell_type": "code",
      "execution_count": null,
      "metadata": {
        "id": "vO1gSApFUQzE"
      },
      "outputs": [],
      "source": [
        "# --------------------------- ADD YOUR CODE HERE ------------------------------\n",
        "\n",
        "def get_results_dictionary(predictions):\n",
        "    results_dict = None\n",
        "    # TODO: implement\n",
        "    return results_dict\n",
        "\n",
        "def plot_results_summary(results_dict: Dict[str, Dict[str, Dict[str, str]]]) -> None:\n",
        "    # TODO: implement\n",
        "    pass\n",
        "# ----------------------------------- END -------------------------------------\n",
        "\n",
        "sample_results = {\n",
        "    'baseline1': {\n",
        "        'CSF': {'dice': '0.7', 'precision': '0.82', 'recall': '0.6'},\n",
        "        'WM': {'dice': '0.72', 'precision': '0.86', 'recall': '0.61'},\n",
        "        'GM': {'dice': '0.74', 'precision': '0.88', 'recall': '0.59'},\n",
        "    },\n",
        "    'baseline2': {\n",
        "        'CSF': {'dice': '0.6', 'precision': '0.5', 'recall': '0.7'},\n",
        "        'WM': {'dice': '0.61', 'precision': '0.46', 'recall': '0.72'},\n",
        "        'GM': {'dice': '0.9', 'precision': '0.88', 'recall': '0.92'},\n",
        "    }\n",
        "}\n",
        "plot_results_summary(sample_results)"
      ]
    },
    {
      "cell_type": "markdown",
      "metadata": {
        "id": "r6qZTrXRzcdr"
      },
      "source": [
        "# Task 2: Unsupervised segmentation"
      ]
    },
    {
      "cell_type": "markdown",
      "metadata": {
        "id": "LMngxM03zcds"
      },
      "source": [
        "The first approach aims to segment the brain tissues, including grey matter (GM), white matter (WM), cerebrospinal fluid (CSF), and background using unsupervised classical machine learning techniques.\n",
        "\n",
        "Different unsupervised techniques to leverage the different intensity profile of the tissues should be explored."
      ]
    },
    {
      "cell_type": "code",
      "execution_count": null,
      "metadata": {
        "id": "xl2tkUKmLCXE"
      },
      "outputs": [],
      "source": [
        "slice_id = 0\n",
        "im_ = load_nii(val_files[slice_id])[:,:,47].flatten()\n",
        "seg_ = segmentations_val[slice_id][:,:,47].flatten()\n",
        "\n",
        "fig, axes = plt.subplots(1, 2, figsize=(12, 4), sharey=False)\n",
        "fig.suptitle('Intensity Density Plot')\n",
        "\n",
        "sns.kdeplot(im_, ax=axes[0], fill=True)\n",
        "axes[0].set_title('Input')\n",
        "\n",
        "sns.kdeplot(im_[np.argwhere(seg_ == 0)][:, 0], ax=axes[1], fill=True, color='#85929E', label='Background', legend=True)\n",
        "sns.kdeplot(im_[np.argwhere(seg_ == 1)][:, 0], ax=axes[1], fill=True, color='#9FE2BF', label='CSF', legend=True)\n",
        "sns.kdeplot(im_[np.argwhere(seg_ == 3)][:, 0], ax=axes[1], fill=True, color='#CD5C5C', label='WM', legend=True)\n",
        "sns.kdeplot(im_[np.argwhere(seg_ == 2)][:, 0], ax=axes[1], fill=True, color='#6495ED', label='GM', legend=True)\n",
        "axes[1].set_ylim(0, 0.05)\n",
        "axes[1].set_title('Ground truth')\n",
        "plt.legend(loc=9, labels=['Background', 'CSF', 'WM', 'GM'])"
      ]
    },
    {
      "cell_type": "markdown",
      "metadata": {
        "id": "tOYC53CCRhUB"
      },
      "source": [
        "## Unsupervised Learning\n",
        "\n",
        "Here, you should experiment with different *classical* unsupervised machine learning methods, e.g., clustering, density estimation, etc... (at least two different methods). Hint: sklearn has implementations of unsupervised methods\n",
        "\n",
        "**HINT**: You can predict the different classes of intensities even without any training!\n",
        "\n",
        "**HINT**: You can evaluate every volume slice-by-slice if the whole volume does not fit in the memory."
      ]
    },
    {
      "cell_type": "markdown",
      "metadata": {
        "id": "mCTTP5HziRHq"
      },
      "source": [
        "#### QUESTION Q2a.\n",
        "Implement an unsupervised learning method of your choice.\n",
        "Evaluate the Dice scores (separately for every tissue type) for the whole test set using method 1."
      ]
    },
    {
      "cell_type": "code",
      "execution_count": null,
      "metadata": {
        "id": "kA_X8KPLgrSG"
      },
      "outputs": [],
      "source": [
        "# Unsupervised method 1\n",
        "# --------------------------- ADD YOUR CODE HERE ------------------------------\n",
        "pred_seg_1 = None\n",
        "# ----------------------------------- END -------------------------------------"
      ]
    },
    {
      "cell_type": "code",
      "execution_count": null,
      "metadata": {
        "id": "-3uoZjMAyK5g"
      },
      "outputs": [],
      "source": [
        "# Plot the obtained results for volume 0 and axial slice 47 of the test set (density estimations)\n",
        "# --------------------------- ADD YOUR CODE HERE ------------------------------\n",
        "sns_plot_1 = None\n",
        "# ----------------------------------- END -------------------------------------"
      ]
    },
    {
      "cell_type": "code",
      "execution_count": null,
      "metadata": {
        "id": "L-RiceBmUQzE"
      },
      "outputs": [],
      "source": [
        "# Visualize the best and worst predictions on the test set for method 1\n",
        "visualize_best_and_worst_samples(pred_seg_1)"
      ]
    },
    {
      "cell_type": "markdown",
      "metadata": {
        "id": "kDTA9E2xy4oy"
      },
      "source": [
        "#### QUESTION Q2b.\n",
        "Implement a second unsupervised learning method of your choice.\n",
        "Evaluate the Dice scores (separately for every tissue type) for the whole test set using method 2."
      ]
    },
    {
      "cell_type": "code",
      "execution_count": null,
      "metadata": {
        "id": "sgjU-EUuhEdF"
      },
      "outputs": [],
      "source": [
        "# Unsupervised method 2\n",
        "# --------------------------- ADD YOUR CODE HERE ------------------------------\n",
        "pred_seg_2 = None\n",
        "# ----------------------------------- END -------------------------------------"
      ]
    },
    {
      "cell_type": "code",
      "execution_count": null,
      "metadata": {
        "id": "5BIr_bGgy0FS"
      },
      "outputs": [],
      "source": [
        "# Plot the obtained results for volume 0 and axial slice 47 of the test set (density estimations)\n",
        "# --------------------------- ADD YOUR CODE HERE ------------------------------\n",
        "sns_plot_2 = None\n",
        "# ----------------------------------- END -------------------------------------"
      ]
    },
    {
      "cell_type": "code",
      "execution_count": null,
      "metadata": {
        "id": "aFfTDzkHUQzE"
      },
      "outputs": [],
      "source": [
        "visualize_best_and_worst_samples(pred_seg_2)"
      ]
    },
    {
      "cell_type": "markdown",
      "metadata": {
        "id": "fsoCW_Pp0KEG"
      },
      "source": [
        "# Task 3: Deep supervised segmentation"
      ]
    },
    {
      "cell_type": "markdown",
      "metadata": {
        "id": "m5hbpwC40RsV"
      },
      "source": [
        "Deep Learning (DL) methods achieve state-of-the-art results in many (medical) image analyzis applications, including segmentation. Here, you will implement and train a DL method to segment CSF, WM, GM, and background in brain MRI."
      ]
    },
    {
      "cell_type": "markdown",
      "metadata": {
        "id": "rCcvkvFe03pW"
      },
      "source": [
        "First, let's have a look at the individual channels of the segmentations."
      ]
    },
    {
      "cell_type": "code",
      "execution_count": null,
      "metadata": {
        "id": "dLS5T1ZJ1yTo"
      },
      "outputs": [],
      "source": [
        "import matplotlib.pyplot as plt\n",
        "import copy\n",
        "im = load_nii(val_files[0])\n",
        "csf, wm, gm, background = np.zeros(im.shape), np.zeros(im.shape), np.zeros(im.shape), np.zeros(im.shape)\n",
        "csf[segmentations_val[0]==1] = 1\n",
        "wm[segmentations_val[0]==2] = 1\n",
        "gm[segmentations_val[0]==3] = 1\n",
        "background[segmentations_val[0]==0]=1\n",
        "elements = [im, csf, wm, gm, background]\n",
        "titles = ['Input', 'CSF', 'WM', 'GM', 'Background']\n",
        "diffp, axarr = plt.subplots(1, len(elements), gridspec_kw={'wspace': 0, 'hspace': 0})\n",
        "diffp.set_size_inches(len(elements) * 4, 4)\n",
        "for idx_arr in range(len(axarr)):\n",
        "    axarr[idx_arr].axis('off')\n",
        "    el = np.squeeze(elements[idx_arr][:,:,47])\n",
        "    axarr[idx_arr].imshow(el.T, cmap='gray')\n",
        "    axarr[idx_arr].set_title(titles[idx_arr])"
      ]
    },
    {
      "cell_type": "markdown",
      "metadata": {
        "id": "rVZ3Xfdx19Sc"
      },
      "source": [
        "## DL-based segmentation"
      ]
    },
    {
      "cell_type": "markdown",
      "metadata": {
        "id": "FTwYzoUO2d7s"
      },
      "source": [
        "Define and train a U-Net for segmentation (use the train, val, and test splits defined above).\n",
        "\n",
        "Feel free to choose:\n",
        "* the number of layers\n",
        "* the number of features within convolutional layers\n",
        "* number of convolutions within each layer\n",
        "* concatenation strategy\n",
        "* ...\n",
        "\n",
        "HINT: You can use pre-defined models, e.g., from torchvision, but train them from scratch (no pre-training)"
      ]
    },
    {
      "cell_type": "code",
      "execution_count": null,
      "metadata": {
        "id": "45St-8Pw2O6O"
      },
      "outputs": [],
      "source": [
        "# Define and train a neural network (U-Net) for segmentation\n",
        "# Implement\n",
        "# --------------------------- ADD YOUR CODE HERE ------------------------------\n",
        "pred_seg_3 = None\n",
        "# ----------------------------------- END -------------------------------------"
      ]
    },
    {
      "cell_type": "markdown",
      "metadata": {
        "id": "-w-Ra366W3nT"
      },
      "source": [
        "### Evaluate the Dice scores (separately for every tissue type) for the whole test set."
      ]
    },
    {
      "cell_type": "code",
      "execution_count": null,
      "metadata": {
        "id": "d7BqBfl93fCx"
      },
      "outputs": [],
      "source": [
        "# Visualize individual segmentation channels for axial slice 47 of all three approaches and the ground truth in a similar style as above\n",
        "# Implement\n",
        "# --------------------------- ADD YOUR CODE HERE ------------------------------\n",
        "plt_seg_1 = None\n",
        "plt_seg_2 = None\n",
        "plt_seg_3 = None\n",
        "plt_gt = None\n",
        "# ----------------------------------- END -------------------------------------"
      ]
    },
    {
      "cell_type": "code",
      "execution_count": null,
      "metadata": {
        "id": "6wXy_2NcUQzR"
      },
      "outputs": [],
      "source": [
        "# Run this block after implementing Q3.\n",
        "visualize_best_and_worst_samples(pred_seg_3)"
      ]
    },
    {
      "cell_type": "markdown",
      "metadata": {
        "id": "3uRksH_iUQzR"
      },
      "source": [
        "### Summarize the results of all of the segmentation methods implemented."
      ]
    },
    {
      "cell_type": "code",
      "execution_count": null,
      "metadata": {
        "id": "Zzj7LviN6Jcm"
      },
      "outputs": [],
      "source": [
        "# Run this block after implementing Q1-3.\n",
        "results_dictionary = {\n",
        "    'unsupervised1': get_results_dictionary(pred_seg_1),\n",
        "    'unsupervised2': get_results_dictionary(pred_seg_2),\n",
        "    'u-net': get_results_dictionary(pred_seg_3),\n",
        "}\n",
        "plot_results_summary(results_dictionary)"
      ]
    }
  ],
  "metadata": {
    "accelerator": "GPU",
    "colab": {
      "provenance": []
    },
    "gpuClass": "standard",
    "kernelspec": {
      "display_name": "Python 3 (ipykernel)",
      "language": "python",
      "name": "python3"
    },
    "language_info": {
      "codemirror_mode": {
        "name": "ipython",
        "version": 3
      },
      "file_extension": ".py",
      "mimetype": "text/x-python",
      "name": "python",
      "nbconvert_exporter": "python",
      "pygments_lexer": "ipython3",
      "version": "3.9.16"
    },
    "vscode": {
      "interpreter": {
        "hash": "59efc9589e5e0a10197249f838db0eb26aa8a323367b3d188d3e2ee96ab5bb66"
      }
    }
  },
  "nbformat": 4,
  "nbformat_minor": 0
}