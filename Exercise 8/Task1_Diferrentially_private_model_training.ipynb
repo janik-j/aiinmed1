{
 "cells": [
  {
   "cell_type": "code",
   "execution_count": 1,
   "metadata": {},
   "outputs": [
    {
     "name": "stdout",
     "output_type": "stream",
     "text": [
      "Requirement already satisfied: opacus in /home/vietp/miniconda3/envs/aiinmed1/lib/python3.10/site-packages (1.4.0)\n",
      "Requirement already satisfied: numpy>=1.15 in /home/vietp/miniconda3/envs/aiinmed1/lib/python3.10/site-packages (from opacus) (1.26.2)\n",
      "Requirement already satisfied: torch>=1.13 in /home/vietp/miniconda3/envs/aiinmed1/lib/python3.10/site-packages (from opacus) (2.1.1)\n",
      "Requirement already satisfied: scipy>=1.2 in /home/vietp/miniconda3/envs/aiinmed1/lib/python3.10/site-packages (from opacus) (1.11.4)\n",
      "Requirement already satisfied: opt-einsum>=3.3.0 in /home/vietp/miniconda3/envs/aiinmed1/lib/python3.10/site-packages (from opacus) (3.3.0)\n",
      "Requirement already satisfied: filelock in /home/vietp/miniconda3/envs/aiinmed1/lib/python3.10/site-packages (from torch>=1.13->opacus) (3.13.1)\n",
      "Requirement already satisfied: typing-extensions in /home/vietp/miniconda3/envs/aiinmed1/lib/python3.10/site-packages (from torch>=1.13->opacus) (4.8.0)\n",
      "Requirement already satisfied: sympy in /home/vietp/miniconda3/envs/aiinmed1/lib/python3.10/site-packages (from torch>=1.13->opacus) (1.12)\n",
      "Requirement already satisfied: networkx in /home/vietp/miniconda3/envs/aiinmed1/lib/python3.10/site-packages (from torch>=1.13->opacus) (3.2.1)\n",
      "Requirement already satisfied: jinja2 in /home/vietp/miniconda3/envs/aiinmed1/lib/python3.10/site-packages (from torch>=1.13->opacus) (3.1.2)\n",
      "Requirement already satisfied: fsspec in /home/vietp/miniconda3/envs/aiinmed1/lib/python3.10/site-packages (from torch>=1.13->opacus) (2023.10.0)\n",
      "Requirement already satisfied: nvidia-cuda-nvrtc-cu12==12.1.105 in /home/vietp/miniconda3/envs/aiinmed1/lib/python3.10/site-packages (from torch>=1.13->opacus) (12.1.105)\n",
      "Requirement already satisfied: nvidia-cuda-runtime-cu12==12.1.105 in /home/vietp/miniconda3/envs/aiinmed1/lib/python3.10/site-packages (from torch>=1.13->opacus) (12.1.105)\n",
      "Requirement already satisfied: nvidia-cuda-cupti-cu12==12.1.105 in /home/vietp/miniconda3/envs/aiinmed1/lib/python3.10/site-packages (from torch>=1.13->opacus) (12.1.105)\n",
      "Requirement already satisfied: nvidia-cudnn-cu12==8.9.2.26 in /home/vietp/miniconda3/envs/aiinmed1/lib/python3.10/site-packages (from torch>=1.13->opacus) (8.9.2.26)\n",
      "Requirement already satisfied: nvidia-cublas-cu12==12.1.3.1 in /home/vietp/miniconda3/envs/aiinmed1/lib/python3.10/site-packages (from torch>=1.13->opacus) (12.1.3.1)\n",
      "Requirement already satisfied: nvidia-cufft-cu12==11.0.2.54 in /home/vietp/miniconda3/envs/aiinmed1/lib/python3.10/site-packages (from torch>=1.13->opacus) (11.0.2.54)\n",
      "Requirement already satisfied: nvidia-curand-cu12==10.3.2.106 in /home/vietp/miniconda3/envs/aiinmed1/lib/python3.10/site-packages (from torch>=1.13->opacus) (10.3.2.106)\n",
      "Requirement already satisfied: nvidia-cusolver-cu12==11.4.5.107 in /home/vietp/miniconda3/envs/aiinmed1/lib/python3.10/site-packages (from torch>=1.13->opacus) (11.4.5.107)\n",
      "Requirement already satisfied: nvidia-cusparse-cu12==12.1.0.106 in /home/vietp/miniconda3/envs/aiinmed1/lib/python3.10/site-packages (from torch>=1.13->opacus) (12.1.0.106)\n",
      "Requirement already satisfied: nvidia-nccl-cu12==2.18.1 in /home/vietp/miniconda3/envs/aiinmed1/lib/python3.10/site-packages (from torch>=1.13->opacus) (2.18.1)\n",
      "Requirement already satisfied: nvidia-nvtx-cu12==12.1.105 in /home/vietp/miniconda3/envs/aiinmed1/lib/python3.10/site-packages (from torch>=1.13->opacus) (12.1.105)\n",
      "Requirement already satisfied: triton==2.1.0 in /home/vietp/miniconda3/envs/aiinmed1/lib/python3.10/site-packages (from torch>=1.13->opacus) (2.1.0)\n",
      "Requirement already satisfied: nvidia-nvjitlink-cu12 in /home/vietp/miniconda3/envs/aiinmed1/lib/python3.10/site-packages (from nvidia-cusolver-cu12==11.4.5.107->torch>=1.13->opacus) (12.3.101)\n",
      "Requirement already satisfied: MarkupSafe>=2.0 in /home/vietp/miniconda3/envs/aiinmed1/lib/python3.10/site-packages (from jinja2->torch>=1.13->opacus) (2.1.3)\n",
      "Requirement already satisfied: mpmath>=0.19 in /home/vietp/miniconda3/envs/aiinmed1/lib/python3.10/site-packages (from sympy->torch>=1.13->opacus) (1.3.0)\n",
      "Requirement already satisfied: medmnist in /home/vietp/miniconda3/envs/aiinmed1/lib/python3.10/site-packages (2.2.3)\n",
      "Requirement already satisfied: numpy in /home/vietp/miniconda3/envs/aiinmed1/lib/python3.10/site-packages (from medmnist) (1.26.2)\n",
      "Requirement already satisfied: pandas in /home/vietp/miniconda3/envs/aiinmed1/lib/python3.10/site-packages (from medmnist) (2.1.3)\n",
      "Requirement already satisfied: scikit-learn in /home/vietp/miniconda3/envs/aiinmed1/lib/python3.10/site-packages (from medmnist) (1.3.2)\n",
      "Requirement already satisfied: scikit-image in /home/vietp/miniconda3/envs/aiinmed1/lib/python3.10/site-packages (from medmnist) (0.22.0)\n",
      "Requirement already satisfied: tqdm in /home/vietp/miniconda3/envs/aiinmed1/lib/python3.10/site-packages (from medmnist) (4.66.1)\n",
      "Requirement already satisfied: Pillow in /home/vietp/miniconda3/envs/aiinmed1/lib/python3.10/site-packages (from medmnist) (10.1.0)\n",
      "Requirement already satisfied: fire in /home/vietp/miniconda3/envs/aiinmed1/lib/python3.10/site-packages (from medmnist) (0.5.0)\n",
      "Requirement already satisfied: torch in /home/vietp/miniconda3/envs/aiinmed1/lib/python3.10/site-packages (from medmnist) (2.1.1)\n",
      "Requirement already satisfied: torchvision in /home/vietp/miniconda3/envs/aiinmed1/lib/python3.10/site-packages (from medmnist) (0.16.1)\n",
      "Requirement already satisfied: six in /home/vietp/miniconda3/envs/aiinmed1/lib/python3.10/site-packages (from fire->medmnist) (1.16.0)\n",
      "Requirement already satisfied: termcolor in /home/vietp/miniconda3/envs/aiinmed1/lib/python3.10/site-packages (from fire->medmnist) (2.3.0)\n",
      "Requirement already satisfied: python-dateutil>=2.8.2 in /home/vietp/miniconda3/envs/aiinmed1/lib/python3.10/site-packages (from pandas->medmnist) (2.8.2)\n",
      "Requirement already satisfied: pytz>=2020.1 in /home/vietp/miniconda3/envs/aiinmed1/lib/python3.10/site-packages (from pandas->medmnist) (2023.3.post1)\n",
      "Requirement already satisfied: tzdata>=2022.1 in /home/vietp/miniconda3/envs/aiinmed1/lib/python3.10/site-packages (from pandas->medmnist) (2023.3)\n",
      "Requirement already satisfied: scipy>=1.8 in /home/vietp/miniconda3/envs/aiinmed1/lib/python3.10/site-packages (from scikit-image->medmnist) (1.11.4)\n",
      "Requirement already satisfied: networkx>=2.8 in /home/vietp/miniconda3/envs/aiinmed1/lib/python3.10/site-packages (from scikit-image->medmnist) (3.2.1)\n",
      "Requirement already satisfied: imageio>=2.27 in /home/vietp/miniconda3/envs/aiinmed1/lib/python3.10/site-packages (from scikit-image->medmnist) (2.33.0)\n",
      "Requirement already satisfied: tifffile>=2022.8.12 in /home/vietp/miniconda3/envs/aiinmed1/lib/python3.10/site-packages (from scikit-image->medmnist) (2023.9.26)\n",
      "Requirement already satisfied: packaging>=21 in /home/vietp/miniconda3/envs/aiinmed1/lib/python3.10/site-packages (from scikit-image->medmnist) (23.2)\n",
      "Requirement already satisfied: lazy_loader>=0.3 in /home/vietp/miniconda3/envs/aiinmed1/lib/python3.10/site-packages (from scikit-image->medmnist) (0.3)\n",
      "Requirement already satisfied: joblib>=1.1.1 in /home/vietp/miniconda3/envs/aiinmed1/lib/python3.10/site-packages (from scikit-learn->medmnist) (1.3.2)\n",
      "Requirement already satisfied: threadpoolctl>=2.0.0 in /home/vietp/miniconda3/envs/aiinmed1/lib/python3.10/site-packages (from scikit-learn->medmnist) (3.2.0)\n",
      "Requirement already satisfied: filelock in /home/vietp/miniconda3/envs/aiinmed1/lib/python3.10/site-packages (from torch->medmnist) (3.13.1)\n",
      "Requirement already satisfied: typing-extensions in /home/vietp/miniconda3/envs/aiinmed1/lib/python3.10/site-packages (from torch->medmnist) (4.8.0)\n",
      "Requirement already satisfied: sympy in /home/vietp/miniconda3/envs/aiinmed1/lib/python3.10/site-packages (from torch->medmnist) (1.12)\n",
      "Requirement already satisfied: jinja2 in /home/vietp/miniconda3/envs/aiinmed1/lib/python3.10/site-packages (from torch->medmnist) (3.1.2)\n",
      "Requirement already satisfied: fsspec in /home/vietp/miniconda3/envs/aiinmed1/lib/python3.10/site-packages (from torch->medmnist) (2023.10.0)\n",
      "Requirement already satisfied: nvidia-cuda-nvrtc-cu12==12.1.105 in /home/vietp/miniconda3/envs/aiinmed1/lib/python3.10/site-packages (from torch->medmnist) (12.1.105)\n",
      "Requirement already satisfied: nvidia-cuda-runtime-cu12==12.1.105 in /home/vietp/miniconda3/envs/aiinmed1/lib/python3.10/site-packages (from torch->medmnist) (12.1.105)\n",
      "Requirement already satisfied: nvidia-cuda-cupti-cu12==12.1.105 in /home/vietp/miniconda3/envs/aiinmed1/lib/python3.10/site-packages (from torch->medmnist) (12.1.105)\n",
      "Requirement already satisfied: nvidia-cudnn-cu12==8.9.2.26 in /home/vietp/miniconda3/envs/aiinmed1/lib/python3.10/site-packages (from torch->medmnist) (8.9.2.26)\n",
      "Requirement already satisfied: nvidia-cublas-cu12==12.1.3.1 in /home/vietp/miniconda3/envs/aiinmed1/lib/python3.10/site-packages (from torch->medmnist) (12.1.3.1)\n",
      "Requirement already satisfied: nvidia-cufft-cu12==11.0.2.54 in /home/vietp/miniconda3/envs/aiinmed1/lib/python3.10/site-packages (from torch->medmnist) (11.0.2.54)\n",
      "Requirement already satisfied: nvidia-curand-cu12==10.3.2.106 in /home/vietp/miniconda3/envs/aiinmed1/lib/python3.10/site-packages (from torch->medmnist) (10.3.2.106)\n",
      "Requirement already satisfied: nvidia-cusolver-cu12==11.4.5.107 in /home/vietp/miniconda3/envs/aiinmed1/lib/python3.10/site-packages (from torch->medmnist) (11.4.5.107)\n",
      "Requirement already satisfied: nvidia-cusparse-cu12==12.1.0.106 in /home/vietp/miniconda3/envs/aiinmed1/lib/python3.10/site-packages (from torch->medmnist) (12.1.0.106)\n",
      "Requirement already satisfied: nvidia-nccl-cu12==2.18.1 in /home/vietp/miniconda3/envs/aiinmed1/lib/python3.10/site-packages (from torch->medmnist) (2.18.1)\n",
      "Requirement already satisfied: nvidia-nvtx-cu12==12.1.105 in /home/vietp/miniconda3/envs/aiinmed1/lib/python3.10/site-packages (from torch->medmnist) (12.1.105)\n",
      "Requirement already satisfied: triton==2.1.0 in /home/vietp/miniconda3/envs/aiinmed1/lib/python3.10/site-packages (from torch->medmnist) (2.1.0)\n",
      "Requirement already satisfied: nvidia-nvjitlink-cu12 in /home/vietp/miniconda3/envs/aiinmed1/lib/python3.10/site-packages (from nvidia-cusolver-cu12==11.4.5.107->torch->medmnist) (12.3.101)\n",
      "Requirement already satisfied: requests in /home/vietp/miniconda3/envs/aiinmed1/lib/python3.10/site-packages (from torchvision->medmnist) (2.31.0)\n",
      "Requirement already satisfied: MarkupSafe>=2.0 in /home/vietp/miniconda3/envs/aiinmed1/lib/python3.10/site-packages (from jinja2->torch->medmnist) (2.1.3)\n",
      "Requirement already satisfied: charset-normalizer<4,>=2 in /home/vietp/miniconda3/envs/aiinmed1/lib/python3.10/site-packages (from requests->torchvision->medmnist) (3.3.2)\n",
      "Requirement already satisfied: idna<4,>=2.5 in /home/vietp/miniconda3/envs/aiinmed1/lib/python3.10/site-packages (from requests->torchvision->medmnist) (3.4)\n",
      "Requirement already satisfied: urllib3<3,>=1.21.1 in /home/vietp/miniconda3/envs/aiinmed1/lib/python3.10/site-packages (from requests->torchvision->medmnist) (2.1.0)\n",
      "Requirement already satisfied: certifi>=2017.4.17 in /home/vietp/miniconda3/envs/aiinmed1/lib/python3.10/site-packages (from requests->torchvision->medmnist) (2023.11.17)\n",
      "Requirement already satisfied: mpmath>=0.19 in /home/vietp/miniconda3/envs/aiinmed1/lib/python3.10/site-packages (from sympy->torch->medmnist) (1.3.0)\n"
     ]
    }
   ],
   "source": [
    "! pip install opacus\n",
    "! pip install medmnist"
   ]
  },
  {
   "cell_type": "markdown",
   "metadata": {},
   "source": [
    "# Task 1"
   ]
  },
  {
   "cell_type": "code",
   "execution_count": 1,
   "metadata": {},
   "outputs": [],
   "source": [
    "import warnings\n",
    "warnings.simplefilter(\"ignore\")\n",
    "import torch\n",
    "import torch.nn as nn\n",
    "import torch.optim as optim\n",
    "import numpy as np\n",
    "from opacus.utils.batch_memory_manager import BatchMemoryManager\n",
    "from opacus import PrivacyEngine\n",
    "from torchvision import models, datasets, transforms\n",
    "from torch.utils.data import DataLoader, random_split\n",
    "from opacus.validators import ModuleValidator\n",
    "from tqdm import tqdm\n",
    "\n",
    "device = torch.device(\"cuda\" if torch.cuda.is_available() else \"cpu\")\n"
   ]
  },
  {
   "cell_type": "markdown",
   "metadata": {},
   "source": [
    "# Task 1a\\)"
   ]
  },
  {
   "cell_type": "code",
   "execution_count": 2,
   "metadata": {},
   "outputs": [
    {
     "name": "stdout",
     "output_type": "stream",
     "text": [
      "Files already downloaded and verified\n",
      "Files already downloaded and verified\n"
     ]
    }
   ],
   "source": [
    "### Dataset preparations\n",
    "CIFAR10_MEAN = (0.4914, 0.4822, 0.4465)\n",
    "CIFAR10_STD_DEV = (0.2023, 0.1994, 0.2010)\n",
    "\n",
    "\n",
    "# CIFAR-10 dataset loading\n",
    "transform = transforms.Compose([\n",
    "    transforms.ToTensor(),\n",
    "    transforms.Normalize(CIFAR10_MEAN, CIFAR10_STD_DEV),\n",
    "])\n",
    "\n",
    "train_dataset = datasets.CIFAR10(root='./data/cifar10', train=True, download=True, transform=transform)\n",
    "test_dataset = datasets.CIFAR10(root='./data/cifar10', train=False, download=True, transform=transform)\n",
    "train_size = int(0.8 * len(train_dataset))\n",
    "val_size = len(train_dataset) - train_size\n",
    "train_dataset, val_dataset = random_split(train_dataset, [train_size, val_size])\n",
    "\n",
    "### Hyperparameters\n",
    "MAX_GRAD_NORM = 1.2\n",
    "EPSILON = 50.0\n",
    "DELTA = 1e-5\n",
    "EPOCHS = 20\n",
    "LR = 1e-3\n",
    "BATCH_SIZE = 256\n",
    "MAX_PHYSICAL_BATCH_SIZE = 32"
   ]
  },
  {
   "cell_type": "markdown",
   "metadata": {},
   "source": [
    "## Define methods"
   ]
  },
  {
   "cell_type": "code",
   "execution_count": 3,
   "metadata": {},
   "outputs": [],
   "source": [
    "def accuracy(preds, labels):\n",
    "    return (preds == labels).mean()"
   ]
  },
  {
   "cell_type": "code",
   "execution_count": 5,
   "metadata": {},
   "outputs": [],
   "source": [
    "##############################################################################################\n",
    "# Image classifier WITH differential privacy: Train and test method\n",
    "##############################################################################################\n",
    "\n",
    "def train_dp(model_dp, train_loader_dp, optimizer_dp, epoch, device, privacy_engine):\n",
    "    model_dp.train()\n",
    "    criterion_dp = nn.CrossEntropyLoss()\n",
    "    losses = []\n",
    "    top1_acc = []\n",
    "        \n",
    "    with BatchMemoryManager(\n",
    "        data_loader=train_loader_dp, \n",
    "        max_physical_batch_size=MAX_PHYSICAL_BATCH_SIZE, \n",
    "        optimizer=optimizer_dp\n",
    "    ) as memory_safe_data_loader:\n",
    "        for i, (images, target) in enumerate(memory_safe_data_loader):\n",
    "            optimizer_dp.zero_grad()\n",
    "            images = images.to(device)\n",
    "            target = target.to(device)\n",
    "            \n",
    "            output = model_dp(images)\n",
    "            loss = criterion_dp(output, target)\n",
    "\n",
    "            preds = np.argmax(output.detach().cpu().numpy(), axis=1)\n",
    "            labels = target.detach().cpu().numpy()\n",
    "\n",
    "            acc = accuracy(preds, labels)\n",
    "\n",
    "            losses.append(loss.item())\n",
    "            top1_acc.append(acc)\n",
    "\n",
    "            loss.backward()\n",
    "            optimizer_dp.step()\n",
    "\n",
    "            if (i + 1) % 200 == 0:\n",
    "                epsilon = privacy_engine.get_epsilon(DELTA)\n",
    "                print(\n",
    "                    f\"\\tTrain Epoch: {epoch} \\t\"\n",
    "                    f\"Loss: {np.mean(losses):.6f} \"\n",
    "                    f\"Acc@1: {np.mean(top1_acc) * 100:.6f} \"\n",
    "                    f\"(ε = {epsilon:.2f}, δ = {DELTA})\"\n",
    "                )\n",
    "\n",
    "\n",
    "def test_dp(model_dp, test_loader_dp, device):\n",
    "    model_dp.eval()\n",
    "    criterion_dp = nn.CrossEntropyLoss()\n",
    "    losses = []\n",
    "    top1_acc = []\n",
    "\n",
    "    with torch.no_grad():\n",
    "        for images, target in test_loader_dp:\n",
    "            images = images.to(device)\n",
    "            target = target.to(device)\n",
    "\n",
    "            output = model_dp(images)\n",
    "            loss = criterion_dp(output, target)\n",
    "\n",
    "            preds = np.argmax(output.detach().cpu().numpy(), axis=1)\n",
    "            labels = target.detach().cpu().numpy()\n",
    "\n",
    "            acc = accuracy(preds, labels)\n",
    "\n",
    "            losses.append(loss.item())\n",
    "            top1_acc.append(acc)\n",
    "\n",
    "    top1_avg = np.mean(top1_acc)\n",
    "\n",
    "\n",
    "    print(\n",
    "        f\"\\tTest set: \"\n",
    "        f\"Loss: {np.mean(losses):.6f} \"\n",
    "        f\"Acc: {top1_avg * 100:.6f} \"\n",
    "    )\n",
    "    return np.mean(top1_acc)\n",
    "\n",
    "\n",
    "def eval_dp(model_dp, val_loader_dp, device):\n",
    "    model_dp.eval()\n",
    "    criterion_dp = nn.CrossEntropyLoss()\n",
    "    losses = []\n",
    "    top1_acc = []\n",
    "\n",
    "    with torch.no_grad():\n",
    "        for images, target in val_loader_dp:\n",
    "            images = images.to(device)\n",
    "            target = target.to(device)\n",
    "\n",
    "            output = model_dp(images)\n",
    "            loss = criterion_dp(output, target)\n",
    "\n",
    "            preds = np.argmax(output.detach().cpu().numpy(), axis=1)\n",
    "            labels = target.detach().cpu().numpy()\n",
    "\n",
    "            acc = accuracy(preds, labels)\n",
    "\n",
    "            losses.append(loss.item())\n",
    "            top1_acc.append(acc)\n",
    "\n",
    "    top1_avg = np.mean(top1_acc)\n",
    "\n",
    "\n",
    "    print(\n",
    "        f\"\\tValidation set: \"\n",
    "        f\"Loss: {np.mean(losses):.6f} \"\n",
    "        f\"Acc: {top1_avg * 100:.6f} \"\n",
    "    )\n",
    "    return np.mean(top1_acc)"
   ]
  },
  {
   "cell_type": "code",
   "execution_count": 6,
   "metadata": {},
   "outputs": [],
   "source": [
    "##############################################################################################\n",
    "# Image classifier WITHOUT differential privacy: Train and test method\n",
    "##############################################################################################\n",
    "\n",
    "def train(model, train_loader, optimizer, epoch, device):\n",
    "    model.train()\n",
    "    criterion = nn.CrossEntropyLoss()\n",
    "    losses = []\n",
    "    top1_acc = []\n",
    "\n",
    "    for i, (images, target) in enumerate(train_loader):\n",
    "        optimizer.zero_grad()\n",
    "        images = images.to(device)\n",
    "        target = target.to(device)\n",
    "        \n",
    "        output = model(images)\n",
    "        loss = criterion(output, target)\n",
    "\n",
    "        preds = np.argmax(output.detach().cpu().numpy(), axis=1)\n",
    "        labels = target.detach().cpu().numpy()\n",
    "\n",
    "        acc = accuracy(preds, labels)\n",
    "\n",
    "        losses.append(loss.item())\n",
    "        top1_acc.append(acc)\n",
    "\n",
    "        loss.backward()\n",
    "        optimizer.step()\n",
    "\n",
    "        if (i + 1) % 50 == 0:\n",
    "            print(\n",
    "                f\"\\tTrain Epoch: {epoch} \\t\"\n",
    "                f\"Loss: {np.mean(losses):.6f} \"\n",
    "                f\"Acc@1: {np.mean(top1_acc) * 100:.6f} \"\n",
    "            )\n",
    "\n",
    "\n",
    "def test(model, test_loader, device):\n",
    "    model.eval()\n",
    "    criterion = nn.CrossEntropyLoss()\n",
    "    losses = []\n",
    "    top1_acc = []\n",
    "\n",
    "    with torch.no_grad():\n",
    "        for images, target in test_loader:\n",
    "            images = images.to(device)\n",
    "            target = target.to(device)\n",
    "\n",
    "            output = model(images)\n",
    "            loss = criterion(output, target)\n",
    "\n",
    "            preds = np.argmax(output.detach().cpu().numpy(), axis=1)\n",
    "            labels = target.detach().cpu().numpy()\n",
    "\n",
    "            acc = accuracy(preds, labels)\n",
    "\n",
    "            losses.append(loss.item())\n",
    "            top1_acc.append(acc)\n",
    "\n",
    "    top1_avg = np.mean(top1_acc)\n",
    "\n",
    "\n",
    "    print(\n",
    "        f\"\\tTest set: \"\n",
    "        f\"Loss: {np.mean(losses):.6f} \"\n",
    "        f\"Acc: {top1_avg * 100:.6f} \"\n",
    "    )\n",
    "    return np.mean(top1_acc)\n",
    "\n",
    "\n",
    "def eval(model, val_loader, device):\n",
    "    model.eval()\n",
    "    criterion = nn.CrossEntropyLoss()\n",
    "    losses = []\n",
    "    top1_acc = []\n",
    "\n",
    "    with torch.no_grad():\n",
    "        for images, target in val_loader:\n",
    "            images = images.to(device)\n",
    "            target = target.to(device)\n",
    "\n",
    "            output = model(images)\n",
    "            loss = criterion(output, target)\n",
    "\n",
    "            preds = np.argmax(output.detach().cpu().numpy(), axis=1)\n",
    "            labels = target.detach().cpu().numpy()\n",
    "\n",
    "            acc = accuracy(preds, labels)\n",
    "\n",
    "            losses.append(loss.item())\n",
    "            top1_acc.append(acc)\n",
    "\n",
    "    top1_avg = np.mean(top1_acc)\n",
    "\n",
    "\n",
    "    print(\n",
    "        f\"\\tValidation set: \"\n",
    "        f\"Loss: {np.mean(losses):.6f} \"\n",
    "        f\"Acc: {top1_avg * 100:.6f} \"\n",
    "    )\n",
    "    return np.mean(top1_acc)"
   ]
  },
  {
   "cell_type": "markdown",
   "metadata": {},
   "source": [
    "## With differential privacy"
   ]
  },
  {
   "cell_type": "markdown",
   "metadata": {},
   "source": [
    "### CIFAR-10"
   ]
  },
  {
   "cell_type": "code",
   "execution_count": 7,
   "metadata": {},
   "outputs": [
    {
     "name": "stdout",
     "output_type": "stream",
     "text": [
      "Before make_private(). Model:<class 'torchvision.models.resnet.ResNet'>, Optimizer:<class 'torch.optim.adam.Adam'>, DataLoader:<class 'torch.utils.data.dataloader.DataLoader'>\n",
      "Using sigma=0.3569221496582031 and C=1.2\n",
      "====================\n",
      "After make_private(). Model:<class 'opacus.grad_sample.grad_sample_module.GradSampleModule'>, Optimizer:<class 'opacus.optimizers.optimizer.DPOptimizer'>, DataLoader:<class 'opacus.data_loader.DPDataLoader'>\n"
     ]
    },
    {
     "name": "stderr",
     "output_type": "stream",
     "text": [
      "Epoch:   0%|          | 0/20 [00:00<?, ?epoch/s]"
     ]
    },
    {
     "name": "stdout",
     "output_type": "stream",
     "text": [
      "\tTrain Epoch: 1 \tLoss: 2.204579 Acc@1: 18.720171 (ε = 9.83, δ = 1e-05)\n",
      "\tTrain Epoch: 1 \tLoss: 2.091480 Acc@1: 23.785138 (ε = 11.36, δ = 1e-05)\n",
      "\tTrain Epoch: 1 \tLoss: 2.010082 Acc@1: 27.175569 (ε = 12.48, δ = 1e-05)\n",
      "\tTrain Epoch: 1 \tLoss: 1.956804 Acc@1: 29.568998 (ε = 13.35, δ = 1e-05)\n",
      "\tTrain Epoch: 1 \tLoss: 1.923658 Acc@1: 31.164948 (ε = 14.15, δ = 1e-05)\n",
      "\tTrain Epoch: 1 \tLoss: 1.892618 Acc@1: 32.519815 (ε = 14.84, δ = 1e-05)\n"
     ]
    },
    {
     "name": "stderr",
     "output_type": "stream",
     "text": [
      "Epoch:   5%|▌         | 1/20 [01:18<24:52, 78.57s/epoch]"
     ]
    },
    {
     "name": "stdout",
     "output_type": "stream",
     "text": [
      "\tTrain Epoch: 2 \tLoss: 1.756921 Acc@1: 40.545373 (ε = 15.90, δ = 1e-05)\n",
      "\tTrain Epoch: 2 \tLoss: 1.748925 Acc@1: 40.633224 (ε = 16.49, δ = 1e-05)\n",
      "\tTrain Epoch: 2 \tLoss: 1.739691 Acc@1: 41.197516 (ε = 17.05, δ = 1e-05)\n",
      "\tTrain Epoch: 2 \tLoss: 1.738532 Acc@1: 41.544515 (ε = 17.56, δ = 1e-05)\n",
      "\tTrain Epoch: 2 \tLoss: 1.735312 Acc@1: 41.826725 (ε = 18.08, δ = 1e-05)\n",
      "\tTrain Epoch: 2 \tLoss: 1.736550 Acc@1: 42.042757 (ε = 18.57, δ = 1e-05)\n"
     ]
    },
    {
     "name": "stderr",
     "output_type": "stream",
     "text": [
      "Epoch:  10%|█         | 2/20 [02:38<23:43, 79.11s/epoch]"
     ]
    },
    {
     "name": "stdout",
     "output_type": "stream",
     "text": [
      "\tTrain Epoch: 3 \tLoss: 1.749681 Acc@1: 43.904107 (ε = 19.31, δ = 1e-05)\n",
      "\tTrain Epoch: 3 \tLoss: 1.730875 Acc@1: 44.533358 (ε = 19.76, δ = 1e-05)\n",
      "\tTrain Epoch: 3 \tLoss: 1.717198 Acc@1: 45.349710 (ε = 20.20, δ = 1e-05)\n",
      "\tTrain Epoch: 3 \tLoss: 1.720756 Acc@1: 45.454513 (ε = 20.61, δ = 1e-05)\n",
      "\tTrain Epoch: 3 \tLoss: 1.725830 Acc@1: 45.565038 (ε = 21.02, δ = 1e-05)\n",
      "\tTrain Epoch: 3 \tLoss: 1.728732 Acc@1: 45.831885 (ε = 21.43, δ = 1e-05)\n"
     ]
    },
    {
     "name": "stderr",
     "output_type": "stream",
     "text": [
      "Epoch:  15%|█▌        | 3/20 [03:56<22:20, 78.88s/epoch]"
     ]
    },
    {
     "name": "stdout",
     "output_type": "stream",
     "text": [
      "\tTrain Epoch: 4 \tLoss: 1.762153 Acc@1: 46.285476 (ε = 22.05, δ = 1e-05)\n",
      "\tTrain Epoch: 4 \tLoss: 1.742048 Acc@1: 47.420437 (ε = 22.44, δ = 1e-05)\n",
      "\tTrain Epoch: 4 \tLoss: 1.748330 Acc@1: 47.721117 (ε = 22.82, δ = 1e-05)\n",
      "\tTrain Epoch: 4 \tLoss: 1.746203 Acc@1: 47.755390 (ε = 23.17, δ = 1e-05)\n",
      "\tTrain Epoch: 4 \tLoss: 1.736567 Acc@1: 48.040162 (ε = 23.53, δ = 1e-05)\n",
      "\tTrain Epoch: 4 \tLoss: 1.737330 Acc@1: 48.173202 (ε = 23.88, δ = 1e-05)\n"
     ]
    },
    {
     "name": "stderr",
     "output_type": "stream",
     "text": [
      "Epoch:  20%|██        | 4/20 [05:16<21:10, 79.43s/epoch]"
     ]
    },
    {
     "name": "stdout",
     "output_type": "stream",
     "text": [
      "\tTrain Epoch: 5 \tLoss: 1.707987 Acc@1: 48.597692 (ε = 24.45, δ = 1e-05)\n",
      "\tTrain Epoch: 5 \tLoss: 1.699956 Acc@1: 49.036983 (ε = 24.79, δ = 1e-05)\n",
      "\tTrain Epoch: 5 \tLoss: 1.702632 Acc@1: 49.576055 (ε = 25.12, δ = 1e-05)\n",
      "\tTrain Epoch: 5 \tLoss: 1.695890 Acc@1: 50.130021 (ε = 25.44, δ = 1e-05)\n",
      "\tTrain Epoch: 5 \tLoss: 1.706837 Acc@1: 50.033780 (ε = 25.76, δ = 1e-05)\n",
      "\tTrain Epoch: 5 \tLoss: 1.705974 Acc@1: 50.229277 (ε = 26.08, δ = 1e-05)\n"
     ]
    },
    {
     "name": "stderr",
     "output_type": "stream",
     "text": [
      "Epoch:  25%|██▌       | 5/20 [06:39<20:09, 80.62s/epoch]"
     ]
    },
    {
     "name": "stdout",
     "output_type": "stream",
     "text": [
      "\tValidation set: Loss: 1.801686 Acc: 49.296875 \n",
      "\tTrain Epoch: 6 \tLoss: 1.739643 Acc@1: 49.896092 (ε = 26.62, δ = 1e-05)\n",
      "\tTrain Epoch: 6 \tLoss: 1.737861 Acc@1: 50.304571 (ε = 26.94, δ = 1e-05)\n",
      "\tTrain Epoch: 6 \tLoss: 1.735542 Acc@1: 50.561755 (ε = 27.24, δ = 1e-05)\n",
      "\tTrain Epoch: 6 \tLoss: 1.721687 Acc@1: 50.787406 (ε = 27.55, δ = 1e-05)\n",
      "\tTrain Epoch: 6 \tLoss: 1.714468 Acc@1: 50.982071 (ε = 27.85, δ = 1e-05)\n",
      "\tTrain Epoch: 6 \tLoss: 1.715371 Acc@1: 51.172441 (ε = 28.16, δ = 1e-05)\n"
     ]
    },
    {
     "name": "stderr",
     "output_type": "stream",
     "text": [
      "Epoch:  30%|███       | 6/20 [08:00<18:51, 80.85s/epoch]"
     ]
    },
    {
     "name": "stdout",
     "output_type": "stream",
     "text": [
      "\tTrain Epoch: 7 \tLoss: 1.687388 Acc@1: 52.217194 (ε = 28.63, δ = 1e-05)\n",
      "\tTrain Epoch: 7 \tLoss: 1.677578 Acc@1: 52.366514 (ε = 28.92, δ = 1e-05)\n",
      "\tTrain Epoch: 7 \tLoss: 1.703921 Acc@1: 52.271360 (ε = 29.21, δ = 1e-05)\n",
      "\tTrain Epoch: 7 \tLoss: 1.700248 Acc@1: 52.514994 (ε = 29.50, δ = 1e-05)\n",
      "\tTrain Epoch: 7 \tLoss: 1.695960 Acc@1: 52.527696 (ε = 29.78, δ = 1e-05)\n",
      "\tTrain Epoch: 7 \tLoss: 1.704393 Acc@1: 52.536288 (ε = 30.07, δ = 1e-05)\n"
     ]
    },
    {
     "name": "stderr",
     "output_type": "stream",
     "text": [
      "Epoch:  35%|███▌      | 7/20 [09:23<17:36, 81.24s/epoch]"
     ]
    },
    {
     "name": "stdout",
     "output_type": "stream",
     "text": [
      "\tTrain Epoch: 8 \tLoss: 1.660984 Acc@1: 53.706032 (ε = 30.53, δ = 1e-05)\n",
      "\tTrain Epoch: 8 \tLoss: 1.661947 Acc@1: 54.076872 (ε = 30.81, δ = 1e-05)\n",
      "\tTrain Epoch: 8 \tLoss: 1.669572 Acc@1: 53.895468 (ε = 31.08, δ = 1e-05)\n",
      "\tTrain Epoch: 8 \tLoss: 1.662966 Acc@1: 53.987937 (ε = 31.35, δ = 1e-05)\n",
      "\tTrain Epoch: 8 \tLoss: 1.669058 Acc@1: 54.022096 (ε = 31.61, δ = 1e-05)\n",
      "\tTrain Epoch: 8 \tLoss: 1.670465 Acc@1: 53.910924 (ε = 31.88, δ = 1e-05)\n"
     ]
    },
    {
     "name": "stderr",
     "output_type": "stream",
     "text": [
      "Epoch:  40%|████      | 8/20 [10:48<16:32, 82.67s/epoch]"
     ]
    },
    {
     "name": "stdout",
     "output_type": "stream",
     "text": [
      "\tTrain Epoch: 9 \tLoss: 1.676915 Acc@1: 54.778174 (ε = 32.33, δ = 1e-05)\n",
      "\tTrain Epoch: 9 \tLoss: 1.678830 Acc@1: 54.825325 (ε = 32.60, δ = 1e-05)\n",
      "\tTrain Epoch: 9 \tLoss: 1.698640 Acc@1: 54.340712 (ε = 32.87, δ = 1e-05)\n",
      "\tTrain Epoch: 9 \tLoss: 1.698400 Acc@1: 54.582821 (ε = 33.13, δ = 1e-05)\n",
      "\tTrain Epoch: 9 \tLoss: 1.697868 Acc@1: 54.443042 (ε = 33.38, δ = 1e-05)\n",
      "\tTrain Epoch: 9 \tLoss: 1.694059 Acc@1: 54.520341 (ε = 33.64, δ = 1e-05)\n"
     ]
    },
    {
     "name": "stderr",
     "output_type": "stream",
     "text": [
      "Epoch:  45%|████▌     | 9/20 [12:12<15:12, 82.95s/epoch]"
     ]
    },
    {
     "name": "stdout",
     "output_type": "stream",
     "text": [
      "\tTrain Epoch: 10 \tLoss: 1.719789 Acc@1: 54.843066 (ε = 34.06, δ = 1e-05)\n",
      "\tTrain Epoch: 10 \tLoss: 1.702422 Acc@1: 54.881671 (ε = 34.29, δ = 1e-05)\n",
      "\tTrain Epoch: 10 \tLoss: 1.672704 Acc@1: 55.198458 (ε = 34.54, δ = 1e-05)\n",
      "\tTrain Epoch: 10 \tLoss: 1.671386 Acc@1: 55.320398 (ε = 34.79, δ = 1e-05)\n",
      "\tTrain Epoch: 10 \tLoss: 1.672600 Acc@1: 55.383224 (ε = 35.05, δ = 1e-05)\n",
      "\tTrain Epoch: 10 \tLoss: 1.675691 Acc@1: 55.261494 (ε = 35.30, δ = 1e-05)\n"
     ]
    },
    {
     "name": "stderr",
     "output_type": "stream",
     "text": [
      "Epoch:  50%|█████     | 10/20 [13:37<13:56, 83.64s/epoch]"
     ]
    },
    {
     "name": "stdout",
     "output_type": "stream",
     "text": [
      "\tValidation set: Loss: 1.810748 Acc: 52.910156 \n",
      "\tTrain Epoch: 11 \tLoss: 1.703569 Acc@1: 54.907592 (ε = 35.72, δ = 1e-05)\n",
      "\tTrain Epoch: 11 \tLoss: 1.660159 Acc@1: 56.076373 (ε = 35.97, δ = 1e-05)\n",
      "\tTrain Epoch: 11 \tLoss: 1.660365 Acc@1: 56.032213 (ε = 36.20, δ = 1e-05)\n",
      "\tTrain Epoch: 11 \tLoss: 1.652464 Acc@1: 56.222667 (ε = 36.44, δ = 1e-05)\n",
      "\tTrain Epoch: 11 \tLoss: 1.656128 Acc@1: 56.358838 (ε = 36.68, δ = 1e-05)\n",
      "\tTrain Epoch: 11 \tLoss: 1.660725 Acc@1: 56.517572 (ε = 36.93, δ = 1e-05)\n"
     ]
    },
    {
     "name": "stderr",
     "output_type": "stream",
     "text": [
      "Epoch:  55%|█████▌    | 11/20 [15:03<12:38, 84.32s/epoch]"
     ]
    },
    {
     "name": "stdout",
     "output_type": "stream",
     "text": [
      "\tTrain Epoch: 12 \tLoss: 1.668883 Acc@1: 55.783742 (ε = 37.32, δ = 1e-05)\n",
      "\tTrain Epoch: 12 \tLoss: 1.653086 Acc@1: 56.361893 (ε = 37.56, δ = 1e-05)\n",
      "\tTrain Epoch: 12 \tLoss: 1.651805 Acc@1: 56.429918 (ε = 37.80, δ = 1e-05)\n",
      "\tTrain Epoch: 12 \tLoss: 1.668177 Acc@1: 56.382187 (ε = 38.03, δ = 1e-05)\n",
      "\tTrain Epoch: 12 \tLoss: 1.662911 Acc@1: 56.490462 (ε = 38.26, δ = 1e-05)\n",
      "\tTrain Epoch: 12 \tLoss: 1.661790 Acc@1: 56.531199 (ε = 38.50, δ = 1e-05)\n"
     ]
    },
    {
     "name": "stderr",
     "output_type": "stream",
     "text": [
      "Epoch:  60%|██████    | 12/20 [16:29<11:18, 84.84s/epoch]"
     ]
    },
    {
     "name": "stdout",
     "output_type": "stream",
     "text": [
      "\tTrain Epoch: 13 \tLoss: 1.661130 Acc@1: 56.628596 (ε = 38.89, δ = 1e-05)\n",
      "\tTrain Epoch: 13 \tLoss: 1.649598 Acc@1: 57.089246 (ε = 39.12, δ = 1e-05)\n",
      "\tTrain Epoch: 13 \tLoss: 1.657566 Acc@1: 56.962925 (ε = 39.35, δ = 1e-05)\n",
      "\tTrain Epoch: 13 \tLoss: 1.662096 Acc@1: 56.902800 (ε = 39.57, δ = 1e-05)\n",
      "\tTrain Epoch: 13 \tLoss: 1.651635 Acc@1: 57.263848 (ε = 39.81, δ = 1e-05)\n",
      "\tTrain Epoch: 13 \tLoss: 1.653686 Acc@1: 57.298485 (ε = 40.03, δ = 1e-05)\n"
     ]
    },
    {
     "name": "stderr",
     "output_type": "stream",
     "text": [
      "Epoch:  65%|██████▌   | 13/20 [17:58<10:03, 86.16s/epoch]"
     ]
    },
    {
     "name": "stdout",
     "output_type": "stream",
     "text": [
      "\tTrain Epoch: 14 \tLoss: 1.602654 Acc@1: 58.256438 (ε = 40.40, δ = 1e-05)\n",
      "\tTrain Epoch: 14 \tLoss: 1.635797 Acc@1: 58.378063 (ε = 40.62, δ = 1e-05)\n",
      "\tTrain Epoch: 14 \tLoss: 1.637454 Acc@1: 58.371506 (ε = 40.85, δ = 1e-05)\n",
      "\tTrain Epoch: 14 \tLoss: 1.648658 Acc@1: 57.985878 (ε = 41.07, δ = 1e-05)\n",
      "\tTrain Epoch: 14 \tLoss: 1.640143 Acc@1: 58.112949 (ε = 41.29, δ = 1e-05)\n",
      "\tTrain Epoch: 14 \tLoss: 1.645813 Acc@1: 58.172223 (ε = 41.51, δ = 1e-05)\n"
     ]
    },
    {
     "name": "stderr",
     "output_type": "stream",
     "text": [
      "Epoch:  70%|███████   | 14/20 [19:25<08:39, 86.52s/epoch]"
     ]
    },
    {
     "name": "stdout",
     "output_type": "stream",
     "text": [
      "\tTrain Epoch: 15 \tLoss: 1.691170 Acc@1: 56.786077 (ε = 41.88, δ = 1e-05)\n",
      "\tTrain Epoch: 15 \tLoss: 1.693054 Acc@1: 57.149731 (ε = 42.12, δ = 1e-05)\n",
      "\tTrain Epoch: 15 \tLoss: 1.680806 Acc@1: 57.206202 (ε = 42.34, δ = 1e-05)\n",
      "\tTrain Epoch: 15 \tLoss: 1.669452 Acc@1: 57.479021 (ε = 42.55, δ = 1e-05)\n",
      "\tTrain Epoch: 15 \tLoss: 1.656235 Acc@1: 57.742460 (ε = 42.77, δ = 1e-05)\n",
      "\tTrain Epoch: 15 \tLoss: 1.649258 Acc@1: 57.980603 (ε = 42.99, δ = 1e-05)\n"
     ]
    },
    {
     "name": "stderr",
     "output_type": "stream",
     "text": [
      "Epoch:  75%|███████▌  | 15/20 [20:55<07:17, 87.43s/epoch]"
     ]
    },
    {
     "name": "stdout",
     "output_type": "stream",
     "text": [
      "\tValidation set: Loss: 1.779722 Acc: 55.781250 \n",
      "\tTrain Epoch: 16 \tLoss: 1.631189 Acc@1: 59.067845 (ε = 43.33, δ = 1e-05)\n",
      "\tTrain Epoch: 16 \tLoss: 1.608015 Acc@1: 59.515762 (ε = 43.55, δ = 1e-05)\n",
      "\tTrain Epoch: 16 \tLoss: 1.617014 Acc@1: 59.740838 (ε = 43.76, δ = 1e-05)\n",
      "\tTrain Epoch: 16 \tLoss: 1.609064 Acc@1: 59.695044 (ε = 43.98, δ = 1e-05)\n",
      "\tTrain Epoch: 16 \tLoss: 1.610371 Acc@1: 59.608364 (ε = 44.19, δ = 1e-05)\n",
      "\tTrain Epoch: 16 \tLoss: 1.610061 Acc@1: 59.660148 (ε = 44.40, δ = 1e-05)\n"
     ]
    },
    {
     "name": "stderr",
     "output_type": "stream",
     "text": [
      "Epoch:  80%|████████  | 16/20 [22:26<05:54, 88.63s/epoch]"
     ]
    },
    {
     "name": "stdout",
     "output_type": "stream",
     "text": [
      "\tTrain Epoch: 17 \tLoss: 1.662072 Acc@1: 58.501215 (ε = 44.75, δ = 1e-05)\n",
      "\tTrain Epoch: 17 \tLoss: 1.634850 Acc@1: 58.979994 (ε = 44.97, δ = 1e-05)\n",
      "\tTrain Epoch: 17 \tLoss: 1.616130 Acc@1: 59.112832 (ε = 45.17, δ = 1e-05)\n",
      "\tTrain Epoch: 17 \tLoss: 1.620998 Acc@1: 59.074971 (ε = 45.39, δ = 1e-05)\n",
      "\tTrain Epoch: 17 \tLoss: 1.617821 Acc@1: 59.306544 (ε = 45.60, δ = 1e-05)\n",
      "\tTrain Epoch: 17 \tLoss: 1.620667 Acc@1: 59.161964 (ε = 45.81, δ = 1e-05)\n"
     ]
    },
    {
     "name": "stderr",
     "output_type": "stream",
     "text": [
      "Epoch:  85%|████████▌ | 17/20 [23:54<04:24, 88.22s/epoch]"
     ]
    },
    {
     "name": "stdout",
     "output_type": "stream",
     "text": [
      "\tTrain Epoch: 18 \tLoss: 1.618245 Acc@1: 60.005960 (ε = 46.14, δ = 1e-05)\n",
      "\tTrain Epoch: 18 \tLoss: 1.591778 Acc@1: 60.126133 (ε = 46.35, δ = 1e-05)\n",
      "\tTrain Epoch: 18 \tLoss: 1.582047 Acc@1: 60.539580 (ε = 46.56, δ = 1e-05)\n",
      "\tTrain Epoch: 18 \tLoss: 1.596684 Acc@1: 60.298044 (ε = 46.77, δ = 1e-05)\n",
      "\tTrain Epoch: 18 \tLoss: 1.601332 Acc@1: 60.119258 (ε = 46.97, δ = 1e-05)\n",
      "\tTrain Epoch: 18 \tLoss: 1.603532 Acc@1: 60.118083 (ε = 47.18, δ = 1e-05)\n"
     ]
    },
    {
     "name": "stderr",
     "output_type": "stream",
     "text": [
      "Epoch:  90%|█████████ | 18/20 [25:21<02:55, 87.95s/epoch]"
     ]
    },
    {
     "name": "stdout",
     "output_type": "stream",
     "text": [
      "\tTrain Epoch: 19 \tLoss: 1.558013 Acc@1: 60.554489 (ε = 47.51, δ = 1e-05)\n",
      "\tTrain Epoch: 19 \tLoss: 1.573826 Acc@1: 60.385532 (ε = 47.72, δ = 1e-05)\n",
      "\tTrain Epoch: 19 \tLoss: 1.589388 Acc@1: 60.229680 (ε = 47.92, δ = 1e-05)\n",
      "\tTrain Epoch: 19 \tLoss: 1.585909 Acc@1: 60.282813 (ε = 48.13, δ = 1e-05)\n",
      "\tTrain Epoch: 19 \tLoss: 1.595804 Acc@1: 60.059382 (ε = 48.33, δ = 1e-05)\n",
      "\tTrain Epoch: 19 \tLoss: 1.594999 Acc@1: 60.194889 (ε = 48.54, δ = 1e-05)\n"
     ]
    },
    {
     "name": "stderr",
     "output_type": "stream",
     "text": [
      "Epoch:  95%|█████████▌| 19/20 [26:50<01:28, 88.14s/epoch]"
     ]
    },
    {
     "name": "stdout",
     "output_type": "stream",
     "text": [
      "\tTrain Epoch: 20 \tLoss: 1.614281 Acc@1: 60.100388 (ε = 48.87, δ = 1e-05)\n",
      "\tTrain Epoch: 20 \tLoss: 1.607946 Acc@1: 60.305162 (ε = 49.07, δ = 1e-05)\n",
      "\tTrain Epoch: 20 \tLoss: 1.622305 Acc@1: 60.221675 (ε = 49.27, δ = 1e-05)\n",
      "\tTrain Epoch: 20 \tLoss: 1.605686 Acc@1: 60.364717 (ε = 49.47, δ = 1e-05)\n",
      "\tTrain Epoch: 20 \tLoss: 1.602880 Acc@1: 60.339347 (ε = 49.67, δ = 1e-05)\n",
      "\tTrain Epoch: 20 \tLoss: 1.605178 Acc@1: 60.250614 (ε = 49.87, δ = 1e-05)\n"
     ]
    },
    {
     "name": "stderr",
     "output_type": "stream",
     "text": [
      "Epoch: 100%|██████████| 20/20 [28:19<00:00, 84.96s/epoch]"
     ]
    },
    {
     "name": "stdout",
     "output_type": "stream",
     "text": [
      "\tValidation set: Loss: 1.817502 Acc: 57.900391 \n"
     ]
    },
    {
     "name": "stderr",
     "output_type": "stream",
     "text": [
      "\n"
     ]
    },
    {
     "name": "stdout",
     "output_type": "stream",
     "text": [
      "\tTest set: Loss: 1.846840 Acc: 56.806641 \n",
      "CIFAR DP Top1 Acc:  0.56806640625\n"
     ]
    }
   ],
   "source": [
    "\n",
    "##############################################################################################\n",
    "# CIFAR-10 classification WITH differential privacy: Model, Optimizer, DataLoader\n",
    "##############################################################################################\n",
    "\n",
    "train_loader_dp = DataLoader(train_dataset, batch_size=BATCH_SIZE, shuffle=True, num_workers=2)\n",
    "val_loader_dp = DataLoader(val_dataset, batch_size=BATCH_SIZE, shuffle=False, num_workers=2)\n",
    "test_loader_dp = DataLoader(test_dataset, batch_size=BATCH_SIZE, shuffle=False, num_workers=2)\n",
    "\n",
    "model_cifar_dp = models.resnet18(num_classes=10)\n",
    "model_cifar_dp = ModuleValidator.fix(model_cifar_dp)\n",
    "ModuleValidator.validate(model_cifar_dp, strict=False)\n",
    "\n",
    "model_cifar_dp = model_cifar_dp.to(device)\n",
    "\n",
    "optimizer_dp = optim.Adam(model_cifar_dp.parameters(), lr=LR)\n",
    "\n",
    "\n",
    "print(\n",
    "    f\"Before make_private(). \"\n",
    "    f\"Model:{type(model_cifar_dp)}, Optimizer:{type(optimizer_dp)}, DataLoader:{type(train_loader_dp)}\"\n",
    ")\n",
    "\n",
    "# Now we initialize a privacy engine and attach it\n",
    "privacy_engine = PrivacyEngine()\n",
    "model_cifar_dp, optimizer_dp, train_loader_dp = privacy_engine.make_private_with_epsilon(\n",
    "    module=model_cifar_dp,\n",
    "    optimizer=optimizer_dp,\n",
    "    data_loader=train_loader_dp,\n",
    "    epochs=EPOCHS,\n",
    "    target_epsilon=EPSILON,\n",
    "    target_delta=DELTA,\n",
    "    max_grad_norm=MAX_GRAD_NORM,\n",
    ")\n",
    "print(f\"Using sigma={optimizer_dp.noise_multiplier} and C={MAX_GRAD_NORM}\")\n",
    "\n",
    "print(\"=\"*20)\n",
    "\n",
    "print(\n",
    "    f\"After make_private(). \"\n",
    "    f\"Model:{type(model_cifar_dp)}, Optimizer:{type(optimizer_dp)}, DataLoader:{type(train_loader_dp)}\"\n",
    ")\n",
    "# Now it's business as usual\n",
    "\n",
    "for epoch in tqdm(range(EPOCHS), desc=\"Epoch\", unit=\"epoch\"):\n",
    "    train_dp(model_cifar_dp, train_loader_dp, optimizer_dp, epoch + 1, device, privacy_engine)\n",
    "    if (epoch + 1) % 5 == 0:\n",
    "        eval_dp(model_cifar_dp, val_loader_dp, device)\n",
    "\n",
    "top1_acc_cifar_dp = test_dp(model_cifar_dp, test_loader_dp, device)\n",
    "print(\"CIFAR DP Top1 Acc: \", top1_acc_cifar_dp)\n",
    "torch.save(model_cifar_dp, 'cifar-10_dp.pt')"
   ]
  },
  {
   "cell_type": "markdown",
   "metadata": {},
   "source": [
    "## Without differential privacy"
   ]
  },
  {
   "cell_type": "markdown",
   "metadata": {},
   "source": [
    "### CIFAR-10"
   ]
  },
  {
   "cell_type": "code",
   "execution_count": 8,
   "metadata": {},
   "outputs": [
    {
     "name": "stderr",
     "output_type": "stream",
     "text": [
      "Epoch:   0%|          | 0/20 [00:00<?, ?epoch/s]"
     ]
    },
    {
     "name": "stdout",
     "output_type": "stream",
     "text": [
      "\tTrain Epoch: 1 \tLoss: 1.702427 Acc@1: 38.242188 \n",
      "\tTrain Epoch: 1 \tLoss: 1.546938 Acc@1: 43.906250 \n",
      "\tTrain Epoch: 1 \tLoss: 1.448125 Acc@1: 47.653646 \n"
     ]
    },
    {
     "name": "stderr",
     "output_type": "stream",
     "text": [
      "Epoch:   5%|▌         | 1/20 [00:08<02:50,  8.98s/epoch]"
     ]
    },
    {
     "name": "stdout",
     "output_type": "stream",
     "text": [
      "\tValidation set: Loss: 1.224714 Acc: 55.839844 \n",
      "\tTrain Epoch: 2 \tLoss: 1.079440 Acc@1: 61.390625 \n",
      "\tTrain Epoch: 2 \tLoss: 1.066495 Acc@1: 61.898438 \n",
      "\tTrain Epoch: 2 \tLoss: 1.044719 Acc@1: 62.747396 \n"
     ]
    },
    {
     "name": "stderr",
     "output_type": "stream",
     "text": [
      "Epoch:  10%|█         | 2/20 [00:16<02:30,  8.39s/epoch]"
     ]
    },
    {
     "name": "stdout",
     "output_type": "stream",
     "text": [
      "\tTrain Epoch: 3 \tLoss: 0.859156 Acc@1: 69.757812 \n",
      "\tTrain Epoch: 3 \tLoss: 0.855040 Acc@1: 69.867188 \n",
      "\tTrain Epoch: 3 \tLoss: 0.849786 Acc@1: 69.924479 \n"
     ]
    },
    {
     "name": "stderr",
     "output_type": "stream",
     "text": [
      "Epoch:  15%|█▌        | 3/20 [00:24<02:18,  8.16s/epoch]"
     ]
    },
    {
     "name": "stdout",
     "output_type": "stream",
     "text": [
      "\tTrain Epoch: 4 \tLoss: 0.681419 Acc@1: 76.140625 \n",
      "\tTrain Epoch: 4 \tLoss: 0.687468 Acc@1: 75.656250 \n",
      "\tTrain Epoch: 4 \tLoss: 0.700336 Acc@1: 75.299479 \n"
     ]
    },
    {
     "name": "stderr",
     "output_type": "stream",
     "text": [
      "Epoch:  20%|██        | 4/20 [00:32<02:08,  8.04s/epoch]"
     ]
    },
    {
     "name": "stdout",
     "output_type": "stream",
     "text": [
      "\tTrain Epoch: 5 \tLoss: 0.546158 Acc@1: 80.531250 \n",
      "\tTrain Epoch: 5 \tLoss: 0.575198 Acc@1: 79.488281 \n",
      "\tTrain Epoch: 5 \tLoss: 0.588720 Acc@1: 78.911458 \n"
     ]
    },
    {
     "name": "stderr",
     "output_type": "stream",
     "text": [
      "Epoch:  25%|██▌       | 5/20 [00:40<01:59,  7.95s/epoch]"
     ]
    },
    {
     "name": "stdout",
     "output_type": "stream",
     "text": [
      "\tTrain Epoch: 6 \tLoss: 0.453526 Acc@1: 83.718750 \n",
      "\tTrain Epoch: 6 \tLoss: 0.472484 Acc@1: 83.238281 \n",
      "\tTrain Epoch: 6 \tLoss: 0.484477 Acc@1: 82.872396 \n"
     ]
    },
    {
     "name": "stderr",
     "output_type": "stream",
     "text": [
      "Epoch:  30%|███       | 6/20 [00:49<01:56,  8.31s/epoch]"
     ]
    },
    {
     "name": "stdout",
     "output_type": "stream",
     "text": [
      "\tValidation set: Loss: 0.906389 Acc: 71.015625 \n",
      "\tTrain Epoch: 7 \tLoss: 0.354589 Acc@1: 87.367188 \n",
      "\tTrain Epoch: 7 \tLoss: 0.373716 Acc@1: 86.796875 \n",
      "\tTrain Epoch: 7 \tLoss: 0.391350 Acc@1: 86.208333 \n"
     ]
    },
    {
     "name": "stderr",
     "output_type": "stream",
     "text": [
      "Epoch:  35%|███▌      | 7/20 [00:57<01:45,  8.12s/epoch]"
     ]
    },
    {
     "name": "stdout",
     "output_type": "stream",
     "text": [
      "\tTrain Epoch: 8 \tLoss: 0.263427 Acc@1: 90.789062 \n",
      "\tTrain Epoch: 8 \tLoss: 0.288083 Acc@1: 89.886719 \n",
      "\tTrain Epoch: 8 \tLoss: 0.306602 Acc@1: 89.190104 \n"
     ]
    },
    {
     "name": "stderr",
     "output_type": "stream",
     "text": [
      "Epoch:  40%|████      | 8/20 [01:05<01:36,  8.01s/epoch]"
     ]
    },
    {
     "name": "stdout",
     "output_type": "stream",
     "text": [
      "\tTrain Epoch: 9 \tLoss: 0.214971 Acc@1: 92.578125 \n",
      "\tTrain Epoch: 9 \tLoss: 0.229353 Acc@1: 92.023438 \n",
      "\tTrain Epoch: 9 \tLoss: 0.244164 Acc@1: 91.513021 \n"
     ]
    },
    {
     "name": "stderr",
     "output_type": "stream",
     "text": [
      "Epoch:  45%|████▌     | 9/20 [01:12<01:27,  7.99s/epoch]"
     ]
    },
    {
     "name": "stdout",
     "output_type": "stream",
     "text": [
      "\tTrain Epoch: 10 \tLoss: 0.167909 Acc@1: 94.406250 \n",
      "\tTrain Epoch: 10 \tLoss: 0.175278 Acc@1: 93.964844 \n",
      "\tTrain Epoch: 10 \tLoss: 0.193114 Acc@1: 93.291667 \n"
     ]
    },
    {
     "name": "stderr",
     "output_type": "stream",
     "text": [
      "Epoch:  50%|█████     | 10/20 [01:20<01:19,  7.94s/epoch]"
     ]
    },
    {
     "name": "stdout",
     "output_type": "stream",
     "text": [
      "\tTrain Epoch: 11 \tLoss: 0.147137 Acc@1: 95.015625 \n",
      "\tTrain Epoch: 11 \tLoss: 0.149270 Acc@1: 94.906250 \n",
      "\tTrain Epoch: 11 \tLoss: 0.164091 Acc@1: 94.333333 \n"
     ]
    },
    {
     "name": "stderr",
     "output_type": "stream",
     "text": [
      "Epoch:  55%|█████▌    | 11/20 [01:29<01:13,  8.21s/epoch]"
     ]
    },
    {
     "name": "stdout",
     "output_type": "stream",
     "text": [
      "\tValidation set: Loss: 1.162582 Acc: 71.601562 \n",
      "\tTrain Epoch: 12 \tLoss: 0.159389 Acc@1: 94.460938 \n",
      "\tTrain Epoch: 12 \tLoss: 0.143006 Acc@1: 94.972656 \n",
      "\tTrain Epoch: 12 \tLoss: 0.143863 Acc@1: 94.864583 \n"
     ]
    },
    {
     "name": "stderr",
     "output_type": "stream",
     "text": [
      "Epoch:  60%|██████    | 12/20 [01:37<01:04,  8.08s/epoch]"
     ]
    },
    {
     "name": "stdout",
     "output_type": "stream",
     "text": [
      "\tTrain Epoch: 13 \tLoss: 0.127672 Acc@1: 95.617188 \n",
      "\tTrain Epoch: 13 \tLoss: 0.118898 Acc@1: 95.824219 \n",
      "\tTrain Epoch: 13 \tLoss: 0.122020 Acc@1: 95.619792 \n"
     ]
    },
    {
     "name": "stderr",
     "output_type": "stream",
     "text": [
      "Epoch:  65%|██████▌   | 13/20 [01:45<00:56,  8.07s/epoch]"
     ]
    },
    {
     "name": "stdout",
     "output_type": "stream",
     "text": [
      "\tTrain Epoch: 14 \tLoss: 0.104827 Acc@1: 96.421875 \n",
      "\tTrain Epoch: 14 \tLoss: 0.099200 Acc@1: 96.578125 \n",
      "\tTrain Epoch: 14 \tLoss: 0.103076 Acc@1: 96.421875 \n"
     ]
    },
    {
     "name": "stderr",
     "output_type": "stream",
     "text": [
      "Epoch:  70%|███████   | 14/20 [01:53<00:47,  7.98s/epoch]"
     ]
    },
    {
     "name": "stdout",
     "output_type": "stream",
     "text": [
      "\tTrain Epoch: 15 \tLoss: 0.086511 Acc@1: 97.070312 \n",
      "\tTrain Epoch: 15 \tLoss: 0.083294 Acc@1: 97.136719 \n",
      "\tTrain Epoch: 15 \tLoss: 0.088371 Acc@1: 96.898438 \n"
     ]
    },
    {
     "name": "stderr",
     "output_type": "stream",
     "text": [
      "Epoch:  75%|███████▌  | 15/20 [02:01<00:39,  7.93s/epoch]"
     ]
    },
    {
     "name": "stdout",
     "output_type": "stream",
     "text": [
      "\tTrain Epoch: 16 \tLoss: 0.074762 Acc@1: 97.398438 \n",
      "\tTrain Epoch: 16 \tLoss: 0.085453 Acc@1: 96.996094 \n",
      "\tTrain Epoch: 16 \tLoss: 0.090143 Acc@1: 96.885417 \n"
     ]
    },
    {
     "name": "stderr",
     "output_type": "stream",
     "text": [
      "Epoch:  80%|████████  | 16/20 [02:09<00:32,  8.18s/epoch]"
     ]
    },
    {
     "name": "stdout",
     "output_type": "stream",
     "text": [
      "\tValidation set: Loss: 1.296449 Acc: 72.753906 \n",
      "\tTrain Epoch: 17 \tLoss: 0.073501 Acc@1: 97.382812 \n",
      "\tTrain Epoch: 17 \tLoss: 0.073612 Acc@1: 97.410156 \n",
      "\tTrain Epoch: 17 \tLoss: 0.075140 Acc@1: 97.361979 \n"
     ]
    },
    {
     "name": "stderr",
     "output_type": "stream",
     "text": [
      "Epoch:  85%|████████▌ | 17/20 [02:17<00:24,  8.09s/epoch]"
     ]
    },
    {
     "name": "stdout",
     "output_type": "stream",
     "text": [
      "\tTrain Epoch: 18 \tLoss: 0.096347 Acc@1: 96.750000 \n",
      "\tTrain Epoch: 18 \tLoss: 0.090383 Acc@1: 96.863281 \n",
      "\tTrain Epoch: 18 \tLoss: 0.088904 Acc@1: 96.916667 \n"
     ]
    },
    {
     "name": "stderr",
     "output_type": "stream",
     "text": [
      "Epoch:  90%|█████████ | 18/20 [02:25<00:15,  7.99s/epoch]"
     ]
    },
    {
     "name": "stdout",
     "output_type": "stream",
     "text": [
      "\tTrain Epoch: 19 \tLoss: 0.049687 Acc@1: 98.265625 \n",
      "\tTrain Epoch: 19 \tLoss: 0.051065 Acc@1: 98.324219 \n",
      "\tTrain Epoch: 19 \tLoss: 0.056738 Acc@1: 98.135417 \n"
     ]
    },
    {
     "name": "stderr",
     "output_type": "stream",
     "text": [
      "Epoch:  95%|█████████▌| 19/20 [02:33<00:07,  7.95s/epoch]"
     ]
    },
    {
     "name": "stdout",
     "output_type": "stream",
     "text": [
      "\tTrain Epoch: 20 \tLoss: 0.096324 Acc@1: 96.468750 \n",
      "\tTrain Epoch: 20 \tLoss: 0.092657 Acc@1: 96.738281 \n",
      "\tTrain Epoch: 20 \tLoss: 0.082905 Acc@1: 97.070312 \n"
     ]
    },
    {
     "name": "stderr",
     "output_type": "stream",
     "text": [
      "Epoch: 100%|██████████| 20/20 [02:41<00:00,  8.06s/epoch]\n"
     ]
    },
    {
     "name": "stdout",
     "output_type": "stream",
     "text": [
      "\tTest set: Loss: 1.339175 Acc: 72.714844 \n",
      "CIFAR Top1 Acc:  0.7271484375\n"
     ]
    }
   ],
   "source": [
    "\n",
    "##############################################################################################\n",
    "# CIFAR-10 classification WITHOUT differential privacy: Model, Optimizer, DataLoader\n",
    "##############################################################################################\n",
    "\n",
    "train_loader = DataLoader(train_dataset, batch_size=BATCH_SIZE, shuffle=True, num_workers=2)\n",
    "val_loader = DataLoader(val_dataset, batch_size=BATCH_SIZE, shuffle=False, num_workers=2)\n",
    "test_loader = DataLoader(test_dataset, batch_size=BATCH_SIZE, shuffle=False, num_workers=2)\n",
    "\n",
    "model_cifar = models.resnet18(num_classes=10)\n",
    "\n",
    "model_cifar = model_cifar.to(device)\n",
    "\n",
    "optimizer = optim.Adam(model_cifar.parameters(), lr=LR)\n",
    "\n",
    "for epoch in tqdm(range(EPOCHS), desc=\"Epoch\", unit=\"epoch\"):\n",
    "    train(model_cifar, train_loader, optimizer, epoch + 1, device)\n",
    "    if epoch % 5 == 0:\n",
    "        eval(model_cifar, val_loader, device)\n",
    "\n",
    "top1_acc_cifar = test(model_cifar, test_loader, device)\n",
    "print(\"CIFAR Top1 Acc: \", top1_acc_cifar)\n",
    "torch.save(model_cifar, 'cifar-10.pt')"
   ]
  },
  {
   "cell_type": "markdown",
   "metadata": {},
   "source": [
    "# Task 1b)"
   ]
  },
  {
   "cell_type": "code",
   "execution_count": 7,
   "metadata": {},
   "outputs": [],
   "source": [
    "from medmnist import BloodMNIST\n",
    "from medmnist import DermaMNIST\n",
    "from medmnist import OrganCMNIST"
   ]
  },
  {
   "cell_type": "code",
   "execution_count": 8,
   "metadata": {},
   "outputs": [
    {
     "name": "stdout",
     "output_type": "stream",
     "text": [
      "Using downloaded and verified file: /home/vietp/.medmnist/bloodmnist.npz\n",
      "Using downloaded and verified file: /home/vietp/.medmnist/bloodmnist.npz\n",
      "Using downloaded and verified file: /home/vietp/.medmnist/bloodmnist.npz\n",
      "Using downloaded and verified file: /home/vietp/.medmnist/dermamnist.npz\n",
      "Using downloaded and verified file: /home/vietp/.medmnist/dermamnist.npz\n",
      "Using downloaded and verified file: /home/vietp/.medmnist/dermamnist.npz\n",
      "Using downloaded and verified file: /home/vietp/.medmnist/organcmnist.npz\n",
      "Using downloaded and verified file: /home/vietp/.medmnist/organcmnist.npz\n",
      "Using downloaded and verified file: /home/vietp/.medmnist/organcmnist.npz\n"
     ]
    }
   ],
   "source": [
    "data_transform = transforms.Compose([\n",
    "    transforms.ToTensor(),\n",
    "    transforms.Normalize(mean=[.5], std=[.5])\n",
    "])\n",
    "\n",
    "train_dataset_blood = BloodMNIST(split='train', download=True, transform=data_transform, target_transform=transforms.Lambda(lambda y: y[0]))\n",
    "test_dataset_blood = BloodMNIST(split='test', download=True, transform=data_transform, target_transform=transforms.Lambda(lambda y: y[0]))\n",
    "val_dataset_blood = BloodMNIST(split='val', download=True, transform=data_transform, target_transform=transforms.Lambda(lambda y: y[0]))\n",
    "\n",
    "train_dataset_derma = DermaMNIST(split='train', download=True, transform=data_transform, target_transform=transforms.Lambda(lambda y: y[0]))\n",
    "test_dataset_derma = DermaMNIST(split='test', download=True, transform=data_transform, target_transform=transforms.Lambda(lambda y: y[0]))\n",
    "val_dataset_derma = DermaMNIST(split='val', download=True, transform=data_transform, target_transform=transforms.Lambda(lambda y: y[0]))\n",
    "\n",
    "train_dataset_organc = OrganCMNIST(split='train', download=True, transform=data_transform, target_transform=transforms.Lambda(lambda y: y[0]))\n",
    "test_dataset_organc = OrganCMNIST(split='test', download=True, transform=data_transform, target_transform=transforms.Lambda(lambda y: y[0]))\n",
    "val_dataset_organc = OrganCMNIST(split='val', download=True, transform=data_transform, target_transform=transforms.Lambda(lambda y: y[0]))"
   ]
  },
  {
   "cell_type": "markdown",
   "metadata": {},
   "source": [
    "## With differential privacy"
   ]
  },
  {
   "cell_type": "markdown",
   "metadata": {},
   "source": [
    "### BloodMNist"
   ]
  },
  {
   "cell_type": "code",
   "execution_count": 12,
   "metadata": {},
   "outputs": [
    {
     "name": "stdout",
     "output_type": "stream",
     "text": [
      "Before make_private(). Model:<class 'torchvision.models.resnet.ResNet'>, Optimizer:<class 'torch.optim.adam.Adam'>, DataLoader:<class 'torch.utils.data.dataloader.DataLoader'>\n",
      "Using sigma=0.3993988037109375 and C=1.2\n",
      "====================\n",
      "After make_private(). Model:<class 'opacus.grad_sample.grad_sample_module.GradSampleModule'>, Optimizer:<class 'opacus.optimizers.optimizer.DPOptimizer'>, DataLoader:<class 'opacus.data_loader.DPDataLoader'>\n"
     ]
    },
    {
     "name": "stderr",
     "output_type": "stream",
     "text": [
      "Epoch:   0%|          | 0/20 [00:00<?, ?epoch/s]"
     ]
    },
    {
     "name": "stdout",
     "output_type": "stream",
     "text": [
      "\tTrain Epoch: 1 \tLoss: 1.549079 Acc@1: 43.742945 (ε = 12.16, δ = 1e-05)\n"
     ]
    },
    {
     "name": "stderr",
     "output_type": "stream",
     "text": [
      "Epoch:   5%|▌         | 1/20 [00:25<08:11, 25.89s/epoch]"
     ]
    },
    {
     "name": "stdout",
     "output_type": "stream",
     "text": [
      "\tTrain Epoch: 2 \tLoss: 0.819487 Acc@1: 71.174798 (ε = 16.51, δ = 1e-05)\n"
     ]
    },
    {
     "name": "stderr",
     "output_type": "stream",
     "text": [
      "Epoch:  10%|█         | 2/20 [00:55<08:29, 28.33s/epoch]"
     ]
    },
    {
     "name": "stdout",
     "output_type": "stream",
     "text": [
      "\tTrain Epoch: 3 \tLoss: 0.780932 Acc@1: 74.768150 (ε = 19.72, δ = 1e-05)\n"
     ]
    },
    {
     "name": "stderr",
     "output_type": "stream",
     "text": [
      "Epoch:  15%|█▌        | 3/20 [01:24<08:00, 28.28s/epoch]"
     ]
    },
    {
     "name": "stdout",
     "output_type": "stream",
     "text": [
      "\tTrain Epoch: 4 \tLoss: 0.724873 Acc@1: 78.873109 (ε = 22.35, δ = 1e-05)\n"
     ]
    },
    {
     "name": "stderr",
     "output_type": "stream",
     "text": [
      "Epoch:  20%|██        | 4/20 [01:50<07:18, 27.41s/epoch]"
     ]
    },
    {
     "name": "stdout",
     "output_type": "stream",
     "text": [
      "\tTrain Epoch: 5 \tLoss: 0.725225 Acc@1: 81.009677 (ε = 24.64, δ = 1e-05)\n"
     ]
    },
    {
     "name": "stderr",
     "output_type": "stream",
     "text": [
      "Epoch:  25%|██▌       | 5/20 [02:16<06:43, 26.90s/epoch]"
     ]
    },
    {
     "name": "stdout",
     "output_type": "stream",
     "text": [
      "\tValidation set: Loss: 0.637709 Acc: 82.792208 \n",
      "\tTrain Epoch: 6 \tLoss: 0.702957 Acc@1: 81.932553 (ε = 26.79, δ = 1e-05)\n"
     ]
    },
    {
     "name": "stderr",
     "output_type": "stream",
     "text": [
      "Epoch:  30%|███       | 6/20 [02:44<06:23, 27.39s/epoch]"
     ]
    },
    {
     "name": "stdout",
     "output_type": "stream",
     "text": [
      "\tTrain Epoch: 7 \tLoss: 0.602520 Acc@1: 84.301306 (ε = 28.75, δ = 1e-05)\n",
      "\tTrain Epoch: 7 \tLoss: 0.633815 Acc@1: 84.181780 (ε = 29.73, δ = 1e-05)\n"
     ]
    },
    {
     "name": "stderr",
     "output_type": "stream",
     "text": [
      "Epoch:  35%|███▌      | 7/20 [03:12<05:56, 27.45s/epoch]"
     ]
    },
    {
     "name": "stdout",
     "output_type": "stream",
     "text": [
      "\tTrain Epoch: 8 \tLoss: 0.633346 Acc@1: 84.508419 (ε = 30.69, δ = 1e-05)\n"
     ]
    },
    {
     "name": "stderr",
     "output_type": "stream",
     "text": [
      "Epoch:  40%|████      | 8/20 [03:39<05:30, 27.56s/epoch]"
     ]
    },
    {
     "name": "stdout",
     "output_type": "stream",
     "text": [
      "\tTrain Epoch: 9 \tLoss: 0.601413 Acc@1: 85.664582 (ε = 32.50, δ = 1e-05)\n"
     ]
    },
    {
     "name": "stderr",
     "output_type": "stream",
     "text": [
      "Epoch:  45%|████▌     | 9/20 [04:06<04:59, 27.22s/epoch]"
     ]
    },
    {
     "name": "stdout",
     "output_type": "stream",
     "text": [
      "\tTrain Epoch: 10 \tLoss: 0.561899 Acc@1: 86.075795 (ε = 34.28, δ = 1e-05)\n"
     ]
    },
    {
     "name": "stderr",
     "output_type": "stream",
     "text": [
      "Epoch:  50%|█████     | 10/20 [04:32<04:28, 26.86s/epoch]"
     ]
    },
    {
     "name": "stdout",
     "output_type": "stream",
     "text": [
      "\tValidation set: Loss: 0.678484 Acc: 85.359172 \n",
      "\tTrain Epoch: 11 \tLoss: 0.579151 Acc@1: 86.200815 (ε = 35.92, δ = 1e-05)\n"
     ]
    },
    {
     "name": "stderr",
     "output_type": "stream",
     "text": [
      "Epoch:  55%|█████▌    | 11/20 [04:59<04:01, 26.82s/epoch]"
     ]
    },
    {
     "name": "stdout",
     "output_type": "stream",
     "text": [
      "\tTrain Epoch: 11 \tLoss: 0.559301 Acc@1: 86.631653 (ε = 36.75, δ = 1e-05)\n",
      "\tTrain Epoch: 12 \tLoss: 0.612547 Acc@1: 85.769288 (ε = 37.54, δ = 1e-05)\n"
     ]
    },
    {
     "name": "stderr",
     "output_type": "stream",
     "text": [
      "Epoch:  60%|██████    | 12/20 [05:35<03:58, 29.80s/epoch]"
     ]
    },
    {
     "name": "stdout",
     "output_type": "stream",
     "text": [
      "\tTrain Epoch: 13 \tLoss: 0.592180 Acc@1: 86.547252 (ε = 39.13, δ = 1e-05)\n"
     ]
    },
    {
     "name": "stderr",
     "output_type": "stream",
     "text": [
      "Epoch:  65%|██████▌   | 13/20 [06:10<03:38, 31.22s/epoch]"
     ]
    },
    {
     "name": "stdout",
     "output_type": "stream",
     "text": [
      "\tTrain Epoch: 14 \tLoss: 0.557982 Acc@1: 87.235868 (ε = 40.67, δ = 1e-05)\n",
      "\tTrain Epoch: 14 \tLoss: 0.574191 Acc@1: 86.690891 (ε = 41.41, δ = 1e-05)\n"
     ]
    },
    {
     "name": "stderr",
     "output_type": "stream",
     "text": [
      "Epoch:  70%|███████   | 14/20 [06:35<02:56, 29.50s/epoch]"
     ]
    },
    {
     "name": "stdout",
     "output_type": "stream",
     "text": [
      "\tTrain Epoch: 15 \tLoss: 0.542411 Acc@1: 87.755826 (ε = 42.21, δ = 1e-05)\n"
     ]
    },
    {
     "name": "stderr",
     "output_type": "stream",
     "text": [
      "Epoch:  75%|███████▌  | 15/20 [06:59<02:18, 27.66s/epoch]"
     ]
    },
    {
     "name": "stdout",
     "output_type": "stream",
     "text": [
      "\tValidation set: Loss: 0.662485 Acc: 86.307833 \n",
      "\tTrain Epoch: 16 \tLoss: 0.531658 Acc@1: 87.487151 (ε = 43.65, δ = 1e-05)\n"
     ]
    },
    {
     "name": "stderr",
     "output_type": "stream",
     "text": [
      "Epoch:  80%|████████  | 16/20 [07:24<01:47, 26.93s/epoch]"
     ]
    },
    {
     "name": "stdout",
     "output_type": "stream",
     "text": [
      "\tTrain Epoch: 16 \tLoss: 0.544333 Acc@1: 87.295274 (ε = 44.36, δ = 1e-05)\n",
      "\tTrain Epoch: 17 \tLoss: 0.566069 Acc@1: 87.310659 (ε = 45.13, δ = 1e-05)\n"
     ]
    },
    {
     "name": "stderr",
     "output_type": "stream",
     "text": [
      "Epoch:  85%|████████▌ | 17/20 [07:49<01:19, 26.45s/epoch]"
     ]
    },
    {
     "name": "stdout",
     "output_type": "stream",
     "text": [
      "\tTrain Epoch: 18 \tLoss: 0.568523 Acc@1: 87.273662 (ε = 46.52, δ = 1e-05)\n"
     ]
    },
    {
     "name": "stderr",
     "output_type": "stream",
     "text": [
      "Epoch:  90%|█████████ | 18/20 [08:15<00:52, 26.18s/epoch]"
     ]
    },
    {
     "name": "stdout",
     "output_type": "stream",
     "text": [
      "\tTrain Epoch: 18 \tLoss: 0.552697 Acc@1: 87.684789 (ε = 47.24, δ = 1e-05)\n",
      "\tTrain Epoch: 19 \tLoss: 0.520074 Acc@1: 88.282989 (ε = 47.92, δ = 1e-05)\n"
     ]
    },
    {
     "name": "stderr",
     "output_type": "stream",
     "text": [
      "Epoch:  95%|█████████▌| 19/20 [08:39<00:25, 25.67s/epoch]"
     ]
    },
    {
     "name": "stdout",
     "output_type": "stream",
     "text": [
      "\tTrain Epoch: 20 \tLoss: 0.530652 Acc@1: 87.705923 (ε = 49.30, δ = 1e-05)\n"
     ]
    },
    {
     "name": "stderr",
     "output_type": "stream",
     "text": [
      "Epoch: 100%|██████████| 20/20 [09:05<00:00, 27.29s/epoch]"
     ]
    },
    {
     "name": "stdout",
     "output_type": "stream",
     "text": [
      "\tValidation set: Loss: 0.665176 Acc: 86.429586 \n"
     ]
    },
    {
     "name": "stderr",
     "output_type": "stream",
     "text": [
      "\n"
     ]
    },
    {
     "name": "stdout",
     "output_type": "stream",
     "text": [
      "\tTest set: Loss: 0.687833 Acc: 85.245956 \n",
      "BloodMNIST DP Top1 Acc:  0.8524595574116743\n"
     ]
    }
   ],
   "source": [
    "##############################################################################################\n",
    "# BloodMNist image classification WITH differential privacy\n",
    "##############################################################################################\n",
    "\n",
    "train_loader_blood_dp = DataLoader(train_dataset_blood, batch_size=BATCH_SIZE, shuffle=True, num_workers=2)\n",
    "test_loader_blood_dp = DataLoader(test_dataset_blood, batch_size=BATCH_SIZE, shuffle=False, num_workers=2)\n",
    "val_loader_blood_dp = DataLoader(val_dataset_blood, batch_size=BATCH_SIZE, shuffle=False, num_workers=2)\n",
    "\n",
    "model_blood_dp = models.resnet18(num_classes=8)\n",
    "model_blood_dp = ModuleValidator.fix(model_blood_dp)\n",
    "ModuleValidator.validate(model_blood_dp, strict=False)\n",
    "\n",
    "model_blood_dp = model_blood_dp.to(device)\n",
    "\n",
    "optimizer_blood_dp = optim.Adam(model_blood_dp.parameters(), lr=LR)\n",
    "\n",
    "print(\n",
    "    f\"Before make_private(). \"\n",
    "    f\"Model:{type(model_blood_dp)}, Optimizer:{type(optimizer_blood_dp)}, DataLoader:{type(train_loader_blood_dp)}\"\n",
    ")\n",
    "\n",
    "# Now we initialize a privacy engine and attach it\n",
    "privacy_engine = PrivacyEngine()\n",
    "model_blood_dp, optimizer_blood_dp, train_loader_blood_dp = privacy_engine.make_private_with_epsilon(\n",
    "    module=model_blood_dp,\n",
    "    optimizer=optimizer_blood_dp,\n",
    "    data_loader=train_loader_blood_dp,\n",
    "    epochs=EPOCHS,\n",
    "    target_epsilon=EPSILON,\n",
    "    target_delta=DELTA,\n",
    "    max_grad_norm=MAX_GRAD_NORM,\n",
    ")\n",
    "print(f\"Using sigma={optimizer_blood_dp.noise_multiplier} and C={MAX_GRAD_NORM}\")\n",
    "\n",
    "print(\"=\"*20)\n",
    "\n",
    "print(\n",
    "    f\"After make_private(). \"\n",
    "    f\"Model:{type(model_blood_dp)}, Optimizer:{type(optimizer_blood_dp)}, DataLoader:{type(train_loader_blood_dp)}\"\n",
    ")\n",
    "# Now it's business as usual\n",
    "\n",
    "for epoch in tqdm(range(EPOCHS), desc=\"Epoch\", unit=\"epoch\"):\n",
    "    train_dp(model_blood_dp, train_loader_blood_dp, optimizer_blood_dp, epoch + 1, device, privacy_engine)\n",
    "    if (epoch + 1) % 5 == 0:\n",
    "        eval_dp(model_blood_dp, val_loader_blood_dp, device)\n",
    "\n",
    "top1_acc_blood_dp = test_dp(model_blood_dp, test_loader_blood_dp, device)\n",
    "print(\"BloodMNIST DP Top1 Acc: \", top1_acc_blood_dp)\n",
    "torch.save(model_blood_dp, 'bloodmnist_dp.pt')"
   ]
  },
  {
   "cell_type": "markdown",
   "metadata": {},
   "source": [
    "### DermaMNist"
   ]
  },
  {
   "cell_type": "code",
   "execution_count": 16,
   "metadata": {},
   "outputs": [
    {
     "name": "stdout",
     "output_type": "stream",
     "text": [
      "Before make_private(). Model:<class 'torchvision.models.resnet.ResNet'>, Optimizer:<class 'torch.optim.adam.Adam'>, DataLoader:<class 'torch.utils.data.dataloader.DataLoader'>\n",
      "Using sigma=0.42240142822265625 and C=1.2\n",
      "====================\n",
      "After make_private(). Model:<class 'opacus.grad_sample.grad_sample_module.GradSampleModule'>, Optimizer:<class 'opacus.optimizers.optimizer.DPOptimizer'>, DataLoader:<class 'opacus.data_loader.DPDataLoader'>\n"
     ]
    },
    {
     "name": "stderr",
     "output_type": "stream",
     "text": [
      "Epoch:   0%|          | 0/20 [00:00<?, ?epoch/s]"
     ]
    },
    {
     "name": "stdout",
     "output_type": "stream",
     "text": [
      "\tTrain Epoch: 1 \tLoss: 2.138626 Acc@1: 64.600440 (ε = 13.45, δ = 1e-05)\n"
     ]
    },
    {
     "name": "stderr",
     "output_type": "stream",
     "text": [
      "Epoch:   5%|▌         | 1/20 [00:44<13:56, 44.04s/epoch]"
     ]
    },
    {
     "name": "stdout",
     "output_type": "stream",
     "text": [
      "\tTrain Epoch: 2 \tLoss: 1.831852 Acc@1: 67.221568 (ε = 17.42, δ = 1e-05)\n"
     ]
    },
    {
     "name": "stderr",
     "output_type": "stream",
     "text": [
      "Epoch:  10%|█         | 2/20 [01:53<17:38, 58.78s/epoch]"
     ]
    },
    {
     "name": "stdout",
     "output_type": "stream",
     "text": [
      "\tTrain Epoch: 3 \tLoss: 1.557524 Acc@1: 68.588626 (ε = 20.26, δ = 1e-05)\n"
     ]
    },
    {
     "name": "stderr",
     "output_type": "stream",
     "text": [
      "Epoch:  15%|█▌        | 3/20 [03:09<18:54, 66.71s/epoch]"
     ]
    },
    {
     "name": "stdout",
     "output_type": "stream",
     "text": [
      "\tTrain Epoch: 4 \tLoss: 1.394017 Acc@1: 69.684858 (ε = 22.89, δ = 1e-05)\n"
     ]
    },
    {
     "name": "stderr",
     "output_type": "stream",
     "text": [
      "Epoch:  20%|██        | 4/20 [04:28<19:07, 71.74s/epoch]"
     ]
    },
    {
     "name": "stdout",
     "output_type": "stream",
     "text": [
      "\tTrain Epoch: 5 \tLoss: 1.341662 Acc@1: 70.772283 (ε = 25.17, δ = 1e-05)\n"
     ]
    },
    {
     "name": "stderr",
     "output_type": "stream",
     "text": [
      "Epoch:  25%|██▌       | 5/20 [05:49<18:45, 75.02s/epoch]"
     ]
    },
    {
     "name": "stdout",
     "output_type": "stream",
     "text": [
      "\tValidation set: Loss: 1.184325 Acc: 71.077543 \n",
      "\tTrain Epoch: 6 \tLoss: 1.274263 Acc@1: 71.082975 (ε = 27.28, δ = 1e-05)\n"
     ]
    },
    {
     "name": "stderr",
     "output_type": "stream",
     "text": [
      "Epoch:  30%|███       | 6/20 [06:47<16:09, 69.24s/epoch]"
     ]
    },
    {
     "name": "stdout",
     "output_type": "stream",
     "text": [
      "\tTrain Epoch: 7 \tLoss: 1.283951 Acc@1: 71.487215 (ε = 29.26, δ = 1e-05)\n"
     ]
    },
    {
     "name": "stderr",
     "output_type": "stream",
     "text": [
      "Epoch:  35%|███▌      | 7/20 [07:48<14:24, 66.46s/epoch]"
     ]
    },
    {
     "name": "stdout",
     "output_type": "stream",
     "text": [
      "\tTrain Epoch: 8 \tLoss: 1.262625 Acc@1: 72.284317 (ε = 31.14, δ = 1e-05)\n"
     ]
    },
    {
     "name": "stderr",
     "output_type": "stream",
     "text": [
      "Epoch:  40%|████      | 8/20 [09:10<14:15, 71.31s/epoch]"
     ]
    },
    {
     "name": "stdout",
     "output_type": "stream",
     "text": [
      "\tTrain Epoch: 9 \tLoss: 1.265029 Acc@1: 71.988841 (ε = 32.94, δ = 1e-05)\n"
     ]
    },
    {
     "name": "stderr",
     "output_type": "stream",
     "text": [
      "Epoch:  45%|████▌     | 9/20 [10:37<14:01, 76.50s/epoch]"
     ]
    },
    {
     "name": "stdout",
     "output_type": "stream",
     "text": [
      "\tTrain Epoch: 10 \tLoss: 1.247107 Acc@1: 72.732629 (ε = 34.68, δ = 1e-05)\n"
     ]
    },
    {
     "name": "stderr",
     "output_type": "stream",
     "text": [
      "Epoch:  50%|█████     | 10/20 [11:16<10:48, 64.88s/epoch]"
     ]
    },
    {
     "name": "stdout",
     "output_type": "stream",
     "text": [
      "\tValidation set: Loss: 1.220996 Acc: 70.545628 \n",
      "\tTrain Epoch: 11 \tLoss: 1.217624 Acc@1: 72.271537 (ε = 36.29, δ = 1e-05)\n"
     ]
    },
    {
     "name": "stderr",
     "output_type": "stream",
     "text": [
      "Epoch:  55%|█████▌    | 11/20 [11:46<08:05, 53.99s/epoch]"
     ]
    },
    {
     "name": "stdout",
     "output_type": "stream",
     "text": [
      "\tTrain Epoch: 12 \tLoss: 1.194932 Acc@1: 73.867553 (ε = 37.92, δ = 1e-05)\n"
     ]
    },
    {
     "name": "stderr",
     "output_type": "stream",
     "text": [
      "Epoch:  60%|██████    | 12/20 [12:07<05:53, 44.14s/epoch]"
     ]
    },
    {
     "name": "stdout",
     "output_type": "stream",
     "text": [
      "\tTrain Epoch: 13 \tLoss: 1.216901 Acc@1: 73.045838 (ε = 39.57, δ = 1e-05)\n"
     ]
    },
    {
     "name": "stderr",
     "output_type": "stream",
     "text": [
      "Epoch:  65%|██████▌   | 13/20 [12:35<04:34, 39.24s/epoch]"
     ]
    },
    {
     "name": "stdout",
     "output_type": "stream",
     "text": [
      "\tTrain Epoch: 14 \tLoss: 1.209949 Acc@1: 72.947826 (ε = 41.11, δ = 1e-05)\n"
     ]
    },
    {
     "name": "stderr",
     "output_type": "stream",
     "text": [
      "Epoch:  70%|███████   | 14/20 [13:14<03:54, 39.04s/epoch]"
     ]
    },
    {
     "name": "stdout",
     "output_type": "stream",
     "text": [
      "\tTrain Epoch: 15 \tLoss: 1.209074 Acc@1: 72.621498 (ε = 42.63, δ = 1e-05)\n"
     ]
    },
    {
     "name": "stderr",
     "output_type": "stream",
     "text": [
      "Epoch:  75%|███████▌  | 15/20 [13:54<03:16, 39.35s/epoch]"
     ]
    },
    {
     "name": "stdout",
     "output_type": "stream",
     "text": [
      "\tValidation set: Loss: 1.312541 Acc: 71.965176 \n",
      "\tTrain Epoch: 16 \tLoss: 1.176505 Acc@1: 73.938202 (ε = 44.11, δ = 1e-05)\n"
     ]
    },
    {
     "name": "stderr",
     "output_type": "stream",
     "text": [
      "Epoch:  80%|████████  | 16/20 [14:19<02:20, 35.16s/epoch]"
     ]
    },
    {
     "name": "stdout",
     "output_type": "stream",
     "text": [
      "\tTrain Epoch: 17 \tLoss: 1.101625 Acc@1: 75.642576 (ε = 45.52, δ = 1e-05)\n"
     ]
    },
    {
     "name": "stderr",
     "output_type": "stream",
     "text": [
      "Epoch:  85%|████████▌ | 17/20 [14:45<01:36, 32.21s/epoch]"
     ]
    },
    {
     "name": "stdout",
     "output_type": "stream",
     "text": [
      "\tTrain Epoch: 18 \tLoss: 1.216649 Acc@1: 73.566993 (ε = 47.00, δ = 1e-05)\n"
     ]
    },
    {
     "name": "stderr",
     "output_type": "stream",
     "text": [
      "Epoch:  90%|█████████ | 18/20 [15:09<00:59, 29.74s/epoch]"
     ]
    },
    {
     "name": "stdout",
     "output_type": "stream",
     "text": [
      "\tTrain Epoch: 19 \tLoss: 1.116342 Acc@1: 75.157580 (ε = 48.41, δ = 1e-05)\n"
     ]
    },
    {
     "name": "stderr",
     "output_type": "stream",
     "text": [
      "Epoch:  95%|█████████▌| 19/20 [15:32<00:27, 27.86s/epoch]"
     ]
    },
    {
     "name": "stdout",
     "output_type": "stream",
     "text": [
      "\tTrain Epoch: 20 \tLoss: 1.195714 Acc@1: 74.188244 (ε = 49.75, δ = 1e-05)\n"
     ]
    },
    {
     "name": "stderr",
     "output_type": "stream",
     "text": [
      "Epoch: 100%|██████████| 20/20 [15:55<00:00, 47.77s/epoch]"
     ]
    },
    {
     "name": "stdout",
     "output_type": "stream",
     "text": [
      "\tValidation set: Loss: 1.181695 Acc: 72.080286 \n"
     ]
    },
    {
     "name": "stderr",
     "output_type": "stream",
     "text": [
      "\n"
     ]
    },
    {
     "name": "stdout",
     "output_type": "stream",
     "text": [
      "\tTest set: Loss: 1.210802 Acc: 71.458700 \n",
      "DermaMNIST DP Top1 Acc:  0.714587001173709\n"
     ]
    }
   ],
   "source": [
    "##############################################################################################\n",
    "# DermaMNist image classification WITH differential privacy\n",
    "##############################################################################################\n",
    "\n",
    "train_loader_derma_dp = DataLoader(train_dataset_derma, batch_size=BATCH_SIZE, shuffle=True, num_workers=2)\n",
    "test_loader_derma_dp = DataLoader(test_dataset_derma, batch_size=BATCH_SIZE, shuffle=False, num_workers=2)\n",
    "val_loader_derma_dp = DataLoader(val_dataset_derma, batch_size=BATCH_SIZE, shuffle=False, num_workers=2)\n",
    "\n",
    "model_derma_dp = models.resnet18(num_classes=7)\n",
    "model_derma_dp = ModuleValidator.fix(model_derma_dp)\n",
    "ModuleValidator.validate(model_derma_dp, strict=False)\n",
    "\n",
    "model_derma_dp = model_derma_dp.to(device)\n",
    "\n",
    "optimizer_derma_dp = optim.Adam(model_derma_dp.parameters(), lr=LR)\n",
    "\n",
    "print(\n",
    "    f\"Before make_private(). \"\n",
    "    f\"Model:{type(model_derma_dp)}, Optimizer:{type(optimizer_derma_dp)}, DataLoader:{type(train_loader_derma_dp)}\"\n",
    ")\n",
    "\n",
    "# Now we initialize a privacy engine and attach it\n",
    "privacy_engine = PrivacyEngine()\n",
    "model_derma_dp, optimizer_derma_dp, train_loader_derma_dp = privacy_engine.make_private_with_epsilon(\n",
    "    module=model_derma_dp,\n",
    "    optimizer=optimizer_derma_dp,\n",
    "    data_loader=train_loader_derma_dp,\n",
    "    epochs=EPOCHS,\n",
    "    target_epsilon=EPSILON,\n",
    "    target_delta=DELTA,\n",
    "    max_grad_norm=MAX_GRAD_NORM,\n",
    ")\n",
    "print(f\"Using sigma={optimizer_derma_dp.noise_multiplier} and C={MAX_GRAD_NORM}\")\n",
    "\n",
    "print(\"=\"*20)\n",
    "\n",
    "print(\n",
    "    f\"After make_private(). \"\n",
    "    f\"Model:{type(model_derma_dp)}, Optimizer:{type(optimizer_derma_dp)}, DataLoader:{type(train_loader_derma_dp)}\"\n",
    ")\n",
    "# Now it's business as usual\n",
    "\n",
    "for epoch in tqdm(range(EPOCHS), desc=\"Epoch\", unit=\"epoch\"):\n",
    "    train_dp(model_derma_dp, train_loader_derma_dp, optimizer_derma_dp, epoch + 1, device, privacy_engine)\n",
    "    if (epoch + 1) % 5 == 0:\n",
    "        eval_dp(model_derma_dp, val_loader_derma_dp, device)\n",
    "\n",
    "top1_acc_derma_dp = test_dp(model_derma_dp, test_loader_derma_dp, device)\n",
    "print(\"DermaMNIST DP Top1 Acc: \", top1_acc_derma_dp)\n",
    "torch.save(model_derma_dp, 'dermamnist_dp.pt')"
   ]
  },
  {
   "cell_type": "markdown",
   "metadata": {},
   "source": [
    "### OrganCMNist"
   ]
  },
  {
   "cell_type": "code",
   "execution_count": 30,
   "metadata": {},
   "outputs": [
    {
     "name": "stdout",
     "output_type": "stream",
     "text": [
      "Before make_private(). Model:<class 'torchvision.models.resnet.ResNet'>, Optimizer:<class 'torch.optim.adam.Adam'>, DataLoader:<class 'torch.utils.data.dataloader.DataLoader'>\n",
      "Using sigma=0.3960609436035156 and C=1.2\n",
      "====================\n",
      "After make_private(). Model:<class 'opacus.grad_sample.grad_sample_module.GradSampleModule'>, Optimizer:<class 'opacus.optimizers.optimizer.DPOptimizer'>, DataLoader:<class 'opacus.data_loader.DPDataLoader'>\n"
     ]
    },
    {
     "name": "stderr",
     "output_type": "stream",
     "text": [
      "Epoch:   0%|          | 0/20 [00:00<?, ?epoch/s]"
     ]
    },
    {
     "name": "stdout",
     "output_type": "stream",
     "text": [
      "\tTrain Epoch: 1 \tLoss: 1.884247 Acc@1: 37.626651 (ε = 11.97, δ = 1e-05)\n",
      "\tTrain Epoch: 1 \tLoss: 1.561748 Acc@1: 49.655508 (ε = 14.32, δ = 1e-05)\n"
     ]
    },
    {
     "name": "stderr",
     "output_type": "stream",
     "text": [
      "Epoch:   5%|▌         | 1/20 [00:25<08:06, 25.63s/epoch]"
     ]
    },
    {
     "name": "stdout",
     "output_type": "stream",
     "text": [
      "\tTrain Epoch: 2 \tLoss: 0.886663 Acc@1: 73.358412 (ε = 16.43, δ = 1e-05)\n",
      "\tTrain Epoch: 2 \tLoss: 0.844598 Acc@1: 74.604571 (ε = 18.01, δ = 1e-05)\n"
     ]
    },
    {
     "name": "stderr",
     "output_type": "stream",
     "text": [
      "Epoch:  10%|█         | 2/20 [00:51<07:48, 26.04s/epoch]"
     ]
    },
    {
     "name": "stdout",
     "output_type": "stream",
     "text": [
      "\tTrain Epoch: 3 \tLoss: 0.748758 Acc@1: 79.143306 (ε = 19.60, δ = 1e-05)\n",
      "\tTrain Epoch: 3 \tLoss: 0.738141 Acc@1: 79.472306 (ε = 20.90, δ = 1e-05)\n"
     ]
    },
    {
     "name": "stderr",
     "output_type": "stream",
     "text": [
      "Epoch:  15%|█▌        | 3/20 [01:20<07:44, 27.35s/epoch]"
     ]
    },
    {
     "name": "stdout",
     "output_type": "stream",
     "text": [
      "\tTrain Epoch: 4 \tLoss: 0.658452 Acc@1: 82.286365 (ε = 22.25, δ = 1e-05)\n",
      "\tTrain Epoch: 4 \tLoss: 0.649801 Acc@1: 82.629189 (ε = 23.43, δ = 1e-05)\n"
     ]
    },
    {
     "name": "stderr",
     "output_type": "stream",
     "text": [
      "Epoch:  20%|██        | 4/20 [01:46<07:08, 26.76s/epoch]"
     ]
    },
    {
     "name": "stdout",
     "output_type": "stream",
     "text": [
      "\tTrain Epoch: 5 \tLoss: 0.664252 Acc@1: 82.490574 (ε = 24.60, δ = 1e-05)\n",
      "\tTrain Epoch: 5 \tLoss: 0.636809 Acc@1: 83.061438 (ε = 25.63, δ = 1e-05)\n"
     ]
    },
    {
     "name": "stderr",
     "output_type": "stream",
     "text": [
      "Epoch:  25%|██▌       | 5/20 [02:14<06:46, 27.13s/epoch]"
     ]
    },
    {
     "name": "stdout",
     "output_type": "stream",
     "text": [
      "\tValidation set: Loss: 0.308663 Acc: 91.896307 \n",
      "\tTrain Epoch: 6 \tLoss: 0.574448 Acc@1: 84.883767 (ε = 26.75, δ = 1e-05)\n",
      "\tTrain Epoch: 6 \tLoss: 0.601953 Acc@1: 84.452454 (ε = 27.75, δ = 1e-05)\n"
     ]
    },
    {
     "name": "stderr",
     "output_type": "stream",
     "text": [
      "Epoch:  30%|███       | 6/20 [02:42<06:22, 27.33s/epoch]"
     ]
    },
    {
     "name": "stdout",
     "output_type": "stream",
     "text": [
      "\tTrain Epoch: 7 \tLoss: 0.588768 Acc@1: 85.078714 (ε = 28.76, δ = 1e-05)\n",
      "\tTrain Epoch: 7 \tLoss: 0.577160 Acc@1: 85.412639 (ε = 29.63, δ = 1e-05)\n"
     ]
    },
    {
     "name": "stderr",
     "output_type": "stream",
     "text": [
      "Epoch:  35%|███▌      | 7/20 [03:11<06:04, 28.06s/epoch]"
     ]
    },
    {
     "name": "stdout",
     "output_type": "stream",
     "text": [
      "\tTrain Epoch: 8 \tLoss: 0.540130 Acc@1: 86.533949 (ε = 30.66, δ = 1e-05)\n",
      "\tTrain Epoch: 8 \tLoss: 0.562434 Acc@1: 86.112625 (ε = 31.52, δ = 1e-05)\n"
     ]
    },
    {
     "name": "stderr",
     "output_type": "stream",
     "text": [
      "Epoch:  40%|████      | 8/20 [03:40<05:39, 28.31s/epoch]"
     ]
    },
    {
     "name": "stdout",
     "output_type": "stream",
     "text": [
      "\tTrain Epoch: 9 \tLoss: 0.516778 Acc@1: 87.011494 (ε = 32.47, δ = 1e-05)\n",
      "\tTrain Epoch: 9 \tLoss: 0.510077 Acc@1: 87.081743 (ε = 33.29, δ = 1e-05)\n"
     ]
    },
    {
     "name": "stderr",
     "output_type": "stream",
     "text": [
      "Epoch:  45%|████▌     | 9/20 [04:07<05:08, 28.01s/epoch]"
     ]
    },
    {
     "name": "stdout",
     "output_type": "stream",
     "text": [
      "\tTrain Epoch: 10 \tLoss: 0.537439 Acc@1: 86.905108 (ε = 34.17, δ = 1e-05)\n",
      "\tTrain Epoch: 10 \tLoss: 0.516779 Acc@1: 87.131309 (ε = 34.97, δ = 1e-05)\n"
     ]
    },
    {
     "name": "stderr",
     "output_type": "stream",
     "text": [
      "Epoch:  50%|█████     | 10/20 [04:35<04:39, 27.93s/epoch]"
     ]
    },
    {
     "name": "stdout",
     "output_type": "stream",
     "text": [
      "\tValidation set: Loss: 0.304126 Acc: 92.638494 \n",
      "\tTrain Epoch: 11 \tLoss: 0.509509 Acc@1: 87.506010 (ε = 35.88, δ = 1e-05)\n",
      "\tTrain Epoch: 11 \tLoss: 0.507080 Acc@1: 87.610035 (ε = 36.66, δ = 1e-05)\n"
     ]
    },
    {
     "name": "stderr",
     "output_type": "stream",
     "text": [
      "Epoch:  55%|█████▌    | 11/20 [05:03<04:12, 28.02s/epoch]"
     ]
    },
    {
     "name": "stdout",
     "output_type": "stream",
     "text": [
      "\tTrain Epoch: 12 \tLoss: 0.532625 Acc@1: 87.281137 (ε = 37.51, δ = 1e-05)\n",
      "\tTrain Epoch: 12 \tLoss: 0.532540 Acc@1: 86.913862 (ε = 38.23, δ = 1e-05)\n"
     ]
    },
    {
     "name": "stderr",
     "output_type": "stream",
     "text": [
      "Epoch:  60%|██████    | 12/20 [05:30<03:41, 27.70s/epoch]"
     ]
    },
    {
     "name": "stdout",
     "output_type": "stream",
     "text": [
      "\tTrain Epoch: 13 \tLoss: 0.482056 Acc@1: 87.897992 (ε = 39.09, δ = 1e-05)\n",
      "\tTrain Epoch: 13 \tLoss: 0.484342 Acc@1: 87.703180 (ε = 39.82, δ = 1e-05)\n"
     ]
    },
    {
     "name": "stderr",
     "output_type": "stream",
     "text": [
      "Epoch:  65%|██████▌   | 13/20 [05:58<03:12, 27.56s/epoch]"
     ]
    },
    {
     "name": "stdout",
     "output_type": "stream",
     "text": [
      "\tTrain Epoch: 14 \tLoss: 0.467110 Acc@1: 88.024946 (ε = 40.63, δ = 1e-05)\n",
      "\tTrain Epoch: 14 \tLoss: 0.463664 Acc@1: 88.193034 (ε = 41.34, δ = 1e-05)\n"
     ]
    },
    {
     "name": "stderr",
     "output_type": "stream",
     "text": [
      "Epoch:  70%|███████   | 14/20 [06:27<02:49, 28.18s/epoch]"
     ]
    },
    {
     "name": "stdout",
     "output_type": "stream",
     "text": [
      "\tTrain Epoch: 15 \tLoss: 0.459577 Acc@1: 88.289379 (ε = 42.14, δ = 1e-05)\n",
      "\tTrain Epoch: 15 \tLoss: 0.468064 Acc@1: 88.046705 (ε = 42.81, δ = 1e-05)\n"
     ]
    },
    {
     "name": "stderr",
     "output_type": "stream",
     "text": [
      "Epoch:  75%|███████▌  | 15/20 [06:57<02:23, 28.64s/epoch]"
     ]
    },
    {
     "name": "stdout",
     "output_type": "stream",
     "text": [
      "\tValidation set: Loss: 0.276926 Acc: 93.689631 \n",
      "\tTrain Epoch: 16 \tLoss: 0.428346 Acc@1: 89.036142 (ε = 43.61, δ = 1e-05)\n",
      "\tTrain Epoch: 16 \tLoss: 0.449266 Acc@1: 88.500723 (ε = 44.30, δ = 1e-05)\n"
     ]
    },
    {
     "name": "stderr",
     "output_type": "stream",
     "text": [
      "Epoch:  80%|████████  | 16/20 [07:27<01:56, 29.13s/epoch]"
     ]
    },
    {
     "name": "stdout",
     "output_type": "stream",
     "text": [
      "\tTrain Epoch: 17 \tLoss: 0.427587 Acc@1: 88.989563 (ε = 45.06, δ = 1e-05)\n",
      "\tTrain Epoch: 17 \tLoss: 0.439443 Acc@1: 88.924767 (ε = 45.73, δ = 1e-05)\n"
     ]
    },
    {
     "name": "stderr",
     "output_type": "stream",
     "text": [
      "Epoch:  85%|████████▌ | 17/20 [07:58<01:29, 29.72s/epoch]"
     ]
    },
    {
     "name": "stdout",
     "output_type": "stream",
     "text": [
      "\tTrain Epoch: 18 \tLoss: 0.446232 Acc@1: 88.590159 (ε = 46.51, δ = 1e-05)\n",
      "\tTrain Epoch: 18 \tLoss: 0.458398 Acc@1: 88.319416 (ε = 47.14, δ = 1e-05)\n"
     ]
    },
    {
     "name": "stderr",
     "output_type": "stream",
     "text": [
      "Epoch:  90%|█████████ | 18/20 [08:29<00:59, 29.93s/epoch]"
     ]
    },
    {
     "name": "stdout",
     "output_type": "stream",
     "text": [
      "\tTrain Epoch: 19 \tLoss: 0.425082 Acc@1: 89.498798 (ε = 47.90, δ = 1e-05)\n",
      "\tTrain Epoch: 19 \tLoss: 0.446647 Acc@1: 88.865690 (ε = 48.52, δ = 1e-05)\n"
     ]
    },
    {
     "name": "stderr",
     "output_type": "stream",
     "text": [
      "Epoch:  95%|█████████▌| 19/20 [09:00<00:30, 30.30s/epoch]"
     ]
    },
    {
     "name": "stdout",
     "output_type": "stream",
     "text": [
      "\tTrain Epoch: 20 \tLoss: 0.457720 Acc@1: 89.134749 (ε = 49.25, δ = 1e-05)\n",
      "\tTrain Epoch: 20 \tLoss: 0.453955 Acc@1: 89.035333 (ε = 49.89, δ = 1e-05)\n"
     ]
    },
    {
     "name": "stderr",
     "output_type": "stream",
     "text": [
      "Epoch: 100%|██████████| 20/20 [09:29<00:00, 28.47s/epoch]"
     ]
    },
    {
     "name": "stdout",
     "output_type": "stream",
     "text": [
      "\tValidation set: Loss: 0.294469 Acc: 93.796165 \n"
     ]
    },
    {
     "name": "stderr",
     "output_type": "stream",
     "text": [
      "\n"
     ]
    },
    {
     "name": "stdout",
     "output_type": "stream",
     "text": [
      "\tTest set: Loss: 1.038518 Acc: 78.592255 \n",
      "OrganCMNIST DP Top1 Acc:  0.78592254784689\n"
     ]
    }
   ],
   "source": [
    "##############################################################################################\n",
    "# OrganCMNist image classification WITH differential privacy\n",
    "##############################################################################################\n",
    "\n",
    "train_loader_organc_dp = DataLoader(train_dataset_organc, batch_size=BATCH_SIZE, shuffle=True, num_workers=2)\n",
    "test_loader_organc_dp = DataLoader(test_dataset_organc, batch_size=BATCH_SIZE, shuffle=False, num_workers=2)\n",
    "val_loader_organc_dp = DataLoader(val_dataset_organc, batch_size=BATCH_SIZE, shuffle=False, num_workers=2)\n",
    "\n",
    "model_organc_dp = models.resnet18(num_classes=11)\n",
    "model_organc_dp.conv1 = nn.Conv2d(1, 64, kernel_size=7, stride=2, padding=3, bias=False)\n",
    "\n",
    "model_organc_dp = ModuleValidator.fix(model_organc_dp)\n",
    "ModuleValidator.validate(model_organc_dp, strict=False)\n",
    "\n",
    "model_organc_dp = model_organc_dp.to(device)\n",
    "\n",
    "optimizer_organc_dp = optim.Adam(model_organc_dp.parameters(), lr=LR)\n",
    "\n",
    "print(\n",
    "    f\"Before make_private(). \"\n",
    "    f\"Model:{type(model_organc_dp)}, Optimizer:{type(optimizer_organc_dp)}, DataLoader:{type(train_loader_organc_dp)}\"\n",
    ")\n",
    "\n",
    "# Now we initialize a privacy engine and attach it\n",
    "privacy_engine = PrivacyEngine()\n",
    "model_organc_dp, optimizer_organc_dp, train_loader_organc_dp = privacy_engine.make_private_with_epsilon(\n",
    "    module=model_organc_dp,\n",
    "    optimizer=optimizer_organc_dp,\n",
    "    data_loader=train_loader_organc_dp,\n",
    "    epochs=EPOCHS,\n",
    "    target_epsilon=EPSILON,\n",
    "    target_delta=DELTA,\n",
    "    max_grad_norm=MAX_GRAD_NORM,\n",
    ")\n",
    "print(f\"Using sigma={optimizer_organc_dp.noise_multiplier} and C={MAX_GRAD_NORM}\")\n",
    "\n",
    "print(\"=\"*20)\n",
    "\n",
    "print(\n",
    "    f\"After make_private(). \"\n",
    "    f\"Model:{type(model_organc_dp)}, Optimizer:{type(optimizer_organc_dp)}, DataLoader:{type(train_loader_organc_dp)}\"\n",
    ")\n",
    "# Now it's business as usual\n",
    "\n",
    "for epoch in tqdm(range(EPOCHS), desc=\"Epoch\", unit=\"epoch\"):\n",
    "    train_dp(model_organc_dp, train_loader_organc_dp, optimizer_organc_dp, epoch + 1, device, privacy_engine)\n",
    "    if (epoch + 1) % 5 == 0:\n",
    "        eval_dp(model_organc_dp, val_loader_organc_dp, device)\n",
    "\n",
    "top1_acc_organc_dp = test_dp(model_organc_dp, test_loader_organc_dp, device)\n",
    "print(\"OrganCMNIST DP Top1 Acc: \", top1_acc_organc_dp)\n",
    "torch.save(model_organc_dp, 'organcmnist_dp.pt')"
   ]
  },
  {
   "cell_type": "markdown",
   "metadata": {},
   "source": [
    "## Without differential privacy"
   ]
  },
  {
   "cell_type": "markdown",
   "metadata": {},
   "source": [
    "### BloodMNist"
   ]
  },
  {
   "cell_type": "code",
   "execution_count": 25,
   "metadata": {},
   "outputs": [
    {
     "name": "stderr",
     "output_type": "stream",
     "text": [
      "Epoch:   5%|▌         | 1/20 [00:02<00:51,  2.70s/epoch]"
     ]
    },
    {
     "name": "stdout",
     "output_type": "stream",
     "text": [
      "\tValidation set: Loss: 0.757498 Acc: 72.909903 \n"
     ]
    },
    {
     "name": "stderr",
     "output_type": "stream",
     "text": [
      "Epoch:  30%|███       | 6/20 [00:14<00:33,  2.37s/epoch]"
     ]
    },
    {
     "name": "stdout",
     "output_type": "stream",
     "text": [
      "\tValidation set: Loss: 0.397067 Acc: 87.205763 \n"
     ]
    },
    {
     "name": "stderr",
     "output_type": "stream",
     "text": [
      "Epoch:  55%|█████▌    | 11/20 [00:26<00:22,  2.49s/epoch]"
     ]
    },
    {
     "name": "stdout",
     "output_type": "stream",
     "text": [
      "\tValidation set: Loss: 0.414685 Acc: 88.139205 \n"
     ]
    },
    {
     "name": "stderr",
     "output_type": "stream",
     "text": [
      "Epoch:  80%|████████  | 16/20 [00:38<00:10,  2.52s/epoch]"
     ]
    },
    {
     "name": "stdout",
     "output_type": "stream",
     "text": [
      "\tValidation set: Loss: 0.432387 Acc: 89.311080 \n"
     ]
    },
    {
     "name": "stderr",
     "output_type": "stream",
     "text": [
      "Epoch: 100%|██████████| 20/20 [00:48<00:00,  2.44s/epoch]\n"
     ]
    },
    {
     "name": "stdout",
     "output_type": "stream",
     "text": [
      "\tTest set: Loss: 0.387899 Acc: 90.547595 \n",
      "BloodMNIST Top1 Acc:  0.9054759504608294\n"
     ]
    }
   ],
   "source": [
    "##############################################################################################\n",
    "# BloodMNist image classification WITHOUT differential privacy: Model, Optimizer, DataLoader\n",
    "##############################################################################################\n",
    "\n",
    "train_loader_blood = DataLoader(train_dataset_blood, batch_size=BATCH_SIZE, shuffle=True, num_workers=2)\n",
    "test_loader_blood = DataLoader(test_dataset_blood, batch_size=BATCH_SIZE, shuffle=False, num_workers=2)\n",
    "val_loader_blood = DataLoader(val_dataset_blood, batch_size=BATCH_SIZE, shuffle=False, num_workers=2)\n",
    "\n",
    "model_blood = models.resnet18(num_classes=8)\n",
    "\n",
    "model_blood = model_blood.to(device)\n",
    "\n",
    "optimizer_blood = optim.Adam(model_blood.parameters(), lr=LR)\n",
    "\n",
    "for epoch in tqdm(range(EPOCHS), desc=\"Epoch\", unit=\"epoch\"):\n",
    "    train(model_blood, train_loader_blood, optimizer_blood, epoch + 1, device)\n",
    "    if epoch % 5 == 0:\n",
    "        eval(model_blood, val_loader_blood, device)\n",
    "\n",
    "top1_acc_blood = test(model_blood, test_loader_blood, device)\n",
    "print(\"BloodMNIST Top1 Acc: \", top1_acc_blood)\n",
    "torch.save(model_blood, 'bloodmnist.pt')"
   ]
  },
  {
   "cell_type": "markdown",
   "metadata": {},
   "source": [
    "### DermaMNist"
   ]
  },
  {
   "cell_type": "code",
   "execution_count": 26,
   "metadata": {},
   "outputs": [
    {
     "name": "stderr",
     "output_type": "stream",
     "text": [
      "Epoch:   5%|▌         | 1/20 [00:01<00:32,  1.71s/epoch]"
     ]
    },
    {
     "name": "stdout",
     "output_type": "stream",
     "text": [
      "\tValidation set: Loss: 1.003484 Acc: 65.601729 \n"
     ]
    },
    {
     "name": "stderr",
     "output_type": "stream",
     "text": [
      "Epoch:  30%|███       | 6/20 [00:09<00:22,  1.61s/epoch]"
     ]
    },
    {
     "name": "stdout",
     "output_type": "stream",
     "text": [
      "\tValidation set: Loss: 0.843521 Acc: 69.028424 \n"
     ]
    },
    {
     "name": "stderr",
     "output_type": "stream",
     "text": [
      "Epoch:  55%|█████▌    | 11/20 [00:17<00:14,  1.58s/epoch]"
     ]
    },
    {
     "name": "stdout",
     "output_type": "stream",
     "text": [
      "\tValidation set: Loss: 0.932363 Acc: 74.947224 \n"
     ]
    },
    {
     "name": "stderr",
     "output_type": "stream",
     "text": [
      "Epoch:  80%|████████  | 16/20 [00:24<00:06,  1.55s/epoch]"
     ]
    },
    {
     "name": "stdout",
     "output_type": "stream",
     "text": [
      "\tValidation set: Loss: 0.939870 Acc: 76.828873 \n"
     ]
    },
    {
     "name": "stderr",
     "output_type": "stream",
     "text": [
      "Epoch: 100%|██████████| 20/20 [00:30<00:00,  1.54s/epoch]\n"
     ]
    },
    {
     "name": "stdout",
     "output_type": "stream",
     "text": [
      "\tTest set: Loss: 1.210837 Acc: 73.851737 \n",
      "DermaMNIST Top1 Acc:  0.7385173672241784\n"
     ]
    }
   ],
   "source": [
    "##############################################################################################\n",
    "# DermaMNist image classification WITHOUT differential privacy: Model, Optimizer, DataLoader\n",
    "##############################################################################################\n",
    "\n",
    "train_loader_derma = DataLoader(train_dataset_derma, batch_size=BATCH_SIZE, shuffle=True, num_workers=2)\n",
    "test_loader_derma = DataLoader(test_dataset_derma, batch_size=BATCH_SIZE, shuffle=False, num_workers=2)\n",
    "val_loader_derma = DataLoader(val_dataset_derma, batch_size=BATCH_SIZE, shuffle=False, num_workers=2)\n",
    "\n",
    "model_derma = models.resnet18(num_classes=7)\n",
    "\n",
    "model_derma = model_derma.to(device)\n",
    "\n",
    "optimizer_derma = optim.Adam(model_derma.parameters(), lr=LR)\n",
    "\n",
    "for epoch in tqdm(range(EPOCHS), desc=\"Epoch\", unit=\"epoch\"):\n",
    "    train(model_derma, train_loader_derma, optimizer_derma, epoch + 1, device)\n",
    "    if epoch % 5 == 0:\n",
    "        eval(model_derma, val_loader_derma, device)\n",
    "\n",
    "top1_acc_derma = test(model_derma, test_loader_derma, device)\n",
    "print(\"DermaMNIST Top1 Acc: \", top1_acc_derma)\n",
    "torch.save(model_derma, 'dermamnist.pt')"
   ]
  },
  {
   "cell_type": "markdown",
   "metadata": {},
   "source": [
    "### OrganCMNist"
   ]
  },
  {
   "cell_type": "code",
   "execution_count": 34,
   "metadata": {},
   "outputs": [
    {
     "name": "stderr",
     "output_type": "stream",
     "text": [
      "Epoch:   0%|          | 0/20 [00:00<?, ?epoch/s]"
     ]
    },
    {
     "name": "stdout",
     "output_type": "stream",
     "text": [
      "\tTrain Epoch: 1 \tLoss: 0.508720 Acc@1: 82.578125 \n"
     ]
    },
    {
     "name": "stderr",
     "output_type": "stream",
     "text": [
      "Epoch:   5%|▌         | 1/20 [00:02<00:54,  2.85s/epoch]"
     ]
    },
    {
     "name": "stdout",
     "output_type": "stream",
     "text": [
      "\tValidation set: Loss: 0.323220 Acc: 92.475142 \n"
     ]
    },
    {
     "name": "stderr",
     "output_type": "stream",
     "text": [
      "Epoch:  10%|█         | 2/20 [00:05<00:47,  2.64s/epoch]"
     ]
    },
    {
     "name": "stdout",
     "output_type": "stream",
     "text": [
      "\tTrain Epoch: 2 \tLoss: 0.179968 Acc@1: 93.687500 \n"
     ]
    },
    {
     "name": "stderr",
     "output_type": "stream",
     "text": [
      "Epoch:  15%|█▌        | 3/20 [00:07<00:43,  2.57s/epoch]"
     ]
    },
    {
     "name": "stdout",
     "output_type": "stream",
     "text": [
      "\tTrain Epoch: 3 \tLoss: 0.114113 Acc@1: 95.992188 \n"
     ]
    },
    {
     "name": "stderr",
     "output_type": "stream",
     "text": [
      "Epoch:  20%|██        | 4/20 [00:10<00:41,  2.57s/epoch]"
     ]
    },
    {
     "name": "stdout",
     "output_type": "stream",
     "text": [
      "\tTrain Epoch: 4 \tLoss: 0.084632 Acc@1: 97.093750 \n"
     ]
    },
    {
     "name": "stderr",
     "output_type": "stream",
     "text": [
      "Epoch:  25%|██▌       | 5/20 [00:12<00:38,  2.53s/epoch]"
     ]
    },
    {
     "name": "stdout",
     "output_type": "stream",
     "text": [
      "\tTrain Epoch: 5 \tLoss: 0.084615 Acc@1: 97.156250 \n",
      "\tTrain Epoch: 6 \tLoss: 0.058153 Acc@1: 97.859375 \n"
     ]
    },
    {
     "name": "stderr",
     "output_type": "stream",
     "text": [
      "Epoch:  30%|███       | 6/20 [00:15<00:36,  2.61s/epoch]"
     ]
    },
    {
     "name": "stdout",
     "output_type": "stream",
     "text": [
      "\tValidation set: Loss: 0.333066 Acc: 94.701705 \n"
     ]
    },
    {
     "name": "stderr",
     "output_type": "stream",
     "text": [
      "Epoch:  35%|███▌      | 7/20 [00:18<00:34,  2.63s/epoch]"
     ]
    },
    {
     "name": "stdout",
     "output_type": "stream",
     "text": [
      "\tTrain Epoch: 7 \tLoss: 0.052377 Acc@1: 98.210938 \n"
     ]
    },
    {
     "name": "stderr",
     "output_type": "stream",
     "text": [
      "Epoch:  40%|████      | 8/20 [00:20<00:31,  2.63s/epoch]"
     ]
    },
    {
     "name": "stdout",
     "output_type": "stream",
     "text": [
      "\tTrain Epoch: 8 \tLoss: 0.043209 Acc@1: 98.562500 \n"
     ]
    },
    {
     "name": "stderr",
     "output_type": "stream",
     "text": [
      "Epoch:  45%|████▌     | 9/20 [00:23<00:28,  2.61s/epoch]"
     ]
    },
    {
     "name": "stdout",
     "output_type": "stream",
     "text": [
      "\tTrain Epoch: 9 \tLoss: 0.031571 Acc@1: 98.906250 \n"
     ]
    },
    {
     "name": "stderr",
     "output_type": "stream",
     "text": [
      "Epoch:  50%|█████     | 10/20 [00:25<00:25,  2.56s/epoch]"
     ]
    },
    {
     "name": "stdout",
     "output_type": "stream",
     "text": [
      "\tTrain Epoch: 10 \tLoss: 0.021902 Acc@1: 99.203125 \n",
      "\tTrain Epoch: 11 \tLoss: 0.027739 Acc@1: 99.015625 \n"
     ]
    },
    {
     "name": "stderr",
     "output_type": "stream",
     "text": [
      "Epoch:  55%|█████▌    | 11/20 [00:28<00:23,  2.61s/epoch]"
     ]
    },
    {
     "name": "stdout",
     "output_type": "stream",
     "text": [
      "\tValidation set: Loss: 0.237984 Acc: 95.475852 \n"
     ]
    },
    {
     "name": "stderr",
     "output_type": "stream",
     "text": [
      "Epoch:  60%|██████    | 12/20 [00:31<00:20,  2.59s/epoch]"
     ]
    },
    {
     "name": "stdout",
     "output_type": "stream",
     "text": [
      "\tTrain Epoch: 12 \tLoss: 0.022555 Acc@1: 99.210938 \n"
     ]
    },
    {
     "name": "stderr",
     "output_type": "stream",
     "text": [
      "Epoch:  65%|██████▌   | 13/20 [00:33<00:17,  2.57s/epoch]"
     ]
    },
    {
     "name": "stdout",
     "output_type": "stream",
     "text": [
      "\tTrain Epoch: 13 \tLoss: 0.030591 Acc@1: 99.046875 \n"
     ]
    },
    {
     "name": "stderr",
     "output_type": "stream",
     "text": [
      "Epoch:  70%|███████   | 14/20 [00:36<00:15,  2.59s/epoch]"
     ]
    },
    {
     "name": "stdout",
     "output_type": "stream",
     "text": [
      "\tTrain Epoch: 14 \tLoss: 0.040215 Acc@1: 98.656250 \n"
     ]
    },
    {
     "name": "stderr",
     "output_type": "stream",
     "text": [
      "Epoch:  75%|███████▌  | 15/20 [00:38<00:12,  2.57s/epoch]"
     ]
    },
    {
     "name": "stdout",
     "output_type": "stream",
     "text": [
      "\tTrain Epoch: 15 \tLoss: 0.029248 Acc@1: 98.976562 \n",
      "\tTrain Epoch: 16 \tLoss: 0.023978 Acc@1: 99.117188 \n"
     ]
    },
    {
     "name": "stderr",
     "output_type": "stream",
     "text": [
      "Epoch:  80%|████████  | 16/20 [00:41<00:10,  2.66s/epoch]"
     ]
    },
    {
     "name": "stdout",
     "output_type": "stream",
     "text": [
      "\tValidation set: Loss: 0.304855 Acc: 93.963068 \n"
     ]
    },
    {
     "name": "stderr",
     "output_type": "stream",
     "text": [
      "Epoch:  85%|████████▌ | 17/20 [00:44<00:07,  2.64s/epoch]"
     ]
    },
    {
     "name": "stdout",
     "output_type": "stream",
     "text": [
      "\tTrain Epoch: 17 \tLoss: 0.031841 Acc@1: 98.882812 \n"
     ]
    },
    {
     "name": "stderr",
     "output_type": "stream",
     "text": [
      "Epoch:  90%|█████████ | 18/20 [00:46<00:05,  2.62s/epoch]"
     ]
    },
    {
     "name": "stdout",
     "output_type": "stream",
     "text": [
      "\tTrain Epoch: 18 \tLoss: 0.016514 Acc@1: 99.406250 \n"
     ]
    },
    {
     "name": "stderr",
     "output_type": "stream",
     "text": [
      "Epoch:  95%|█████████▌| 19/20 [00:49<00:02,  2.63s/epoch]"
     ]
    },
    {
     "name": "stdout",
     "output_type": "stream",
     "text": [
      "\tTrain Epoch: 19 \tLoss: 0.011830 Acc@1: 99.601562 \n"
     ]
    },
    {
     "name": "stderr",
     "output_type": "stream",
     "text": [
      "Epoch: 100%|██████████| 20/20 [00:52<00:00,  2.60s/epoch]"
     ]
    },
    {
     "name": "stdout",
     "output_type": "stream",
     "text": [
      "\tTrain Epoch: 20 \tLoss: 0.017090 Acc@1: 99.414062 \n"
     ]
    },
    {
     "name": "stderr",
     "output_type": "stream",
     "text": [
      "\n"
     ]
    },
    {
     "name": "stdout",
     "output_type": "stream",
     "text": [
      "\tTest set: Loss: 0.665782 Acc: 87.830816 \n",
      "OrganCMNIST Top1 Acc:  0.8783081638755981\n"
     ]
    }
   ],
   "source": [
    "##############################################################################################\n",
    "# OrganCMNist image classification WITHOUT differential privacy: Model, Optimizer, DataLoader\n",
    "##############################################################################################\n",
    "\n",
    "train_loader_organc = DataLoader(train_dataset_organc, batch_size=BATCH_SIZE, shuffle=True, num_workers=2)\n",
    "test_loader_organc = DataLoader(test_dataset_organc, batch_size=BATCH_SIZE, shuffle=False, num_workers=2)\n",
    "val_loader_organc = DataLoader(val_dataset_organc, batch_size=BATCH_SIZE, shuffle=False, num_workers=2)\n",
    "\n",
    "model_organc = models.resnet18(num_classes=11)\n",
    "model_organc.conv1 = nn.Conv2d(1, 64, kernel_size=7, stride=2, padding=3, bias=False)\n",
    "\n",
    "model_organc = model_organc.to(device)\n",
    "\n",
    "optimizer_organc = optim.Adam(model_organc.parameters(), lr=LR)\n",
    "\n",
    "for epoch in tqdm(range(EPOCHS), desc=\"Epoch\", unit=\"epoch\"):\n",
    "    train(model_organc, train_loader_organc, optimizer_organc, epoch + 1, device)\n",
    "    if epoch % 5 == 0:\n",
    "        eval(model_organc, val_loader_organc, device)\n",
    "\n",
    "top1_acc_organc = test(model_organc, test_loader_organc, device)\n",
    "print(\"OrganCMNIST Top1 Acc: \", top1_acc_organc)\n",
    "torch.save(model_organc, 'organcmnist.pt')"
   ]
  },
  {
   "cell_type": "markdown",
   "metadata": {},
   "source": [
    "# Task 1c)"
   ]
  },
  {
   "cell_type": "markdown",
   "metadata": {},
   "source": [
    "## Differential Privacy Experiments"
   ]
  },
  {
   "cell_type": "markdown",
   "metadata": {},
   "source": [
    "### Ex. 01 - Max Grad Norm"
   ]
  },
  {
   "cell_type": "code",
   "execution_count": 35,
   "metadata": {},
   "outputs": [
    {
     "name": "stdout",
     "output_type": "stream",
     "text": [
      "Before make_private(). Model:<class 'torchvision.models.resnet.ResNet'>, Optimizer:<class 'torch.optim.adam.Adam'>, DataLoader:<class 'torch.utils.data.dataloader.DataLoader'>\n",
      "Using sigma=0.3993988037109375 and C=10\n",
      "====================\n",
      "After make_private(). Model:<class 'opacus.grad_sample.grad_sample_module.GradSampleModule'>, Optimizer:<class 'opacus.optimizers.optimizer.DPOptimizer'>, DataLoader:<class 'opacus.data_loader.DPDataLoader'>\n"
     ]
    },
    {
     "name": "stderr",
     "output_type": "stream",
     "text": [
      "Epoch:   0%|          | 0/20 [00:00<?, ?epoch/s]"
     ]
    },
    {
     "name": "stdout",
     "output_type": "stream",
     "text": [
      "\tTrain Epoch: 1 \tLoss: 1.473115 Acc@1: 46.104333 (ε = 12.03, δ = 1e-05)\n"
     ]
    },
    {
     "name": "stderr",
     "output_type": "stream",
     "text": [
      "Epoch:   5%|▌         | 1/20 [00:23<07:27, 23.55s/epoch]"
     ]
    },
    {
     "name": "stdout",
     "output_type": "stream",
     "text": [
      "\tTrain Epoch: 2 \tLoss: 0.739440 Acc@1: 72.771180 (ε = 16.51, δ = 1e-05)\n"
     ]
    },
    {
     "name": "stderr",
     "output_type": "stream",
     "text": [
      "Epoch:  10%|█         | 2/20 [00:48<07:21, 24.52s/epoch]"
     ]
    },
    {
     "name": "stdout",
     "output_type": "stream",
     "text": [
      "\tTrain Epoch: 2 \tLoss: 0.722486 Acc@1: 74.164585 (ε = 18.14, δ = 1e-05)\n",
      "\tTrain Epoch: 3 \tLoss: 0.643023 Acc@1: 78.513332 (ε = 19.72, δ = 1e-05)\n"
     ]
    },
    {
     "name": "stderr",
     "output_type": "stream",
     "text": [
      "Epoch:  15%|█▌        | 3/20 [01:12<06:49, 24.11s/epoch]"
     ]
    },
    {
     "name": "stdout",
     "output_type": "stream",
     "text": [
      "\tTrain Epoch: 4 \tLoss: 0.618879 Acc@1: 79.796495 (ε = 22.30, δ = 1e-05)\n"
     ]
    },
    {
     "name": "stderr",
     "output_type": "stream",
     "text": [
      "Epoch:  20%|██        | 4/20 [01:36<06:22, 23.93s/epoch]"
     ]
    },
    {
     "name": "stdout",
     "output_type": "stream",
     "text": [
      "\tTrain Epoch: 5 \tLoss: 0.604542 Acc@1: 80.582439 (ε = 24.69, δ = 1e-05)\n"
     ]
    },
    {
     "name": "stderr",
     "output_type": "stream",
     "text": [
      "Epoch:  25%|██▌       | 5/20 [01:59<05:55, 23.71s/epoch]"
     ]
    },
    {
     "name": "stdout",
     "output_type": "stream",
     "text": [
      "\tValidation set: Loss: 0.594025 Acc: 81.579748 \n",
      "\tTrain Epoch: 6 \tLoss: 0.542483 Acc@1: 82.542743 (ε = 26.83, δ = 1e-05)\n"
     ]
    },
    {
     "name": "stderr",
     "output_type": "stream",
     "text": [
      "Epoch:  30%|███       | 6/20 [02:21<05:26, 23.31s/epoch]"
     ]
    },
    {
     "name": "stdout",
     "output_type": "stream",
     "text": [
      "\tTrain Epoch: 7 \tLoss: 0.529919 Acc@1: 83.734577 (ε = 28.79, δ = 1e-05)\n"
     ]
    },
    {
     "name": "stderr",
     "output_type": "stream",
     "text": [
      "Epoch:  35%|███▌      | 7/20 [02:45<05:03, 23.37s/epoch]"
     ]
    },
    {
     "name": "stdout",
     "output_type": "stream",
     "text": [
      "\tTrain Epoch: 8 \tLoss: 0.479414 Acc@1: 84.617991 (ε = 30.69, δ = 1e-05)\n"
     ]
    },
    {
     "name": "stderr",
     "output_type": "stream",
     "text": [
      "Epoch:  40%|████      | 8/20 [03:09<04:43, 23.66s/epoch]"
     ]
    },
    {
     "name": "stdout",
     "output_type": "stream",
     "text": [
      "\tTrain Epoch: 9 \tLoss: 0.489417 Acc@1: 85.636019 (ε = 32.50, δ = 1e-05)\n"
     ]
    },
    {
     "name": "stderr",
     "output_type": "stream",
     "text": [
      "Epoch:  45%|████▌     | 9/20 [03:34<04:25, 24.17s/epoch]"
     ]
    },
    {
     "name": "stdout",
     "output_type": "stream",
     "text": [
      "\tTrain Epoch: 9 \tLoss: 0.484576 Acc@1: 85.682082 (ε = 33.40, δ = 1e-05)\n",
      "\tTrain Epoch: 10 \tLoss: 0.491778 Acc@1: 85.950771 (ε = 34.24, δ = 1e-05)\n",
      "\tTrain Epoch: 10 \tLoss: 0.490510 Acc@1: 86.298617 (ε = 35.07, δ = 1e-05)\n"
     ]
    },
    {
     "name": "stderr",
     "output_type": "stream",
     "text": [
      "Epoch:  50%|█████     | 10/20 [04:00<04:06, 24.64s/epoch]"
     ]
    },
    {
     "name": "stdout",
     "output_type": "stream",
     "text": [
      "\tValidation set: Loss: 0.532768 Acc: 85.110593 \n",
      "\tTrain Epoch: 11 \tLoss: 0.476089 Acc@1: 86.058911 (ε = 35.95, δ = 1e-05)\n"
     ]
    },
    {
     "name": "stderr",
     "output_type": "stream",
     "text": [
      "Epoch:  55%|█████▌    | 11/20 [04:24<03:38, 24.29s/epoch]"
     ]
    },
    {
     "name": "stdout",
     "output_type": "stream",
     "text": [
      "\tTrain Epoch: 12 \tLoss: 0.478069 Acc@1: 86.319648 (ε = 37.58, δ = 1e-05)\n"
     ]
    },
    {
     "name": "stderr",
     "output_type": "stream",
     "text": [
      "Epoch:  60%|██████    | 12/20 [04:48<03:15, 24.45s/epoch]"
     ]
    },
    {
     "name": "stdout",
     "output_type": "stream",
     "text": [
      "\tTrain Epoch: 13 \tLoss: 0.446436 Acc@1: 87.027274 (ε = 39.16, δ = 1e-05)\n"
     ]
    },
    {
     "name": "stderr",
     "output_type": "stream",
     "text": [
      "Epoch:  65%|██████▌   | 13/20 [05:13<02:51, 24.52s/epoch]"
     ]
    },
    {
     "name": "stdout",
     "output_type": "stream",
     "text": [
      "\tTrain Epoch: 14 \tLoss: 0.456550 Acc@1: 86.962558 (ε = 40.67, δ = 1e-05)\n"
     ]
    },
    {
     "name": "stderr",
     "output_type": "stream",
     "text": [
      "Epoch:  70%|███████   | 14/20 [05:39<02:28, 24.78s/epoch]"
     ]
    },
    {
     "name": "stdout",
     "output_type": "stream",
     "text": [
      "\tTrain Epoch: 14 \tLoss: 0.467413 Acc@1: 86.850336 (ε = 41.41, δ = 1e-05)\n",
      "\tTrain Epoch: 15 \tLoss: 0.458939 Acc@1: 87.131330 (ε = 42.18, δ = 1e-05)\n"
     ]
    },
    {
     "name": "stderr",
     "output_type": "stream",
     "text": [
      "Epoch:  75%|███████▌  | 15/20 [06:03<02:03, 24.72s/epoch]"
     ]
    },
    {
     "name": "stdout",
     "output_type": "stream",
     "text": [
      "\tValidation set: Loss: 0.564418 Acc: 85.014205 \n",
      "\tTrain Epoch: 16 \tLoss: 0.455628 Acc@1: 87.227007 (ε = 43.65, δ = 1e-05)\n"
     ]
    },
    {
     "name": "stderr",
     "output_type": "stream",
     "text": [
      "Epoch:  80%|████████  | 16/20 [06:28<01:38, 24.66s/epoch]"
     ]
    },
    {
     "name": "stdout",
     "output_type": "stream",
     "text": [
      "\tTrain Epoch: 17 \tLoss: 0.453173 Acc@1: 86.655913 (ε = 45.10, δ = 1e-05)\n"
     ]
    },
    {
     "name": "stderr",
     "output_type": "stream",
     "text": [
      "Epoch:  85%|████████▌ | 17/20 [06:55<01:16, 25.39s/epoch]"
     ]
    },
    {
     "name": "stdout",
     "output_type": "stream",
     "text": [
      "\tTrain Epoch: 18 \tLoss: 0.427294 Acc@1: 88.319217 (ε = 46.52, δ = 1e-05)\n",
      "\tTrain Epoch: 18 \tLoss: 0.434927 Acc@1: 88.220479 (ε = 47.21, δ = 1e-05)\n"
     ]
    },
    {
     "name": "stderr",
     "output_type": "stream",
     "text": [
      "Epoch:  90%|█████████ | 18/20 [07:23<00:52, 26.16s/epoch]"
     ]
    },
    {
     "name": "stdout",
     "output_type": "stream",
     "text": [
      "\tTrain Epoch: 19 \tLoss: 0.431592 Acc@1: 87.874967 (ε = 47.95, δ = 1e-05)\n"
     ]
    },
    {
     "name": "stderr",
     "output_type": "stream",
     "text": [
      "Epoch:  95%|█████████▌| 19/20 [07:47<00:25, 25.49s/epoch]"
     ]
    },
    {
     "name": "stdout",
     "output_type": "stream",
     "text": [
      "\tTrain Epoch: 20 \tLoss: 0.456381 Acc@1: 87.274954 (ε = 49.30, δ = 1e-05)\n"
     ]
    },
    {
     "name": "stderr",
     "output_type": "stream",
     "text": [
      "Epoch: 100%|██████████| 20/20 [08:11<00:00, 24.56s/epoch]"
     ]
    },
    {
     "name": "stdout",
     "output_type": "stream",
     "text": [
      "\tValidation set: Loss: 0.484808 Acc: 87.210836 \n"
     ]
    },
    {
     "name": "stderr",
     "output_type": "stream",
     "text": [
      "\n"
     ]
    },
    {
     "name": "stdout",
     "output_type": "stream",
     "text": [
      "\tTest set: Loss: 0.531555 Acc: 85.511173 \n",
      "BloodMNIST DP Top1 Acc:  0.8551117271505376\n"
     ]
    }
   ],
   "source": [
    "##############################################################################################\n",
    "# Ex.01 - Norm: BloodMNist image classification WITH differential privacy\n",
    "##############################################################################################\n",
    "\n",
    "MAX_GRAD_NORM_EXPERIMENTAL = 10\n",
    "\n",
    "train_loader_blood_dp_ex_01 = DataLoader(train_dataset_blood, batch_size=BATCH_SIZE, shuffle=True, num_workers=2)\n",
    "test_loader_blood_dp_ex_01 = DataLoader(test_dataset_blood, batch_size=BATCH_SIZE, shuffle=False, num_workers=2)\n",
    "val_loader_blood_dp_ex_01 = DataLoader(val_dataset_blood, batch_size=BATCH_SIZE, shuffle=False, num_workers=2)\n",
    "\n",
    "model_blood_dp_ex_01 = models.resnet18(num_classes=8)\n",
    "model_blood_dp_ex_01 = ModuleValidator.fix(model_blood_dp_ex_01)\n",
    "ModuleValidator.validate(model_blood_dp_ex_01, strict=False)\n",
    "\n",
    "model_blood_dp_ex_01 = model_blood_dp_ex_01.to(device)\n",
    "\n",
    "optimizer_blood_dp_ex_01 = optim.Adam(model_blood_dp_ex_01.parameters(), lr=LR)\n",
    "\n",
    "print(\n",
    "    f\"Before make_private(). \"\n",
    "    f\"Model:{type(model_blood_dp_ex_01)}, Optimizer:{type(optimizer_blood_dp_ex_01)}, DataLoader:{type(train_loader_blood_dp_ex_01)}\"\n",
    ")\n",
    "\n",
    "# Now we initialize a privacy engine and attach it\n",
    "privacy_engine = PrivacyEngine()\n",
    "model_blood_dp_ex_01, optimizer_blood_dp_ex_01, train_loader_blood_dp_ex_01 = privacy_engine.make_private_with_epsilon(\n",
    "    module=model_blood_dp_ex_01,\n",
    "    optimizer=optimizer_blood_dp_ex_01,\n",
    "    data_loader=train_loader_blood_dp_ex_01,\n",
    "    epochs=EPOCHS,\n",
    "    target_epsilon=EPSILON,\n",
    "    target_delta=DELTA,\n",
    "    max_grad_norm=MAX_GRAD_NORM_EXPERIMENTAL,\n",
    ")\n",
    "print(f\"Using sigma={optimizer_blood_dp_ex_01.noise_multiplier} and C={MAX_GRAD_NORM_EXPERIMENTAL}\")\n",
    "\n",
    "print(\"=\"*20)\n",
    "\n",
    "print(\n",
    "    f\"After make_private(). \"\n",
    "    f\"Model:{type(model_blood_dp_ex_01)}, Optimizer:{type(optimizer_blood_dp_ex_01)}, DataLoader:{type(train_loader_blood_dp_ex_01)}\"\n",
    ")\n",
    "# Now it's business as usual\n",
    "\n",
    "for epoch in tqdm(range(EPOCHS), desc=\"Epoch\", unit=\"epoch\"):\n",
    "    train_dp(model_blood_dp_ex_01, train_loader_blood_dp_ex_01, optimizer_blood_dp_ex_01, epoch + 1, device, privacy_engine)\n",
    "    if (epoch + 1) % 5 == 0:\n",
    "        eval_dp(model_blood_dp_ex_01, val_loader_blood_dp_ex_01, device)\n",
    "\n",
    "top1_acc_blood_dp_ex_01 = test_dp(model_blood_dp_ex_01, test_loader_blood_dp_ex_01, device)\n",
    "print(\"BloodMNIST DP Top1 Acc: \", top1_acc_blood_dp_ex_01)\n",
    "torch.save(model_blood_dp_ex_01, 'bloodmnist_dp_ex_01.pt')"
   ]
  },
  {
   "cell_type": "markdown",
   "metadata": {},
   "source": [
    "### Ex. 02 - Max Grad Norm"
   ]
  },
  {
   "cell_type": "code",
   "execution_count": 7,
   "metadata": {},
   "outputs": [
    {
     "name": "stdout",
     "output_type": "stream",
     "text": [
      "Before make_private(). Model:<class 'torchvision.models.resnet.ResNet'>, Optimizer:<class 'torch.optim.adam.Adam'>, DataLoader:<class 'torch.utils.data.dataloader.DataLoader'>\n",
      "Using sigma=0.3993988037109375 and C=5\n",
      "====================\n",
      "After make_private(). Model:<class 'opacus.grad_sample.grad_sample_module.GradSampleModule'>, Optimizer:<class 'opacus.optimizers.optimizer.DPOptimizer'>, DataLoader:<class 'opacus.data_loader.DPDataLoader'>\n"
     ]
    },
    {
     "name": "stderr",
     "output_type": "stream",
     "text": [
      "Epoch:   0%|          | 0/20 [00:00<?, ?epoch/s]"
     ]
    },
    {
     "name": "stdout",
     "output_type": "stream",
     "text": [
      "\tTrain Epoch: 1 \tLoss: 1.438818 Acc@1: 49.552707 (ε = 12.16, δ = 1e-05)\n"
     ]
    },
    {
     "name": "stderr",
     "output_type": "stream",
     "text": [
      "Epoch:   5%|▌         | 1/20 [00:25<07:56, 25.09s/epoch]"
     ]
    },
    {
     "name": "stdout",
     "output_type": "stream",
     "text": [
      "\tTrain Epoch: 1 \tLoss: 1.160884 Acc@1: 58.614613 (ε = 14.52, δ = 1e-05)\n",
      "\tTrain Epoch: 2 \tLoss: 0.791681 Acc@1: 73.647692 (ε = 16.51, δ = 1e-05)\n",
      "\tTrain Epoch: 2 \tLoss: 0.791049 Acc@1: 74.300289 (ε = 18.14, δ = 1e-05)\n"
     ]
    },
    {
     "name": "stderr",
     "output_type": "stream",
     "text": [
      "Epoch:  10%|█         | 2/20 [00:48<07:11, 23.99s/epoch]"
     ]
    },
    {
     "name": "stdout",
     "output_type": "stream",
     "text": [
      "\tTrain Epoch: 3 \tLoss: 0.711483 Acc@1: 76.937379 (ε = 19.66, δ = 1e-05)\n",
      "\tTrain Epoch: 3 \tLoss: 0.687575 Acc@1: 77.899523 (ε = 21.00, δ = 1e-05)\n"
     ]
    },
    {
     "name": "stderr",
     "output_type": "stream",
     "text": [
      "Epoch:  15%|█▌        | 3/20 [01:11<06:44, 23.81s/epoch]"
     ]
    },
    {
     "name": "stdout",
     "output_type": "stream",
     "text": [
      "\tTrain Epoch: 4 \tLoss: 0.659315 Acc@1: 79.500356 (ε = 22.35, δ = 1e-05)\n"
     ]
    },
    {
     "name": "stderr",
     "output_type": "stream",
     "text": [
      "Epoch:  20%|██        | 4/20 [01:35<06:20, 23.80s/epoch]"
     ]
    },
    {
     "name": "stdout",
     "output_type": "stream",
     "text": [
      "\tTrain Epoch: 5 \tLoss: 0.622371 Acc@1: 81.479103 (ε = 24.69, δ = 1e-05)\n"
     ]
    },
    {
     "name": "stderr",
     "output_type": "stream",
     "text": [
      "Epoch:  25%|██▌       | 5/20 [01:58<05:52, 23.49s/epoch]"
     ]
    },
    {
     "name": "stdout",
     "output_type": "stream",
     "text": [
      "\tValidation set: Loss: 0.666601 Acc: 80.981128 \n",
      "\tTrain Epoch: 6 \tLoss: 0.542686 Acc@1: 82.945215 (ε = 26.79, δ = 1e-05)\n"
     ]
    },
    {
     "name": "stderr",
     "output_type": "stream",
     "text": [
      "Epoch:  30%|███       | 6/20 [02:23<05:33, 23.85s/epoch]"
     ]
    },
    {
     "name": "stdout",
     "output_type": "stream",
     "text": [
      "\tTrain Epoch: 7 \tLoss: 0.532350 Acc@1: 84.484953 (ε = 28.79, δ = 1e-05)\n",
      "\tTrain Epoch: 7 \tLoss: 0.531740 Acc@1: 84.533979 (ε = 29.73, δ = 1e-05)\n"
     ]
    },
    {
     "name": "stderr",
     "output_type": "stream",
     "text": [
      "Epoch:  35%|███▌      | 7/20 [02:50<05:22, 24.82s/epoch]"
     ]
    },
    {
     "name": "stdout",
     "output_type": "stream",
     "text": [
      "\tTrain Epoch: 8 \tLoss: 0.510593 Acc@1: 85.160587 (ε = 30.69, δ = 1e-05)\n"
     ]
    },
    {
     "name": "stderr",
     "output_type": "stream",
     "text": [
      "Epoch:  40%|████      | 8/20 [03:13<04:52, 24.38s/epoch]"
     ]
    },
    {
     "name": "stdout",
     "output_type": "stream",
     "text": [
      "\tTrain Epoch: 9 \tLoss: 0.494397 Acc@1: 85.720363 (ε = 32.54, δ = 1e-05)\n"
     ]
    },
    {
     "name": "stderr",
     "output_type": "stream",
     "text": [
      "Epoch:  45%|████▌     | 9/20 [03:37<04:28, 24.44s/epoch]"
     ]
    },
    {
     "name": "stdout",
     "output_type": "stream",
     "text": [
      "\tTrain Epoch: 10 \tLoss: 0.475708 Acc@1: 86.387461 (ε = 34.24, δ = 1e-05)\n"
     ]
    },
    {
     "name": "stderr",
     "output_type": "stream",
     "text": [
      "Epoch:  50%|█████     | 10/20 [04:02<04:03, 24.35s/epoch]"
     ]
    },
    {
     "name": "stdout",
     "output_type": "stream",
     "text": [
      "\tValidation set: Loss: 0.542331 Acc: 85.455560 \n",
      "\tTrain Epoch: 11 \tLoss: 0.504339 Acc@1: 85.945941 (ε = 35.95, δ = 1e-05)\n"
     ]
    },
    {
     "name": "stderr",
     "output_type": "stream",
     "text": [
      "Epoch:  55%|█████▌    | 11/20 [04:26<03:39, 24.35s/epoch]"
     ]
    },
    {
     "name": "stdout",
     "output_type": "stream",
     "text": [
      "\tTrain Epoch: 12 \tLoss: 0.501363 Acc@1: 85.949249 (ε = 37.58, δ = 1e-05)\n"
     ]
    },
    {
     "name": "stderr",
     "output_type": "stream",
     "text": [
      "Epoch:  60%|██████    | 12/20 [04:51<03:16, 24.51s/epoch]"
     ]
    },
    {
     "name": "stdout",
     "output_type": "stream",
     "text": [
      "\tTrain Epoch: 13 \tLoss: 0.487887 Acc@1: 86.662255 (ε = 39.16, δ = 1e-05)\n"
     ]
    },
    {
     "name": "stderr",
     "output_type": "stream",
     "text": [
      "Epoch:  65%|██████▌   | 13/20 [05:15<02:50, 24.29s/epoch]"
     ]
    },
    {
     "name": "stdout",
     "output_type": "stream",
     "text": [
      "\tTrain Epoch: 14 \tLoss: 0.451139 Acc@1: 87.914485 (ε = 40.67, δ = 1e-05)\n"
     ]
    },
    {
     "name": "stderr",
     "output_type": "stream",
     "text": [
      "Epoch:  70%|███████   | 14/20 [05:39<02:25, 24.27s/epoch]"
     ]
    },
    {
     "name": "stdout",
     "output_type": "stream",
     "text": [
      "\tTrain Epoch: 15 \tLoss: 0.453827 Acc@1: 87.664863 (ε = 42.18, δ = 1e-05)\n"
     ]
    },
    {
     "name": "stderr",
     "output_type": "stream",
     "text": [
      "Epoch:  75%|███████▌  | 15/20 [06:04<02:02, 24.47s/epoch]"
     ]
    },
    {
     "name": "stdout",
     "output_type": "stream",
     "text": [
      "\tValidation set: Loss: 0.575936 Acc: 85.709213 \n",
      "\tTrain Epoch: 16 \tLoss: 0.461705 Acc@1: 88.115290 (ε = 43.65, δ = 1e-05)\n"
     ]
    },
    {
     "name": "stderr",
     "output_type": "stream",
     "text": [
      "Epoch:  80%|████████  | 16/20 [06:29<01:38, 24.64s/epoch]"
     ]
    },
    {
     "name": "stdout",
     "output_type": "stream",
     "text": [
      "\tTrain Epoch: 17 \tLoss: 0.397880 Acc@1: 88.807939 (ε = 45.10, δ = 1e-05)\n"
     ]
    },
    {
     "name": "stderr",
     "output_type": "stream",
     "text": [
      "Epoch:  85%|████████▌ | 17/20 [06:54<01:14, 24.82s/epoch]"
     ]
    },
    {
     "name": "stdout",
     "output_type": "stream",
     "text": [
      "\tTrain Epoch: 18 \tLoss: 0.471251 Acc@1: 87.378489 (ε = 46.52, δ = 1e-05)\n",
      "\tTrain Epoch: 18 \tLoss: 0.482271 Acc@1: 87.261833 (ε = 47.21, δ = 1e-05)\n"
     ]
    },
    {
     "name": "stderr",
     "output_type": "stream",
     "text": [
      "Epoch:  90%|█████████ | 18/20 [07:21<00:50, 25.41s/epoch]"
     ]
    },
    {
     "name": "stdout",
     "output_type": "stream",
     "text": [
      "\tTrain Epoch: 19 \tLoss: 0.429829 Acc@1: 87.842260 (ε = 47.92, δ = 1e-05)\n",
      "\tTrain Epoch: 19 \tLoss: 0.441654 Acc@1: 88.125518 (ε = 48.59, δ = 1e-05)\n"
     ]
    },
    {
     "name": "stderr",
     "output_type": "stream",
     "text": [
      "Epoch:  95%|█████████▌| 19/20 [07:47<00:25, 25.54s/epoch]"
     ]
    },
    {
     "name": "stdout",
     "output_type": "stream",
     "text": [
      "\tTrain Epoch: 20 \tLoss: 0.429433 Acc@1: 88.650244 (ε = 49.30, δ = 1e-05)\n"
     ]
    },
    {
     "name": "stderr",
     "output_type": "stream",
     "text": [
      "Epoch: 100%|██████████| 20/20 [08:12<00:00, 24.64s/epoch]"
     ]
    },
    {
     "name": "stdout",
     "output_type": "stream",
     "text": [
      "\tValidation set: Loss: 0.523246 Acc: 86.769481 \n"
     ]
    },
    {
     "name": "stderr",
     "output_type": "stream",
     "text": [
      "\n"
     ]
    },
    {
     "name": "stdout",
     "output_type": "stream",
     "text": [
      "\tTest set: Loss: 0.515319 Acc: 86.125012 \n",
      "BloodMNIST DP Top1 Acc:  0.8612501200076804\n"
     ]
    }
   ],
   "source": [
    "##############################################################################################\n",
    "# Ex.01 - Norm: BloodMNist image classification WITH differential privacy\n",
    "##############################################################################################\n",
    "\n",
    "MAX_GRAD_NORM_EXPERIMENTAL = 5\n",
    "\n",
    "train_loader_blood_dp_ex_02 = DataLoader(train_dataset_blood, batch_size=BATCH_SIZE, shuffle=True, num_workers=2)\n",
    "test_loader_blood_dp_ex_02 = DataLoader(test_dataset_blood, batch_size=BATCH_SIZE, shuffle=False, num_workers=2)\n",
    "val_loader_blood_dp_ex_02 = DataLoader(val_dataset_blood, batch_size=BATCH_SIZE, shuffle=False, num_workers=2)\n",
    "\n",
    "model_blood_dp_ex_02 = models.resnet18(num_classes=8)\n",
    "model_blood_dp_ex_02 = ModuleValidator.fix(model_blood_dp_ex_02)\n",
    "ModuleValidator.validate(model_blood_dp_ex_02, strict=False)\n",
    "\n",
    "model_blood_dp_ex_02 = model_blood_dp_ex_02.to(device)\n",
    "\n",
    "optimizer_blood_dp_ex_02 = optim.Adam(model_blood_dp_ex_02.parameters(), lr=LR)\n",
    "\n",
    "print(\n",
    "    f\"Before make_private(). \"\n",
    "    f\"Model:{type(model_blood_dp_ex_02)}, Optimizer:{type(optimizer_blood_dp_ex_02)}, DataLoader:{type(train_loader_blood_dp_ex_02)}\"\n",
    ")\n",
    "\n",
    "# Now we initialize a privacy engine and attach it\n",
    "privacy_engine = PrivacyEngine()\n",
    "model_blood_dp_ex_02, optimizer_blood_dp_ex_02, train_loader_blood_dp_ex_02 = privacy_engine.make_private_with_epsilon(\n",
    "    module=model_blood_dp_ex_02,\n",
    "    optimizer=optimizer_blood_dp_ex_02,\n",
    "    data_loader=train_loader_blood_dp_ex_02,\n",
    "    epochs=EPOCHS,\n",
    "    target_epsilon=EPSILON,\n",
    "    target_delta=DELTA,\n",
    "    max_grad_norm=MAX_GRAD_NORM_EXPERIMENTAL,\n",
    ")\n",
    "print(f\"Using sigma={optimizer_blood_dp_ex_02.noise_multiplier} and C={MAX_GRAD_NORM_EXPERIMENTAL}\")\n",
    "\n",
    "print(\"=\"*20)\n",
    "\n",
    "print(\n",
    "    f\"After make_private(). \"\n",
    "    f\"Model:{type(model_blood_dp_ex_02)}, Optimizer:{type(optimizer_blood_dp_ex_02)}, DataLoader:{type(train_loader_blood_dp_ex_02)}\"\n",
    ")\n",
    "# Now it's business as usual\n",
    "\n",
    "for epoch in tqdm(range(EPOCHS), desc=\"Epoch\", unit=\"epoch\"):\n",
    "    train_dp(model_blood_dp_ex_02, train_loader_blood_dp_ex_02, optimizer_blood_dp_ex_02, epoch + 1, device, privacy_engine)\n",
    "    if (epoch + 1) % 5 == 0:\n",
    "        eval_dp(model_blood_dp_ex_02, val_loader_blood_dp_ex_02, device)\n",
    "\n",
    "top1_acc_blood_dp_ex_02 = test_dp(model_blood_dp_ex_02, test_loader_blood_dp_ex_02, device)\n",
    "print(\"BloodMNIST DP Top1 Acc: \", top1_acc_blood_dp_ex_02)\n",
    "torch.save(model_blood_dp_ex_02, 'bloodmnist_dp_ex_02.pt')"
   ]
  },
  {
   "cell_type": "markdown",
   "metadata": {},
   "source": [
    "### Ex. 03 - Epsilon"
   ]
  },
  {
   "cell_type": "code",
   "execution_count": 9,
   "metadata": {},
   "outputs": [
    {
     "name": "stdout",
     "output_type": "stream",
     "text": [
      "Before make_private(). Model:<class 'torchvision.models.resnet.ResNet'>, Optimizer:<class 'torch.optim.adam.Adam'>, DataLoader:<class 'torch.utils.data.dataloader.DataLoader'>\n",
      "Using sigma=1.05224609375 and C=1.2\n",
      "====================\n",
      "After make_private(). Model:<class 'opacus.grad_sample.grad_sample_module.GradSampleModule'>, Optimizer:<class 'opacus.optimizers.optimizer.DPOptimizer'>, DataLoader:<class 'opacus.data_loader.DPDataLoader'>\n"
     ]
    },
    {
     "name": "stderr",
     "output_type": "stream",
     "text": [
      "Epoch:   0%|          | 0/20 [00:00<?, ?epoch/s]"
     ]
    },
    {
     "name": "stdout",
     "output_type": "stream",
     "text": [
      "\tTrain Epoch: 1 \tLoss: 2.201841 Acc@1: 64.484611 (ε = 1.39, δ = 1e-05)\n"
     ]
    },
    {
     "name": "stderr",
     "output_type": "stream",
     "text": [
      "Epoch:   5%|▌         | 1/20 [00:13<04:15, 13.45s/epoch]"
     ]
    },
    {
     "name": "stdout",
     "output_type": "stream",
     "text": [
      "\tTrain Epoch: 2 \tLoss: 2.026563 Acc@1: 66.285088 (ε = 1.77, δ = 1e-05)\n"
     ]
    },
    {
     "name": "stderr",
     "output_type": "stream",
     "text": [
      "Epoch:  10%|█         | 2/20 [00:26<03:54, 13.04s/epoch]"
     ]
    },
    {
     "name": "stdout",
     "output_type": "stream",
     "text": [
      "\tTrain Epoch: 3 \tLoss: 1.874232 Acc@1: 67.658751 (ε = 2.07, δ = 1e-05)\n"
     ]
    },
    {
     "name": "stderr",
     "output_type": "stream",
     "text": [
      "Epoch:  15%|█▌        | 3/20 [00:39<03:42, 13.08s/epoch]"
     ]
    },
    {
     "name": "stdout",
     "output_type": "stream",
     "text": [
      "\tTrain Epoch: 4 \tLoss: 1.712806 Acc@1: 68.290593 (ε = 2.32, δ = 1e-05)\n"
     ]
    },
    {
     "name": "stderr",
     "output_type": "stream",
     "text": [
      "Epoch:  20%|██        | 4/20 [00:53<03:34, 13.43s/epoch]"
     ]
    },
    {
     "name": "stdout",
     "output_type": "stream",
     "text": [
      "\tTrain Epoch: 5 \tLoss: 1.615840 Acc@1: 67.687152 (ε = 2.56, δ = 1e-05)\n"
     ]
    },
    {
     "name": "stderr",
     "output_type": "stream",
     "text": [
      "Epoch:  25%|██▌       | 5/20 [01:06<03:21, 13.43s/epoch]"
     ]
    },
    {
     "name": "stdout",
     "output_type": "stream",
     "text": [
      "\tValidation set: Loss: 1.662369 Acc: 68.247174 \n",
      "\tTrain Epoch: 6 \tLoss: 1.625083 Acc@1: 67.544766 (ε = 2.78, δ = 1e-05)\n"
     ]
    },
    {
     "name": "stderr",
     "output_type": "stream",
     "text": [
      "Epoch:  30%|███       | 6/20 [01:21<03:13, 13.80s/epoch]"
     ]
    },
    {
     "name": "stdout",
     "output_type": "stream",
     "text": [
      "\tTrain Epoch: 7 \tLoss: 1.545987 Acc@1: 68.626055 (ε = 2.98, δ = 1e-05)\n"
     ]
    },
    {
     "name": "stderr",
     "output_type": "stream",
     "text": [
      "Epoch:  35%|███▌      | 7/20 [01:34<02:58, 13.71s/epoch]"
     ]
    },
    {
     "name": "stdout",
     "output_type": "stream",
     "text": [
      "\tTrain Epoch: 8 \tLoss: 1.533053 Acc@1: 68.701357 (ε = 3.17, δ = 1e-05)\n"
     ]
    },
    {
     "name": "stderr",
     "output_type": "stream",
     "text": [
      "Epoch:  40%|████      | 8/20 [01:48<02:44, 13.68s/epoch]"
     ]
    },
    {
     "name": "stdout",
     "output_type": "stream",
     "text": [
      "\tTrain Epoch: 9 \tLoss: 1.480828 Acc@1: 69.098376 (ε = 3.35, δ = 1e-05)\n"
     ]
    },
    {
     "name": "stderr",
     "output_type": "stream",
     "text": [
      "Epoch:  45%|████▌     | 9/20 [02:01<02:30, 13.64s/epoch]"
     ]
    },
    {
     "name": "stdout",
     "output_type": "stream",
     "text": [
      "\tTrain Epoch: 10 \tLoss: 1.405016 Acc@1: 70.165074 (ε = 3.52, δ = 1e-05)\n"
     ]
    },
    {
     "name": "stderr",
     "output_type": "stream",
     "text": [
      "Epoch:  50%|█████     | 10/20 [02:16<02:18, 13.85s/epoch]"
     ]
    },
    {
     "name": "stdout",
     "output_type": "stream",
     "text": [
      "\tValidation set: Loss: 1.422331 Acc: 69.072058 \n",
      "\tTrain Epoch: 11 \tLoss: 1.447771 Acc@1: 69.775758 (ε = 3.69, δ = 1e-05)\n"
     ]
    },
    {
     "name": "stderr",
     "output_type": "stream",
     "text": [
      "Epoch:  55%|█████▌    | 11/20 [02:29<02:03, 13.68s/epoch]"
     ]
    },
    {
     "name": "stdout",
     "output_type": "stream",
     "text": [
      "\tTrain Epoch: 12 \tLoss: 1.411116 Acc@1: 69.894525 (ε = 3.85, δ = 1e-05)\n"
     ]
    },
    {
     "name": "stderr",
     "output_type": "stream",
     "text": [
      "Epoch:  60%|██████    | 12/20 [02:42<01:48, 13.58s/epoch]"
     ]
    },
    {
     "name": "stdout",
     "output_type": "stream",
     "text": [
      "\tTrain Epoch: 13 \tLoss: 1.427281 Acc@1: 69.809223 (ε = 4.00, δ = 1e-05)\n"
     ]
    },
    {
     "name": "stderr",
     "output_type": "stream",
     "text": [
      "Epoch:  65%|██████▌   | 13/20 [02:57<01:36, 13.83s/epoch]"
     ]
    },
    {
     "name": "stdout",
     "output_type": "stream",
     "text": [
      "\tTrain Epoch: 14 \tLoss: 1.382520 Acc@1: 70.041844 (ε = 4.15, δ = 1e-05)\n"
     ]
    },
    {
     "name": "stderr",
     "output_type": "stream",
     "text": [
      "Epoch:  70%|███████   | 14/20 [03:11<01:23, 13.93s/epoch]"
     ]
    },
    {
     "name": "stdout",
     "output_type": "stream",
     "text": [
      "\tTrain Epoch: 15 \tLoss: 1.385808 Acc@1: 70.346753 (ε = 4.30, δ = 1e-05)\n"
     ]
    },
    {
     "name": "stderr",
     "output_type": "stream",
     "text": [
      "Epoch:  75%|███████▌  | 15/20 [03:25<01:09, 13.86s/epoch]"
     ]
    },
    {
     "name": "stdout",
     "output_type": "stream",
     "text": [
      "\tValidation set: Loss: 1.269810 Acc: 69.977144 \n",
      "\tTrain Epoch: 16 \tLoss: 1.371925 Acc@1: 70.581251 (ε = 4.44, δ = 1e-05)\n"
     ]
    },
    {
     "name": "stderr",
     "output_type": "stream",
     "text": [
      "Epoch:  80%|████████  | 16/20 [03:39<00:55, 13.98s/epoch]"
     ]
    },
    {
     "name": "stdout",
     "output_type": "stream",
     "text": [
      "\tTrain Epoch: 17 \tLoss: 1.349690 Acc@1: 70.113013 (ε = 4.57, δ = 1e-05)\n"
     ]
    },
    {
     "name": "stderr",
     "output_type": "stream",
     "text": [
      "Epoch:  85%|████████▌ | 17/20 [03:54<00:42, 14.16s/epoch]"
     ]
    },
    {
     "name": "stdout",
     "output_type": "stream",
     "text": [
      "\tTrain Epoch: 18 \tLoss: 1.356917 Acc@1: 70.264140 (ε = 4.71, δ = 1e-05)\n"
     ]
    },
    {
     "name": "stderr",
     "output_type": "stream",
     "text": [
      "Epoch:  90%|█████████ | 18/20 [04:08<00:28, 14.33s/epoch]"
     ]
    },
    {
     "name": "stdout",
     "output_type": "stream",
     "text": [
      "\tTrain Epoch: 19 \tLoss: 1.351174 Acc@1: 71.709939 (ε = 4.84, δ = 1e-05)\n"
     ]
    },
    {
     "name": "stderr",
     "output_type": "stream",
     "text": [
      "Epoch:  95%|█████████▌| 19/20 [04:22<00:14, 14.08s/epoch]"
     ]
    },
    {
     "name": "stdout",
     "output_type": "stream",
     "text": [
      "\tTrain Epoch: 20 \tLoss: 1.346760 Acc@1: 70.922473 (ε = 4.97, δ = 1e-05)\n"
     ]
    },
    {
     "name": "stderr",
     "output_type": "stream",
     "text": [
      "Epoch: 100%|██████████| 20/20 [04:36<00:00, 13.84s/epoch]"
     ]
    },
    {
     "name": "stdout",
     "output_type": "stream",
     "text": [
      "\tValidation set: Loss: 1.269244 Acc: 69.427776 \n"
     ]
    },
    {
     "name": "stderr",
     "output_type": "stream",
     "text": [
      "\n"
     ]
    },
    {
     "name": "stdout",
     "output_type": "stream",
     "text": [
      "\tTest set: Loss: 1.284995 Acc: 69.906057 \n",
      "DermaMNIST DP Top1 Acc:  0.6990605743838028\n"
     ]
    }
   ],
   "source": [
    "##############################################################################################\n",
    "# Ex. 03 - Epsilon: DermaMNist image classification WITH differential privacy\n",
    "##############################################################################################\n",
    "\n",
    "EPSILON_EXPERIMENTAL = 5.0\n",
    "\n",
    "train_loader_derma_dp_ex_03 = DataLoader(train_dataset_derma, batch_size=BATCH_SIZE, shuffle=True, num_workers=2)\n",
    "test_loader_derma_dp_ex_03 = DataLoader(test_dataset_derma, batch_size=BATCH_SIZE, shuffle=False, num_workers=2)\n",
    "val_loader_derma_dp_ex_03 = DataLoader(val_dataset_derma, batch_size=BATCH_SIZE, shuffle=False, num_workers=2)\n",
    "\n",
    "model_derma_dp_ex_03 = models.resnet18(num_classes=7)\n",
    "model_derma_dp_ex_03 = ModuleValidator.fix(model_derma_dp_ex_03)\n",
    "ModuleValidator.validate(model_derma_dp_ex_03, strict=False)\n",
    "\n",
    "model_derma_dp_ex_03 = model_derma_dp_ex_03.to(device)\n",
    "\n",
    "optimizer_derma_dp_ex_03 = optim.Adam(model_derma_dp_ex_03.parameters(), lr=LR)\n",
    "\n",
    "print(\n",
    "    f\"Before make_private(). \"\n",
    "    f\"Model:{type(model_derma_dp_ex_03)}, Optimizer:{type(optimizer_derma_dp_ex_03)}, DataLoader:{type(train_loader_derma_dp_ex_03)}\"\n",
    ")\n",
    "\n",
    "# Now we initialize a privacy engine and attach it\n",
    "privacy_engine = PrivacyEngine()\n",
    "model_derma_dp_ex_03, optimizer_derma_dp_ex_03, train_loader_derma_dp_ex_03 = privacy_engine.make_private_with_epsilon(\n",
    "    module=model_derma_dp_ex_03,\n",
    "    optimizer=optimizer_derma_dp_ex_03,\n",
    "    data_loader=train_loader_derma_dp_ex_03,\n",
    "    epochs=EPOCHS,\n",
    "    target_epsilon=EPSILON_EXPERIMENTAL,\n",
    "    target_delta=DELTA,\n",
    "    max_grad_norm=MAX_GRAD_NORM,\n",
    ")\n",
    "print(f\"Using sigma={optimizer_derma_dp_ex_03.noise_multiplier} and C={MAX_GRAD_NORM}\")\n",
    "\n",
    "print(\"=\"*20)\n",
    "\n",
    "print(\n",
    "    f\"After make_private(). \"\n",
    "    f\"Model:{type(model_derma_dp_ex_03)}, Optimizer:{type(optimizer_derma_dp_ex_03)}, DataLoader:{type(train_loader_derma_dp_ex_03)}\"\n",
    ")\n",
    "# Now it's business as usual\n",
    "\n",
    "for epoch in tqdm(range(EPOCHS), desc=\"Epoch\", unit=\"epoch\"):\n",
    "    train_dp(model_derma_dp_ex_03, train_loader_derma_dp_ex_03, optimizer_derma_dp_ex_03, epoch + 1, device, privacy_engine)\n",
    "    if (epoch + 1) % 5 == 0:\n",
    "        eval_dp(model_derma_dp_ex_03, val_loader_derma_dp_ex_03, device)\n",
    "\n",
    "top1_acc_derma_dp_ex_03 = test_dp(model_derma_dp_ex_03, test_loader_derma_dp_ex_03, device)\n",
    "print(\"DermaMNIST DP Top1 Acc: \", top1_acc_derma_dp_ex_03)\n",
    "torch.save(model_derma_dp_ex_03, 'dermamnist_dp_ex_03.pt')"
   ]
  },
  {
   "cell_type": "markdown",
   "metadata": {},
   "source": [
    "### Ex. 04 - Epsilon"
   ]
  },
  {
   "cell_type": "code",
   "execution_count": 10,
   "metadata": {},
   "outputs": [
    {
     "name": "stdout",
     "output_type": "stream",
     "text": [
      "Before make_private(). Model:<class 'torchvision.models.resnet.ResNet'>, Optimizer:<class 'torch.optim.adam.Adam'>, DataLoader:<class 'torch.utils.data.dataloader.DataLoader'>\n",
      "Using sigma=0.538330078125 and C=1.2\n",
      "====================\n",
      "After make_private(). Model:<class 'opacus.grad_sample.grad_sample_module.GradSampleModule'>, Optimizer:<class 'opacus.optimizers.optimizer.DPOptimizer'>, DataLoader:<class 'opacus.data_loader.DPDataLoader'>\n"
     ]
    },
    {
     "name": "stderr",
     "output_type": "stream",
     "text": [
      "Epoch:   0%|          | 0/20 [00:00<?, ?epoch/s]"
     ]
    },
    {
     "name": "stdout",
     "output_type": "stream",
     "text": [
      "\tTrain Epoch: 1 \tLoss: 2.110428 Acc@1: 65.391363 (ε = 7.46, δ = 1e-05)\n"
     ]
    },
    {
     "name": "stderr",
     "output_type": "stream",
     "text": [
      "Epoch:   5%|▌         | 1/20 [00:19<06:06, 19.31s/epoch]"
     ]
    },
    {
     "name": "stdout",
     "output_type": "stream",
     "text": [
      "\tTrain Epoch: 2 \tLoss: 1.940049 Acc@1: 66.494617 (ε = 9.42, δ = 1e-05)\n"
     ]
    },
    {
     "name": "stderr",
     "output_type": "stream",
     "text": [
      "Epoch:  10%|█         | 2/20 [00:44<06:51, 22.85s/epoch]"
     ]
    },
    {
     "name": "stdout",
     "output_type": "stream",
     "text": [
      "\tTrain Epoch: 3 \tLoss: 1.722139 Acc@1: 67.125179 (ε = 10.87, δ = 1e-05)\n"
     ]
    },
    {
     "name": "stderr",
     "output_type": "stream",
     "text": [
      "Epoch:  15%|█▌        | 3/20 [01:13<07:12, 25.46s/epoch]"
     ]
    },
    {
     "name": "stdout",
     "output_type": "stream",
     "text": [
      "\tTrain Epoch: 4 \tLoss: 1.514818 Acc@1: 68.291872 (ε = 12.10, δ = 1e-05)\n"
     ]
    },
    {
     "name": "stderr",
     "output_type": "stream",
     "text": [
      "Epoch:  20%|██        | 4/20 [01:31<05:59, 22.44s/epoch]"
     ]
    },
    {
     "name": "stdout",
     "output_type": "stream",
     "text": [
      "\tTrain Epoch: 5 \tLoss: 1.418667 Acc@1: 70.751794 (ε = 13.21, δ = 1e-05)\n"
     ]
    },
    {
     "name": "stderr",
     "output_type": "stream",
     "text": [
      "Epoch:  25%|██▌       | 5/20 [01:48<05:09, 20.62s/epoch]"
     ]
    },
    {
     "name": "stdout",
     "output_type": "stream",
     "text": [
      "\tValidation set: Loss: 1.415296 Acc: 68.752909 \n",
      "\tTrain Epoch: 6 \tLoss: 1.345020 Acc@1: 70.422426 (ε = 14.23, δ = 1e-05)\n"
     ]
    },
    {
     "name": "stderr",
     "output_type": "stream",
     "text": [
      "Epoch:  30%|███       | 6/20 [02:03<04:22, 18.76s/epoch]"
     ]
    },
    {
     "name": "stdout",
     "output_type": "stream",
     "text": [
      "\tTrain Epoch: 7 \tLoss: 1.322986 Acc@1: 70.523532 (ε = 15.19, δ = 1e-05)\n"
     ]
    },
    {
     "name": "stderr",
     "output_type": "stream",
     "text": [
      "Epoch:  35%|███▌      | 7/20 [02:18<03:48, 17.56s/epoch]"
     ]
    },
    {
     "name": "stdout",
     "output_type": "stream",
     "text": [
      "\tTrain Epoch: 8 \tLoss: 1.278536 Acc@1: 71.655191 (ε = 16.09, δ = 1e-05)\n"
     ]
    },
    {
     "name": "stderr",
     "output_type": "stream",
     "text": [
      "Epoch:  40%|████      | 8/20 [02:33<03:21, 16.83s/epoch]"
     ]
    },
    {
     "name": "stdout",
     "output_type": "stream",
     "text": [
      "\tTrain Epoch: 9 \tLoss: 1.296594 Acc@1: 72.081628 (ε = 16.92, δ = 1e-05)\n"
     ]
    },
    {
     "name": "stderr",
     "output_type": "stream",
     "text": [
      "Epoch:  45%|████▌     | 9/20 [02:49<02:59, 16.32s/epoch]"
     ]
    },
    {
     "name": "stdout",
     "output_type": "stream",
     "text": [
      "\tTrain Epoch: 10 \tLoss: 1.230186 Acc@1: 71.877043 (ε = 17.75, δ = 1e-05)\n"
     ]
    },
    {
     "name": "stderr",
     "output_type": "stream",
     "text": [
      "Epoch:  50%|█████     | 10/20 [03:06<02:47, 16.73s/epoch]"
     ]
    },
    {
     "name": "stdout",
     "output_type": "stream",
     "text": [
      "\tValidation set: Loss: 1.425734 Acc: 70.447972 \n",
      "\tTrain Epoch: 11 \tLoss: 1.246186 Acc@1: 71.681330 (ε = 18.55, δ = 1e-05)\n"
     ]
    },
    {
     "name": "stderr",
     "output_type": "stream",
     "text": [
      "Epoch:  55%|█████▌    | 11/20 [03:21<02:26, 16.24s/epoch]"
     ]
    },
    {
     "name": "stdout",
     "output_type": "stream",
     "text": [
      "\tTrain Epoch: 12 \tLoss: 1.248605 Acc@1: 72.162331 (ε = 19.35, δ = 1e-05)\n"
     ]
    },
    {
     "name": "stderr",
     "output_type": "stream",
     "text": [
      "Epoch:  60%|██████    | 12/20 [03:36<02:06, 15.82s/epoch]"
     ]
    },
    {
     "name": "stdout",
     "output_type": "stream",
     "text": [
      "\tTrain Epoch: 13 \tLoss: 1.230779 Acc@1: 72.323590 (ε = 20.08, δ = 1e-05)\n"
     ]
    },
    {
     "name": "stderr",
     "output_type": "stream",
     "text": [
      "Epoch:  65%|██████▌   | 13/20 [03:52<01:49, 15.71s/epoch]"
     ]
    },
    {
     "name": "stdout",
     "output_type": "stream",
     "text": [
      "\tTrain Epoch: 14 \tLoss: 1.238948 Acc@1: 72.190952 (ε = 20.83, δ = 1e-05)\n"
     ]
    },
    {
     "name": "stderr",
     "output_type": "stream",
     "text": [
      "Epoch:  70%|███████   | 14/20 [04:08<01:34, 15.82s/epoch]"
     ]
    },
    {
     "name": "stdout",
     "output_type": "stream",
     "text": [
      "\tTrain Epoch: 15 \tLoss: 1.246413 Acc@1: 72.267507 (ε = 21.55, δ = 1e-05)\n"
     ]
    },
    {
     "name": "stderr",
     "output_type": "stream",
     "text": [
      "Epoch:  75%|███████▌  | 15/20 [04:28<01:26, 17.27s/epoch]"
     ]
    },
    {
     "name": "stdout",
     "output_type": "stream",
     "text": [
      "\tValidation set: Loss: 1.146919 Acc: 71.025183 \n",
      "\tTrain Epoch: 16 \tLoss: 1.231749 Acc@1: 72.448389 (ε = 22.22, δ = 1e-05)\n"
     ]
    },
    {
     "name": "stderr",
     "output_type": "stream",
     "text": [
      "Epoch:  80%|████████  | 16/20 [04:53<01:17, 19.45s/epoch]"
     ]
    },
    {
     "name": "stdout",
     "output_type": "stream",
     "text": [
      "\tTrain Epoch: 17 \tLoss: 1.174355 Acc@1: 72.716060 (ε = 22.93, δ = 1e-05)\n"
     ]
    },
    {
     "name": "stderr",
     "output_type": "stream",
     "text": [
      "Epoch:  85%|████████▌ | 17/20 [05:15<01:00, 20.10s/epoch]"
     ]
    },
    {
     "name": "stdout",
     "output_type": "stream",
     "text": [
      "\tTrain Epoch: 18 \tLoss: 1.243163 Acc@1: 71.331872 (ε = 23.60, δ = 1e-05)\n"
     ]
    },
    {
     "name": "stderr",
     "output_type": "stream",
     "text": [
      "Epoch:  90%|█████████ | 18/20 [05:31<00:38, 19.09s/epoch]"
     ]
    },
    {
     "name": "stdout",
     "output_type": "stream",
     "text": [
      "\tTrain Epoch: 19 \tLoss: 1.239719 Acc@1: 72.442628 (ε = 24.25, δ = 1e-05)\n"
     ]
    },
    {
     "name": "stderr",
     "output_type": "stream",
     "text": [
      "Epoch:  95%|█████████▌| 19/20 [05:47<00:18, 18.10s/epoch]"
     ]
    },
    {
     "name": "stdout",
     "output_type": "stream",
     "text": [
      "\tTrain Epoch: 20 \tLoss: 1.185503 Acc@1: 74.068895 (ε = 24.90, δ = 1e-05)\n"
     ]
    },
    {
     "name": "stderr",
     "output_type": "stream",
     "text": [
      "Epoch: 100%|██████████| 20/20 [06:04<00:00, 18.21s/epoch]"
     ]
    },
    {
     "name": "stdout",
     "output_type": "stream",
     "text": [
      "\tValidation set: Loss: 1.153002 Acc: 71.823886 \n"
     ]
    },
    {
     "name": "stderr",
     "output_type": "stream",
     "text": [
      "\n"
     ]
    },
    {
     "name": "stdout",
     "output_type": "stream",
     "text": [
      "\tTest set: Loss: 1.232268 Acc: 70.736136 \n",
      "DermaMNIST DP Top1 Acc:  0.7073613556338028\n"
     ]
    }
   ],
   "source": [
    "##############################################################################################\n",
    "# Ex. 04 - Epsilon: DermaMNist image classification WITH differential privacy\n",
    "##############################################################################################\n",
    "\n",
    "EPSILON_EXPERIMENTAL = 25.0\n",
    "\n",
    "train_loader_derma_dp_ex_04 = DataLoader(train_dataset_derma, batch_size=BATCH_SIZE, shuffle=True, num_workers=2)\n",
    "test_loader_derma_dp_ex_04 = DataLoader(test_dataset_derma, batch_size=BATCH_SIZE, shuffle=False, num_workers=2)\n",
    "val_loader_derma_dp_ex_04 = DataLoader(val_dataset_derma, batch_size=BATCH_SIZE, shuffle=False, num_workers=2)\n",
    "\n",
    "model_derma_dp_ex_04 = models.resnet18(num_classes=7)\n",
    "model_derma_dp_ex_04 = ModuleValidator.fix(model_derma_dp_ex_04)\n",
    "ModuleValidator.validate(model_derma_dp_ex_04, strict=False)\n",
    "\n",
    "model_derma_dp_ex_04 = model_derma_dp_ex_04.to(device)\n",
    "\n",
    "optimizer_derma_dp_ex_04 = optim.Adam(model_derma_dp_ex_04.parameters(), lr=LR)\n",
    "\n",
    "print(\n",
    "    f\"Before make_private(). \"\n",
    "    f\"Model:{type(model_derma_dp_ex_04)}, Optimizer:{type(optimizer_derma_dp_ex_04)}, DataLoader:{type(train_loader_derma_dp_ex_04)}\"\n",
    ")\n",
    "\n",
    "# Now we initialize a privacy engine and attach it\n",
    "privacy_engine = PrivacyEngine()\n",
    "model_derma_dp_ex_04, optimizer_derma_dp_ex_04, train_loader_derma_dp_ex_04 = privacy_engine.make_private_with_epsilon(\n",
    "    module=model_derma_dp_ex_04,\n",
    "    optimizer=optimizer_derma_dp_ex_04,\n",
    "    data_loader=train_loader_derma_dp_ex_04,\n",
    "    epochs=EPOCHS,\n",
    "    target_epsilon=EPSILON_EXPERIMENTAL,\n",
    "    target_delta=DELTA,\n",
    "    max_grad_norm=MAX_GRAD_NORM,\n",
    ")\n",
    "print(f\"Using sigma={optimizer_derma_dp_ex_04.noise_multiplier} and C={MAX_GRAD_NORM}\")\n",
    "\n",
    "print(\"=\"*20)\n",
    "\n",
    "print(\n",
    "    f\"After make_private(). \"\n",
    "    f\"Model:{type(model_derma_dp_ex_04)}, Optimizer:{type(optimizer_derma_dp_ex_04)}, DataLoader:{type(train_loader_derma_dp_ex_04)}\"\n",
    ")\n",
    "# Now it's business as usual\n",
    "\n",
    "for epoch in tqdm(range(EPOCHS), desc=\"Epoch\", unit=\"epoch\"):\n",
    "    train_dp(model_derma_dp_ex_04, train_loader_derma_dp_ex_04, optimizer_derma_dp_ex_04, epoch + 1, device, privacy_engine)\n",
    "    if (epoch + 1) % 5 == 0:\n",
    "        eval_dp(model_derma_dp_ex_04, val_loader_derma_dp_ex_04, device)\n",
    "\n",
    "top1_acc_derma_dp_ex_04 = test_dp(model_derma_dp_ex_04, test_loader_derma_dp_ex_04, device)\n",
    "print(\"DermaMNIST DP Top1 Acc: \", top1_acc_derma_dp_ex_04)\n",
    "torch.save(model_derma_dp_ex_04, 'dermamnist_dp_ex_04.pt')"
   ]
  },
  {
   "cell_type": "markdown",
   "metadata": {},
   "source": [
    "### Ex. 05 - Delta"
   ]
  },
  {
   "cell_type": "code",
   "execution_count": 9,
   "metadata": {},
   "outputs": [
    {
     "name": "stdout",
     "output_type": "stream",
     "text": [
      "Before make_private(). Model:<class 'torchvision.models.resnet.ResNet'>, Optimizer:<class 'torch.optim.adam.Adam'>, DataLoader:<class 'torch.utils.data.dataloader.DataLoader'>\n",
      "Using sigma=0.3408622741699219 and C=1.2\n",
      "====================\n",
      "After make_private(). Model:<class 'opacus.grad_sample.grad_sample_module.GradSampleModule'>, Optimizer:<class 'opacus.optimizers.optimizer.DPOptimizer'>, DataLoader:<class 'opacus.data_loader.DPDataLoader'>\n"
     ]
    },
    {
     "name": "stderr",
     "output_type": "stream",
     "text": [
      "Epoch:   0%|          | 0/20 [00:00<?, ?epoch/s]"
     ]
    },
    {
     "name": "stdout",
     "output_type": "stream",
     "text": [
      "\tTrain Epoch: 1 \tLoss: 1.867050 Acc@1: 38.015462 (ε = 17.29, δ = 1e-05)\n",
      "\tTrain Epoch: 1 \tLoss: 1.527441 Acc@1: 50.910245 (ε = 21.15, δ = 1e-05)\n"
     ]
    },
    {
     "name": "stderr",
     "output_type": "stream",
     "text": [
      "Epoch:   5%|▌         | 1/20 [00:28<08:58, 28.35s/epoch]"
     ]
    },
    {
     "name": "stdout",
     "output_type": "stream",
     "text": [
      "\tTrain Epoch: 2 \tLoss: 0.880425 Acc@1: 73.805611 (ε = 24.38, δ = 1e-05)\n",
      "\tTrain Epoch: 2 \tLoss: 0.822548 Acc@1: 75.900426 (ε = 26.92, δ = 1e-05)\n"
     ]
    },
    {
     "name": "stderr",
     "output_type": "stream",
     "text": [
      "Epoch:  10%|█         | 2/20 [00:55<08:12, 27.35s/epoch]"
     ]
    },
    {
     "name": "stdout",
     "output_type": "stream",
     "text": [
      "\tTrain Epoch: 3 \tLoss: 0.696785 Acc@1: 80.996086 (ε = 29.48, δ = 1e-05)\n",
      "\tTrain Epoch: 3 \tLoss: 0.699599 Acc@1: 81.420134 (ε = 31.58, δ = 1e-05)\n"
     ]
    },
    {
     "name": "stderr",
     "output_type": "stream",
     "text": [
      "Epoch:  15%|█▌        | 3/20 [01:22<07:47, 27.50s/epoch]"
     ]
    },
    {
     "name": "stdout",
     "output_type": "stream",
     "text": [
      "\tTrain Epoch: 4 \tLoss: 0.626131 Acc@1: 83.517485 (ε = 33.78, δ = 1e-05)\n",
      "\tTrain Epoch: 4 \tLoss: 0.627931 Acc@1: 83.766476 (ε = 35.63, δ = 1e-05)\n"
     ]
    },
    {
     "name": "stderr",
     "output_type": "stream",
     "text": [
      "Epoch:  20%|██        | 4/20 [01:48<07:12, 27.00s/epoch]"
     ]
    },
    {
     "name": "stdout",
     "output_type": "stream",
     "text": [
      "\tTrain Epoch: 5 \tLoss: 0.596398 Acc@1: 85.405935 (ε = 37.61, δ = 1e-05)\n",
      "\tTrain Epoch: 5 \tLoss: 0.601433 Acc@1: 84.986953 (ε = 39.30, δ = 1e-05)\n"
     ]
    },
    {
     "name": "stderr",
     "output_type": "stream",
     "text": [
      "Epoch:  25%|██▌       | 5/20 [02:16<06:47, 27.19s/epoch]"
     ]
    },
    {
     "name": "stdout",
     "output_type": "stream",
     "text": [
      "\tValidation set: Loss: 0.309815 Acc: 93.110795 \n",
      "\tTrain Epoch: 6 \tLoss: 0.591978 Acc@1: 85.221092 (ε = 41.14, δ = 1e-05)\n",
      "\tTrain Epoch: 6 \tLoss: 0.598489 Acc@1: 85.153703 (ε = 42.72, δ = 1e-05)\n"
     ]
    },
    {
     "name": "stderr",
     "output_type": "stream",
     "text": [
      "Epoch:  30%|███       | 6/20 [02:44<06:23, 27.42s/epoch]"
     ]
    },
    {
     "name": "stdout",
     "output_type": "stream",
     "text": [
      "\tTrain Epoch: 7 \tLoss: 0.530979 Acc@1: 86.853014 (ε = 44.44, δ = 1e-05)\n",
      "\tTrain Epoch: 7 \tLoss: 0.556232 Acc@1: 86.255954 (ε = 45.88, δ = 1e-05)\n"
     ]
    },
    {
     "name": "stderr",
     "output_type": "stream",
     "text": [
      "Epoch:  35%|███▌      | 7/20 [03:11<05:55, 27.31s/epoch]"
     ]
    },
    {
     "name": "stdout",
     "output_type": "stream",
     "text": [
      "\tTrain Epoch: 8 \tLoss: 0.533377 Acc@1: 86.945318 (ε = 47.58, δ = 1e-05)\n",
      "\tTrain Epoch: 8 \tLoss: 0.534323 Acc@1: 86.964239 (ε = 49.01, δ = 1e-05)\n"
     ]
    },
    {
     "name": "stderr",
     "output_type": "stream",
     "text": [
      "Epoch:  40%|████      | 8/20 [03:39<05:30, 27.51s/epoch]"
     ]
    },
    {
     "name": "stdout",
     "output_type": "stream",
     "text": [
      "\tTrain Epoch: 9 \tLoss: 0.506597 Acc@1: 87.129149 (ε = 50.64, δ = 1e-05)\n",
      "\tTrain Epoch: 9 \tLoss: 0.515735 Acc@1: 87.052449 (ε = 51.95, δ = 1e-05)\n"
     ]
    },
    {
     "name": "stderr",
     "output_type": "stream",
     "text": [
      "Epoch:  45%|████▌     | 9/20 [04:06<05:01, 27.38s/epoch]"
     ]
    },
    {
     "name": "stdout",
     "output_type": "stream",
     "text": [
      "\tTrain Epoch: 10 \tLoss: 0.507392 Acc@1: 87.694201 (ε = 53.47, δ = 1e-05)\n",
      "\tTrain Epoch: 10 \tLoss: 0.502342 Acc@1: 87.691344 (ε = 54.74, δ = 1e-05)\n"
     ]
    },
    {
     "name": "stderr",
     "output_type": "stream",
     "text": [
      "Epoch:  50%|█████     | 10/20 [04:35<04:37, 27.79s/epoch]"
     ]
    },
    {
     "name": "stdout",
     "output_type": "stream",
     "text": [
      "\tValidation set: Loss: 0.312779 Acc: 92.556818 \n",
      "\tTrain Epoch: 11 \tLoss: 0.485996 Acc@1: 87.831922 (ε = 56.27, δ = 1e-05)\n",
      "\tTrain Epoch: 11 \tLoss: 0.469824 Acc@1: 88.242249 (ε = 57.55, δ = 1e-05)\n"
     ]
    },
    {
     "name": "stderr",
     "output_type": "stream",
     "text": [
      "Epoch:  55%|█████▌    | 11/20 [05:03<04:10, 27.87s/epoch]"
     ]
    },
    {
     "name": "stdout",
     "output_type": "stream",
     "text": [
      "\tTrain Epoch: 12 \tLoss: 0.488721 Acc@1: 88.177352 (ε = 58.98, δ = 1e-05)\n",
      "\tTrain Epoch: 12 \tLoss: 0.481655 Acc@1: 88.300850 (ε = 60.18, δ = 1e-05)\n"
     ]
    },
    {
     "name": "stderr",
     "output_type": "stream",
     "text": [
      "Epoch:  60%|██████    | 12/20 [05:30<03:41, 27.67s/epoch]"
     ]
    },
    {
     "name": "stdout",
     "output_type": "stream",
     "text": [
      "\tTrain Epoch: 13 \tLoss: 0.438131 Acc@1: 88.919670 (ε = 61.63, δ = 1e-05)\n",
      "\tTrain Epoch: 13 \tLoss: 0.459528 Acc@1: 88.522316 (ε = 62.85, δ = 1e-05)\n"
     ]
    },
    {
     "name": "stderr",
     "output_type": "stream",
     "text": [
      "Epoch:  65%|██████▌   | 13/20 [05:58<03:14, 27.72s/epoch]"
     ]
    },
    {
     "name": "stdout",
     "output_type": "stream",
     "text": [
      "\tTrain Epoch: 14 \tLoss: 0.420356 Acc@1: 89.375673 (ε = 64.21, δ = 1e-05)\n",
      "\tTrain Epoch: 14 \tLoss: 0.417623 Acc@1: 89.536928 (ε = 65.41, δ = 1e-05)\n"
     ]
    },
    {
     "name": "stderr",
     "output_type": "stream",
     "text": [
      "Epoch:  70%|███████   | 14/20 [06:25<02:46, 27.73s/epoch]"
     ]
    },
    {
     "name": "stdout",
     "output_type": "stream",
     "text": [
      "\tTrain Epoch: 15 \tLoss: 0.481172 Acc@1: 88.853313 (ε = 66.79, δ = 1e-05)\n",
      "\tTrain Epoch: 15 \tLoss: 0.462363 Acc@1: 88.904290 (ε = 67.91, δ = 1e-05)\n"
     ]
    },
    {
     "name": "stderr",
     "output_type": "stream",
     "text": [
      "Epoch:  75%|███████▌  | 15/20 [06:54<02:19, 27.97s/epoch]"
     ]
    },
    {
     "name": "stdout",
     "output_type": "stream",
     "text": [
      "\tValidation set: Loss: 0.329681 Acc: 92.173295 \n",
      "\tTrain Epoch: 16 \tLoss: 0.447358 Acc@1: 89.182001 (ε = 69.22, δ = 1e-05)\n",
      "\tTrain Epoch: 16 \tLoss: 0.429340 Acc@1: 89.262321 (ε = 70.37, δ = 1e-05)\n"
     ]
    },
    {
     "name": "stderr",
     "output_type": "stream",
     "text": [
      "Epoch:  80%|████████  | 16/20 [07:24<01:53, 28.48s/epoch]"
     ]
    },
    {
     "name": "stdout",
     "output_type": "stream",
     "text": [
      "\tTrain Epoch: 17 \tLoss: 0.407259 Acc@1: 90.174774 (ε = 71.71, δ = 1e-05)\n",
      "\tTrain Epoch: 17 \tLoss: 0.407712 Acc@1: 90.054141 (ε = 72.79, δ = 1e-05)\n"
     ]
    },
    {
     "name": "stderr",
     "output_type": "stream",
     "text": [
      "Epoch:  85%|████████▌ | 17/20 [07:52<01:25, 28.47s/epoch]"
     ]
    },
    {
     "name": "stdout",
     "output_type": "stream",
     "text": [
      "\tTrain Epoch: 18 \tLoss: 0.376760 Acc@1: 90.179412 (ε = 74.06, δ = 1e-05)\n",
      "\tTrain Epoch: 18 \tLoss: 0.387357 Acc@1: 90.205761 (ε = 75.22, δ = 1e-05)\n"
     ]
    },
    {
     "name": "stderr",
     "output_type": "stream",
     "text": [
      "Epoch:  90%|█████████ | 18/20 [08:20<00:56, 28.30s/epoch]"
     ]
    },
    {
     "name": "stdout",
     "output_type": "stream",
     "text": [
      "\tTrain Epoch: 19 \tLoss: 0.443418 Acc@1: 89.337116 (ε = 76.42, δ = 1e-05)\n",
      "\tTrain Epoch: 19 \tLoss: 0.419391 Acc@1: 89.806577 (ε = 77.52, δ = 1e-05)\n"
     ]
    },
    {
     "name": "stderr",
     "output_type": "stream",
     "text": [
      "Epoch:  95%|█████████▌| 19/20 [08:51<00:29, 29.04s/epoch]"
     ]
    },
    {
     "name": "stdout",
     "output_type": "stream",
     "text": [
      "\tTrain Epoch: 20 \tLoss: 0.425848 Acc@1: 89.663649 (ε = 78.75, δ = 1e-05)\n",
      "\tTrain Epoch: 20 \tLoss: 0.409707 Acc@1: 89.783272 (ε = 79.83, δ = 1e-05)\n"
     ]
    },
    {
     "name": "stderr",
     "output_type": "stream",
     "text": [
      "Epoch: 100%|██████████| 20/20 [09:21<00:00, 28.09s/epoch]"
     ]
    },
    {
     "name": "stdout",
     "output_type": "stream",
     "text": [
      "\tValidation set: Loss: 0.358763 Acc: 92.684659 \n"
     ]
    },
    {
     "name": "stderr",
     "output_type": "stream",
     "text": [
      "\n"
     ]
    },
    {
     "name": "stdout",
     "output_type": "stream",
     "text": [
      "\tTest set: Loss: 0.998275 Acc: 79.737341 \n",
      "OrganCMNIST DP Top1 Acc:  0.7973734051036683\n"
     ]
    }
   ],
   "source": [
    "##############################################################################################\n",
    "# Ex. 05 - Delta: OrganCMNist image classification WITH differential privacy\n",
    "##############################################################################################\n",
    "\n",
    "DELTA_EXPERIMENTAL = 1e-2\n",
    "\n",
    "train_loader_organc_dp_ex_05 = DataLoader(train_dataset_organc, batch_size=BATCH_SIZE, shuffle=True, num_workers=2)\n",
    "test_loader_organc_dp_ex_05 = DataLoader(test_dataset_organc, batch_size=BATCH_SIZE, shuffle=False, num_workers=2)\n",
    "val_loader_organc_dp_ex_05 = DataLoader(val_dataset_organc, batch_size=BATCH_SIZE, shuffle=False, num_workers=2)\n",
    "\n",
    "model_organc_dp_ex_05 = models.resnet18(num_classes=11)\n",
    "model_organc_dp_ex_05.conv1 = nn.Conv2d(1, 64, kernel_size=7, stride=2, padding=3, bias=False)\n",
    "\n",
    "model_organc_dp_ex_05 = ModuleValidator.fix(model_organc_dp_ex_05)\n",
    "ModuleValidator.validate(model_organc_dp_ex_05, strict=False)\n",
    "\n",
    "model_organc_dp_ex_05 = model_organc_dp_ex_05.to(device)\n",
    "\n",
    "optimizer_organc_dp_ex_05 = optim.Adam(model_organc_dp_ex_05.parameters(), lr=LR)\n",
    "\n",
    "print(\n",
    "    f\"Before make_private(). \"\n",
    "    f\"Model:{type(model_organc_dp_ex_05)}, Optimizer:{type(optimizer_organc_dp_ex_05)}, DataLoader:{type(train_loader_organc_dp_ex_05)}\"\n",
    ")\n",
    "\n",
    "# Now we initialize a privacy engine and attach it\n",
    "privacy_engine = PrivacyEngine()\n",
    "model_organc_dp_ex_05, optimizer_organc_dp_ex_05, train_loader_organc_dp_ex_05 = privacy_engine.make_private_with_epsilon(\n",
    "    module=model_organc_dp_ex_05,\n",
    "    optimizer=optimizer_organc_dp_ex_05,\n",
    "    data_loader=train_loader_organc_dp_ex_05,\n",
    "    epochs=EPOCHS,\n",
    "    target_epsilon=EPSILON,\n",
    "    target_delta=DELTA_EXPERIMENTAL,\n",
    "    max_grad_norm=MAX_GRAD_NORM,\n",
    ")\n",
    "print(f\"Using sigma={optimizer_organc_dp_ex_05.noise_multiplier} and C={MAX_GRAD_NORM}\")\n",
    "\n",
    "print(\"=\"*20)\n",
    "\n",
    "print(\n",
    "    f\"After make_private(). \"\n",
    "    f\"Model:{type(model_organc_dp_ex_05)}, Optimizer:{type(optimizer_organc_dp_ex_05)}, DataLoader:{type(train_loader_organc_dp_ex_05)}\"\n",
    ")\n",
    "# Now it's business as usual\n",
    "\n",
    "for epoch in tqdm(range(EPOCHS), desc=\"Epoch\", unit=\"epoch\"):\n",
    "    train_dp(model_organc_dp_ex_05, train_loader_organc_dp_ex_05, optimizer_organc_dp_ex_05, epoch + 1, device, privacy_engine)\n",
    "    if (epoch + 1) % 5 == 0:\n",
    "        eval_dp(model_organc_dp_ex_05, val_loader_organc_dp_ex_05, device)\n",
    "\n",
    "top1_acc_organc_dp_ex_05 = test_dp(model_organc_dp_ex_05, test_loader_organc_dp_ex_05, device)\n",
    "print(\"OrganCMNIST DP Top1 Acc: \", top1_acc_organc_dp_ex_05)\n",
    "torch.save(model_organc_dp_ex_05, 'organcmnist_dp_ex_05.pt')"
   ]
  },
  {
   "cell_type": "markdown",
   "metadata": {},
   "source": [
    "### Ex. 06 - Delta"
   ]
  },
  {
   "cell_type": "code",
   "execution_count": 14,
   "metadata": {},
   "outputs": [
    {
     "name": "stdout",
     "output_type": "stream",
     "text": [
      "Before make_private(). Model:<class 'torchvision.models.resnet.ResNet'>, Optimizer:<class 'torch.optim.adam.Adam'>, DataLoader:<class 'torch.utils.data.dataloader.DataLoader'>\n",
      "Using sigma=0.3116035461425781 and C=1.2\n",
      "====================\n",
      "After make_private(). Model:<class 'opacus.grad_sample.grad_sample_module.GradSampleModule'>, Optimizer:<class 'opacus.optimizers.optimizer.DPOptimizer'>, DataLoader:<class 'opacus.data_loader.DPDataLoader'>\n"
     ]
    },
    {
     "name": "stderr",
     "output_type": "stream",
     "text": [
      "Epoch:   0%|          | 0/20 [00:00<?, ?epoch/s]"
     ]
    },
    {
     "name": "stdout",
     "output_type": "stream",
     "text": [
      "\tTrain Epoch: 1 \tLoss: 1.805972 Acc@1: 40.140469 (ε = 21.46, δ = 1e-05)\n",
      "\tTrain Epoch: 1 \tLoss: 1.493614 Acc@1: 52.651670 (ε = 26.33, δ = 1e-05)\n"
     ]
    },
    {
     "name": "stderr",
     "output_type": "stream",
     "text": [
      "Epoch:   5%|▌         | 1/20 [00:25<08:06, 25.59s/epoch]"
     ]
    },
    {
     "name": "stdout",
     "output_type": "stream",
     "text": [
      "\tTrain Epoch: 2 \tLoss: 0.842316 Acc@1: 75.059347 (ε = 30.89, δ = 1e-05)\n",
      "\tTrain Epoch: 2 \tLoss: 0.812366 Acc@1: 76.569741 (ε = 34.09, δ = 1e-05)\n"
     ]
    },
    {
     "name": "stderr",
     "output_type": "stream",
     "text": [
      "Epoch:  10%|█         | 2/20 [00:51<07:49, 26.07s/epoch]"
     ]
    },
    {
     "name": "stdout",
     "output_type": "stream",
     "text": [
      "\tTrain Epoch: 3 \tLoss: 0.680705 Acc@1: 80.771077 (ε = 37.60, δ = 1e-05)\n",
      "\tTrain Epoch: 3 \tLoss: 0.688929 Acc@1: 81.620447 (ε = 40.37, δ = 1e-05)\n"
     ]
    },
    {
     "name": "stderr",
     "output_type": "stream",
     "text": [
      "Epoch:  15%|█▌        | 3/20 [01:18<07:25, 26.23s/epoch]"
     ]
    },
    {
     "name": "stdout",
     "output_type": "stream",
     "text": [
      "\tTrain Epoch: 4 \tLoss: 0.660082 Acc@1: 83.082355 (ε = 43.18, δ = 1e-05)\n",
      "\tTrain Epoch: 4 \tLoss: 0.656772 Acc@1: 83.472603 (ε = 45.64, δ = 1e-05)\n"
     ]
    },
    {
     "name": "stderr",
     "output_type": "stream",
     "text": [
      "Epoch:  20%|██        | 4/20 [01:45<07:05, 26.62s/epoch]"
     ]
    },
    {
     "name": "stdout",
     "output_type": "stream",
     "text": [
      "\tTrain Epoch: 5 \tLoss: 0.593417 Acc@1: 84.568398 (ε = 48.28, δ = 1e-05)\n",
      "\tTrain Epoch: 5 \tLoss: 0.598431 Acc@1: 84.823375 (ε = 50.54, δ = 1e-05)\n"
     ]
    },
    {
     "name": "stderr",
     "output_type": "stream",
     "text": [
      "Epoch:  25%|██▌       | 5/20 [02:12<06:40, 26.73s/epoch]"
     ]
    },
    {
     "name": "stdout",
     "output_type": "stream",
     "text": [
      "\tValidation set: Loss: 0.326504 Acc: 92.595881 \n",
      "\tTrain Epoch: 6 \tLoss: 0.566337 Acc@1: 85.742565 (ε = 53.00, δ = 1e-05)\n",
      "\tTrain Epoch: 6 \tLoss: 0.554945 Acc@1: 86.009103 (ε = 55.11, δ = 1e-05)\n"
     ]
    },
    {
     "name": "stderr",
     "output_type": "stream",
     "text": [
      "Epoch:  30%|███       | 6/20 [02:40<06:20, 27.16s/epoch]"
     ]
    },
    {
     "name": "stdout",
     "output_type": "stream",
     "text": [
      "\tTrain Epoch: 7 \tLoss: 0.580769 Acc@1: 86.001267 (ε = 57.42, δ = 1e-05)\n",
      "\tTrain Epoch: 7 \tLoss: 0.549874 Acc@1: 86.391249 (ε = 59.43, δ = 1e-05)\n"
     ]
    },
    {
     "name": "stderr",
     "output_type": "stream",
     "text": [
      "Epoch:  35%|███▌      | 7/20 [03:08<05:58, 27.57s/epoch]"
     ]
    },
    {
     "name": "stdout",
     "output_type": "stream",
     "text": [
      "\tTrain Epoch: 8 \tLoss: 0.523121 Acc@1: 86.824607 (ε = 61.64, δ = 1e-05)\n",
      "\tTrain Epoch: 8 \tLoss: 0.520441 Acc@1: 87.062952 (ε = 63.55, δ = 1e-05)\n"
     ]
    },
    {
     "name": "stderr",
     "output_type": "stream",
     "text": [
      "Epoch:  40%|████      | 8/20 [03:36<05:32, 27.67s/epoch]"
     ]
    },
    {
     "name": "stdout",
     "output_type": "stream",
     "text": [
      "\tTrain Epoch: 9 \tLoss: 0.518938 Acc@1: 87.533821 (ε = 65.67, δ = 1e-05)\n",
      "\tTrain Epoch: 9 \tLoss: 0.518785 Acc@1: 87.343203 (ε = 67.52, δ = 1e-05)\n"
     ]
    },
    {
     "name": "stderr",
     "output_type": "stream",
     "text": [
      "Epoch:  45%|████▌     | 9/20 [04:04<05:04, 27.66s/epoch]"
     ]
    },
    {
     "name": "stdout",
     "output_type": "stream",
     "text": [
      "\tTrain Epoch: 10 \tLoss: 0.472064 Acc@1: 87.588509 (ε = 69.56, δ = 1e-05)\n",
      "\tTrain Epoch: 10 \tLoss: 0.473323 Acc@1: 87.852645 (ε = 71.35, δ = 1e-05)\n"
     ]
    },
    {
     "name": "stderr",
     "output_type": "stream",
     "text": [
      "Epoch:  50%|█████     | 10/20 [04:32<04:38, 27.82s/epoch]"
     ]
    },
    {
     "name": "stdout",
     "output_type": "stream",
     "text": [
      "\tValidation set: Loss: 0.316771 Acc: 93.139205 \n",
      "\tTrain Epoch: 11 \tLoss: 0.475321 Acc@1: 88.128676 (ε = 73.34, δ = 1e-05)\n",
      "\tTrain Epoch: 11 \tLoss: 0.470542 Acc@1: 88.372074 (ε = 75.07, δ = 1e-05)\n"
     ]
    },
    {
     "name": "stderr",
     "output_type": "stream",
     "text": [
      "Epoch:  55%|█████▌    | 11/20 [05:01<04:12, 28.02s/epoch]"
     ]
    },
    {
     "name": "stdout",
     "output_type": "stream",
     "text": [
      "\tTrain Epoch: 12 \tLoss: 0.438969 Acc@1: 89.444134 (ε = 77.00, δ = 1e-05)\n",
      "\tTrain Epoch: 12 \tLoss: 0.452115 Acc@1: 88.924376 (ε = 78.70, δ = 1e-05)\n"
     ]
    },
    {
     "name": "stderr",
     "output_type": "stream",
     "text": [
      "Epoch:  60%|██████    | 12/20 [05:30<03:47, 28.38s/epoch]"
     ]
    },
    {
     "name": "stdout",
     "output_type": "stream",
     "text": [
      "\tTrain Epoch: 13 \tLoss: 0.453529 Acc@1: 88.566406 (ε = 80.65, δ = 1e-05)\n",
      "\tTrain Epoch: 13 \tLoss: 0.451856 Acc@1: 88.675454 (ε = 82.24, δ = 1e-05)\n"
     ]
    },
    {
     "name": "stderr",
     "output_type": "stream",
     "text": [
      "Epoch:  65%|██████▌   | 13/20 [05:59<03:20, 28.71s/epoch]"
     ]
    },
    {
     "name": "stdout",
     "output_type": "stream",
     "text": [
      "\tTrain Epoch: 14 \tLoss: 0.459802 Acc@1: 88.905691 (ε = 84.08, δ = 1e-05)\n",
      "\tTrain Epoch: 14 \tLoss: 0.432874 Acc@1: 89.414257 (ε = 85.64, δ = 1e-05)\n"
     ]
    },
    {
     "name": "stderr",
     "output_type": "stream",
     "text": [
      "Epoch:  70%|███████   | 14/20 [06:27<02:49, 28.33s/epoch]"
     ]
    },
    {
     "name": "stdout",
     "output_type": "stream",
     "text": [
      "\tTrain Epoch: 15 \tLoss: 0.448774 Acc@1: 89.405853 (ε = 87.51, δ = 1e-05)\n",
      "\tTrain Epoch: 15 \tLoss: 0.427099 Acc@1: 89.690051 (ε = 89.11, δ = 1e-05)\n"
     ]
    },
    {
     "name": "stderr",
     "output_type": "stream",
     "text": [
      "Epoch:  75%|███████▌  | 15/20 [06:57<02:23, 28.77s/epoch]"
     ]
    },
    {
     "name": "stdout",
     "output_type": "stream",
     "text": [
      "\tValidation set: Loss: 0.341473 Acc: 92.865767 \n",
      "\tTrain Epoch: 16 \tLoss: 0.380417 Acc@1: 90.672685 (ε = 90.95, δ = 1e-05)\n",
      "\tTrain Epoch: 16 \tLoss: 0.394690 Acc@1: 90.348983 (ε = 92.51, δ = 1e-05)\n"
     ]
    },
    {
     "name": "stderr",
     "output_type": "stream",
     "text": [
      "Epoch:  80%|████████  | 16/20 [07:24<01:54, 28.51s/epoch]"
     ]
    },
    {
     "name": "stdout",
     "output_type": "stream",
     "text": [
      "\tTrain Epoch: 17 \tLoss: 0.378832 Acc@1: 90.880357 (ε = 94.19, δ = 1e-05)\n",
      "\tTrain Epoch: 17 \tLoss: 0.388746 Acc@1: 90.404125 (ε = 95.73, δ = 1e-05)\n"
     ]
    },
    {
     "name": "stderr",
     "output_type": "stream",
     "text": [
      "Epoch:  85%|████████▌ | 17/20 [07:54<01:26, 28.87s/epoch]"
     ]
    },
    {
     "name": "stdout",
     "output_type": "stream",
     "text": [
      "\tTrain Epoch: 18 \tLoss: 0.415301 Acc@1: 89.886970 (ε = 97.45, δ = 1e-05)\n",
      "\tTrain Epoch: 18 \tLoss: 0.395710 Acc@1: 90.235540 (ε = 98.97, δ = 1e-05)\n"
     ]
    },
    {
     "name": "stderr",
     "output_type": "stream",
     "text": [
      "Epoch:  90%|█████████ | 18/20 [08:26<00:59, 29.86s/epoch]"
     ]
    },
    {
     "name": "stdout",
     "output_type": "stream",
     "text": [
      "\tTrain Epoch: 19 \tLoss: 0.386322 Acc@1: 90.355672 (ε = 100.73, δ = 1e-05)\n",
      "\tTrain Epoch: 19 \tLoss: 0.398036 Acc@1: 90.471410 (ε = 102.22, δ = 1e-05)\n"
     ]
    },
    {
     "name": "stderr",
     "output_type": "stream",
     "text": [
      "Epoch:  95%|█████████▌| 19/20 [08:55<00:29, 29.51s/epoch]"
     ]
    },
    {
     "name": "stdout",
     "output_type": "stream",
     "text": [
      "\tTrain Epoch: 20 \tLoss: 0.378154 Acc@1: 90.813869 (ε = 103.83, δ = 1e-05)\n",
      "\tTrain Epoch: 20 \tLoss: 0.383092 Acc@1: 90.711985 (ε = 105.31, δ = 1e-05)\n"
     ]
    },
    {
     "name": "stderr",
     "output_type": "stream",
     "text": [
      "Epoch: 100%|██████████| 20/20 [09:25<00:00, 28.27s/epoch]"
     ]
    },
    {
     "name": "stdout",
     "output_type": "stream",
     "text": [
      "\tValidation set: Loss: 0.293334 Acc: 93.845881 \n"
     ]
    },
    {
     "name": "stderr",
     "output_type": "stream",
     "text": [
      "\n"
     ]
    },
    {
     "name": "stdout",
     "output_type": "stream",
     "text": [
      "\tTest set: Loss: 1.011871 Acc: 79.728618 \n",
      "OrganCMNIST DP Top1 Acc:  0.7972861842105263\n"
     ]
    }
   ],
   "source": [
    "##############################################################################################\n",
    "# Ex. 06 - Delta: OrganCMNist image classification WITH differential privacy\n",
    "##############################################################################################\n",
    "\n",
    "DELTA_EXPERIMENTAL = 1e-1\n",
    "\n",
    "train_loader_organc_dp_ex_06 = DataLoader(train_dataset_organc, batch_size=BATCH_SIZE, shuffle=True, num_workers=2)\n",
    "test_loader_organc_dp_ex_06 = DataLoader(test_dataset_organc, batch_size=BATCH_SIZE, shuffle=False, num_workers=2)\n",
    "val_loader_organc_dp_ex_06 = DataLoader(val_dataset_organc, batch_size=BATCH_SIZE, shuffle=False, num_workers=2)\n",
    "\n",
    "model_organc_dp_ex_06 = models.resnet18(num_classes=11)\n",
    "model_organc_dp_ex_06.conv1 = nn.Conv2d(1, 64, kernel_size=7, stride=2, padding=3, bias=False)\n",
    "\n",
    "model_organc_dp_ex_06 = ModuleValidator.fix(model_organc_dp_ex_06)\n",
    "ModuleValidator.validate(model_organc_dp_ex_06, strict=False)\n",
    "\n",
    "model_organc_dp_ex_06 = model_organc_dp_ex_06.to(device)\n",
    "\n",
    "optimizer_organc_dp_ex_06 = optim.Adam(model_organc_dp_ex_06.parameters(), lr=LR)\n",
    "\n",
    "print(\n",
    "    f\"Before make_private(). \"\n",
    "    f\"Model:{type(model_organc_dp_ex_06)}, Optimizer:{type(optimizer_organc_dp_ex_06)}, DataLoader:{type(train_loader_organc_dp_ex_06)}\"\n",
    ")\n",
    "\n",
    "# Now we initialize a privacy engine and attach it\n",
    "privacy_engine = PrivacyEngine()\n",
    "model_organc_dp_ex_06, optimizer_organc_dp_ex_06, train_loader_organc_dp_ex_06 = privacy_engine.make_private_with_epsilon(\n",
    "    module=model_organc_dp_ex_06,\n",
    "    optimizer=optimizer_organc_dp_ex_06,\n",
    "    data_loader=train_loader_organc_dp_ex_06,\n",
    "    epochs=EPOCHS,\n",
    "    target_epsilon=EPSILON,\n",
    "    target_delta=DELTA_EXPERIMENTAL,\n",
    "    max_grad_norm=MAX_GRAD_NORM,\n",
    ")\n",
    "print(f\"Using sigma={optimizer_organc_dp_ex_06.noise_multiplier} and C={MAX_GRAD_NORM}\")\n",
    "\n",
    "print(\"=\"*20)\n",
    "\n",
    "print(\n",
    "    f\"After make_private(). \"\n",
    "    f\"Model:{type(model_organc_dp_ex_06)}, Optimizer:{type(optimizer_organc_dp_ex_06)}, DataLoader:{type(train_loader_organc_dp_ex_06)}\"\n",
    ")\n",
    "# Now it's business as usual\n",
    "\n",
    "for epoch in tqdm(range(EPOCHS), desc=\"Epoch\", unit=\"epoch\"):\n",
    "    train_dp(model_organc_dp_ex_06, train_loader_organc_dp_ex_06, optimizer_organc_dp_ex_06, epoch + 1, device, privacy_engine)\n",
    "    if (epoch + 1) % 5 == 0:\n",
    "        eval_dp(model_organc_dp_ex_06, val_loader_organc_dp_ex_06, device)\n",
    "\n",
    "top1_acc_organc_dp_ex_06 = test_dp(model_organc_dp_ex_06, test_loader_organc_dp_ex_06, device)\n",
    "print(\"OrganCMNIST DP Top1 Acc: \", top1_acc_organc_dp_ex_06)\n",
    "torch.save(model_organc_dp_ex_06, 'organcmnist_dp_ex_06.pt')"
   ]
  }
 ],
 "metadata": {
  "kernelspec": {
   "display_name": "aiinmed1",
   "language": "python",
   "name": "python3"
  },
  "language_info": {
   "codemirror_mode": {
    "name": "ipython",
    "version": 3
   },
   "file_extension": ".py",
   "mimetype": "text/x-python",
   "name": "python",
   "nbconvert_exporter": "python",
   "pygments_lexer": "ipython3",
   "version": "3.10.13"
  }
 },
 "nbformat": 4,
 "nbformat_minor": 2
}
