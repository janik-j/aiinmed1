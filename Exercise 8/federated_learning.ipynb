{
  "cells": [
    {
      "cell_type": "code",
      "execution_count": 9,
      "metadata": {
        "colab": {
          "base_uri": "https://localhost:8080/"
        },
        "id": "Spc8OxXTS3p0",
        "outputId": "72af3e71-9ffc-4c82-9c69-9c7e06cc0cb1"
      },
      "outputs": [
        {
          "name": "stdout",
          "output_type": "stream",
          "text": [
            "Requirement already satisfied: medmnist in /opt/homebrew/lib/python3.11/site-packages (2.2.3)\n",
            "Requirement already satisfied: numpy in /opt/homebrew/lib/python3.11/site-packages (from medmnist) (1.26.3)\n",
            "Requirement already satisfied: pandas in /opt/homebrew/lib/python3.11/site-packages (from medmnist) (2.1.4)\n",
            "Requirement already satisfied: scikit-learn in /opt/homebrew/lib/python3.11/site-packages (from medmnist) (1.1.3)\n",
            "Requirement already satisfied: scikit-image in /opt/homebrew/lib/python3.11/site-packages (from medmnist) (0.22.0)\n",
            "Requirement already satisfied: tqdm in /opt/homebrew/lib/python3.11/site-packages (from medmnist) (4.66.1)\n",
            "Requirement already satisfied: Pillow in /opt/homebrew/lib/python3.11/site-packages (from medmnist) (10.2.0)\n",
            "Requirement already satisfied: fire in /opt/homebrew/lib/python3.11/site-packages (from medmnist) (0.5.0)\n",
            "Requirement already satisfied: torch in /opt/homebrew/lib/python3.11/site-packages (from medmnist) (2.1.2)\n",
            "Requirement already satisfied: torchvision in /opt/homebrew/lib/python3.11/site-packages (from medmnist) (0.16.2)\n",
            "Requirement already satisfied: six in /Users/julienschulz/Library/Python/3.11/lib/python/site-packages (from fire->medmnist) (1.16.0)\n",
            "Requirement already satisfied: termcolor in /opt/homebrew/lib/python3.11/site-packages (from fire->medmnist) (2.4.0)\n",
            "Requirement already satisfied: python-dateutil>=2.8.2 in /Users/julienschulz/Library/Python/3.11/lib/python/site-packages (from pandas->medmnist) (2.8.2)\n",
            "Requirement already satisfied: pytz>=2020.1 in /opt/homebrew/lib/python3.11/site-packages (from pandas->medmnist) (2023.3.post1)\n",
            "Requirement already satisfied: tzdata>=2022.1 in /opt/homebrew/lib/python3.11/site-packages (from pandas->medmnist) (2023.4)\n",
            "Requirement already satisfied: scipy>=1.8 in /opt/homebrew/lib/python3.11/site-packages (from scikit-image->medmnist) (1.11.4)\n",
            "Requirement already satisfied: networkx>=2.8 in /opt/homebrew/lib/python3.11/site-packages (from scikit-image->medmnist) (3.2.1)\n",
            "Requirement already satisfied: imageio>=2.27 in /opt/homebrew/lib/python3.11/site-packages (from scikit-image->medmnist) (2.33.1)\n",
            "Requirement already satisfied: tifffile>=2022.8.12 in /opt/homebrew/lib/python3.11/site-packages (from scikit-image->medmnist) (2023.12.9)\n",
            "Requirement already satisfied: packaging>=21 in /Users/julienschulz/Library/Python/3.11/lib/python/site-packages (from scikit-image->medmnist) (23.2)\n",
            "Requirement already satisfied: lazy_loader>=0.3 in /opt/homebrew/lib/python3.11/site-packages (from scikit-image->medmnist) (0.3)\n",
            "Requirement already satisfied: joblib>=1.0.0 in /opt/homebrew/lib/python3.11/site-packages (from scikit-learn->medmnist) (1.3.2)\n",
            "Requirement already satisfied: threadpoolctl>=2.0.0 in /opt/homebrew/lib/python3.11/site-packages (from scikit-learn->medmnist) (3.2.0)\n",
            "Requirement already satisfied: filelock in /opt/homebrew/lib/python3.11/site-packages (from torch->medmnist) (3.13.1)\n",
            "Requirement already satisfied: typing-extensions in /opt/homebrew/lib/python3.11/site-packages (from torch->medmnist) (4.9.0)\n",
            "Requirement already satisfied: sympy in /opt/homebrew/lib/python3.11/site-packages (from torch->medmnist) (1.12)\n",
            "Requirement already satisfied: jinja2 in /opt/homebrew/lib/python3.11/site-packages (from torch->medmnist) (3.1.2)\n",
            "Requirement already satisfied: fsspec in /opt/homebrew/lib/python3.11/site-packages (from torch->medmnist) (2023.12.2)\n",
            "Requirement already satisfied: requests in /opt/homebrew/lib/python3.11/site-packages (from torchvision->medmnist) (2.25.1)\n",
            "Requirement already satisfied: MarkupSafe>=2.0 in /opt/homebrew/lib/python3.11/site-packages (from jinja2->torch->medmnist) (2.1.3)\n",
            "Requirement already satisfied: chardet<5,>=3.0.2 in /opt/homebrew/lib/python3.11/site-packages (from requests->torchvision->medmnist) (4.0.0)\n",
            "Requirement already satisfied: idna<3,>=2.5 in /opt/homebrew/lib/python3.11/site-packages (from requests->torchvision->medmnist) (2.10)\n",
            "Requirement already satisfied: urllib3<1.27,>=1.21.1 in /opt/homebrew/lib/python3.11/site-packages (from requests->torchvision->medmnist) (1.26.18)\n",
            "Requirement already satisfied: certifi>=2017.4.17 in /opt/homebrew/lib/python3.11/site-packages (from requests->torchvision->medmnist) (2023.11.17)\n",
            "Requirement already satisfied: mpmath>=0.19 in /opt/homebrew/lib/python3.11/site-packages (from sympy->torch->medmnist) (1.3.0)\n",
            "\u001b[33mDEPRECATION: pytorch-lightning 1.6.0 has a non-standard dependency specifier torch>=1.8.*. pip 24.0 will enforce this behaviour change. A possible replacement is to upgrade to a newer version of pytorch-lightning or contact the author to suggest that they release a version with a conforming dependency specifiers. Discussion can be found at https://github.com/pypa/pip/issues/12063\u001b[0m\u001b[33m\n",
            "\u001b[0mzsh:1: no matches found: flwr[simulation]\n"
          ]
        }
      ],
      "source": [
        "! pip install medmnist\n",
        "! pip install -q flwr[simulation] flwr_datasets[vision] torch torchvision matplotlib\n",
        "! pip install torchattacks"
      ]
    },
    {
      "cell_type": "markdown",
      "metadata": {
        "id": "JWTwFXMYS22E"
      },
      "source": [
        "*This* code is based on the documentation at: https://flower.dev/docs/framework/tutorial-series-get-started-with-flower-pytorch.html & https://flower.dev/docs/framework/tutorial-series-use-a-federated-learning-strategy-pytorch.html"
      ]
    },
    {
      "cell_type": "markdown",
      "metadata": {
        "id": "0dCLEeyxS22G"
      },
      "source": [
        "Imports"
      ]
    },
    {
      "cell_type": "code",
      "execution_count": 10,
      "metadata": {
        "id": "1E5Fvk2GS22H"
      },
      "outputs": [
        {
          "ename": "ModuleNotFoundError",
          "evalue": "No module named 'flwr'",
          "output_type": "error",
          "traceback": [
            "\u001b[0;31m---------------------------------------------------------------------------\u001b[0m",
            "\u001b[0;31mModuleNotFoundError\u001b[0m                       Traceback (most recent call last)",
            "Cell \u001b[0;32mIn[10], line 22\u001b[0m\n\u001b[1;32m     19\u001b[0m \u001b[38;5;28;01mfrom\u001b[39;00m \u001b[38;5;21;01mtorch\u001b[39;00m\u001b[38;5;21;01m.\u001b[39;00m\u001b[38;5;21;01mutils\u001b[39;00m\u001b[38;5;21;01m.\u001b[39;00m\u001b[38;5;21;01mdata\u001b[39;00m \u001b[38;5;28;01mimport\u001b[39;00m DataLoader\n\u001b[1;32m     20\u001b[0m \u001b[38;5;28;01mfrom\u001b[39;00m \u001b[38;5;21;01mtorchvision\u001b[39;00m \u001b[38;5;28;01mimport\u001b[39;00m models\n\u001b[0;32m---> 22\u001b[0m \u001b[38;5;28;01mimport\u001b[39;00m \u001b[38;5;21;01mflwr\u001b[39;00m \u001b[38;5;28;01mas\u001b[39;00m \u001b[38;5;21;01mfl\u001b[39;00m\n\u001b[1;32m     23\u001b[0m \u001b[38;5;28;01mfrom\u001b[39;00m \u001b[38;5;21;01mflwr\u001b[39;00m\u001b[38;5;21;01m.\u001b[39;00m\u001b[38;5;21;01mcommon\u001b[39;00m \u001b[38;5;28;01mimport\u001b[39;00m Metrics\n\u001b[1;32m     25\u001b[0m \u001b[38;5;28;01mimport\u001b[39;00m \u001b[38;5;21;01mtorchattacks\u001b[39;00m\n",
            "\u001b[0;31mModuleNotFoundError\u001b[0m: No module named 'flwr'"
          ]
        }
      ],
      "source": [
        "from collections import OrderedDict\n",
        "from typing import Dict, List, Optional, Tuple\n",
        "import os\n",
        "\n",
        "import medmnist\n",
        "from medmnist import INFO\n",
        "\n",
        "import matplotlib.pyplot as plt\n",
        "from PIL import Image\n",
        "\n",
        "import torch\n",
        "import torch.nn as nn\n",
        "import torch.nn.functional as F\n",
        "\n",
        "import numpy as np\n",
        "\n",
        "from torchvision import transforms\n",
        "from torchvision.transforms import Lambda\n",
        "from torch.utils.data import DataLoader\n",
        "from torchvision import models\n",
        "\n",
        "import flwr as fl\n",
        "from flwr.common import Metrics\n",
        "\n",
        "import torchattacks\n",
        "\n",
        "import warnings\n",
        "\n",
        "DEVICE = torch.device(\"cpu\")\n",
        "if torch.cuda.is_available():\n",
        "    DEVICE = torch.device(\"cuda\")\n",
        "if torch.backends.mps.is_available():\n",
        "    DEVICE = torch.device(\"mps\")\n"
      ]
    },
    {
      "cell_type": "markdown",
      "metadata": {
        "id": "BAwoI8ubS22J"
      },
      "source": [
        "At first we load the MedMNIST chest X-ray classification dataset, set the amount of participants and IID distribute the data among them. Also transform the data to three channels."
      ]
    },
    {
      "cell_type": "code",
      "execution_count": null,
      "metadata": {
        "id": "mqmyfdcaS22J"
      },
      "outputs": [],
      "source": [
        "NUM_CLIENTS = 3\n",
        "BATCH_SIZE = 32"
      ]
    },
    {
      "cell_type": "code",
      "execution_count": null,
      "metadata": {
        "colab": {
          "base_uri": "https://localhost:8080/"
        },
        "id": "FcTFl0KhS22J",
        "outputId": "c04f0d4b-a997-42e2-a607-c8832d77a59b"
      },
      "outputs": [
        {
          "name": "stdout",
          "output_type": "stream",
          "text": [
            "Using downloaded and verified file: /root/.medmnist/chestmnist.npz\n",
            "Using downloaded and verified file: /root/.medmnist/chestmnist.npz\n",
            "Using downloaded and verified file: /root/.medmnist/chestmnist.npz\n",
            "Train set size:  78468\n",
            "Partitioned train set size:  26156\n",
            "Validation set size:  11219\n",
            "Partitioned validation set size:  3739\n",
            "Test set size:  22433\n"
          ]
        }
      ],
      "source": [
        "def load_data(num_clients, batch_size):\n",
        "    # preprocessing\n",
        "    data_transform = transforms.Compose([\n",
        "        transforms.ToTensor(),\n",
        "        transforms.Lambda(lambda x: x.repeat(3, 1, 1)),\n",
        "        transforms.Normalize((0.5, 0.5, 0.5), (0.5, 0.5, 0.5)),\n",
        "    ])\n",
        "\n",
        "    data_flag = 'chestmnist'\n",
        "    info = INFO[data_flag]\n",
        "    DataClass = getattr(medmnist, info['python_class'])\n",
        "    train_set = DataClass(split='train', transform=data_transform, target_transform=Lambda(lambda y: y[0]), download=True)\n",
        "    val_set = DataClass(split='val', transform=data_transform, target_transform=Lambda(lambda y: y[0]), download=True)\n",
        "    test_set = DataClass(split='test', transform=data_transform, target_transform=Lambda(lambda y: y[0]), download=True)\n",
        "\n",
        "    # Create train/val for each partition and wrap it into DataLoader\n",
        "    trainloaders = []\n",
        "    valloaders = []\n",
        "    for partition_id in range(num_clients):\n",
        "        partition = int(len(train_set) / num_clients)\n",
        "        indices = list(range(partition_id * partition, (partition_id + 1) * partition))\n",
        "        train_set_partition = torch.utils.data.Subset(train_set, indices)\n",
        "        trainloader = DataLoader(train_set_partition, batch_size=batch_size, shuffle=True)\n",
        "        trainloaders.append(trainloader)\n",
        "\n",
        "        partition_val = int(len(val_set) / num_clients)\n",
        "        indices_val = list(range(partition_id * partition_val, (partition_id + 1) * partition_val))\n",
        "        val_set_partition = torch.utils.data.Subset(val_set, indices_val)\n",
        "        valloader = DataLoader(val_set_partition, batch_size=batch_size, shuffle=True)\n",
        "        valloaders.append(valloader)\n",
        "    testloader = DataLoader(test_set, batch_size=batch_size, shuffle=False)\n",
        "    print(\"Train set size: \", len(train_set))\n",
        "    print(\"Partitioned train set size: \", len(train_set_partition))\n",
        "    print(\"Validation set size: \", len(val_set))\n",
        "    print(\"Partitioned validation set size: \", len(val_set_partition))\n",
        "    print(\"Test set size: \", len(test_set))\n",
        "\n",
        "    return trainloaders, valloaders, testloader\n",
        "\n",
        "trainloaders, valloaders, testloader = load_data(NUM_CLIENTS, BATCH_SIZE)"
      ]
    },
    {
      "cell_type": "markdown",
      "metadata": {
        "id": "McT1lmb5S22K"
      },
      "source": [
        "Visualize all classes in the first trainloader partition"
      ]
    },
    {
      "cell_type": "code",
      "execution_count": null,
      "metadata": {
        "colab": {
          "base_uri": "https://localhost:8080/",
          "height": 156
        },
        "id": "xmScq-aZS22L",
        "outputId": "92004e81-81e2-4e10-8334-ffd5f12ba03d"
      },
      "outputs": [
        {
          "data": {
            "image/png": "[encoded data removed]",
            "text/plain": [
              "<Figure size 3000x3000 with 14 Axes>"
            ]
          },
          "metadata": {},
          "output_type": "display_data"
        }
      ],
      "source": [
        "batch = next(iter(trainloaders[0]))\n",
        "images, labels = batch\n",
        "\n",
        "# Reshape and convert images to a NumPy array\n",
        "# matplotlib requires images with the shape (height, width, 3)\n",
        "images = images.permute(0, 2, 3, 1).numpy()\n",
        "# Denormalize\n",
        "images = images / 2 + 0.5\n",
        "images = np.clip(images, 0, 1)\n",
        "data_flag = 'chestmnist'\n",
        "info = INFO[data_flag]\n",
        "\n",
        "# Create a figure and a grid of subplots\n",
        "fig, axes = plt.subplots(1, 14, figsize=(30, 30))\n",
        "\n",
        "# Loop over the images and plot them\n",
        "for i, ax in enumerate(axes.flat):\n",
        "    ax.imshow(images[i], cmap=\"gray\")\n",
        "    ax.text(0.5, 1.15, f\"Class {i} \\n {info['label'][str(i)]}\", ha='center', va='center', transform=ax.transAxes, fontsize=15)\n",
        "\n",
        "    ax.axis('off')\n",
        "\n",
        "# Show the plot\n",
        "fig.tight_layout()\n",
        "plt.show()"
      ]
    },
    {
      "cell_type": "markdown",
      "metadata": {
        "id": "6MSC3AcPS22M"
      },
      "source": [
        "You are free to utilise any open-source framework for FL. Some recommendations from our side\n",
        "include Flower"
      ]
    },
    {
      "cell_type": "code",
      "execution_count": null,
      "metadata": {
        "colab": {
          "base_uri": "https://localhost:8080/"
        },
        "id": "5JKXXNAOS22M",
        "outputId": "66cae7e1-f0bc-4fa9-f3cd-7bfd73170b75"
      },
      "outputs": [
        {
          "name": "stderr",
          "output_type": "stream",
          "text": [
            "/usr/local/lib/python3.10/dist-packages/torchvision/models/_utils.py:208: UserWarning: The parameter 'pretrained' is deprecated since 0.13 and may be removed in the future, please use 'weights' instead.\n",
            "  warnings.warn(\n",
            "/usr/local/lib/python3.10/dist-packages/torchvision/models/_utils.py:223: UserWarning: Arguments other than a weight enum or `None` for 'weights' are deprecated since 0.13 and may be removed in the future. The current behavior is equivalent to passing `weights=None`.\n",
            "  warnings.warn(msg)\n"
          ]
        }
      ],
      "source": [
        "model = models.resnet18(pretrained=False)"
      ]
    },
    {
      "cell_type": "code",
      "execution_count": null,
      "metadata": {
        "id": "3--PEW-RS22M"
      },
      "outputs": [],
      "source": [
        "def train(net, trainloader, learning_rate, epochs: int, verbose=False):\n",
        "    \"\"\"Train the network on the training set.\"\"\"\n",
        "    criterion = torch.nn.CrossEntropyLoss()\n",
        "    optimizer = torch.optim.Adam(net.parameters(), lr=learning_rate)\n",
        "    net.train()\n",
        "    for epoch in range(epochs):\n",
        "        correct, total, epoch_loss = 0, 0, 0.0\n",
        "        for batch in trainloader:\n",
        "            images, labels = batch\n",
        "            images, labels = images.to(DEVICE), labels.to(DEVICE).long()\n",
        "            optimizer.zero_grad()\n",
        "            outputs = net(images)\n",
        "            loss = criterion(outputs, labels)\n",
        "            loss.backward()\n",
        "            optimizer.step()\n",
        "            # Metrics\n",
        "            epoch_loss += loss\n",
        "            total += labels.size(0)\n",
        "            correct += (torch.max(outputs.data, 1)[1] == labels).sum().item()\n",
        "        epoch_loss /= len(trainloader.dataset)\n",
        "        epoch_acc = correct / total\n",
        "        if verbose:\n",
        "            print(f\"Epoch {epoch+1}: train loss {epoch_loss}, accuracy {epoch_acc}\")\n",
        "    return epoch_loss, epoch_acc\n",
        "\n",
        "\n",
        "def test(net, testloader):\n",
        "    \"\"\"Evaluate the network on the entire test set.\"\"\"\n",
        "    criterion = torch.nn.CrossEntropyLoss()\n",
        "    correct, total, loss = 0, 0, 0.0\n",
        "    net.eval()\n",
        "    with torch.no_grad():\n",
        "        for batch in testloader:\n",
        "            images, labels = batch\n",
        "            images, labels = images.to(DEVICE), labels.to(DEVICE).long()\n",
        "            outputs = net(images)\n",
        "            loss += criterion(outputs, labels).item()\n",
        "            _, predicted = torch.max(outputs.data, 1)\n",
        "            total += labels.size(0)\n",
        "            correct += (predicted == labels).sum().item()\n",
        "    loss /= len(testloader.dataset)\n",
        "    accuracy = correct / total\n",
        "    return loss, accuracy"
      ]
    },
    {
      "cell_type": "markdown",
      "metadata": {
        "id": "ATCKo4hyS22N"
      },
      "source": [
        "Train the model for 1 epoch to see if the training process works."
      ]
    },
    {
      "cell_type": "code",
      "execution_count": null,
      "metadata": {
        "colab": {
          "base_uri": "https://localhost:8080/"
        },
        "id": "aD-FzsBYS22N",
        "outputId": "dbb98b8b-fc8b-4050-a3c3-dc1ac5358307"
      },
      "outputs": [
        {
          "name": "stdout",
          "output_type": "stream",
          "text": [
            "Epoch 1: validation loss 0.0096414145475787, accuracy 0.9042524739235089\n",
            "Final test set performance:\n",
            "\tloss 0.010381991945657814\n",
            "\taccuracy 0.8921232113404359\n"
          ]
        }
      ],
      "source": [
        "trainloader = trainloaders[0]\n",
        "valloader = valloaders[0]\n",
        "net = model.to(DEVICE)\n",
        "\n",
        "for epoch in range(1):\n",
        "    train(net, trainloader, 0.001, 1)\n",
        "    loss, accuracy = test(net, valloader)\n",
        "    print(f\"Epoch {epoch+1}: validation loss {loss}, accuracy {accuracy}\")\n",
        "\n",
        "loss, accuracy = test(net, testloader)\n",
        "print(f\"Final test set performance:\\n\\tloss {loss}\\n\\taccuracy {accuracy}\")"
      ]
    },
    {
      "cell_type": "code",
      "execution_count": null,
      "metadata": {
        "id": "pLYRq2lfS22N"
      },
      "outputs": [],
      "source": [
        "def get_parameters(net) -> List[np.ndarray]:\n",
        "    return [val.cpu().numpy() for _, val in net.state_dict().items()]\n",
        "\n",
        "def set_parameters(net, parameters: List[np.ndarray]):\n",
        "    params_dict = zip(net.state_dict().keys(), parameters)\n",
        "    state_dict = OrderedDict({k: torch.from_numpy(v) for k, v in params_dict})\n",
        "    net.load_state_dict(state_dict, strict=False)\n",
        "\n",
        "class FlowerClient(fl.client.NumPyClient):\n",
        "    def __init__(self, cid, net, trainloader, valloader, client_metrics):\n",
        "        self.cid = cid\n",
        "        self.net = net\n",
        "        self.trainloader = trainloader\n",
        "        self.valloader = valloader\n",
        "        self.client_metrics = client_metrics\n",
        "\n",
        "    def get_parameters(self, config):\n",
        "        print(f\"[Client {self.cid}] get_parameters\")\n",
        "        return get_parameters(self.net)\n",
        "\n",
        "    def fit(self, parameters, config):\n",
        "        # Read values from config\n",
        "        server_round = config[\"server_round\"]\n",
        "        local_epochs = config[\"local_epochs\"]\n",
        "        learning_rate = config[\"learning_rate\"]\n",
        "\n",
        "        # Use values provided by the config\n",
        "        set_parameters(self.net, parameters)\n",
        "        train_loss, train_acc = train(self.net, self.trainloader, learning_rate=learning_rate, epochs=local_epochs)\n",
        "        return get_parameters(self.net), len(self.trainloader), {}\n",
        "\n",
        "    def evaluate(self, parameters, config):\n",
        "        set_parameters(self.net, parameters)\n",
        "        loss, accuracy = test(self.net, self.valloader)\n",
        "        self.client_metrics[\"test_loss\"].append(loss)\n",
        "        self.client_metrics[\"test_accuracy\"].append(accuracy)\n",
        "        print(f\"Client {self.cid} test loss: {loss}, test accuracy: {accuracy},  evaluate: {config}\")\n",
        "        return float(loss), len(self.valloader), {\"cid\" : self.cid, \"accuracy\": float(accuracy), \"test_loss\": float(loss), \"config\" : config}"
      ]
    },
    {
      "cell_type": "code",
      "execution_count": null,
      "metadata": {
        "id": "6cfbFHUES22N"
      },
      "outputs": [],
      "source": [
        "def client_fn(cid) -> FlowerClient:\n",
        "    net = model.to(DEVICE)\n",
        "    trainloader = trainloaders[int(cid)]\n",
        "    valloader = valloaders[int(cid)]\n",
        "\n",
        "    client_metrics = {\n",
        "        \"train_loss\": [],\n",
        "        \"train_accuracy\": [],\n",
        "        \"test_loss\": [],\n",
        "        \"test_accuracy\": [],\n",
        "    }\n",
        "\n",
        "    return FlowerClient(cid, net, trainloader, valloader, client_metrics)"
      ]
    },
    {
      "cell_type": "code",
      "execution_count": null,
      "metadata": {
        "colab": {
          "base_uri": "https://localhost:8080/"
        },
        "id": "3NmbyDzaS22O",
        "outputId": "6ef2fa5f-28b4-4b03-d84c-587734b539e6"
      },
      "outputs": [
        {
          "name": "stdout",
          "output_type": "stream",
          "text": [
            "Number of available GPUs: 1\n",
            "Number of available CPUs: 2\n"
          ]
        }
      ],
      "source": [
        "# Check for available GPUs\n",
        "num_gpus = torch.cuda.device_count()\n",
        "print(f\"Number of available GPUs: {num_gpus}\")\n",
        "\n",
        "# Check for available CPUs\n",
        "num_cpus = os.cpu_count()\n",
        "print(f\"Number of available CPUs: {num_cpus}\")"
      ]
    },
    {
      "cell_type": "markdown",
      "metadata": {
        "id": "10IGse-AS22O"
      },
      "source": [
        "The code below creates a FedAvg strategy with parameters set to ensure synchronous updates from all three clients.\n",
        "The `fraction_fit` and `fraction_evaluate` parameters are set to 1, meaning all available clients are selected for\n",
        "each round of training and evaluation. The `min_fit_clients`, `min_evaluate_clients`, and `min_available_clients`\n",
        "parameters are set to 3, ensuring that all 3 clients are required for the training and evaluation processes."
      ]
    },
    {
      "cell_type": "code",
      "execution_count": null,
      "metadata": {
        "id": "kM1tEGVPAIiZ"
      },
      "outputs": [],
      "source": [
        "def individual_metrics(metrics: List[Tuple[int, Metrics]]) -> Metrics:\n",
        "    # Extract loss, accuracy, and cid from each client's metrics\n",
        "    individual_metrics = [{\"loss\": m[\"test_loss\"], \"accuracy\": m[\"accuracy\"], \"cid\": m[\"cid\"], \"config\": m[\"config\"]} for _, m in metrics]\n",
        "\n",
        "    # Return individual metrics\n",
        "    return {\"individual_metrics\": individual_metrics}"
      ]
    },
    {
      "cell_type": "code",
      "execution_count": null,
      "metadata": {
        "colab": {
          "base_uri": "https://localhost:8080/"
        },
        "id": "JXLC0MDXSs72",
        "outputId": "b63d2519-da65-493a-fa9e-f4a88edf32de"
      },
      "outputs": [
        {
          "name": "stdout",
          "output_type": "stream",
          "text": [
            "Using downloaded and verified file: /root/.medmnist/chestmnist.npz\n",
            "Using downloaded and verified file: /root/.medmnist/chestmnist.npz\n",
            "Using downloaded and verified file: /root/.medmnist/chestmnist.npz\n",
            "Train set size:  78468\n",
            "Partitioned train set size:  7846\n",
            "Validation set size:  11219\n",
            "Partitioned validation set size:  1121\n",
            "Test set size:  22433\n"
          ]
        },
        {
          "name": "stderr",
          "output_type": "stream",
          "text": [
            "INFO flwr 2024-01-23 17:16:56,046 | app.py:178 | Starting Flower simulation, config: ServerConfig(num_rounds=5, round_timeout=None)\n",
            "INFO:flwr:Starting Flower simulation, config: ServerConfig(num_rounds=5, round_timeout=None)\n",
            "2024-01-23 17:16:58,641\tINFO worker.py:1621 -- Started a local Ray instance.\n",
            "INFO flwr 2024-01-23 17:17:00,795 | app.py:213 | Flower VCE: Ray initialized with resources: {'memory': 7678021632.0, 'object_store_memory': 3839010816.0, 'CPU': 2.0, 'node:__internal_head__': 1.0, 'node:172.28.0.12': 1.0, 'GPU': 1.0}\n",
            "INFO:flwr:Flower VCE: Ray initialized with resources: {'memory': 7678021632.0, 'object_store_memory': 3839010816.0, 'CPU': 2.0, 'node:__internal_head__': 1.0, 'node:172.28.0.12': 1.0, 'GPU': 1.0}\n",
            "INFO flwr 2024-01-23 17:17:00,799 | app.py:219 | Optimize your simulation with Flower VCE: https://flower.dev/docs/framework/how-to-run-simulations.html\n",
            "INFO:flwr:Optimize your simulation with Flower VCE: https://flower.dev/docs/framework/how-to-run-simulations.html\n",
            "INFO flwr 2024-01-23 17:17:00,800 | app.py:242 | Flower VCE: Resources for each Virtual Client: {'num_cpus': 0.6, 'num_gpus': 0.3}\n",
            "INFO:flwr:Flower VCE: Resources for each Virtual Client: {'num_cpus': 0.6, 'num_gpus': 0.3}\n",
            "INFO flwr 2024-01-23 17:17:00,845 | app.py:288 | Flower VCE: Creating VirtualClientEngineActorPool with 3 actors\n",
            "INFO:flwr:Flower VCE: Creating VirtualClientEngineActorPool with 3 actors\n",
            "INFO flwr 2024-01-23 17:17:00,849 | server.py:89 | Initializing global parameters\n",
            "INFO:flwr:Initializing global parameters\n",
            "INFO flwr 2024-01-23 17:17:00,852 | server.py:272 | Using initial parameters provided by strategy\n",
            "INFO:flwr:Using initial parameters provided by strategy\n",
            "INFO flwr 2024-01-23 17:17:00,854 | server.py:91 | Evaluating initial parameters\n",
            "INFO:flwr:Evaluating initial parameters\n",
            "INFO flwr 2024-01-23 17:17:00,862 | server.py:104 | FL starting\n",
            "INFO:flwr:FL starting\n",
            "DEBUG flwr 2024-01-23 17:17:00,867 | server.py:222 | fit_round 1: strategy sampled 10 clients (out of 10)\n",
            "DEBUG:flwr:fit_round 1: strategy sampled 10 clients (out of 10)\n",
            "\u001b[2m\u001b[36m(pid=39156)\u001b[0m 2024-01-23 17:17:06.064276: E external/local_xla/xla/stream_executor/cuda/cuda_dnn.cc:9261] Unable to register cuDNN factory: Attempting to register factory for plugin cuDNN when one has already been registered\n",
            "\u001b[2m\u001b[36m(pid=39156)\u001b[0m 2024-01-23 17:17:06.064341: E external/local_xla/xla/stream_executor/cuda/cuda_fft.cc:607] Unable to register cuFFT factory: Attempting to register factory for plugin cuFFT when one has already been registered\n",
            "\u001b[2m\u001b[36m(pid=39156)\u001b[0m 2024-01-23 17:17:06.071962: E external/local_xla/xla/stream_executor/cuda/cuda_blas.cc:1515] Unable to register cuBLAS factory: Attempting to register factory for plugin cuBLAS when one has already been registered\n",
            "\u001b[2m\u001b[36m(pid=39157)\u001b[0m 2024-01-23 17:17:08.840619: W tensorflow/compiler/tf2tensorrt/utils/py_utils.cc:38] TF-TRT Warning: Could not find TensorRT\n",
            "DEBUG flwr 2024-01-23 17:19:59,703 | server.py:236 | fit_round 1 received 10 results and 0 failures\n",
            "DEBUG:flwr:fit_round 1 received 10 results and 0 failures\n",
            "WARNING flwr 2024-01-23 17:20:00,709 | fedavg.py:242 | No fit_metrics_aggregation_fn provided\n",
            "WARNING:flwr:No fit_metrics_aggregation_fn provided\n",
            "DEBUG flwr 2024-01-23 17:20:00,716 | server.py:173 | evaluate_round 1: strategy sampled 10 clients (out of 10)\n",
            "DEBUG:flwr:evaluate_round 1: strategy sampled 10 clients (out of 10)\n"
          ]
        },
        {
          "name": "stdout",
          "output_type": "stream",
          "text": [
            "\u001b[2m\u001b[36m(DefaultActor pid=39156)\u001b[0m Client 6 test loss: 0.010840748286374864, test accuracy: 0.8983050847457628,  evaluate: {}\n"
          ]
        },
        {
          "name": "stderr",
          "output_type": "stream",
          "text": [
            "DEBUG flwr 2024-01-23 17:20:08,773 | server.py:187 | evaluate_round 1 received 10 results and 0 failures\n",
            "DEBUG:flwr:evaluate_round 1 received 10 results and 0 failures\n",
            "DEBUG flwr 2024-01-23 17:20:08,775 | server.py:222 | fit_round 2: strategy sampled 10 clients (out of 10)\n",
            "DEBUG:flwr:fit_round 2: strategy sampled 10 clients (out of 10)\n"
          ]
        },
        {
          "name": "stdout",
          "output_type": "stream",
          "text": [
            "\u001b[2m\u001b[36m(DefaultActor pid=39156)\u001b[0m Client 5 test loss: 0.011987754774348849, test accuracy: 0.8831400535236396,  evaluate: {}\u001b[32m [repeated 9x across cluster] (Ray deduplicates logs by default. Set RAY_DEDUP_LOGS=0 to disable log deduplication, or see https://docs.ray.io/en/master/ray-observability/ray-logging.html#log-deduplication for more options.)\u001b[0m\n"
          ]
        },
        {
          "name": "stderr",
          "output_type": "stream",
          "text": [
            "DEBUG flwr 2024-01-23 17:22:50,820 | server.py:236 | fit_round 2 received 10 results and 0 failures\n",
            "DEBUG:flwr:fit_round 2 received 10 results and 0 failures\n",
            "DEBUG flwr 2024-01-23 17:22:51,390 | server.py:173 | evaluate_round 2: strategy sampled 10 clients (out of 10)\n",
            "DEBUG:flwr:evaluate_round 2: strategy sampled 10 clients (out of 10)\n"
          ]
        },
        {
          "name": "stdout",
          "output_type": "stream",
          "text": [
            "\u001b[2m\u001b[36m(DefaultActor pid=39252)\u001b[0m Client 5 test loss: 0.012531198142470258, test accuracy: 0.8831400535236396,  evaluate: {}\n",
            "\u001b[2m\u001b[36m(DefaultActor pid=39157)\u001b[0m Client 2 test loss: 0.008548189522856372, test accuracy: 0.9161462979482605,  evaluate: {}\n"
          ]
        },
        {
          "name": "stderr",
          "output_type": "stream",
          "text": [
            "DEBUG flwr 2024-01-23 17:22:57,458 | server.py:187 | evaluate_round 2 received 10 results and 0 failures\n",
            "DEBUG:flwr:evaluate_round 2 received 10 results and 0 failures\n",
            "DEBUG flwr 2024-01-23 17:22:57,462 | server.py:222 | fit_round 3: strategy sampled 10 clients (out of 10)\n",
            "DEBUG:flwr:fit_round 3: strategy sampled 10 clients (out of 10)\n",
            "DEBUG flwr 2024-01-23 17:25:34,971 | server.py:236 | fit_round 3 received 10 results and 0 failures\n",
            "DEBUG:flwr:fit_round 3 received 10 results and 0 failures\n",
            "DEBUG flwr 2024-01-23 17:25:35,539 | server.py:173 | evaluate_round 3: strategy sampled 10 clients (out of 10)\n",
            "DEBUG:flwr:evaluate_round 3: strategy sampled 10 clients (out of 10)\n"
          ]
        },
        {
          "name": "stdout",
          "output_type": "stream",
          "text": [
            "\u001b[2m\u001b[36m(DefaultActor pid=39157)\u001b[0m Client 1 test loss: 0.009434814748489676, test accuracy: 0.8974130240856378,  evaluate: {}\u001b[32m [repeated 9x across cluster]\u001b[0m\n",
            "\u001b[2m\u001b[36m(DefaultActor pid=39252)\u001b[0m Client 3 test loss: 0.009222118185632044, test accuracy: 0.8965209634255129,  evaluate: {}\u001b[32m [repeated 8x across cluster]\u001b[0m\n"
          ]
        },
        {
          "name": "stderr",
          "output_type": "stream",
          "text": [
            "DEBUG flwr 2024-01-23 17:25:42,524 | server.py:187 | evaluate_round 3 received 10 results and 0 failures\n",
            "DEBUG:flwr:evaluate_round 3 received 10 results and 0 failures\n",
            "DEBUG flwr 2024-01-23 17:25:42,528 | server.py:222 | fit_round 4: strategy sampled 10 clients (out of 10)\n",
            "DEBUG:flwr:fit_round 4: strategy sampled 10 clients (out of 10)\n",
            "DEBUG flwr 2024-01-23 17:28:22,706 | server.py:236 | fit_round 4 received 10 results and 0 failures\n",
            "DEBUG:flwr:fit_round 4 received 10 results and 0 failures\n",
            "DEBUG flwr 2024-01-23 17:28:23,279 | server.py:173 | evaluate_round 4: strategy sampled 10 clients (out of 10)\n",
            "DEBUG:flwr:evaluate_round 4: strategy sampled 10 clients (out of 10)\n"
          ]
        },
        {
          "name": "stdout",
          "output_type": "stream",
          "text": [
            "\u001b[2m\u001b[36m(DefaultActor pid=39156)\u001b[0m Client 8 test loss: 0.00813408992872187, test accuracy: 0.9152542372881356,  evaluate: {}\u001b[32m [repeated 2x across cluster]\u001b[0m\n"
          ]
        },
        {
          "name": "stderr",
          "output_type": "stream",
          "text": [
            "DEBUG flwr 2024-01-23 17:28:29,596 | server.py:187 | evaluate_round 4 received 10 results and 0 failures\n",
            "DEBUG:flwr:evaluate_round 4 received 10 results and 0 failures\n",
            "DEBUG flwr 2024-01-23 17:28:29,600 | server.py:222 | fit_round 5: strategy sampled 10 clients (out of 10)\n",
            "DEBUG:flwr:fit_round 5: strategy sampled 10 clients (out of 10)\n",
            "DEBUG flwr 2024-01-23 17:31:07,851 | server.py:236 | fit_round 5 received 10 results and 0 failures\n",
            "DEBUG:flwr:fit_round 5 received 10 results and 0 failures\n",
            "DEBUG flwr 2024-01-23 17:31:08,479 | server.py:173 | evaluate_round 5: strategy sampled 10 clients (out of 10)\n",
            "DEBUG:flwr:evaluate_round 5: strategy sampled 10 clients (out of 10)\n"
          ]
        },
        {
          "name": "stdout",
          "output_type": "stream",
          "text": [
            "\u001b[2m\u001b[36m(DefaultActor pid=39157)\u001b[0m Client 2 test loss: 0.008668303589380606, test accuracy: 0.9161462979482605,  evaluate: {}\u001b[32m [repeated 10x across cluster]\u001b[0m\n",
            "\u001b[2m\u001b[36m(DefaultActor pid=39156)\u001b[0m Client 8 test loss: 0.008148641361257628, test accuracy: 0.9152542372881356,  evaluate: {}\u001b[32m [repeated 7x across cluster]\u001b[0m\n"
          ]
        },
        {
          "name": "stderr",
          "output_type": "stream",
          "text": [
            "DEBUG flwr 2024-01-23 17:31:15,877 | server.py:187 | evaluate_round 5 received 10 results and 0 failures\n",
            "DEBUG:flwr:evaluate_round 5 received 10 results and 0 failures\n",
            "INFO flwr 2024-01-23 17:31:15,884 | server.py:153 | FL finished in 855.0179640399992\n",
            "INFO:flwr:FL finished in 855.0179640399992\n",
            "INFO flwr 2024-01-23 17:31:15,912 | app.py:226 | app_fit: losses_distributed [(1, 0.010569960403652408), (2, 0.009948985624383806), (3, 0.00956983541543068), (4, 0.009257167327248081), (5, 0.00968390603538978)]\n",
            "INFO:flwr:app_fit: losses_distributed [(1, 0.010569960403652408), (2, 0.009948985624383806), (3, 0.00956983541543068), (4, 0.009257167327248081), (5, 0.00968390603538978)]\n",
            "INFO flwr 2024-01-23 17:31:15,919 | app.py:227 | app_fit: metrics_distributed_fit {}\n",
            "INFO:flwr:app_fit: metrics_distributed_fit {}\n",
            "INFO flwr 2024-01-23 17:31:15,922 | app.py:228 | app_fit: metrics_distributed {'individual_metrics': [(1, [{'loss': 0.010222854808863521, 'accuracy': 0.9054415700267618, 'cid': '0', 'config': {}}, {'loss': 0.010809505905002275, 'accuracy': 0.8965209634255129, 'cid': '3', 'config': {}}, {'loss': 0.011987754774348849, 'accuracy': 0.8831400535236396, 'cid': '5', 'config': {}}, {'loss': 0.010614082622645052, 'accuracy': 0.8974130240856378, 'cid': '1', 'config': {}}, {'loss': 0.009377983268300515, 'accuracy': 0.9152542372881356, 'cid': '8', 'config': {}}, {'loss': 0.010311168733980908, 'accuracy': 0.903657448706512, 'cid': '9', 'config': {}}, {'loss': 0.010597858581289876, 'accuracy': 0.8983050847457628, 'cid': '7', 'config': {}}, {'loss': 0.011566252313906544, 'accuracy': 0.8893844781445138, 'cid': '4', 'config': {}}, {'loss': 0.009371394741811676, 'accuracy': 0.9161462979482605, 'cid': '2', 'config': {}}, {'loss': 0.010840748286374864, 'accuracy': 0.8983050847457628, 'cid': '6', 'config': {}}]), (2, [{'loss': 0.012531198142470258, 'accuracy': 0.8831400535236396, 'cid': '5', 'config': {}}, {'loss': 0.009743335431675949, 'accuracy': 0.8983050847457628, 'cid': '6', 'config': {}}, {'loss': 0.009564486564029868, 'accuracy': 0.8983050847457628, 'cid': '7', 'config': {}}, {'loss': 0.00936688953989005, 'accuracy': 0.903657448706512, 'cid': '9', 'config': {}}, {'loss': 0.010496629669557821, 'accuracy': 0.8893844781445138, 'cid': '4', 'config': {}}, {'loss': 0.009611312112206864, 'accuracy': 0.8965209634255129, 'cid': '3', 'config': {}}, {'loss': 0.008548189522856372, 'accuracy': 0.9161462979482605, 'cid': '2', 'config': {}}, {'loss': 0.009702502737398344, 'accuracy': 0.8974130240856378, 'cid': '1', 'config': {}}, {'loss': 0.008344075410734002, 'accuracy': 0.9152542372881356, 'cid': '8', 'config': {}}, {'loss': 0.01158123711301853, 'accuracy': 0.9054415700267618, 'cid': '0', 'config': {}}]), (3, [{'loss': 0.010309582361810236, 'accuracy': 0.8831400535236396, 'cid': '5', 'config': {}}, {'loss': 0.009434814748489676, 'accuracy': 0.8974130240856378, 'cid': '1', 'config': {}}, {'loss': 0.01014010726667801, 'accuracy': 0.8893844781445138, 'cid': '4', 'config': {}}, {'loss': 0.01046957757513402, 'accuracy': 0.9152542372881356, 'cid': '8', 'config': {}}, {'loss': 0.009612531021543106, 'accuracy': 0.8983050847457628, 'cid': '6', 'config': {}}, {'loss': 0.008554374887196748, 'accuracy': 0.9161462979482605, 'cid': '2', 'config': {}}, {'loss': 0.009409276138821636, 'accuracy': 0.8983050847457628, 'cid': '7', 'config': {}}, {'loss': 0.009308007681189, 'accuracy': 0.903657448706512, 'cid': '9', 'config': {}}, {'loss': 0.009222118185632044, 'accuracy': 0.8965209634255129, 'cid': '3', 'config': {}}, {'loss': 0.00923796428781232, 'accuracy': 0.9054415700267618, 'cid': '0', 'config': {}}]), (4, [{'loss': 0.00813408992872187, 'accuracy': 0.9152542372881356, 'cid': '8', 'config': {}}, {'loss': 0.009214325668311027, 'accuracy': 0.8974130240856378, 'cid': '1', 'config': {}}, {'loss': 0.010193545760106658, 'accuracy': 0.8893844781445138, 'cid': '4', 'config': {}}, {'loss': 0.009213275858512636, 'accuracy': 0.9054415700267618, 'cid': '0', 'config': {}}, {'loss': 0.010199131741521615, 'accuracy': 0.8831400535236396, 'cid': '5', 'config': {}}, {'loss': 0.009247209507902214, 'accuracy': 0.8983050847457628, 'cid': '7', 'config': {}}, {'loss': 0.009009545560956107, 'accuracy': 0.8965209634255129, 'cid': '3', 'config': {}}, {'loss': 0.009322060725712329, 'accuracy': 0.903657448706512, 'cid': '9', 'config': {}}, {'loss': 0.009564047760723107, 'accuracy': 0.8983050847457628, 'cid': '6', 'config': {}}, {'loss': 0.008474440760013252, 'accuracy': 0.9161462979482605, 'cid': '2', 'config': {}}]), (5, [{'loss': 0.008668303589380606, 'accuracy': 0.9161462979482605, 'cid': '2', 'config': {}}, {'loss': 0.010537103762273592, 'accuracy': 0.903657448706512, 'cid': '9', 'config': {}}, {'loss': 0.009036817776502826, 'accuracy': 0.8965209634255129, 'cid': '3', 'config': {}}, {'loss': 0.009584665683951365, 'accuracy': 0.8974130240856378, 'cid': '1', 'config': {}}, {'loss': 0.010197853372099143, 'accuracy': 0.8831400535236396, 'cid': '5', 'config': {}}, {'loss': 0.009211589076309519, 'accuracy': 0.9054415700267618, 'cid': '0', 'config': {}}, {'loss': 0.008148641361257628, 'accuracy': 0.9152542372881356, 'cid': '8', 'config': {}}, {'loss': 0.009735614393674083, 'accuracy': 0.8983050847457628, 'cid': '6', 'config': {}}, {'loss': 0.010255936436840299, 'accuracy': 0.8893844781445138, 'cid': '4', 'config': {}}, {'loss': 0.01146253490160875, 'accuracy': 0.8983050847457628, 'cid': '7', 'config': {}}])]}\n",
            "INFO:flwr:app_fit: metrics_distributed {'individual_metrics': [(1, [{'loss': 0.010222854808863521, 'accuracy': 0.9054415700267618, 'cid': '0', 'config': {}}, {'loss': 0.010809505905002275, 'accuracy': 0.8965209634255129, 'cid': '3', 'config': {}}, {'loss': 0.011987754774348849, 'accuracy': 0.8831400535236396, 'cid': '5', 'config': {}}, {'loss': 0.010614082622645052, 'accuracy': 0.8974130240856378, 'cid': '1', 'config': {}}, {'loss': 0.009377983268300515, 'accuracy': 0.9152542372881356, 'cid': '8', 'config': {}}, {'loss': 0.010311168733980908, 'accuracy': 0.903657448706512, 'cid': '9', 'config': {}}, {'loss': 0.010597858581289876, 'accuracy': 0.8983050847457628, 'cid': '7', 'config': {}}, {'loss': 0.011566252313906544, 'accuracy': 0.8893844781445138, 'cid': '4', 'config': {}}, {'loss': 0.009371394741811676, 'accuracy': 0.9161462979482605, 'cid': '2', 'config': {}}, {'loss': 0.010840748286374864, 'accuracy': 0.8983050847457628, 'cid': '6', 'config': {}}]), (2, [{'loss': 0.012531198142470258, 'accuracy': 0.8831400535236396, 'cid': '5', 'config': {}}, {'loss': 0.009743335431675949, 'accuracy': 0.8983050847457628, 'cid': '6', 'config': {}}, {'loss': 0.009564486564029868, 'accuracy': 0.8983050847457628, 'cid': '7', 'config': {}}, {'loss': 0.00936688953989005, 'accuracy': 0.903657448706512, 'cid': '9', 'config': {}}, {'loss': 0.010496629669557821, 'accuracy': 0.8893844781445138, 'cid': '4', 'config': {}}, {'loss': 0.009611312112206864, 'accuracy': 0.8965209634255129, 'cid': '3', 'config': {}}, {'loss': 0.008548189522856372, 'accuracy': 0.9161462979482605, 'cid': '2', 'config': {}}, {'loss': 0.009702502737398344, 'accuracy': 0.8974130240856378, 'cid': '1', 'config': {}}, {'loss': 0.008344075410734002, 'accuracy': 0.9152542372881356, 'cid': '8', 'config': {}}, {'loss': 0.01158123711301853, 'accuracy': 0.9054415700267618, 'cid': '0', 'config': {}}]), (3, [{'loss': 0.010309582361810236, 'accuracy': 0.8831400535236396, 'cid': '5', 'config': {}}, {'loss': 0.009434814748489676, 'accuracy': 0.8974130240856378, 'cid': '1', 'config': {}}, {'loss': 0.01014010726667801, 'accuracy': 0.8893844781445138, 'cid': '4', 'config': {}}, {'loss': 0.01046957757513402, 'accuracy': 0.9152542372881356, 'cid': '8', 'config': {}}, {'loss': 0.009612531021543106, 'accuracy': 0.8983050847457628, 'cid': '6', 'config': {}}, {'loss': 0.008554374887196748, 'accuracy': 0.9161462979482605, 'cid': '2', 'config': {}}, {'loss': 0.009409276138821636, 'accuracy': 0.8983050847457628, 'cid': '7', 'config': {}}, {'loss': 0.009308007681189, 'accuracy': 0.903657448706512, 'cid': '9', 'config': {}}, {'loss': 0.009222118185632044, 'accuracy': 0.8965209634255129, 'cid': '3', 'config': {}}, {'loss': 0.00923796428781232, 'accuracy': 0.9054415700267618, 'cid': '0', 'config': {}}]), (4, [{'loss': 0.00813408992872187, 'accuracy': 0.9152542372881356, 'cid': '8', 'config': {}}, {'loss': 0.009214325668311027, 'accuracy': 0.8974130240856378, 'cid': '1', 'config': {}}, {'loss': 0.010193545760106658, 'accuracy': 0.8893844781445138, 'cid': '4', 'config': {}}, {'loss': 0.009213275858512636, 'accuracy': 0.9054415700267618, 'cid': '0', 'config': {}}, {'loss': 0.010199131741521615, 'accuracy': 0.8831400535236396, 'cid': '5', 'config': {}}, {'loss': 0.009247209507902214, 'accuracy': 0.8983050847457628, 'cid': '7', 'config': {}}, {'loss': 0.009009545560956107, 'accuracy': 0.8965209634255129, 'cid': '3', 'config': {}}, {'loss': 0.009322060725712329, 'accuracy': 0.903657448706512, 'cid': '9', 'config': {}}, {'loss': 0.009564047760723107, 'accuracy': 0.8983050847457628, 'cid': '6', 'config': {}}, {'loss': 0.008474440760013252, 'accuracy': 0.9161462979482605, 'cid': '2', 'config': {}}]), (5, [{'loss': 0.008668303589380606, 'accuracy': 0.9161462979482605, 'cid': '2', 'config': {}}, {'loss': 0.010537103762273592, 'accuracy': 0.903657448706512, 'cid': '9', 'config': {}}, {'loss': 0.009036817776502826, 'accuracy': 0.8965209634255129, 'cid': '3', 'config': {}}, {'loss': 0.009584665683951365, 'accuracy': 0.8974130240856378, 'cid': '1', 'config': {}}, {'loss': 0.010197853372099143, 'accuracy': 0.8831400535236396, 'cid': '5', 'config': {}}, {'loss': 0.009211589076309519, 'accuracy': 0.9054415700267618, 'cid': '0', 'config': {}}, {'loss': 0.008148641361257628, 'accuracy': 0.9152542372881356, 'cid': '8', 'config': {}}, {'loss': 0.009735614393674083, 'accuracy': 0.8983050847457628, 'cid': '6', 'config': {}}, {'loss': 0.010255936436840299, 'accuracy': 0.8893844781445138, 'cid': '4', 'config': {}}, {'loss': 0.01146253490160875, 'accuracy': 0.8983050847457628, 'cid': '7', 'config': {}}])]}\n",
            "INFO flwr 2024-01-23 17:31:15,926 | app.py:229 | app_fit: losses_centralized []\n",
            "INFO:flwr:app_fit: losses_centralized []\n",
            "INFO flwr 2024-01-23 17:31:15,929 | app.py:230 | app_fit: metrics_centralized {}\n",
            "INFO:flwr:app_fit: metrics_centralized {}\n"
          ]
        },
        {
          "data": {
            "text/plain": [
              "History (loss, distributed):\n",
              "\tround 1: 0.010569960403652408\n",
              "\tround 2: 0.009948985624383806\n",
              "\tround 3: 0.00956983541543068\n",
              "\tround 4: 0.009257167327248081\n",
              "\tround 5: 0.00968390603538978\n",
              "History (metrics, distributed, evaluate):\n",
              "{'individual_metrics': [(1, [{'loss': 0.010222854808863521, 'accuracy': 0.9054415700267618, 'cid': '0', 'config': {}}, {'loss': 0.010809505905002275, 'accuracy': 0.8965209634255129, 'cid': '3', 'config': {}}, {'loss': 0.011987754774348849, 'accuracy': 0.8831400535236396, 'cid': '5', 'config': {}}, {'loss': 0.010614082622645052, 'accuracy': 0.8974130240856378, 'cid': '1', 'config': {}}, {'loss': 0.009377983268300515, 'accuracy': 0.9152542372881356, 'cid': '8', 'config': {}}, {'loss': 0.010311168733980908, 'accuracy': 0.903657448706512, 'cid': '9', 'config': {}}, {'loss': 0.010597858581289876, 'accuracy': 0.8983050847457628, 'cid': '7', 'config': {}}, {'loss': 0.011566252313906544, 'accuracy': 0.8893844781445138, 'cid': '4', 'config': {}}, {'loss': 0.009371394741811676, 'accuracy': 0.9161462979482605, 'cid': '2', 'config': {}}, {'loss': 0.010840748286374864, 'accuracy': 0.8983050847457628, 'cid': '6', 'config': {}}]), (2, [{'loss': 0.012531198142470258, 'accuracy': 0.8831400535236396, 'cid': '5', 'config': {}}, {'loss': 0.009743335431675949, 'accuracy': 0.8983050847457628, 'cid': '6', 'config': {}}, {'loss': 0.009564486564029868, 'accuracy': 0.8983050847457628, 'cid': '7', 'config': {}}, {'loss': 0.00936688953989005, 'accuracy': 0.903657448706512, 'cid': '9', 'config': {}}, {'loss': 0.010496629669557821, 'accuracy': 0.8893844781445138, 'cid': '4', 'config': {}}, {'loss': 0.009611312112206864, 'accuracy': 0.8965209634255129, 'cid': '3', 'config': {}}, {'loss': 0.008548189522856372, 'accuracy': 0.9161462979482605, 'cid': '2', 'config': {}}, {'loss': 0.009702502737398344, 'accuracy': 0.8974130240856378, 'cid': '1', 'config': {}}, {'loss': 0.008344075410734002, 'accuracy': 0.9152542372881356, 'cid': '8', 'config': {}}, {'loss': 0.01158123711301853, 'accuracy': 0.9054415700267618, 'cid': '0', 'config': {}}]), (3, [{'loss': 0.010309582361810236, 'accuracy': 0.8831400535236396, 'cid': '5', 'config': {}}, {'loss': 0.009434814748489676, 'accuracy': 0.8974130240856378, 'cid': '1', 'config': {}}, {'loss': 0.01014010726667801, 'accuracy': 0.8893844781445138, 'cid': '4', 'config': {}}, {'loss': 0.01046957757513402, 'accuracy': 0.9152542372881356, 'cid': '8', 'config': {}}, {'loss': 0.009612531021543106, 'accuracy': 0.8983050847457628, 'cid': '6', 'config': {}}, {'loss': 0.008554374887196748, 'accuracy': 0.9161462979482605, 'cid': '2', 'config': {}}, {'loss': 0.009409276138821636, 'accuracy': 0.8983050847457628, 'cid': '7', 'config': {}}, {'loss': 0.009308007681189, 'accuracy': 0.903657448706512, 'cid': '9', 'config': {}}, {'loss': 0.009222118185632044, 'accuracy': 0.8965209634255129, 'cid': '3', 'config': {}}, {'loss': 0.00923796428781232, 'accuracy': 0.9054415700267618, 'cid': '0', 'config': {}}]), (4, [{'loss': 0.00813408992872187, 'accuracy': 0.9152542372881356, 'cid': '8', 'config': {}}, {'loss': 0.009214325668311027, 'accuracy': 0.8974130240856378, 'cid': '1', 'config': {}}, {'loss': 0.010193545760106658, 'accuracy': 0.8893844781445138, 'cid': '4', 'config': {}}, {'loss': 0.009213275858512636, 'accuracy': 0.9054415700267618, 'cid': '0', 'config': {}}, {'loss': 0.010199131741521615, 'accuracy': 0.8831400535236396, 'cid': '5', 'config': {}}, {'loss': 0.009247209507902214, 'accuracy': 0.8983050847457628, 'cid': '7', 'config': {}}, {'loss': 0.009009545560956107, 'accuracy': 0.8965209634255129, 'cid': '3', 'config': {}}, {'loss': 0.009322060725712329, 'accuracy': 0.903657448706512, 'cid': '9', 'config': {}}, {'loss': 0.009564047760723107, 'accuracy': 0.8983050847457628, 'cid': '6', 'config': {}}, {'loss': 0.008474440760013252, 'accuracy': 0.9161462979482605, 'cid': '2', 'config': {}}]), (5, [{'loss': 0.008668303589380606, 'accuracy': 0.9161462979482605, 'cid': '2', 'config': {}}, {'loss': 0.010537103762273592, 'accuracy': 0.903657448706512, 'cid': '9', 'config': {}}, {'loss': 0.009036817776502826, 'accuracy': 0.8965209634255129, 'cid': '3', 'config': {}}, {'loss': 0.009584665683951365, 'accuracy': 0.8974130240856378, 'cid': '1', 'config': {}}, {'loss': 0.010197853372099143, 'accuracy': 0.8831400535236396, 'cid': '5', 'config': {}}, {'loss': 0.009211589076309519, 'accuracy': 0.9054415700267618, 'cid': '0', 'config': {}}, {'loss': 0.008148641361257628, 'accuracy': 0.9152542372881356, 'cid': '8', 'config': {}}, {'loss': 0.009735614393674083, 'accuracy': 0.8983050847457628, 'cid': '6', 'config': {}}, {'loss': 0.010255936436840299, 'accuracy': 0.8893844781445138, 'cid': '4', 'config': {}}, {'loss': 0.01146253490160875, 'accuracy': 0.8983050847457628, 'cid': '7', 'config': {}}])]}"
            ]
          },
          "execution_count": 12,
          "metadata": {},
          "output_type": "execute_result"
        }
      ],
      "source": []
    },
    {
      "cell_type": "code",
      "execution_count": null,
      "metadata": {
        "colab": {
          "base_uri": "https://localhost:8080/"
        },
        "id": "T-wh6NAZTK25",
        "outputId": "45076c3c-8210-456c-bf26-78df66e9e3f7"
      },
      "outputs": [
        {
          "name": "stdout",
          "output_type": "stream",
          "text": [
            "    Round Client ID      Loss  Accuracy\n",
            "0       1         0  0.010223  0.905442\n",
            "1       1         3  0.010810  0.896521\n",
            "2       1         5  0.011988  0.883140\n",
            "3       1         1  0.010614  0.897413\n",
            "4       1         8  0.009378  0.915254\n",
            "5       1         9  0.010311  0.903657\n",
            "6       1         7  0.010598  0.898305\n",
            "7       1         4  0.011566  0.889384\n",
            "8       1         2  0.009371  0.916146\n",
            "9       1         6  0.010841  0.898305\n",
            "10      2         5  0.012531  0.883140\n",
            "11      2         6  0.009743  0.898305\n",
            "12      2         7  0.009564  0.898305\n",
            "13      2         9  0.009367  0.903657\n",
            "14      2         4  0.010497  0.889384\n",
            "15      2         3  0.009611  0.896521\n",
            "16      2         2  0.008548  0.916146\n",
            "17      2         1  0.009703  0.897413\n",
            "18      2         8  0.008344  0.915254\n",
            "19      2         0  0.011581  0.905442\n",
            "20      3         5  0.010310  0.883140\n",
            "21      3         1  0.009435  0.897413\n",
            "22      3         4  0.010140  0.889384\n",
            "23      3         8  0.010470  0.915254\n",
            "24      3         6  0.009613  0.898305\n",
            "25      3         2  0.008554  0.916146\n",
            "26      3         7  0.009409  0.898305\n",
            "27      3         9  0.009308  0.903657\n",
            "28      3         3  0.009222  0.896521\n",
            "29      3         0  0.009238  0.905442\n",
            "30      4         8  0.008134  0.915254\n",
            "31      4         1  0.009214  0.897413\n",
            "32      4         4  0.010194  0.889384\n",
            "33      4         0  0.009213  0.905442\n",
            "34      4         5  0.010199  0.883140\n",
            "35      4         7  0.009247  0.898305\n",
            "36      4         3  0.009010  0.896521\n",
            "37      4         9  0.009322  0.903657\n",
            "38      4         6  0.009564  0.898305\n",
            "39      4         2  0.008474  0.916146\n",
            "40      5         2  0.008668  0.916146\n",
            "41      5         9  0.010537  0.903657\n",
            "42      5         3  0.009037  0.896521\n",
            "43      5         1  0.009585  0.897413\n",
            "44      5         5  0.010198  0.883140\n",
            "45      5         0  0.009212  0.905442\n",
            "46      5         8  0.008149  0.915254\n",
            "47      5         6  0.009736  0.898305\n",
            "48      5         4  0.010256  0.889384\n",
            "49      5         7  0.011463  0.898305\n",
            "   Round      Loss  Accuracy\n",
            "0      1  0.010570  0.900357\n",
            "1      2  0.009949  0.900357\n",
            "2      3  0.009570  0.900357\n",
            "3      4  0.009257  0.900357\n",
            "4      5  0.009684  0.900357\n"
          ]
        }
      ],
      "source": []
    },
    {
      "cell_type": "code",
      "execution_count": null,
      "metadata": {
        "colab": {
          "base_uri": "https://localhost:8080/"
        },
        "id": "CN9aoci5YfOs",
        "outputId": "c5d7760a-f205-4a26-d1da-1b75bb1f50dc"
      },
      "outputs": [
        {
          "name": "stdout",
          "output_type": "stream",
          "text": [
            "Using downloaded and verified file: /root/.medmnist/chestmnist.npz\n",
            "Using downloaded and verified file: /root/.medmnist/chestmnist.npz\n",
            "Using downloaded and verified file: /root/.medmnist/chestmnist.npz\n",
            "Train set size:  78468\n",
            "Partitioned train set size:  26156\n",
            "Validation set size:  11219\n",
            "Partitioned validation set size:  3739\n",
            "Test set size:  22433\n"
          ]
        },
        {
          "name": "stderr",
          "output_type": "stream",
          "text": [
            "/usr/local/lib/python3.10/dist-packages/torchvision/models/_utils.py:208: UserWarning: The parameter 'pretrained' is deprecated since 0.13 and may be removed in the future, please use 'weights' instead.\n",
            "  warnings.warn(\n",
            "/usr/local/lib/python3.10/dist-packages/torchvision/models/_utils.py:223: UserWarning: Arguments other than a weight enum or `None` for 'weights' are deprecated since 0.13 and may be removed in the future. The current behavior is equivalent to passing `weights=None`.\n",
            "  warnings.warn(msg)\n",
            "INFO flwr 2024-01-23 17:33:10,493 | app.py:178 | Starting Flower simulation, config: ServerConfig(num_rounds=5, round_timeout=None)\n",
            "INFO:flwr:Starting Flower simulation, config: ServerConfig(num_rounds=5, round_timeout=None)\n",
            "2024-01-23 17:33:15,092\tINFO worker.py:1621 -- Started a local Ray instance.\n",
            "INFO flwr 2024-01-23 17:33:17,248 | app.py:213 | Flower VCE: Ray initialized with resources: {'object_store_memory': 3838568448.0, 'memory': 7677136896.0, 'CPU': 2.0, 'node:__internal_head__': 1.0, 'node:172.28.0.12': 1.0, 'GPU': 1.0}\n",
            "INFO:flwr:Flower VCE: Ray initialized with resources: {'object_store_memory': 3838568448.0, 'memory': 7677136896.0, 'CPU': 2.0, 'node:__internal_head__': 1.0, 'node:172.28.0.12': 1.0, 'GPU': 1.0}\n",
            "INFO flwr 2024-01-23 17:33:17,256 | app.py:219 | Optimize your simulation with Flower VCE: https://flower.dev/docs/framework/how-to-run-simulations.html\n",
            "INFO:flwr:Optimize your simulation with Flower VCE: https://flower.dev/docs/framework/how-to-run-simulations.html\n",
            "INFO flwr 2024-01-23 17:33:17,262 | app.py:242 | Flower VCE: Resources for each Virtual Client: {'num_cpus': 0.6, 'num_gpus': 0.3}\n",
            "INFO:flwr:Flower VCE: Resources for each Virtual Client: {'num_cpus': 0.6, 'num_gpus': 0.3}\n",
            "INFO flwr 2024-01-23 17:33:17,319 | app.py:288 | Flower VCE: Creating VirtualClientEngineActorPool with 3 actors\n",
            "INFO:flwr:Flower VCE: Creating VirtualClientEngineActorPool with 3 actors\n",
            "INFO flwr 2024-01-23 17:33:17,325 | server.py:89 | Initializing global parameters\n",
            "INFO:flwr:Initializing global parameters\n",
            "INFO flwr 2024-01-23 17:33:17,332 | server.py:272 | Using initial parameters provided by strategy\n",
            "INFO:flwr:Using initial parameters provided by strategy\n",
            "INFO flwr 2024-01-23 17:33:17,339 | server.py:91 | Evaluating initial parameters\n",
            "INFO:flwr:Evaluating initial parameters\n",
            "INFO flwr 2024-01-23 17:33:17,347 | server.py:104 | FL starting\n",
            "INFO:flwr:FL starting\n",
            "DEBUG flwr 2024-01-23 17:33:17,355 | server.py:222 | fit_round 1: strategy sampled 3 clients (out of 3)\n",
            "DEBUG:flwr:fit_round 1: strategy sampled 3 clients (out of 3)\n",
            "\u001b[2m\u001b[36m(pid=45480)\u001b[0m 2024-01-23 17:33:20.717109: E external/local_xla/xla/stream_executor/cuda/cuda_dnn.cc:9261] Unable to register cuDNN factory: Attempting to register factory for plugin cuDNN when one has already been registered\n",
            "\u001b[2m\u001b[36m(pid=45480)\u001b[0m 2024-01-23 17:33:20.717176: E external/local_xla/xla/stream_executor/cuda/cuda_fft.cc:607] Unable to register cuFFT factory: Attempting to register factory for plugin cuFFT when one has already been registered\n",
            "\u001b[2m\u001b[36m(pid=45480)\u001b[0m 2024-01-23 17:33:20.725803: E external/local_xla/xla/stream_executor/cuda/cuda_blas.cc:1515] Unable to register cuBLAS factory: Attempting to register factory for plugin cuBLAS when one has already been registered\n",
            "\u001b[2m\u001b[36m(pid=45480)\u001b[0m 2024-01-23 17:33:25.175450: W tensorflow/compiler/tf2tensorrt/utils/py_utils.cc:38] TF-TRT Warning: Could not find TensorRT\n",
            "\u001b[2m\u001b[36m(pid=45547)\u001b[0m 2024-01-23 17:33:21.827840: E external/local_xla/xla/stream_executor/cuda/cuda_dnn.cc:9261] Unable to register cuDNN factory: Attempting to register factory for plugin cuDNN when one has already been registered\u001b[32m [repeated 2x across cluster]\u001b[0m\n",
            "\u001b[2m\u001b[36m(pid=45547)\u001b[0m 2024-01-23 17:33:21.827902: E external/local_xla/xla/stream_executor/cuda/cuda_fft.cc:607] Unable to register cuFFT factory: Attempting to register factory for plugin cuFFT when one has already been registered\u001b[32m [repeated 2x across cluster]\u001b[0m\n",
            "\u001b[2m\u001b[36m(pid=45547)\u001b[0m 2024-01-23 17:33:21.830947: E external/local_xla/xla/stream_executor/cuda/cuda_blas.cc:1515] Unable to register cuBLAS factory: Attempting to register factory for plugin cuBLAS when one has already been registered\u001b[32m [repeated 2x across cluster]\u001b[0m\n",
            "DEBUG flwr 2024-01-23 17:36:08,652 | server.py:236 | fit_round 1 received 3 results and 0 failures\n",
            "DEBUG:flwr:fit_round 1 received 3 results and 0 failures\n",
            "WARNING flwr 2024-01-23 17:36:08,908 | fedavg.py:242 | No fit_metrics_aggregation_fn provided\n",
            "WARNING:flwr:No fit_metrics_aggregation_fn provided\n",
            "DEBUG flwr 2024-01-23 17:36:08,912 | server.py:173 | evaluate_round 1: strategy sampled 3 clients (out of 3)\n",
            "DEBUG:flwr:evaluate_round 1: strategy sampled 3 clients (out of 3)\n"
          ]
        },
        {
          "name": "stdout",
          "output_type": "stream",
          "text": [
            "\u001b[2m\u001b[36m(DefaultActor pid=45480)\u001b[0m Client 1 test loss: 0.010088723542442229, test accuracy: 0.8924846215565659,  evaluate: {}\n"
          ]
        },
        {
          "name": "stderr",
          "output_type": "stream",
          "text": [
            "DEBUG flwr 2024-01-23 17:36:13,981 | server.py:187 | evaluate_round 1 received 3 results and 0 failures\n",
            "DEBUG:flwr:evaluate_round 1 received 3 results and 0 failures\n",
            "DEBUG flwr 2024-01-23 17:36:13,984 | server.py:222 | fit_round 2: strategy sampled 3 clients (out of 3)\n",
            "DEBUG:flwr:fit_round 2: strategy sampled 3 clients (out of 3)\n",
            "DEBUG flwr 2024-01-23 17:38:47,223 | server.py:236 | fit_round 2 received 3 results and 0 failures\n",
            "DEBUG:flwr:fit_round 2 received 3 results and 0 failures\n",
            "DEBUG flwr 2024-01-23 17:38:47,413 | server.py:173 | evaluate_round 2: strategy sampled 3 clients (out of 3)\n",
            "DEBUG:flwr:evaluate_round 2: strategy sampled 3 clients (out of 3)\n",
            "DEBUG flwr 2024-01-23 17:38:52,740 | server.py:187 | evaluate_round 2 received 3 results and 0 failures\n",
            "DEBUG:flwr:evaluate_round 2 received 3 results and 0 failures\n",
            "DEBUG flwr 2024-01-23 17:38:52,743 | server.py:222 | fit_round 3: strategy sampled 3 clients (out of 3)\n",
            "DEBUG:flwr:fit_round 3: strategy sampled 3 clients (out of 3)\n"
          ]
        },
        {
          "name": "stdout",
          "output_type": "stream",
          "text": [
            "\u001b[2m\u001b[36m(DefaultActor pid=45480)\u001b[0m Client 2 test loss: 0.00900138142028254, test accuracy: 0.9042524739235089,  evaluate: {}\u001b[32m [repeated 3x across cluster]\u001b[0m\n"
          ]
        },
        {
          "name": "stderr",
          "output_type": "stream",
          "text": [
            "DEBUG flwr 2024-01-23 17:41:25,642 | server.py:236 | fit_round 3 received 3 results and 0 failures\n",
            "DEBUG:flwr:fit_round 3 received 3 results and 0 failures\n",
            "DEBUG flwr 2024-01-23 17:41:25,826 | server.py:173 | evaluate_round 3: strategy sampled 3 clients (out of 3)\n",
            "DEBUG:flwr:evaluate_round 3: strategy sampled 3 clients (out of 3)\n"
          ]
        },
        {
          "name": "stdout",
          "output_type": "stream",
          "text": [
            "\u001b[2m\u001b[36m(DefaultActor pid=45481)\u001b[0m Client 2 test loss: 0.008832662498593873, test accuracy: 0.9042524739235089,  evaluate: {}\u001b[32m [repeated 3x across cluster]\u001b[0m\n"
          ]
        },
        {
          "name": "stderr",
          "output_type": "stream",
          "text": [
            "DEBUG flwr 2024-01-23 17:41:30,396 | server.py:187 | evaluate_round 3 received 3 results and 0 failures\n",
            "DEBUG:flwr:evaluate_round 3 received 3 results and 0 failures\n",
            "DEBUG flwr 2024-01-23 17:41:30,400 | server.py:222 | fit_round 4: strategy sampled 3 clients (out of 3)\n",
            "DEBUG:flwr:fit_round 4: strategy sampled 3 clients (out of 3)\n",
            "DEBUG flwr 2024-01-23 17:44:03,802 | server.py:236 | fit_round 4 received 3 results and 0 failures\n",
            "DEBUG:flwr:fit_round 4 received 3 results and 0 failures\n",
            "DEBUG flwr 2024-01-23 17:44:03,990 | server.py:173 | evaluate_round 4: strategy sampled 3 clients (out of 3)\n",
            "DEBUG:flwr:evaluate_round 4: strategy sampled 3 clients (out of 3)\n"
          ]
        },
        {
          "name": "stdout",
          "output_type": "stream",
          "text": [
            "\u001b[2m\u001b[36m(DefaultActor pid=45481)\u001b[0m Client 2 test loss: 0.008967580126788279, test accuracy: 0.9042524739235089,  evaluate: {}\u001b[32m [repeated 3x across cluster]\u001b[0m\n"
          ]
        },
        {
          "name": "stderr",
          "output_type": "stream",
          "text": [
            "DEBUG flwr 2024-01-23 17:44:10,127 | server.py:187 | evaluate_round 4 received 3 results and 0 failures\n",
            "DEBUG:flwr:evaluate_round 4 received 3 results and 0 failures\n",
            "DEBUG flwr 2024-01-23 17:44:10,130 | server.py:222 | fit_round 5: strategy sampled 3 clients (out of 3)\n",
            "DEBUG:flwr:fit_round 5: strategy sampled 3 clients (out of 3)\n",
            "DEBUG flwr 2024-01-23 17:46:41,703 | server.py:236 | fit_round 5 received 3 results and 0 failures\n",
            "DEBUG:flwr:fit_round 5 received 3 results and 0 failures\n",
            "DEBUG flwr 2024-01-23 17:46:41,890 | server.py:173 | evaluate_round 5: strategy sampled 3 clients (out of 3)\n",
            "DEBUG:flwr:evaluate_round 5: strategy sampled 3 clients (out of 3)\n"
          ]
        },
        {
          "name": "stdout",
          "output_type": "stream",
          "text": [
            "\u001b[2m\u001b[36m(DefaultActor pid=45481)\u001b[0m Client 0 test loss: 0.009155454349712306, test accuracy: 0.9034501203530356,  evaluate: {}\u001b[32m [repeated 3x across cluster]\u001b[0m\n"
          ]
        },
        {
          "name": "stderr",
          "output_type": "stream",
          "text": [
            "DEBUG flwr 2024-01-23 17:46:46,308 | server.py:187 | evaluate_round 5 received 3 results and 0 failures\n",
            "DEBUG:flwr:evaluate_round 5 received 3 results and 0 failures\n",
            "INFO flwr 2024-01-23 17:46:46,312 | server.py:153 | FL finished in 808.9576357530004\n",
            "INFO:flwr:FL finished in 808.9576357530004\n",
            "INFO flwr 2024-01-23 17:46:46,316 | app.py:226 | app_fit: losses_distributed [(1, 0.009614832884616857), (2, 0.009248670859112398), (3, 0.009085817442036381), (4, 0.009251979604367426), (5, 0.009333740416680088)]\n",
            "INFO:flwr:app_fit: losses_distributed [(1, 0.009614832884616857), (2, 0.009248670859112398), (3, 0.009085817442036381), (4, 0.009251979604367426), (5, 0.009333740416680088)]\n",
            "INFO flwr 2024-01-23 17:46:46,318 | app.py:227 | app_fit: metrics_distributed_fit {}\n",
            "INFO:flwr:app_fit: metrics_distributed_fit {}\n",
            "INFO flwr 2024-01-23 17:46:46,320 | app.py:228 | app_fit: metrics_distributed {'individual_metrics': [(1, [{'loss': 0.010088723542442229, 'accuracy': 0.8924846215565659, 'cid': '1', 'config': {}}, {'loss': 0.009333212686815693, 'accuracy': 0.9042524739235089, 'cid': '2', 'config': {}}, {'loss': 0.009422562424592648, 'accuracy': 0.9042524739235089, 'cid': '0', 'config': {}}]), (2, [{'loss': 0.00900138142028254, 'accuracy': 0.9042524739235089, 'cid': '2', 'config': {}}, {'loss': 0.009011902148215392, 'accuracy': 0.9042524739235089, 'cid': '0', 'config': {}}, {'loss': 0.009732729008839263, 'accuracy': 0.8924846215565659, 'cid': '1', 'config': {}}]), (3, [{'loss': 0.008889004683775136, 'accuracy': 0.9042524739235089, 'cid': '0', 'config': {}}, {'loss': 0.009535785143740134, 'accuracy': 0.8924846215565659, 'cid': '1', 'config': {}}, {'loss': 0.008832662498593873, 'accuracy': 0.9042524739235089, 'cid': '2', 'config': {}}]), (4, [{'loss': 0.009034613428842132, 'accuracy': 0.9042524739235089, 'cid': '0', 'config': {}}, {'loss': 0.008967580126788279, 'accuracy': 0.9042524739235089, 'cid': '2', 'config': {}}, {'loss': 0.00975374525747187, 'accuracy': 0.8924846215565659, 'cid': '1', 'config': {}}]), (5, [{'loss': 0.009777429929851497, 'accuracy': 0.8927520727467237, 'cid': '1', 'config': {}}, {'loss': 0.009155454349712306, 'accuracy': 0.9034501203530356, 'cid': '0', 'config': {}}, {'loss': 0.009068336970476456, 'accuracy': 0.9042524739235089, 'cid': '2', 'config': {}}])]}\n",
            "INFO:flwr:app_fit: metrics_distributed {'individual_metrics': [(1, [{'loss': 0.010088723542442229, 'accuracy': 0.8924846215565659, 'cid': '1', 'config': {}}, {'loss': 0.009333212686815693, 'accuracy': 0.9042524739235089, 'cid': '2', 'config': {}}, {'loss': 0.009422562424592648, 'accuracy': 0.9042524739235089, 'cid': '0', 'config': {}}]), (2, [{'loss': 0.00900138142028254, 'accuracy': 0.9042524739235089, 'cid': '2', 'config': {}}, {'loss': 0.009011902148215392, 'accuracy': 0.9042524739235089, 'cid': '0', 'config': {}}, {'loss': 0.009732729008839263, 'accuracy': 0.8924846215565659, 'cid': '1', 'config': {}}]), (3, [{'loss': 0.008889004683775136, 'accuracy': 0.9042524739235089, 'cid': '0', 'config': {}}, {'loss': 0.009535785143740134, 'accuracy': 0.8924846215565659, 'cid': '1', 'config': {}}, {'loss': 0.008832662498593873, 'accuracy': 0.9042524739235089, 'cid': '2', 'config': {}}]), (4, [{'loss': 0.009034613428842132, 'accuracy': 0.9042524739235089, 'cid': '0', 'config': {}}, {'loss': 0.008967580126788279, 'accuracy': 0.9042524739235089, 'cid': '2', 'config': {}}, {'loss': 0.00975374525747187, 'accuracy': 0.8924846215565659, 'cid': '1', 'config': {}}]), (5, [{'loss': 0.009777429929851497, 'accuracy': 0.8927520727467237, 'cid': '1', 'config': {}}, {'loss': 0.009155454349712306, 'accuracy': 0.9034501203530356, 'cid': '0', 'config': {}}, {'loss': 0.009068336970476456, 'accuracy': 0.9042524739235089, 'cid': '2', 'config': {}}])]}\n",
            "INFO flwr 2024-01-23 17:46:46,322 | app.py:229 | app_fit: losses_centralized []\n",
            "INFO:flwr:app_fit: losses_centralized []\n",
            "INFO flwr 2024-01-23 17:46:46,330 | app.py:230 | app_fit: metrics_centralized {}\n",
            "INFO:flwr:app_fit: metrics_centralized {}\n"
          ]
        },
        {
          "data": {
            "text/plain": [
              "History (loss, distributed):\n",
              "\tround 1: 0.009614832884616857\n",
              "\tround 2: 0.009248670859112398\n",
              "\tround 3: 0.009085817442036381\n",
              "\tround 4: 0.009251979604367426\n",
              "\tround 5: 0.009333740416680088\n",
              "History (metrics, distributed, evaluate):\n",
              "{'individual_metrics': [(1, [{'loss': 0.010088723542442229, 'accuracy': 0.8924846215565659, 'cid': '1', 'config': {}}, {'loss': 0.009333212686815693, 'accuracy': 0.9042524739235089, 'cid': '2', 'config': {}}, {'loss': 0.009422562424592648, 'accuracy': 0.9042524739235089, 'cid': '0', 'config': {}}]), (2, [{'loss': 0.00900138142028254, 'accuracy': 0.9042524739235089, 'cid': '2', 'config': {}}, {'loss': 0.009011902148215392, 'accuracy': 0.9042524739235089, 'cid': '0', 'config': {}}, {'loss': 0.009732729008839263, 'accuracy': 0.8924846215565659, 'cid': '1', 'config': {}}]), (3, [{'loss': 0.008889004683775136, 'accuracy': 0.9042524739235089, 'cid': '0', 'config': {}}, {'loss': 0.009535785143740134, 'accuracy': 0.8924846215565659, 'cid': '1', 'config': {}}, {'loss': 0.008832662498593873, 'accuracy': 0.9042524739235089, 'cid': '2', 'config': {}}]), (4, [{'loss': 0.009034613428842132, 'accuracy': 0.9042524739235089, 'cid': '0', 'config': {}}, {'loss': 0.008967580126788279, 'accuracy': 0.9042524739235089, 'cid': '2', 'config': {}}, {'loss': 0.00975374525747187, 'accuracy': 0.8924846215565659, 'cid': '1', 'config': {}}]), (5, [{'loss': 0.009777429929851497, 'accuracy': 0.8927520727467237, 'cid': '1', 'config': {}}, {'loss': 0.009155454349712306, 'accuracy': 0.9034501203530356, 'cid': '0', 'config': {}}, {'loss': 0.009068336970476456, 'accuracy': 0.9042524739235089, 'cid': '2', 'config': {}}])]}"
            ]
          },
          "execution_count": 14,
          "metadata": {},
          "output_type": "execute_result"
        }
      ],
      "source": [
        "NUM_CLIENTS = 3\n",
        "BATCH_SIZE = 32\n",
        "LEARNING_RATE = 1e-4\n",
        "NUM_ROUNDS = 5\n",
        "LOCAL_EPOCHS = 3\n",
        "\n",
        "trainloaders, valloaders, testloader = load_data(NUM_CLIENTS, BATCH_SIZE)\n",
        "model = models.resnet18(pretrained=False)\n",
        "\n",
        "def fit_config(server_round: int):\n",
        "    config = {\n",
        "        \"server_round\": server_round,  # The current round of federated learning\n",
        "        \"local_epochs\": LOCAL_EPOCHS,\n",
        "        \"learning_rate\": LEARNING_RATE,\n",
        "    }\n",
        "    return config\n",
        "\n",
        "def client_fn(cid) -> FlowerClient:\n",
        "    net = model.to(DEVICE)\n",
        "    trainloader = trainloaders[int(cid)]\n",
        "    valloader = valloaders[int(cid)]\n",
        "\n",
        "    client_metrics = {\n",
        "        \"train_loss\": [],\n",
        "        \"train_accuracy\": [],\n",
        "        \"test_loss\": [],\n",
        "        \"test_accuracy\": [],\n",
        "    }\n",
        "\n",
        "    return FlowerClient(cid, net, trainloader, valloader, client_metrics)\n",
        "\n",
        "params = get_parameters(model)\n",
        "\n",
        "# Create FedAvg strategy\n",
        "strategy = fl.server.strategy.FedAvg(\n",
        "    fraction_fit = 1,\n",
        "    fraction_evaluate = 1,\n",
        "    min_fit_clients = NUM_CLIENTS,\n",
        "    min_evaluate_clients=NUM_CLIENTS,\n",
        "    min_available_clients=NUM_CLIENTS,\n",
        "    initial_parameters=fl.common.ndarrays_to_parameters(params),\n",
        "    evaluate_metrics_aggregation_fn=individual_metrics,\n",
        "    on_fit_config_fn=fit_config,\n",
        ")\n",
        "\n",
        "# Specify the resources each of your clients need. By default, each\n",
        "# client will be allocated 1x CPU and 0x GPUs\n",
        "client_resources = {\"num_cpus\": 1, \"num_gpus\": 0.0}\n",
        "if DEVICE.type == \"cuda\":\n",
        "    # here we are sharing the GPU among the clients.\n",
        "    client_resources = {\"num_cpus\": 0.6, \"num_gpus\": 0.3}\n",
        "    #client_resources = {\"num_cpus\": float(f\"{(num_cpus / NUM_CLIENTS):.1f}\"), \"num_gpus\": float(f\"{(num_gpus / NUM_CLIENTS):.1f}\")}\n",
        "\n",
        "# Start simulation\n",
        "fl.simulation.start_simulation(\n",
        "    client_fn=client_fn,\n",
        "    num_clients=NUM_CLIENTS,\n",
        "    config=fl.server.ServerConfig(num_rounds=NUM_ROUNDS),\n",
        "    strategy=strategy,\n",
        "    client_resources=client_resources,\n",
        ")"
      ]
    },
    {
      "cell_type": "code",
      "execution_count": null,
      "metadata": {
        "colab": {
          "base_uri": "https://localhost:8080/"
        },
        "id": "mFq3ze3Hagug",
        "outputId": "04827f2d-3f53-401f-90e5-d5e7e5937ddd"
      },
      "outputs": [
        {
          "name": "stdout",
          "output_type": "stream",
          "text": [
            "    Round Client ID      Loss  Accuracy\n",
            "0       1         1  0.010089  0.892485\n",
            "1       1         2  0.009333  0.904252\n",
            "2       1         0  0.009423  0.904252\n",
            "3       2         2  0.009001  0.904252\n",
            "4       2         0  0.009012  0.904252\n",
            "5       2         1  0.009733  0.892485\n",
            "6       3         0  0.008889  0.904252\n",
            "7       3         1  0.009536  0.892485\n",
            "8       3         2  0.008833  0.904252\n",
            "9       4         0  0.009035  0.904252\n",
            "10      4         2  0.008968  0.904252\n",
            "11      4         1  0.009754  0.892485\n",
            "12      5         1  0.009777  0.892752\n",
            "13      5         0  0.009155  0.903450\n",
            "14      5         2  0.009068  0.904252\n",
            "   Round      Loss  Accuracy\n",
            "0      1  0.009615  0.900330\n",
            "1      2  0.009249  0.900330\n",
            "2      3  0.009086  0.900330\n",
            "3      4  0.009252  0.900330\n",
            "4      5  0.009334  0.900152\n"
          ]
        }
      ],
      "source": [
        "import pandas as pd\n",
        "\n",
        "data_dict ={'individual_metrics': [(1, [{'loss': 0.010088723542442229, 'accuracy': 0.8924846215565659, 'cid': '1', 'config': {}}, {'loss': 0.009333212686815693, 'accuracy': 0.9042524739235089, 'cid': '2', 'config': {}}, {'loss': 0.009422562424592648, 'accuracy': 0.9042524739235089, 'cid': '0', 'config': {}}]), (2, [{'loss': 0.00900138142028254, 'accuracy': 0.9042524739235089, 'cid': '2', 'config': {}}, {'loss': 0.009011902148215392, 'accuracy': 0.9042524739235089, 'cid': '0', 'config': {}}, {'loss': 0.009732729008839263, 'accuracy': 0.8924846215565659, 'cid': '1', 'config': {}}]), (3, [{'loss': 0.008889004683775136, 'accuracy': 0.9042524739235089, 'cid': '0', 'config': {}}, {'loss': 0.009535785143740134, 'accuracy': 0.8924846215565659, 'cid': '1', 'config': {}}, {'loss': 0.008832662498593873, 'accuracy': 0.9042524739235089, 'cid': '2', 'config': {}}]), (4, [{'loss': 0.009034613428842132, 'accuracy': 0.9042524739235089, 'cid': '0', 'config': {}}, {'loss': 0.008967580126788279, 'accuracy': 0.9042524739235089, 'cid': '2', 'config': {}}, {'loss': 0.00975374525747187, 'accuracy': 0.8924846215565659, 'cid': '1', 'config': {}}]), (5, [{'loss': 0.009777429929851497, 'accuracy': 0.8927520727467237, 'cid': '1', 'config': {}}, {'loss': 0.009155454349712306, 'accuracy': 0.9034501203530356, 'cid': '0', 'config': {}}, {'loss': 0.009068336970476456, 'accuracy': 0.9042524739235089, 'cid': '2', 'config': {}}])]}\n",
        "\n",
        "# Extract data\n",
        "data = []\n",
        "for round, metrics in data_dict['individual_metrics']:\n",
        "    for metric in metrics:\n",
        "        data.append([round, metric['cid'], metric['loss'], metric['accuracy']])\n",
        "\n",
        "# Create DataFrame\n",
        "df = pd.DataFrame(data, columns=['Round', 'Client ID', 'Loss', 'Accuracy'])\n",
        "\n",
        "# Calculate average loss and accuracy after each round\n",
        "average_metrics = df.groupby('Round').agg({'Loss': 'mean', 'Accuracy': 'mean'}).reset_index()\n",
        "\n",
        "print(df)\n",
        "print(average_metrics)"
      ]
    },
    {
      "cell_type": "code",
      "execution_count": null,
      "metadata": {
        "colab": {
          "base_uri": "https://localhost:8080/"
        },
        "id": "O8Wv_BR_b1qP",
        "outputId": "1e80cb17-a3bd-4edf-b502-945efd0df117"
      },
      "outputs": [
        {
          "name": "stdout",
          "output_type": "stream",
          "text": [
            "Using downloaded and verified file: /root/.medmnist/chestmnist.npz\n",
            "Using downloaded and verified file: /root/.medmnist/chestmnist.npz\n",
            "Using downloaded and verified file: /root/.medmnist/chestmnist.npz\n",
            "Train set size:  78468\n",
            "Partitioned train set size:  26156\n",
            "Validation set size:  11219\n",
            "Partitioned validation set size:  3739\n",
            "Test set size:  22433\n"
          ]
        },
        {
          "name": "stderr",
          "output_type": "stream",
          "text": [
            "/usr/local/lib/python3.10/dist-packages/torchvision/models/_utils.py:208: UserWarning: The parameter 'pretrained' is deprecated since 0.13 and may be removed in the future, please use 'weights' instead.\n",
            "  warnings.warn(\n",
            "/usr/local/lib/python3.10/dist-packages/torchvision/models/_utils.py:223: UserWarning: Arguments other than a weight enum or `None` for 'weights' are deprecated since 0.13 and may be removed in the future. The current behavior is equivalent to passing `weights=None`.\n",
            "  warnings.warn(msg)\n",
            "INFO flwr 2024-01-23 17:47:58,362 | app.py:178 | Starting Flower simulation, config: ServerConfig(num_rounds=5, round_timeout=None)\n",
            "INFO:flwr:Starting Flower simulation, config: ServerConfig(num_rounds=5, round_timeout=None)\n",
            "2024-01-23 17:48:03,556\tINFO worker.py:1621 -- Started a local Ray instance.\n",
            "INFO flwr 2024-01-23 17:48:06,394 | app.py:213 | Flower VCE: Ray initialized with resources: {'CPU': 2.0, 'object_store_memory': 3840409190.0, 'node:__internal_head__': 1.0, 'memory': 7680818382.0, 'node:172.28.0.12': 1.0, 'GPU': 1.0}\n",
            "INFO:flwr:Flower VCE: Ray initialized with resources: {'CPU': 2.0, 'object_store_memory': 3840409190.0, 'node:__internal_head__': 1.0, 'memory': 7680818382.0, 'node:172.28.0.12': 1.0, 'GPU': 1.0}\n",
            "INFO flwr 2024-01-23 17:48:06,398 | app.py:219 | Optimize your simulation with Flower VCE: https://flower.dev/docs/framework/how-to-run-simulations.html\n",
            "INFO:flwr:Optimize your simulation with Flower VCE: https://flower.dev/docs/framework/how-to-run-simulations.html\n",
            "INFO flwr 2024-01-23 17:48:06,408 | app.py:242 | Flower VCE: Resources for each Virtual Client: {'num_cpus': 0.6, 'num_gpus': 0.3}\n",
            "INFO:flwr:Flower VCE: Resources for each Virtual Client: {'num_cpus': 0.6, 'num_gpus': 0.3}\n",
            "INFO flwr 2024-01-23 17:48:06,474 | app.py:288 | Flower VCE: Creating VirtualClientEngineActorPool with 3 actors\n",
            "INFO:flwr:Flower VCE: Creating VirtualClientEngineActorPool with 3 actors\n",
            "INFO flwr 2024-01-23 17:48:06,478 | server.py:89 | Initializing global parameters\n",
            "INFO:flwr:Initializing global parameters\n",
            "INFO flwr 2024-01-23 17:48:06,479 | server.py:272 | Using initial parameters provided by strategy\n",
            "INFO:flwr:Using initial parameters provided by strategy\n",
            "INFO flwr 2024-01-23 17:48:06,481 | server.py:91 | Evaluating initial parameters\n",
            "INFO:flwr:Evaluating initial parameters\n",
            "INFO flwr 2024-01-23 17:48:06,486 | server.py:104 | FL starting\n",
            "INFO:flwr:FL starting\n",
            "DEBUG flwr 2024-01-23 17:48:06,495 | server.py:222 | fit_round 1: strategy sampled 3 clients (out of 3)\n",
            "DEBUG:flwr:fit_round 1: strategy sampled 3 clients (out of 3)\n",
            "\u001b[2m\u001b[36m(pid=50136)\u001b[0m 2024-01-23 17:48:10.883219: E external/local_xla/xla/stream_executor/cuda/cuda_dnn.cc:9261] Unable to register cuDNN factory: Attempting to register factory for plugin cuDNN when one has already been registered\n",
            "\u001b[2m\u001b[36m(pid=50136)\u001b[0m 2024-01-23 17:48:10.883282: E external/local_xla/xla/stream_executor/cuda/cuda_fft.cc:607] Unable to register cuFFT factory: Attempting to register factory for plugin cuFFT when one has already been registered\n",
            "\u001b[2m\u001b[36m(pid=50136)\u001b[0m 2024-01-23 17:48:10.889973: E external/local_xla/xla/stream_executor/cuda/cuda_blas.cc:1515] Unable to register cuBLAS factory: Attempting to register factory for plugin cuBLAS when one has already been registered\n",
            "\u001b[2m\u001b[36m(pid=50229)\u001b[0m 2024-01-23 17:48:13.870100: W tensorflow/compiler/tf2tensorrt/utils/py_utils.cc:38] TF-TRT Warning: Could not find TensorRT\n",
            "DEBUG flwr 2024-01-23 17:51:01,437 | server.py:236 | fit_round 1 received 3 results and 0 failures\n",
            "DEBUG:flwr:fit_round 1 received 3 results and 0 failures\n",
            "WARNING flwr 2024-01-23 17:51:01,705 | fedavg.py:242 | No fit_metrics_aggregation_fn provided\n",
            "WARNING:flwr:No fit_metrics_aggregation_fn provided\n",
            "DEBUG flwr 2024-01-23 17:51:01,708 | server.py:173 | evaluate_round 1: strategy sampled 3 clients (out of 3)\n",
            "DEBUG:flwr:evaluate_round 1: strategy sampled 3 clients (out of 3)\n"
          ]
        },
        {
          "name": "stdout",
          "output_type": "stream",
          "text": [
            "\u001b[2m\u001b[36m(DefaultActor pid=50136)\u001b[0m Client 1 test loss: 0.03131935017158016, test accuracy: 0.8924846215565659,  evaluate: {}\n"
          ]
        },
        {
          "name": "stderr",
          "output_type": "stream",
          "text": [
            "DEBUG flwr 2024-01-23 17:51:06,948 | server.py:187 | evaluate_round 1 received 3 results and 0 failures\n",
            "DEBUG:flwr:evaluate_round 1 received 3 results and 0 failures\n",
            "DEBUG flwr 2024-01-23 17:51:06,952 | server.py:222 | fit_round 2: strategy sampled 3 clients (out of 3)\n",
            "DEBUG:flwr:fit_round 2: strategy sampled 3 clients (out of 3)\n",
            "DEBUG flwr 2024-01-23 17:53:47,473 | server.py:236 | fit_round 2 received 3 results and 0 failures\n",
            "DEBUG:flwr:fit_round 2 received 3 results and 0 failures\n",
            "DEBUG flwr 2024-01-23 17:53:47,666 | server.py:173 | evaluate_round 2: strategy sampled 3 clients (out of 3)\n",
            "DEBUG:flwr:evaluate_round 2: strategy sampled 3 clients (out of 3)\n"
          ]
        },
        {
          "name": "stdout",
          "output_type": "stream",
          "text": [
            "\u001b[2m\u001b[36m(DefaultActor pid=50229)\u001b[0m Client 2 test loss: 0.013768592439382655, test accuracy: 0.9042524739235089,  evaluate: {}\u001b[32m [repeated 3x across cluster]\u001b[0m\n"
          ]
        },
        {
          "name": "stderr",
          "output_type": "stream",
          "text": [
            "DEBUG flwr 2024-01-23 17:53:52,246 | server.py:187 | evaluate_round 2 received 3 results and 0 failures\n",
            "DEBUG:flwr:evaluate_round 2 received 3 results and 0 failures\n",
            "DEBUG flwr 2024-01-23 17:53:52,253 | server.py:222 | fit_round 3: strategy sampled 3 clients (out of 3)\n",
            "DEBUG:flwr:fit_round 3: strategy sampled 3 clients (out of 3)\n",
            "DEBUG flwr 2024-01-23 17:56:31,261 | server.py:236 | fit_round 3 received 3 results and 0 failures\n",
            "DEBUG:flwr:fit_round 3 received 3 results and 0 failures\n",
            "DEBUG flwr 2024-01-23 17:56:31,550 | server.py:173 | evaluate_round 3: strategy sampled 3 clients (out of 3)\n",
            "DEBUG:flwr:evaluate_round 3: strategy sampled 3 clients (out of 3)\n",
            "DEBUG flwr 2024-01-23 17:56:37,906 | server.py:187 | evaluate_round 3 received 3 results and 0 failures\n",
            "DEBUG:flwr:evaluate_round 3 received 3 results and 0 failures\n",
            "DEBUG flwr 2024-01-23 17:56:37,909 | server.py:222 | fit_round 4: strategy sampled 3 clients (out of 3)\n",
            "DEBUG:flwr:fit_round 4: strategy sampled 3 clients (out of 3)\n"
          ]
        },
        {
          "name": "stdout",
          "output_type": "stream",
          "text": [
            "\u001b[2m\u001b[36m(DefaultActor pid=50229)\u001b[0m Client 2 test loss: 0.009660044697460308, test accuracy: 0.9042524739235089,  evaluate: {}\u001b[32m [repeated 3x across cluster]\u001b[0m\n"
          ]
        },
        {
          "name": "stderr",
          "output_type": "stream",
          "text": [
            "DEBUG flwr 2024-01-23 17:59:13,159 | server.py:236 | fit_round 4 received 3 results and 0 failures\n",
            "DEBUG:flwr:fit_round 4 received 3 results and 0 failures\n",
            "DEBUG flwr 2024-01-23 17:59:13,344 | server.py:173 | evaluate_round 4: strategy sampled 3 clients (out of 3)\n",
            "DEBUG:flwr:evaluate_round 4: strategy sampled 3 clients (out of 3)\n"
          ]
        },
        {
          "name": "stdout",
          "output_type": "stream",
          "text": [
            "\u001b[2m\u001b[36m(DefaultActor pid=50133)\u001b[0m Client 1 test loss: 0.00994957129237613, test accuracy: 0.8924846215565659,  evaluate: {}\u001b[32m [repeated 3x across cluster]\u001b[0m\n"
          ]
        },
        {
          "name": "stderr",
          "output_type": "stream",
          "text": [
            "DEBUG flwr 2024-01-23 17:59:19,514 | server.py:187 | evaluate_round 4 received 3 results and 0 failures\n",
            "DEBUG:flwr:evaluate_round 4 received 3 results and 0 failures\n",
            "DEBUG flwr 2024-01-23 17:59:19,519 | server.py:222 | fit_round 5: strategy sampled 3 clients (out of 3)\n",
            "DEBUG:flwr:fit_round 5: strategy sampled 3 clients (out of 3)\n",
            "DEBUG flwr 2024-01-23 18:01:51,777 | server.py:236 | fit_round 5 received 3 results and 0 failures\n",
            "DEBUG:flwr:fit_round 5 received 3 results and 0 failures\n",
            "DEBUG flwr 2024-01-23 18:01:51,963 | server.py:173 | evaluate_round 5: strategy sampled 3 clients (out of 3)\n",
            "DEBUG:flwr:evaluate_round 5: strategy sampled 3 clients (out of 3)\n",
            "DEBUG flwr 2024-01-23 18:01:56,446 | server.py:187 | evaluate_round 5 received 3 results and 0 failures\n",
            "DEBUG:flwr:evaluate_round 5 received 3 results and 0 failures\n",
            "INFO flwr 2024-01-23 18:01:56,449 | server.py:153 | FL finished in 829.954221035001\n",
            "INFO:flwr:FL finished in 829.954221035001\n",
            "INFO flwr 2024-01-23 18:01:56,458 | app.py:226 | app_fit: losses_distributed [(1, 0.03101239362119661), (2, 0.014013744876741183), (3, 0.009952214836351607), (4, 0.00940977566803034), (5, 0.009181767144156)]\n",
            "INFO:flwr:app_fit: losses_distributed [(1, 0.03101239362119661), (2, 0.014013744876741183), (3, 0.009952214836351607), (4, 0.00940977566803034), (5, 0.009181767144156)]\n",
            "INFO flwr 2024-01-23 18:01:56,463 | app.py:227 | app_fit: metrics_distributed_fit {}\n",
            "INFO:flwr:app_fit: metrics_distributed_fit {}\n",
            "INFO flwr 2024-01-23 18:01:56,467 | app.py:228 | app_fit: metrics_distributed {'individual_metrics': [(1, [{'loss': 0.03131935017158016, 'accuracy': 0.8924846215565659, 'cid': '1', 'config': {}}, {'loss': 0.030861572630745297, 'accuracy': 0.9042524739235089, 'cid': '2', 'config': {}}, {'loss': 0.030856258061264377, 'accuracy': 0.9042524739235089, 'cid': '0', 'config': {}}]), (2, [{'loss': 0.01378192994708714, 'accuracy': 0.9042524739235089, 'cid': '0', 'config': {}}, {'loss': 0.013768592439382655, 'accuracy': 0.9042524739235089, 'cid': '2', 'config': {}}, {'loss': 0.014490712243753756, 'accuracy': 0.8924846215565659, 'cid': '1', 'config': {}}]), (3, [{'loss': 0.009660044697460308, 'accuracy': 0.9042524739235089, 'cid': '2', 'config': {}}, {'loss': 0.00965862545650826, 'accuracy': 0.9042524739235089, 'cid': '0', 'config': {}}, {'loss': 0.01053797435508625, 'accuracy': 0.8924846215565659, 'cid': '1', 'config': {}}]), (4, [{'loss': 0.009144253871376485, 'accuracy': 0.9042524739235089, 'cid': '0', 'config': {}}, {'loss': 0.009135501840338409, 'accuracy': 0.9042524739235089, 'cid': '2', 'config': {}}, {'loss': 0.00994957129237613, 'accuracy': 0.8924846215565659, 'cid': '1', 'config': {}}]), (5, [{'loss': 0.008949527832300595, 'accuracy': 0.9042524739235089, 'cid': '0', 'config': {}}, {'loss': 0.009702550839631754, 'accuracy': 0.8924846215565659, 'cid': '1', 'config': {}}, {'loss': 0.008893222760535651, 'accuracy': 0.9042524739235089, 'cid': '2', 'config': {}}])]}\n",
            "INFO:flwr:app_fit: metrics_distributed {'individual_metrics': [(1, [{'loss': 0.03131935017158016, 'accuracy': 0.8924846215565659, 'cid': '1', 'config': {}}, {'loss': 0.030861572630745297, 'accuracy': 0.9042524739235089, 'cid': '2', 'config': {}}, {'loss': 0.030856258061264377, 'accuracy': 0.9042524739235089, 'cid': '0', 'config': {}}]), (2, [{'loss': 0.01378192994708714, 'accuracy': 0.9042524739235089, 'cid': '0', 'config': {}}, {'loss': 0.013768592439382655, 'accuracy': 0.9042524739235089, 'cid': '2', 'config': {}}, {'loss': 0.014490712243753756, 'accuracy': 0.8924846215565659, 'cid': '1', 'config': {}}]), (3, [{'loss': 0.009660044697460308, 'accuracy': 0.9042524739235089, 'cid': '2', 'config': {}}, {'loss': 0.00965862545650826, 'accuracy': 0.9042524739235089, 'cid': '0', 'config': {}}, {'loss': 0.01053797435508625, 'accuracy': 0.8924846215565659, 'cid': '1', 'config': {}}]), (4, [{'loss': 0.009144253871376485, 'accuracy': 0.9042524739235089, 'cid': '0', 'config': {}}, {'loss': 0.009135501840338409, 'accuracy': 0.9042524739235089, 'cid': '2', 'config': {}}, {'loss': 0.00994957129237613, 'accuracy': 0.8924846215565659, 'cid': '1', 'config': {}}]), (5, [{'loss': 0.008949527832300595, 'accuracy': 0.9042524739235089, 'cid': '0', 'config': {}}, {'loss': 0.009702550839631754, 'accuracy': 0.8924846215565659, 'cid': '1', 'config': {}}, {'loss': 0.008893222760535651, 'accuracy': 0.9042524739235089, 'cid': '2', 'config': {}}])]}\n",
            "INFO flwr 2024-01-23 18:01:56,470 | app.py:229 | app_fit: losses_centralized []\n",
            "INFO:flwr:app_fit: losses_centralized []\n",
            "INFO flwr 2024-01-23 18:01:56,472 | app.py:230 | app_fit: metrics_centralized {}\n",
            "INFO:flwr:app_fit: metrics_centralized {}\n"
          ]
        },
        {
          "name": "stdout",
          "output_type": "stream",
          "text": [
            "\u001b[2m\u001b[36m(DefaultActor pid=50133)\u001b[0m Client 2 test loss: 0.008893222760535651, test accuracy: 0.9042524739235089,  evaluate: {}\u001b[32m [repeated 3x across cluster]\u001b[0m\n"
          ]
        },
        {
          "data": {
            "text/plain": [
              "History (loss, distributed):\n",
              "\tround 1: 0.03101239362119661\n",
              "\tround 2: 0.014013744876741183\n",
              "\tround 3: 0.009952214836351607\n",
              "\tround 4: 0.00940977566803034\n",
              "\tround 5: 0.009181767144156\n",
              "History (metrics, distributed, evaluate):\n",
              "{'individual_metrics': [(1, [{'loss': 0.03131935017158016, 'accuracy': 0.8924846215565659, 'cid': '1', 'config': {}}, {'loss': 0.030861572630745297, 'accuracy': 0.9042524739235089, 'cid': '2', 'config': {}}, {'loss': 0.030856258061264377, 'accuracy': 0.9042524739235089, 'cid': '0', 'config': {}}]), (2, [{'loss': 0.01378192994708714, 'accuracy': 0.9042524739235089, 'cid': '0', 'config': {}}, {'loss': 0.013768592439382655, 'accuracy': 0.9042524739235089, 'cid': '2', 'config': {}}, {'loss': 0.014490712243753756, 'accuracy': 0.8924846215565659, 'cid': '1', 'config': {}}]), (3, [{'loss': 0.009660044697460308, 'accuracy': 0.9042524739235089, 'cid': '2', 'config': {}}, {'loss': 0.00965862545650826, 'accuracy': 0.9042524739235089, 'cid': '0', 'config': {}}, {'loss': 0.01053797435508625, 'accuracy': 0.8924846215565659, 'cid': '1', 'config': {}}]), (4, [{'loss': 0.009144253871376485, 'accuracy': 0.9042524739235089, 'cid': '0', 'config': {}}, {'loss': 0.009135501840338409, 'accuracy': 0.9042524739235089, 'cid': '2', 'config': {}}, {'loss': 0.00994957129237613, 'accuracy': 0.8924846215565659, 'cid': '1', 'config': {}}]), (5, [{'loss': 0.008949527832300595, 'accuracy': 0.9042524739235089, 'cid': '0', 'config': {}}, {'loss': 0.009702550839631754, 'accuracy': 0.8924846215565659, 'cid': '1', 'config': {}}, {'loss': 0.008893222760535651, 'accuracy': 0.9042524739235089, 'cid': '2', 'config': {}}])]}"
            ]
          },
          "execution_count": 16,
          "metadata": {},
          "output_type": "execute_result"
        }
      ],
      "source": []
    },
    {
      "cell_type": "code",
      "execution_count": null,
      "metadata": {
        "colab": {
          "base_uri": "https://localhost:8080/"
        },
        "id": "a3Fo3S0Ieav1",
        "outputId": "09063acc-2e00-4bb6-9a11-5c748d8210ad"
      },
      "outputs": [
        {
          "name": "stdout",
          "output_type": "stream",
          "text": [
            "    Round Client ID      Loss  Accuracy\n",
            "0       1         1  0.031319  0.892485\n",
            "1       1         2  0.030862  0.904252\n",
            "2       1         0  0.030856  0.904252\n",
            "3       2         0  0.013782  0.904252\n",
            "4       2         2  0.013769  0.904252\n",
            "5       2         1  0.014491  0.892485\n",
            "6       3         2  0.009660  0.904252\n",
            "7       3         0  0.009659  0.904252\n",
            "8       3         1  0.010538  0.892485\n",
            "9       4         0  0.009144  0.904252\n",
            "10      4         2  0.009136  0.904252\n",
            "11      4         1  0.009950  0.892485\n",
            "12      5         0  0.008950  0.904252\n",
            "13      5         1  0.009703  0.892485\n",
            "14      5         2  0.008893  0.904252\n",
            "   Round      Loss  Accuracy\n",
            "0      1  0.031012   0.90033\n",
            "1      2  0.014014   0.90033\n",
            "2      3  0.009952   0.90033\n",
            "3      4  0.009410   0.90033\n",
            "4      5  0.009182   0.90033\n"
          ]
        }
      ],
      "source": [
        "import pandas as pd\n",
        "\n",
        "data_dict ={'individual_metrics': [(1, [{'loss': 0.03131935017158016, 'accuracy': 0.8924846215565659, 'cid': '1', 'config': {}}, {'loss': 0.030861572630745297, 'accuracy': 0.9042524739235089, 'cid': '2', 'config': {}}, {'loss': 0.030856258061264377, 'accuracy': 0.9042524739235089, 'cid': '0', 'config': {}}]), (2, [{'loss': 0.01378192994708714, 'accuracy': 0.9042524739235089, 'cid': '0', 'config': {}}, {'loss': 0.013768592439382655, 'accuracy': 0.9042524739235089, 'cid': '2', 'config': {}}, {'loss': 0.014490712243753756, 'accuracy': 0.8924846215565659, 'cid': '1', 'config': {}}]), (3, [{'loss': 0.009660044697460308, 'accuracy': 0.9042524739235089, 'cid': '2', 'config': {}}, {'loss': 0.00965862545650826, 'accuracy': 0.9042524739235089, 'cid': '0', 'config': {}}, {'loss': 0.01053797435508625, 'accuracy': 0.8924846215565659, 'cid': '1', 'config': {}}]), (4, [{'loss': 0.009144253871376485, 'accuracy': 0.9042524739235089, 'cid': '0', 'config': {}}, {'loss': 0.009135501840338409, 'accuracy': 0.9042524739235089, 'cid': '2', 'config': {}}, {'loss': 0.00994957129237613, 'accuracy': 0.8924846215565659, 'cid': '1', 'config': {}}]), (5, [{'loss': 0.008949527832300595, 'accuracy': 0.9042524739235089, 'cid': '0', 'config': {}}, {'loss': 0.009702550839631754, 'accuracy': 0.8924846215565659, 'cid': '1', 'config': {}}, {'loss': 0.008893222760535651, 'accuracy': 0.9042524739235089, 'cid': '2', 'config': {}}])]}\n",
        "\n",
        "# Extract data\n",
        "data = []\n",
        "for round, metrics in data_dict['individual_metrics']:\n",
        "    for metric in metrics:\n",
        "        data.append([round, metric['cid'], metric['loss'], metric['accuracy']])\n",
        "\n",
        "# Create DataFrame\n",
        "df = pd.DataFrame(data, columns=['Round', 'Client ID', 'Loss', 'Accuracy'])\n",
        "\n",
        "# Calculate average loss and accuracy after each round\n",
        "average_metrics = df.groupby('Round').agg({'Loss': 'mean', 'Accuracy': 'mean'}).reset_index()\n",
        "\n",
        "print(df)\n",
        "print(average_metrics)"
      ]
    },
    {
      "cell_type": "markdown",
      "metadata": {},
      "source": [
        "## Task 2 b - Poisoning"
      ]
    },
    {
      "cell_type": "markdown",
      "metadata": {},
      "source": [
        "Here we define the Corrupted/ Malvolent client, to perform the poisoning."
      ]
    },
    {
      "cell_type": "code",
      "execution_count": null,
      "metadata": {},
      "outputs": [
        {
          "name": "stdout",
          "output_type": "stream",
          "text": [
            "Collecting torchattacks\n",
            "  Downloading torchattacks-3.5.1-py3-none-any.whl.metadata (927 bytes)\n",
            "Requirement already satisfied: torch>=1.7.1 in /opt/homebrew/lib/python3.11/site-packages (from torchattacks) (2.1.2)\n",
            "Requirement already satisfied: torchvision>=0.8.2 in /opt/homebrew/lib/python3.11/site-packages (from torchattacks) (0.16.2)\n",
            "Requirement already satisfied: scipy>=0.14.0 in /opt/homebrew/lib/python3.11/site-packages (from torchattacks) (1.11.4)\n",
            "Requirement already satisfied: tqdm>=4.56.1 in /opt/homebrew/lib/python3.11/site-packages (from torchattacks) (4.66.1)\n",
            "Collecting requests~=2.25.1 (from torchattacks)\n",
            "  Downloading requests-2.25.1-py2.py3-none-any.whl (61 kB)\n",
            "\u001b[2K     \u001b[90m━━━━━━━━━━━━━━━━━━━━━━━━━━━━━━━━━━━━━━━━\u001b[0m \u001b[32m61.2/61.2 kB\u001b[0m \u001b[31m1.0 MB/s\u001b[0m eta \u001b[36m0:00:00\u001b[0mta \u001b[36m0:00:01\u001b[0m\n",
            "\u001b[?25hRequirement already satisfied: numpy>=1.19.4 in /opt/homebrew/lib/python3.11/site-packages (from torchattacks) (1.26.3)\n",
            "Collecting chardet<5,>=3.0.2 (from requests~=2.25.1->torchattacks)\n",
            "  Downloading chardet-4.0.0-py2.py3-none-any.whl (178 kB)\n",
            "\u001b[2K     \u001b[90m━━━━━━━━━━━━━━━━━━━━━━━━━━━━━━━━━━━━━━━\u001b[0m \u001b[32m178.7/178.7 kB\u001b[0m \u001b[31m5.3 MB/s\u001b[0m eta \u001b[36m0:00:00\u001b[0m\n",
            "\u001b[?25hCollecting idna<3,>=2.5 (from requests~=2.25.1->torchattacks)\n",
            "  Downloading idna-2.10-py2.py3-none-any.whl (58 kB)\n",
            "\u001b[2K     \u001b[90m━━━━━━━━━━━━━━━━━━━━━━━━━━━━━━━━━━━━━━━━\u001b[0m \u001b[32m58.8/58.8 kB\u001b[0m \u001b[31m5.0 MB/s\u001b[0m eta \u001b[36m0:00:00\u001b[0m\n",
            "\u001b[?25hCollecting urllib3<1.27,>=1.21.1 (from requests~=2.25.1->torchattacks)\n",
            "  Downloading urllib3-1.26.18-py2.py3-none-any.whl.metadata (48 kB)\n",
            "\u001b[2K     \u001b[90m━━━━━━━━━━━━━━━━━━━━━━━━━━━━━━━━━━━━━━━━\u001b[0m \u001b[32m48.9/48.9 kB\u001b[0m \u001b[31m3.7 MB/s\u001b[0m eta \u001b[36m0:00:00\u001b[0m\n",
            "\u001b[?25hRequirement already satisfied: certifi>=2017.4.17 in /opt/homebrew/lib/python3.11/site-packages (from requests~=2.25.1->torchattacks) (2023.11.17)\n",
            "Requirement already satisfied: filelock in /opt/homebrew/lib/python3.11/site-packages (from torch>=1.7.1->torchattacks) (3.13.1)\n",
            "Requirement already satisfied: typing-extensions in /opt/homebrew/lib/python3.11/site-packages (from torch>=1.7.1->torchattacks) (4.9.0)\n",
            "Requirement already satisfied: sympy in /opt/homebrew/lib/python3.11/site-packages (from torch>=1.7.1->torchattacks) (1.12)\n",
            "Requirement already satisfied: networkx in /opt/homebrew/lib/python3.11/site-packages (from torch>=1.7.1->torchattacks) (3.2.1)\n",
            "Requirement already satisfied: jinja2 in /opt/homebrew/lib/python3.11/site-packages (from torch>=1.7.1->torchattacks) (3.1.2)\n",
            "Requirement already satisfied: fsspec in /opt/homebrew/lib/python3.11/site-packages (from torch>=1.7.1->torchattacks) (2023.12.2)\n",
            "Requirement already satisfied: pillow!=8.3.*,>=5.3.0 in /opt/homebrew/lib/python3.11/site-packages (from torchvision>=0.8.2->torchattacks) (10.2.0)\n",
            "Requirement already satisfied: MarkupSafe>=2.0 in /opt/homebrew/lib/python3.11/site-packages (from jinja2->torch>=1.7.1->torchattacks) (2.1.3)\n",
            "Requirement already satisfied: mpmath>=0.19 in /opt/homebrew/lib/python3.11/site-packages (from sympy->torch>=1.7.1->torchattacks) (1.3.0)\n",
            "Downloading torchattacks-3.5.1-py3-none-any.whl (142 kB)\n",
            "\u001b[2K   \u001b[90m━━━━━━━━━━━━━━━━━━━━━━━━━━━━━━━━━━━━━━━━\u001b[0m \u001b[32m142.0/142.0 kB\u001b[0m \u001b[31m6.7 MB/s\u001b[0m eta \u001b[36m0:00:00\u001b[0m\n",
            "\u001b[?25hDownloading urllib3-1.26.18-py2.py3-none-any.whl (143 kB)\n",
            "\u001b[2K   \u001b[90m━━━━━━━━━━━━━━━━━━━━━━━━━━━━━━━━━━━━━━━━\u001b[0m \u001b[32m143.8/143.8 kB\u001b[0m \u001b[31m5.6 MB/s\u001b[0m eta \u001b[36m0:00:00\u001b[0m\n",
            "\u001b[?25h\u001b[33mDEPRECATION: pytorch-lightning 1.6.0 has a non-standard dependency specifier torch>=1.8.*. pip 24.0 will enforce this behaviour change. A possible replacement is to upgrade to a newer version of pytorch-lightning or contact the author to suggest that they release a version with a conforming dependency specifiers. Discussion can be found at https://github.com/pypa/pip/issues/12063\u001b[0m\u001b[33m\n",
            "\u001b[0mInstalling collected packages: urllib3, idna, chardet, requests, torchattacks\n",
            "  Attempting uninstall: urllib3\n",
            "    Found existing installation: urllib3 2.1.0\n",
            "    Uninstalling urllib3-2.1.0:\n",
            "      Successfully uninstalled urllib3-2.1.0\n",
            "  Attempting uninstall: idna\n",
            "    Found existing installation: idna 3.6\n",
            "    Uninstalling idna-3.6:\n",
            "      Successfully uninstalled idna-3.6\n",
            "  Attempting uninstall: requests\n",
            "    Found existing installation: requests 2.31.0\n",
            "    Uninstalling requests-2.31.0:\n",
            "      Successfully uninstalled requests-2.31.0\n",
            "Successfully installed chardet-4.0.0 idna-2.10 requests-2.25.1 torchattacks-3.5.1 urllib3-1.26.18\n"
          ]
        }
      ],
      "source": [
        "! pip install torchattacks"
      ]
    },
    {
      "cell_type": "code",
      "execution_count": null,
      "metadata": {},
      "outputs": [],
      "source": [
        "import torchattacks"
      ]
    },
    {
      "cell_type": "code",
      "execution_count": null,
      "metadata": {},
      "outputs": [],
      "source": [
        "EPS = 0.1\n",
        "\n",
        "def fgsm(model, images, labels):\n",
        "    # check if device is correctly?\n",
        "    atk = torchattacks.FGSM(model, eps=EPS)\n",
        "    return atk(images, labels), labels\n",
        "\n",
        "def fab(model, images, labels):\n",
        "    # check if device is correctly?\n",
        "    atk = torchattacks.FAB(model, eps=EPS, alpha=0.02, iters=15)\n",
        "    return atk(images, labels), labels\n",
        "\n",
        "def random_noise(model, images, labels):\n",
        "    # add gaussian noise to image\n",
        "    images_perturbed = images + torch.randn_like(images) * EPS\n",
        "    return images_perturbed, labels\n",
        "\n",
        "def random_label(model, images, labels):\n",
        "    # random label\n",
        "    labels_perturbed = torch.randint_like(labels, 0, 14)\n",
        "    return images, labels_perturbed"
      ]
    },
    {
      "cell_type": "code",
      "execution_count": null,
      "metadata": {},
      "outputs": [],
      "source": [
        "def poison_train(net, trainloader, learning_rate, epochs: int, verbose=False, attack_fn=fgsm):\n",
        "    \"\"\"Train the network on the training set.\"\"\"\n",
        "    criterion = torch.nn.CrossEntropyLoss()\n",
        "    optimizer = torch.optim.Adam(net.parameters(), lr=learning_rate)\n",
        "    net.train()\n",
        "    for epoch in range(epochs):\n",
        "        correct, total, epoch_loss = 0, 0, 0.0\n",
        "        for batch in trainloader:\n",
        "            images, labels = batch\n",
        "            images, labels = images.to(DEVICE), labels.to(DEVICE).long()\n",
        "            # add poisoning\n",
        "            images, labels = attack_fn(net, images, labels)\n",
        "\n",
        "            optimizer.zero_grad()\n",
        "            outputs = net(images)\n",
        "            loss = criterion(outputs, labels)\n",
        "            loss.backward()\n",
        "            optimizer.step()\n",
        "            # Metrics\n",
        "            epoch_loss += loss\n",
        "            total += labels.size(0)\n",
        "            correct += (torch.max(outputs.data, 1)[1] == labels).sum().item()\n",
        "        epoch_loss /= len(trainloader.dataset)\n",
        "        epoch_acc = correct / total\n",
        "        if verbose:\n",
        "            print(f\"Epoch {epoch+1}: train loss {epoch_loss}, accuracy {epoch_acc}\")\n",
        "    return epoch_loss, epoch_acc\n",
        "\n",
        "class PoisonClient(FlowerClient):\n",
        "    def __init__(self, cid, net, trainloader, valloader, client_metrics, attack_fn):\n",
        "        self.attack_fn = attack_fn\n",
        "        super().__init__(cid, net, trainloader, valloader, client_metrics)\n",
        "\n",
        "    def get_parameters(self, config):\n",
        "        print(f\"[Client (Poison) {self.cid}] get_parameters\")\n",
        "        return get_parameters(self.net)\n",
        "    \n",
        "    def fit(self, parameters, config):\n",
        "        # Read values from config\n",
        "        server_round = config[\"server_round\"]\n",
        "        local_epochs = config[\"local_epochs\"]\n",
        "        learning_rate = config[\"learning_rate\"]\n",
        "\n",
        "        # Use values provided by the config\n",
        "        set_parameters(self.net, parameters)\n",
        "\n",
        "        # Poison training\n",
        "        train_loss, train_acc = poison_train(self.net, self.trainloader, learning_rate=learning_rate, epochs=local_epochs, attack_fn=self.attack_fn)\n",
        "        \n",
        "        \n",
        "        return get_parameters(self.net), len(self.trainloader), {}"
      ]
    },
    {
      "cell_type": "code",
      "execution_count": null,
      "metadata": {},
      "outputs": [],
      "source": [
        "NUM_CLIENTS = 3\n",
        "BATCH_SIZE = 32\n",
        "LEARNING_RATE = 1e-2\n",
        "NUM_ROUNDS = 5\n",
        "LOCAL_EPOCHS = 3\n",
        "ATTACK_FN = fgsm\n",
        "\n",
        "trainloaders, valloaders, testloader = load_data(NUM_CLIENTS, BATCH_SIZE)\n",
        "model = models.resnet18(pretrained=False)\n",
        "\n",
        "def fit_config(server_round: int):\n",
        "    config = {\n",
        "        \"server_round\": server_round,  # The current round of federated learning\n",
        "        \"local_epochs\": LOCAL_EPOCHS,\n",
        "        \"learning_rate\": LEARNING_RATE,\n",
        "    }\n",
        "    return config\n",
        "\n",
        "def client_fn(cid) -> FlowerClient:\n",
        "    net = model.to(DEVICE)\n",
        "    trainloader = trainloaders[int(cid)]\n",
        "    valloader = valloaders[int(cid)]\n",
        "\n",
        "    client_metrics = {\n",
        "        \"train_loss\": [],\n",
        "        \"train_accuracy\": [],\n",
        "        \"test_loss\": [],\n",
        "        \"test_accuracy\": [],\n",
        "    }\n",
        "    if cid==0:\n",
        "        return PoisonClient(cid, net, trainloader, valloader, client_metrics, attack_fn=ATTACK_FN)\n",
        "    return FlowerClient(cid, net, trainloader, valloader, client_metrics)\n",
        "\n",
        "params = get_parameters(model)\n",
        "\n",
        "# Create FedAvg strategy\n",
        "strategy = fl.server.strategy.FedAvg(\n",
        "    fraction_fit = 1,\n",
        "    fraction_evaluate = 1,\n",
        "    min_fit_clients = NUM_CLIENTS,\n",
        "    min_evaluate_clients=NUM_CLIENTS,\n",
        "    min_available_clients=NUM_CLIENTS,\n",
        "    initial_parameters=fl.common.ndarrays_to_parameters(params),\n",
        "    evaluate_metrics_aggregation_fn=individual_metrics,\n",
        "    on_fit_config_fn=fit_config,\n",
        ")\n",
        "\n",
        "# Specify the resources each of your clients need. By default, each\n",
        "# client will be allocated 1x CPU and 0x GPUs\n",
        "client_resources = {\"num_cpus\": 1, \"num_gpus\": 0.0}\n",
        "if DEVICE.type == \"cuda\":\n",
        "    # here we are sharing the GPU among the clients.\n",
        "    client_resources = {\"num_cpus\": 0.6, \"num_gpus\": 0.3}\n",
        "    #client_resources = {\"num_cpus\": float(f\"{(num_cpus / NUM_CLIENTS):.1f}\"), \"num_gpus\": float(f\"{(num_gpus / NUM_CLIENTS):.1f}\")}\n",
        "\n",
        "# Start simulation\n",
        "fl.simulation.start_simulation(\n",
        "    client_fn=client_fn,\n",
        "    num_clients=NUM_CLIENTS,\n",
        "    config=fl.server.ServerConfig(num_rounds=NUM_ROUNDS),\n",
        "    strategy=strategy,\n",
        "    client_resources=client_resources,\n",
        ")"
      ]
    },
    {
      "cell_type": "code",
      "execution_count": null,
      "metadata": {},
      "outputs": [],
      "source": [
        "# TODO: evaluate training"
      ]
    }
  ],
  "metadata": {
    "accelerator": "GPU",
    "colab": {
      "gpuType": "T4",
      "provenance": []
    },
    "kernelspec": {
      "display_name": "Python 3",
      "name": "python3"
    },
    "language_info": {
      "codemirror_mode": {
        "name": "ipython",
        "version": 3
      },
      "file_extension": ".py",
      "mimetype": "text/x-python",
      "name": "python",
      "nbconvert_exporter": "python",
      "pygments_lexer": "ipython3",
      "version": "3.11.6"
    }
  },
  "nbformat": 4,
  "nbformat_minor": 0
}
