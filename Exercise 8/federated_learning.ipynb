{
  "cells": [
    {
      "cell_type": "code",
      "execution_count": 1,
      "metadata": {
        "colab": {
          "base_uri": "https://localhost:8080/"
        },
        "id": "Spc8OxXTS3p0",
        "outputId": "d430ccea-da3a-4d71-a4f4-2564135671e9"
      },
      "outputs": [
        {
          "name": "stdout",
          "output_type": "stream",
          "text": [
            "Requirement already satisfied: medmnist in /usr/local/lib/python3.10/dist-packages (3.0.0)\n",
            "Requirement already satisfied: numpy in /usr/local/lib/python3.10/dist-packages (from medmnist) (1.23.5)\n",
            "Requirement already satisfied: pandas in /usr/local/lib/python3.10/dist-packages (from medmnist) (1.5.3)\n",
            "Requirement already satisfied: scikit-learn in /usr/local/lib/python3.10/dist-packages (from medmnist) (1.2.2)\n",
            "Requirement already satisfied: scikit-image in /usr/local/lib/python3.10/dist-packages (from medmnist) (0.19.3)\n",
            "Requirement already satisfied: tqdm in /usr/local/lib/python3.10/dist-packages (from medmnist) (4.66.1)\n",
            "Requirement already satisfied: Pillow in /usr/local/lib/python3.10/dist-packages (from medmnist) (9.4.0)\n",
            "Requirement already satisfied: fire in /usr/local/lib/python3.10/dist-packages (from medmnist) (0.5.0)\n",
            "Requirement already satisfied: torch in /usr/local/lib/python3.10/dist-packages (from medmnist) (2.1.0+cu121)\n",
            "Requirement already satisfied: torchvision in /usr/local/lib/python3.10/dist-packages (from medmnist) (0.16.0+cu121)\n",
            "Requirement already satisfied: six in /usr/local/lib/python3.10/dist-packages (from fire->medmnist) (1.16.0)\n",
            "Requirement already satisfied: termcolor in /usr/local/lib/python3.10/dist-packages (from fire->medmnist) (2.4.0)\n",
            "Requirement already satisfied: python-dateutil>=2.8.1 in /usr/local/lib/python3.10/dist-packages (from pandas->medmnist) (2.8.2)\n",
            "Requirement already satisfied: pytz>=2020.1 in /usr/local/lib/python3.10/dist-packages (from pandas->medmnist) (2023.3.post1)\n",
            "Requirement already satisfied: scipy>=1.4.1 in /usr/local/lib/python3.10/dist-packages (from scikit-image->medmnist) (1.11.4)\n",
            "Requirement already satisfied: networkx>=2.2 in /usr/local/lib/python3.10/dist-packages (from scikit-image->medmnist) (3.2.1)\n",
            "Requirement already satisfied: imageio>=2.4.1 in /usr/local/lib/python3.10/dist-packages (from scikit-image->medmnist) (2.31.6)\n",
            "Requirement already satisfied: tifffile>=2019.7.26 in /usr/local/lib/python3.10/dist-packages (from scikit-image->medmnist) (2023.12.9)\n",
            "Requirement already satisfied: PyWavelets>=1.1.1 in /usr/local/lib/python3.10/dist-packages (from scikit-image->medmnist) (1.5.0)\n",
            "Requirement already satisfied: packaging>=20.0 in /usr/local/lib/python3.10/dist-packages (from scikit-image->medmnist) (23.2)\n",
            "Requirement already satisfied: joblib>=1.1.1 in /usr/local/lib/python3.10/dist-packages (from scikit-learn->medmnist) (1.3.2)\n",
            "Requirement already satisfied: threadpoolctl>=2.0.0 in /usr/local/lib/python3.10/dist-packages (from scikit-learn->medmnist) (3.2.0)\n",
            "Requirement already satisfied: filelock in /usr/local/lib/python3.10/dist-packages (from torch->medmnist) (3.13.1)\n",
            "Requirement already satisfied: typing-extensions in /usr/local/lib/python3.10/dist-packages (from torch->medmnist) (4.5.0)\n",
            "Requirement already satisfied: sympy in /usr/local/lib/python3.10/dist-packages (from torch->medmnist) (1.12)\n",
            "Requirement already satisfied: jinja2 in /usr/local/lib/python3.10/dist-packages (from torch->medmnist) (3.1.3)\n",
            "Requirement already satisfied: fsspec in /usr/local/lib/python3.10/dist-packages (from torch->medmnist) (2023.6.0)\n",
            "Requirement already satisfied: triton==2.1.0 in /usr/local/lib/python3.10/dist-packages (from torch->medmnist) (2.1.0)\n",
            "Requirement already satisfied: requests in /usr/local/lib/python3.10/dist-packages (from torchvision->medmnist) (2.31.0)\n",
            "Requirement already satisfied: MarkupSafe>=2.0 in /usr/local/lib/python3.10/dist-packages (from jinja2->torch->medmnist) (2.1.3)\n",
            "Requirement already satisfied: charset-normalizer<4,>=2 in /usr/local/lib/python3.10/dist-packages (from requests->torchvision->medmnist) (3.3.2)\n",
            "Requirement already satisfied: idna<4,>=2.5 in /usr/local/lib/python3.10/dist-packages (from requests->torchvision->medmnist) (3.6)\n",
            "Requirement already satisfied: urllib3<3,>=1.21.1 in /usr/local/lib/python3.10/dist-packages (from requests->torchvision->medmnist) (2.0.7)\n",
            "Requirement already satisfied: certifi>=2017.4.17 in /usr/local/lib/python3.10/dist-packages (from requests->torchvision->medmnist) (2023.11.17)\n",
            "Requirement already satisfied: mpmath>=0.19 in /usr/local/lib/python3.10/dist-packages (from sympy->torch->medmnist) (1.3.0)\n"
          ]
        }
      ],
      "source": [
        "! pip install medmnist\n",
        "! pip install -q flwr[simulation] flwr_datasets[vision] torch torchvision matplotlib"
      ]
    },
    {
      "cell_type": "markdown",
      "metadata": {
        "id": "JWTwFXMYS22E"
      },
      "source": [
        "*This* code is based on the documentation at: https://flower.dev/docs/framework/tutorial-series-get-started-with-flower-pytorch.html & https://flower.dev/docs/framework/tutorial-series-use-a-federated-learning-strategy-pytorch.html"
      ]
    },
    {
      "cell_type": "markdown",
      "metadata": {
        "id": "0dCLEeyxS22G"
      },
      "source": [
        "Imports"
      ]
    },
    {
      "cell_type": "code",
      "execution_count": 14,
      "metadata": {
        "id": "1E5Fvk2GS22H"
      },
      "outputs": [],
      "source": [
        "from collections import OrderedDict\n",
        "from typing import Dict, List, Optional, Tuple\n",
        "import os\n",
        "\n",
        "import medmnist\n",
        "from medmnist import INFO\n",
        "\n",
        "import matplotlib.pyplot as plt\n",
        "from PIL import Image\n",
        "\n",
        "import torch\n",
        "import torch.nn as nn\n",
        "import torch.nn.functional as F\n",
        "\n",
        "import numpy as np\n",
        "\n",
        "from torchvision import transforms\n",
        "from torchvision.transforms import Lambda\n",
        "from torch.utils.data import DataLoader\n",
        "from torchvision import models\n",
        "\n",
        "import flwr as fl\n",
        "from flwr.common import Metrics\n",
        "\n",
        "import warnings\n",
        "\n",
        "DEVICE = torch.device(\"cuda:0\" if torch.cuda.is_available() else \"cpu\")"
      ]
    },
    {
      "cell_type": "markdown",
      "metadata": {
        "id": "BAwoI8ubS22J"
      },
      "source": [
        "At first we load the MedMNIST chest X-ray classification dataset, set the amount of participants and IID distribute the data among them. Also transform the data to three channels."
      ]
    },
    {
      "cell_type": "code",
      "execution_count": 15,
      "metadata": {
        "id": "mqmyfdcaS22J"
      },
      "outputs": [],
      "source": [
        "NUM_CLIENTS = 3\n",
        "BATCH_SIZE = 32"
      ]
    },
    {
      "cell_type": "code",
      "execution_count": 16,
      "metadata": {
        "colab": {
          "base_uri": "https://localhost:8080/"
        },
        "id": "FcTFl0KhS22J",
        "outputId": "ce3a1a17-20b4-4982-a693-bfae008d132b"
      },
      "outputs": [
        {
          "name": "stdout",
          "output_type": "stream",
          "text": [
            "Using downloaded and verified file: /root/.medmnist/chestmnist.npz\n",
            "Using downloaded and verified file: /root/.medmnist/chestmnist.npz\n",
            "Using downloaded and verified file: /root/.medmnist/chestmnist.npz\n",
            "Train set size:  78468\n",
            "Partitioned train set size:  26156\n",
            "Validation set size:  11219\n",
            "Partitioned validation set size:  3739\n",
            "Test set size:  22433\n"
          ]
        }
      ],
      "source": [
        "def load_data():\n",
        "    # preprocessing\n",
        "    data_transform = transforms.Compose([\n",
        "        transforms.ToTensor(),\n",
        "        transforms.Lambda(lambda x: x.repeat(3, 1, 1)),\n",
        "        transforms.Normalize((0.5, 0.5, 0.5), (0.5, 0.5, 0.5)),\n",
        "    ])\n",
        "\n",
        "    data_flag = 'chestmnist'\n",
        "    info = INFO[data_flag]\n",
        "    DataClass = getattr(medmnist, info['python_class'])\n",
        "    train_set = DataClass(split='train', transform=data_transform, target_transform=Lambda(lambda y: y[0]), download=True)\n",
        "    val_set = DataClass(split='val', transform=data_transform, target_transform=Lambda(lambda y: y[0]), download=True)\n",
        "    test_set = DataClass(split='test', transform=data_transform, target_transform=Lambda(lambda y: y[0]), download=True)\n",
        "\n",
        "    # Create train/val for each partition and wrap it into DataLoader\n",
        "    trainloaders = []\n",
        "    valloaders = []\n",
        "    for partition_id in range(NUM_CLIENTS):\n",
        "        partition = int(len(train_set) / NUM_CLIENTS)\n",
        "        indices = list(range(partition_id * partition, (partition_id + 1) * partition))\n",
        "        train_set_partition = torch.utils.data.Subset(train_set, indices)\n",
        "        trainloader = DataLoader(train_set_partition, batch_size=BATCH_SIZE, shuffle=True)\n",
        "        trainloaders.append(trainloader)\n",
        "\n",
        "        partition_val = int(len(val_set) / NUM_CLIENTS)\n",
        "        indices_val = list(range(partition_id * partition_val, (partition_id + 1) * partition_val))\n",
        "        val_set_partition = torch.utils.data.Subset(val_set, indices_val)\n",
        "        valloader = DataLoader(val_set_partition, batch_size=BATCH_SIZE, shuffle=True)\n",
        "        valloaders.append(valloader)\n",
        "    testloader = DataLoader(test_set, batch_size=BATCH_SIZE, shuffle=False)\n",
        "    print(\"Train set size: \", len(train_set))\n",
        "    print(\"Partitioned train set size: \", len(train_set_partition))\n",
        "    print(\"Validation set size: \", len(val_set))\n",
        "    print(\"Partitioned validation set size: \", len(val_set_partition))\n",
        "    print(\"Test set size: \", len(test_set))\n",
        "\n",
        "    return trainloaders, valloaders, testloader\n",
        "\n",
        "trainloaders, valloaders, testloader = load_data()"
      ]
    },
    {
      "cell_type": "markdown",
      "metadata": {
        "id": "McT1lmb5S22K"
      },
      "source": [
        "Visualize all classes in the first trainloader partition"
      ]
    },
    {
      "cell_type": "code",
      "execution_count": 17,
      "metadata": {
        "colab": {
          "base_uri": "https://localhost:8080/",
          "height": 156
        },
        "id": "xmScq-aZS22L",
        "outputId": "535ce88a-0314-431e-92a2-78c6277742f3"
      },
      "outputs": [
        {
          "data": {
            "image/png": "[encoded data removed]",
            "text/plain": [
              "<Figure size 3000x3000 with 14 Axes>"
            ]
          },
          "metadata": {},
          "output_type": "display_data"
        }
      ],
      "source": [
        "batch = next(iter(trainloaders[0]))\n",
        "images, labels = batch\n",
        "# Reshape and convert images to a NumPy array\n",
        "# matplotlib requires images with the shape (height, width, 3)\n",
        "images = images.permute(0, 2, 3, 1).numpy()\n",
        "# Denormalize\n",
        "images = images / 2 + 0.5\n",
        "images = np.clip(images, 0, 1)\n",
        "data_flag = 'chestmnist'\n",
        "info = INFO[data_flag]\n",
        "\n",
        "# Create a figure and a grid of subplots\n",
        "fig, axes = plt.subplots(1, 14, figsize=(30, 30))\n",
        "\n",
        "# Loop over the images and plot them\n",
        "for i, ax in enumerate(axes.flat):\n",
        "    ax.imshow(images[i], cmap=\"gray\")\n",
        "    ax.text(0.5, 1.15, f\"Class {i} \\n {info['label'][str(i)]}\", ha='center', va='center', transform=ax.transAxes, fontsize=15)\n",
        "\n",
        "    ax.axis('off')\n",
        "\n",
        "# Show the plot\n",
        "fig.tight_layout()\n",
        "plt.show()"
      ]
    },
    {
      "cell_type": "markdown",
      "metadata": {
        "id": "6MSC3AcPS22M"
      },
      "source": [
        "You are free to utilise any open-source framework for FL. Some recommendations from our side\n",
        "include Flower"
      ]
    },
    {
      "cell_type": "code",
      "execution_count": 18,
      "metadata": {
        "colab": {
          "base_uri": "https://localhost:8080/"
        },
        "id": "5JKXXNAOS22M",
        "outputId": "9fcf3cfa-f69d-4987-bb3f-3ce69583b730"
      },
      "outputs": [
        {
          "name": "stderr",
          "output_type": "stream",
          "text": [
            "/usr/local/lib/python3.10/dist-packages/torchvision/models/_utils.py:208: UserWarning: The parameter 'pretrained' is deprecated since 0.13 and may be removed in the future, please use 'weights' instead.\n",
            "  warnings.warn(\n",
            "/usr/local/lib/python3.10/dist-packages/torchvision/models/_utils.py:223: UserWarning: Arguments other than a weight enum or `None` for 'weights' are deprecated since 0.13 and may be removed in the future. The current behavior is equivalent to passing `weights=None`.\n",
            "  warnings.warn(msg)\n"
          ]
        }
      ],
      "source": [
        "model = models.resnet18(pretrained=False)\n",
        "LEARNING_RATE = 0.001"
      ]
    },
    {
      "cell_type": "code",
      "execution_count": 19,
      "metadata": {
        "id": "3--PEW-RS22M"
      },
      "outputs": [],
      "source": [
        "def train(net, trainloader, epochs: int, verbose=False):\n",
        "    \"\"\"Train the network on the training set.\"\"\"\n",
        "    criterion = torch.nn.CrossEntropyLoss()\n",
        "    optimizer = torch.optim.Adam(net.parameters(), lr=LEARNING_RATE)\n",
        "    net.train()\n",
        "    for epoch in range(epochs):\n",
        "        correct, total, epoch_loss = 0, 0, 0.0\n",
        "        for batch in trainloader:\n",
        "            images, labels = batch\n",
        "            images, labels = images.to(DEVICE), labels.to(DEVICE).long()\n",
        "            optimizer.zero_grad()\n",
        "            outputs = net(images)\n",
        "            loss = criterion(outputs, labels)\n",
        "            loss.backward()\n",
        "            optimizer.step()\n",
        "            # Metrics\n",
        "            epoch_loss += loss\n",
        "            total += labels.size(0)\n",
        "            correct += (torch.max(outputs.data, 1)[1] == labels).sum().item()\n",
        "        epoch_loss /= len(trainloader.dataset)\n",
        "        epoch_acc = correct / total\n",
        "        if verbose:\n",
        "            print(f\"Epoch {epoch+1}: train loss {epoch_loss}, accuracy {epoch_acc}\")\n",
        "    return epoch_loss, epoch_acc\n",
        "\n",
        "\n",
        "def test(net, testloader):\n",
        "    \"\"\"Evaluate the network on the entire test set.\"\"\"\n",
        "    criterion = torch.nn.CrossEntropyLoss()\n",
        "    correct, total, loss = 0, 0, 0.0\n",
        "    net.eval()\n",
        "    with torch.no_grad():\n",
        "        for batch in testloader:\n",
        "            images, labels = batch\n",
        "            images, labels = images.to(DEVICE), labels.to(DEVICE).long()\n",
        "            outputs = net(images)\n",
        "            loss += criterion(outputs, labels).item()\n",
        "            _, predicted = torch.max(outputs.data, 1)\n",
        "            total += labels.size(0)\n",
        "            correct += (predicted == labels).sum().item()\n",
        "    loss /= len(testloader.dataset)\n",
        "    accuracy = correct / total\n",
        "    return loss, accuracy"
      ]
    },
    {
      "cell_type": "markdown",
      "metadata": {
        "id": "ATCKo4hyS22N"
      },
      "source": [
        "Train the model for 1 epoch to see if the training process works."
      ]
    },
    {
      "cell_type": "code",
      "execution_count": 20,
      "metadata": {
        "colab": {
          "base_uri": "https://localhost:8080/"
        },
        "id": "aD-FzsBYS22N",
        "outputId": "0b2ee306-c914-49ab-9998-a369439753aa"
      },
      "outputs": [
        {
          "name": "stdout",
          "output_type": "stream",
          "text": [
            "Epoch 1: validation loss 0.009907186266476218, accuracy 0.9042524739235089\n",
            "Final test set performance:\n",
            "\tloss 0.011162417796528228\n",
            "\taccuracy 0.8921232113404359\n"
          ]
        }
      ],
      "source": [
        "trainloader = trainloaders[0]\n",
        "valloader = valloaders[0]\n",
        "net = model.to(DEVICE)\n",
        "\n",
        "for epoch in range(1):\n",
        "    train(net, trainloader, 1)\n",
        "    loss, accuracy = test(net, valloader)\n",
        "    print(f\"Epoch {epoch+1}: validation loss {loss}, accuracy {accuracy}\")\n",
        "\n",
        "loss, accuracy = test(net, testloader)\n",
        "print(f\"Final test set performance:\\n\\tloss {loss}\\n\\taccuracy {accuracy}\")"
      ]
    },
    {
      "cell_type": "code",
      "execution_count": 21,
      "metadata": {
        "id": "ck0NMHCInPz0"
      },
      "outputs": [],
      "source": [
        "model = models.resnet18(pretrained=False)\n",
        "LEARNING_RATE = 0.001"
      ]
    },
    {
      "cell_type": "code",
      "execution_count": 22,
      "metadata": {
        "id": "pLYRq2lfS22N"
      },
      "outputs": [],
      "source": [
        "def get_parameters(net) -> List[np.ndarray]:\n",
        "    return [val.cpu().numpy() for _, val in net.state_dict().items()]\n",
        "\n",
        "def set_parameters(net, parameters: List[np.ndarray]):\n",
        "    params_dict = zip(net.state_dict().keys(), parameters)\n",
        "    state_dict = OrderedDict({k: torch.from_numpy(v) for k, v in params_dict})\n",
        "    net.load_state_dict(state_dict, strict=False)\n",
        "\n",
        "class FlowerClient(fl.client.NumPyClient):\n",
        "    def __init__(self, cid, net, trainloader, valloader, client_metrics):\n",
        "        self.cid = cid\n",
        "        self.net = net\n",
        "        self.trainloader = trainloader\n",
        "        self.valloader = valloader\n",
        "        self.client_metrics = client_metrics\n",
        "\n",
        "    def get_parameters(self, config):\n",
        "        print(f\"[Client {self.cid}] get_parameters\")\n",
        "        return get_parameters(self.net)\n",
        "\n",
        "    def fit(self, parameters, config):\n",
        "        # Read values from config\n",
        "        server_round = config[\"server_round\"]\n",
        "        local_epochs = config[\"local_epochs\"]\n",
        "\n",
        "        # Use values provided by the config\n",
        "        set_parameters(self.net, parameters)\n",
        "        train_loss, train_acc = train(self.net, self.trainloader, epochs=local_epochs)\n",
        "        self.client_metrics[\"train_loss\"].append(train_loss)\n",
        "        self.client_metrics[\"train_accuracy\"].append(train_acc)\n",
        "        print(f\"Client {self.cid} test loss: {train_loss}, test accuracy: {train_acc}, round {server_round}] fit, config: {config}\")\n",
        "        return get_parameters(self.net), len(self.trainloader), {}\n",
        "\n",
        "    def evaluate(self, parameters, config):\n",
        "        set_parameters(self.net, parameters)\n",
        "        loss, accuracy = test(self.net, self.valloader)\n",
        "        self.client_metrics[\"test_loss\"].append(loss)\n",
        "        self.client_metrics[\"test_accuracy\"].append(accuracy)\n",
        "        print(f\"Client {self.cid} test loss: {loss}, test accuracy: {accuracy},  evaluate, config: {config}\")\n",
        "        return float(loss), len(self.valloader), {\"accuracy\": float(accuracy)}"
      ]
    },
    {
      "cell_type": "code",
      "execution_count": 23,
      "metadata": {
        "id": "6cfbFHUES22N"
      },
      "outputs": [],
      "source": [
        "def client_fn(cid) -> FlowerClient:\n",
        "    net = model.to(DEVICE)\n",
        "    trainloader = trainloaders[int(cid)]\n",
        "    valloader = valloaders[int(cid)]\n",
        "\n",
        "    client_metrics = {\n",
        "        \"train_loss\": [],\n",
        "        \"train_accuracy\": [],\n",
        "        \"test_loss\": [],\n",
        "        \"test_accuracy\": [],\n",
        "    }\n",
        "\n",
        "    return FlowerClient(cid, net, trainloader, valloader, client_metrics)"
      ]
    },
    {
      "cell_type": "code",
      "execution_count": 24,
      "metadata": {
        "id": "-SBUQf17BQNd"
      },
      "outputs": [],
      "source": [
        "def fit_config(server_round: int):\n",
        "    \"\"\"Return training configuration dict for each round.\n",
        "\n",
        "    Perform two rounds of training with one local epoch, increase to two local\n",
        "    epochs afterwards.\n",
        "    \"\"\"\n",
        "    config = {\n",
        "        \"server_round\": server_round,  # The current round of federated learning\n",
        "        \"local_epochs\": 1 if server_round < 1 else 2,  #\n",
        "    }\n",
        "    return config"
      ]
    },
    {
      "cell_type": "code",
      "execution_count": 25,
      "metadata": {
        "colab": {
          "base_uri": "https://localhost:8080/"
        },
        "id": "3NmbyDzaS22O",
        "outputId": "d04e5120-85cb-4665-9c4e-a9cdeaa579a8"
      },
      "outputs": [
        {
          "name": "stdout",
          "output_type": "stream",
          "text": [
            "Number of available GPUs: 1\n",
            "Number of available CPUs: 2\n"
          ]
        }
      ],
      "source": [
        "# Check for available GPUs\n",
        "num_gpus = torch.cuda.device_count()\n",
        "print(f\"Number of available GPUs: {num_gpus}\")\n",
        "\n",
        "# Check for available CPUs\n",
        "num_cpus = os.cpu_count()\n",
        "print(f\"Number of available CPUs: {num_cpus}\")"
      ]
    },
    {
      "cell_type": "markdown",
      "metadata": {
        "id": "10IGse-AS22O"
      },
      "source": [
        "The code below creates a FedAvg strategy with parameters set to ensure synchronous updates from all three clients.\n",
        "The `fraction_fit` and `fraction_evaluate` parameters are set to 1, meaning all available clients are selected for\n",
        "each round of training and evaluation. The `min_fit_clients`, `min_evaluate_clients`, and `min_available_clients`\n",
        "parameters are set to 3, ensuring that all 3 clients are required for the training and evaluation processes."
      ]
    },
    {
      "cell_type": "code",
      "execution_count": 26,
      "metadata": {
        "id": "aA-QzHppnG4U"
      },
      "outputs": [],
      "source": [
        "def weighted_average(metrics: List[Tuple[int, Metrics]]) -> Metrics:\n",
        "    # Multiply accuracy of each client by number of examples used\n",
        "    accuracies = [num_examples * m[\"accuracy\"] for num_examples, m in metrics]\n",
        "    examples = [num_examples for num_examples, _ in metrics]\n",
        "\n",
        "    # Aggregate and return custom metric (weighted average)\n",
        "    return {\"accuracy\": sum(accuracies) / sum(examples)}"
      ]
    },
    {
      "cell_type": "code",
      "execution_count": null,
      "metadata": {
        "colab": {
          "base_uri": "https://localhost:8080/"
        },
        "id": "ZCrKVxU3S22O",
        "outputId": "69185d7f-b47b-4f3a-e5b2-d646252714f1"
      },
      "outputs": [
        {
          "name": "stderr",
          "output_type": "stream",
          "text": [
            "INFO flwr 2024-01-22 17:21:02,486 | app.py:178 | Starting Flower simulation, config: ServerConfig(num_rounds=5, round_timeout=None)\n",
            "INFO:flwr:Starting Flower simulation, config: ServerConfig(num_rounds=5, round_timeout=None)\n",
            "2024-01-22 17:21:08,310\tINFO worker.py:1621 -- Started a local Ray instance.\n",
            "INFO flwr 2024-01-22 17:21:10,392 | app.py:213 | Flower VCE: Ray initialized with resources: {'CPU': 2.0, 'node:__internal_head__': 1.0, 'memory': 7662138164.0, 'object_store_memory': 3831069081.0, 'GPU': 1.0, 'node:172.28.0.12': 1.0}\n",
            "INFO:flwr:Flower VCE: Ray initialized with resources: {'CPU': 2.0, 'node:__internal_head__': 1.0, 'memory': 7662138164.0, 'object_store_memory': 3831069081.0, 'GPU': 1.0, 'node:172.28.0.12': 1.0}\n",
            "INFO flwr 2024-01-22 17:21:10,399 | app.py:219 | Optimize your simulation with Flower VCE: https://flower.dev/docs/framework/how-to-run-simulations.html\n",
            "INFO:flwr:Optimize your simulation with Flower VCE: https://flower.dev/docs/framework/how-to-run-simulations.html\n",
            "INFO flwr 2024-01-22 17:21:10,402 | app.py:242 | Flower VCE: Resources for each Virtual Client: {'num_cpus': 0.6, 'num_gpus': 0.3}\n",
            "INFO:flwr:Flower VCE: Resources for each Virtual Client: {'num_cpus': 0.6, 'num_gpus': 0.3}\n",
            "INFO flwr 2024-01-22 17:21:10,453 | app.py:288 | Flower VCE: Creating VirtualClientEngineActorPool with 3 actors\n",
            "INFO:flwr:Flower VCE: Creating VirtualClientEngineActorPool with 3 actors\n",
            "INFO flwr 2024-01-22 17:21:10,458 | server.py:89 | Initializing global parameters\n",
            "INFO:flwr:Initializing global parameters\n",
            "INFO flwr 2024-01-22 17:21:10,461 | server.py:272 | Using initial parameters provided by strategy\n",
            "INFO:flwr:Using initial parameters provided by strategy\n",
            "INFO flwr 2024-01-22 17:21:10,465 | server.py:91 | Evaluating initial parameters\n",
            "INFO:flwr:Evaluating initial parameters\n",
            "INFO flwr 2024-01-22 17:21:10,474 | server.py:104 | FL starting\n",
            "INFO:flwr:FL starting\n",
            "DEBUG flwr 2024-01-22 17:21:10,480 | server.py:222 | fit_round 1: strategy sampled 3 clients (out of 3)\n",
            "DEBUG:flwr:fit_round 1: strategy sampled 3 clients (out of 3)\n",
            "\u001b[2m\u001b[36m(pid=25159)\u001b[0m 2024-01-22 17:21:13.636842: E external/local_xla/xla/stream_executor/cuda/cuda_dnn.cc:9261] Unable to register cuDNN factory: Attempting to register factory for plugin cuDNN when one has already been registered\n",
            "\u001b[2m\u001b[36m(pid=25159)\u001b[0m 2024-01-22 17:21:13.636904: E external/local_xla/xla/stream_executor/cuda/cuda_fft.cc:607] Unable to register cuFFT factory: Attempting to register factory for plugin cuFFT when one has already been registered\n",
            "\u001b[2m\u001b[36m(pid=25159)\u001b[0m 2024-01-22 17:21:13.640797: E external/local_xla/xla/stream_executor/cuda/cuda_blas.cc:1515] Unable to register cuBLAS factory: Attempting to register factory for plugin cuBLAS when one has already been registered\n",
            "\u001b[2m\u001b[36m(pid=25161)\u001b[0m 2024-01-22 17:21:16.331420: W tensorflow/compiler/tf2tensorrt/utils/py_utils.cc:38] TF-TRT Warning: Could not find TensorRT\n"
          ]
        }
      ],
      "source": [
        "# we have three clients, so we need to create three Flower clients\n",
        "params = get_parameters(model)\n",
        "\n",
        "# Create FedAvg strategy\n",
        "strategy = fl.server.strategy.FedAvg(\n",
        "    fraction_fit = 1,\n",
        "    fraction_evaluate = 1,\n",
        "    min_fit_clients = 3,\n",
        "    min_evaluate_clients=3,\n",
        "    min_available_clients=NUM_CLIENTS,\n",
        "    initial_parameters=fl.common.ndarrays_to_parameters(params),\n",
        "    evaluate_metrics_aggregation_fn=weighted_average,  # <-- pass the metric aggregation function\n",
        "    on_fit_config_fn=fit_config,  # Pass the fit_config function\n",
        ")\n",
        "\n",
        "# Specify the resources each of your clients need. By default, each\n",
        "# client will be allocated 1x CPU and 0x GPUs\n",
        "client_resources = {\"num_cpus\": 1, \"num_gpus\": 0.0}\n",
        "if DEVICE.type == \"cuda\":\n",
        "    # here we are sharing the GPU among the clients.\n",
        "    client_resources = {\"num_cpus\": 0.6, \"num_gpus\": 0.3}\n",
        "    #client_resources = {\"num_cpus\": float(f\"{(num_cpus / NUM_CLIENTS):.1f}\"), \"num_gpus\": float(f\"{(num_gpus / NUM_CLIENTS):.1f}\")}\n",
        "\n",
        "# Start simulation\n",
        "fl.simulation.start_simulation(\n",
        "    client_fn=client_fn,\n",
        "    num_clients=NUM_CLIENTS,\n",
        "    config=fl.server.ServerConfig(num_rounds=5),\n",
        "    strategy=strategy,\n",
        "    client_resources=client_resources,\n",
        ")"
      ]
    }
  ],
  "metadata": {
    "accelerator": "GPU",
    "colab": {
      "gpuType": "T4",
      "provenance": []
    },
    "kernelspec": {
      "display_name": "Python 3",
      "name": "python3"
    },
    "language_info": {
      "codemirror_mode": {
        "name": "ipython",
        "version": 3
      },
      "file_extension": ".py",
      "mimetype": "text/x-python",
      "name": "python",
      "nbconvert_exporter": "python",
      "pygments_lexer": "ipython3",
      "version": "3.10.8"
    }
  },
  "nbformat": 4,
  "nbformat_minor": 0
}
